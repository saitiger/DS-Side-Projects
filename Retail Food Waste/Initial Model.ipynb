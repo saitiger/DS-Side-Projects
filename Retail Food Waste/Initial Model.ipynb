{
 "cells": [
  {
   "cell_type": "code",
   "execution_count": 1,
   "id": "83a49b36",
   "metadata": {},
   "outputs": [],
   "source": [
    "import numpy as np\n",
    "import pandas as pd\n",
    "import matplotlib.pyplot as plt\n",
    "import seaborn as sns\n",
    "%matplotlib inline"
   ]
  },
  {
   "cell_type": "code",
   "execution_count": 2,
   "id": "16666ce5",
   "metadata": {},
   "outputs": [],
   "source": [
    "data = pd.read_csv('train.csv')"
   ]
  },
  {
   "cell_type": "code",
   "execution_count": 3,
   "id": "abd118a7",
   "metadata": {},
   "outputs": [
    {
     "data": {
      "text/html": [
       "<div>\n",
       "<style scoped>\n",
       "    .dataframe tbody tr th:only-of-type {\n",
       "        vertical-align: middle;\n",
       "    }\n",
       "\n",
       "    .dataframe tbody tr th {\n",
       "        vertical-align: top;\n",
       "    }\n",
       "\n",
       "    .dataframe thead th {\n",
       "        text-align: right;\n",
       "    }\n",
       "</style>\n",
       "<table border=\"1\" class=\"dataframe\">\n",
       "  <thead>\n",
       "    <tr style=\"text-align: right;\">\n",
       "      <th></th>\n",
       "      <th>date</th>\n",
       "      <th>store</th>\n",
       "      <th>item</th>\n",
       "      <th>sales</th>\n",
       "    </tr>\n",
       "  </thead>\n",
       "  <tbody>\n",
       "    <tr>\n",
       "      <th>0</th>\n",
       "      <td>2013-01-01</td>\n",
       "      <td>1</td>\n",
       "      <td>1</td>\n",
       "      <td>13</td>\n",
       "    </tr>\n",
       "    <tr>\n",
       "      <th>1</th>\n",
       "      <td>2013-01-02</td>\n",
       "      <td>1</td>\n",
       "      <td>1</td>\n",
       "      <td>11</td>\n",
       "    </tr>\n",
       "    <tr>\n",
       "      <th>2</th>\n",
       "      <td>2013-01-03</td>\n",
       "      <td>1</td>\n",
       "      <td>1</td>\n",
       "      <td>14</td>\n",
       "    </tr>\n",
       "    <tr>\n",
       "      <th>3</th>\n",
       "      <td>2013-01-04</td>\n",
       "      <td>1</td>\n",
       "      <td>1</td>\n",
       "      <td>13</td>\n",
       "    </tr>\n",
       "    <tr>\n",
       "      <th>4</th>\n",
       "      <td>2013-01-05</td>\n",
       "      <td>1</td>\n",
       "      <td>1</td>\n",
       "      <td>10</td>\n",
       "    </tr>\n",
       "  </tbody>\n",
       "</table>\n",
       "</div>"
      ],
      "text/plain": [
       "         date  store  item  sales\n",
       "0  2013-01-01      1     1     13\n",
       "1  2013-01-02      1     1     11\n",
       "2  2013-01-03      1     1     14\n",
       "3  2013-01-04      1     1     13\n",
       "4  2013-01-05      1     1     10"
      ]
     },
     "execution_count": 3,
     "metadata": {},
     "output_type": "execute_result"
    }
   ],
   "source": [
    "data.head()"
   ]
  },
  {
   "cell_type": "code",
   "execution_count": 4,
   "id": "cb1a0813",
   "metadata": {},
   "outputs": [
    {
     "name": "stdout",
     "output_type": "stream",
     "text": [
      "<class 'pandas.core.frame.DataFrame'>\n",
      "RangeIndex: 913000 entries, 0 to 912999\n",
      "Data columns (total 4 columns):\n",
      " #   Column  Non-Null Count   Dtype \n",
      "---  ------  --------------   ----- \n",
      " 0   date    913000 non-null  object\n",
      " 1   store   913000 non-null  int64 \n",
      " 2   item    913000 non-null  int64 \n",
      " 3   sales   913000 non-null  int64 \n",
      "dtypes: int64(3), object(1)\n",
      "memory usage: 27.9+ MB\n"
     ]
    }
   ],
   "source": [
    "data.info()"
   ]
  },
  {
   "cell_type": "code",
   "execution_count": 5,
   "id": "7947113f",
   "metadata": {},
   "outputs": [
    {
     "data": {
      "text/html": [
       "<div>\n",
       "<style scoped>\n",
       "    .dataframe tbody tr th:only-of-type {\n",
       "        vertical-align: middle;\n",
       "    }\n",
       "\n",
       "    .dataframe tbody tr th {\n",
       "        vertical-align: top;\n",
       "    }\n",
       "\n",
       "    .dataframe thead th {\n",
       "        text-align: right;\n",
       "    }\n",
       "</style>\n",
       "<table border=\"1\" class=\"dataframe\">\n",
       "  <thead>\n",
       "    <tr style=\"text-align: right;\">\n",
       "      <th></th>\n",
       "      <th>store</th>\n",
       "      <th>item</th>\n",
       "      <th>sales</th>\n",
       "    </tr>\n",
       "  </thead>\n",
       "  <tbody>\n",
       "    <tr>\n",
       "      <th>count</th>\n",
       "      <td>913000.000000</td>\n",
       "      <td>913000.000000</td>\n",
       "      <td>913000.000000</td>\n",
       "    </tr>\n",
       "    <tr>\n",
       "      <th>mean</th>\n",
       "      <td>5.500000</td>\n",
       "      <td>25.500000</td>\n",
       "      <td>52.250287</td>\n",
       "    </tr>\n",
       "    <tr>\n",
       "      <th>std</th>\n",
       "      <td>2.872283</td>\n",
       "      <td>14.430878</td>\n",
       "      <td>28.801144</td>\n",
       "    </tr>\n",
       "    <tr>\n",
       "      <th>min</th>\n",
       "      <td>1.000000</td>\n",
       "      <td>1.000000</td>\n",
       "      <td>0.000000</td>\n",
       "    </tr>\n",
       "    <tr>\n",
       "      <th>25%</th>\n",
       "      <td>3.000000</td>\n",
       "      <td>13.000000</td>\n",
       "      <td>30.000000</td>\n",
       "    </tr>\n",
       "    <tr>\n",
       "      <th>50%</th>\n",
       "      <td>5.500000</td>\n",
       "      <td>25.500000</td>\n",
       "      <td>47.000000</td>\n",
       "    </tr>\n",
       "    <tr>\n",
       "      <th>75%</th>\n",
       "      <td>8.000000</td>\n",
       "      <td>38.000000</td>\n",
       "      <td>70.000000</td>\n",
       "    </tr>\n",
       "    <tr>\n",
       "      <th>max</th>\n",
       "      <td>10.000000</td>\n",
       "      <td>50.000000</td>\n",
       "      <td>231.000000</td>\n",
       "    </tr>\n",
       "  </tbody>\n",
       "</table>\n",
       "</div>"
      ],
      "text/plain": [
       "               store           item          sales\n",
       "count  913000.000000  913000.000000  913000.000000\n",
       "mean        5.500000      25.500000      52.250287\n",
       "std         2.872283      14.430878      28.801144\n",
       "min         1.000000       1.000000       0.000000\n",
       "25%         3.000000      13.000000      30.000000\n",
       "50%         5.500000      25.500000      47.000000\n",
       "75%         8.000000      38.000000      70.000000\n",
       "max        10.000000      50.000000     231.000000"
      ]
     },
     "execution_count": 5,
     "metadata": {},
     "output_type": "execute_result"
    }
   ],
   "source": [
    "data.describe()"
   ]
  },
  {
   "cell_type": "code",
   "execution_count": null,
   "id": "caf477ad",
   "metadata": {},
   "outputs": [],
   "source": []
  },
  {
   "cell_type": "code",
   "execution_count": 6,
   "id": "1f898135",
   "metadata": {},
   "outputs": [
    {
     "name": "stderr",
     "output_type": "stream",
     "text": [
      "C:\\Users\\sohail\\anaconda3\\lib\\site-packages\\seaborn\\distributions.py:2619: FutureWarning: `distplot` is a deprecated function and will be removed in a future version. Please adapt your code to use either `displot` (a figure-level function with similar flexibility) or `histplot` (an axes-level function for histograms).\n",
      "  warnings.warn(msg, FutureWarning)\n"
     ]
    },
    {
     "data": {
      "text/plain": [
       "<AxesSubplot:xlabel='sales', ylabel='Density'>"
      ]
     },
     "execution_count": 6,
     "metadata": {},
     "output_type": "execute_result"
    },
    {
     "data": {
      "image/png": "[encoded data removed]",
      "text/plain": [
       "<Figure size 432x288 with 1 Axes>"
      ]
     },
     "metadata": {
      "needs_background": "light"
     },
     "output_type": "display_data"
    }
   ],
   "source": [
    "sns.distplot(data['sales'],bins=80)"
   ]
  },
  {
   "cell_type": "code",
   "execution_count": null,
   "id": "beb1f558",
   "metadata": {},
   "outputs": [],
   "source": []
  },
  {
   "cell_type": "code",
   "execution_count": 7,
   "id": "d8629cab",
   "metadata": {},
   "outputs": [
    {
     "data": {
      "text/plain": [
       "array([ 1,  2,  3,  4,  5,  6,  7,  8,  9, 10, 11, 12, 13, 14, 15, 16, 17,\n",
       "       18, 19, 20, 21, 22, 23, 24, 25, 26, 27, 28, 29, 30, 31, 32, 33, 34,\n",
       "       35, 36, 37, 38, 39, 40, 41, 42, 43, 44, 45, 46, 47, 48, 49, 50],\n",
       "      dtype=int64)"
      ]
     },
     "execution_count": 7,
     "metadata": {},
     "output_type": "execute_result"
    }
   ],
   "source": [
    "data['item'].unique()"
   ]
  },
  {
   "cell_type": "code",
   "execution_count": 8,
   "id": "7d8bbd48",
   "metadata": {},
   "outputs": [
    {
     "data": {
      "text/plain": [
       "array([ 1,  2,  3,  4,  5,  6,  7,  8,  9, 10], dtype=int64)"
      ]
     },
     "execution_count": 8,
     "metadata": {},
     "output_type": "execute_result"
    }
   ],
   "source": [
    "data['store'].unique()"
   ]
  },
  {
   "cell_type": "code",
   "execution_count": 9,
   "id": "3df43bd6",
   "metadata": {},
   "outputs": [
    {
     "data": {
      "text/plain": [
       "<seaborn.axisgrid.JointGrid at 0x256ac67b130>"
      ]
     },
     "execution_count": 9,
     "metadata": {},
     "output_type": "execute_result"
    },
    {
     "data": {
      "image/png": "[encoded data removed]",
      "text/plain": [
       "<Figure size 432x432 with 3 Axes>"
      ]
     },
     "metadata": {
      "needs_background": "light"
     },
     "output_type": "display_data"
    }
   ],
   "source": [
    "sns.jointplot(x='store',y='item',data=data,kind='reg')"
   ]
  },
  {
   "cell_type": "code",
   "execution_count": 10,
   "id": "8f562d92",
   "metadata": {},
   "outputs": [
    {
     "data": {
      "text/plain": [
       "<AxesSubplot:xlabel='sales', ylabel='Density'>"
      ]
     },
     "execution_count": 10,
     "metadata": {},
     "output_type": "execute_result"
    },
    {
     "data": {
      "image/png": "[encoded data removed]",
      "text/plain": [
       "<Figure size 432x288 with 1 Axes>"
      ]
     },
     "metadata": {
      "needs_background": "light"
     },
     "output_type": "display_data"
    }
   ],
   "source": [
    "sns.kdeplot(data['sales'])"
   ]
  },
  {
   "cell_type": "code",
   "execution_count": 11,
   "id": "88ec1919",
   "metadata": {},
   "outputs": [
    {
     "data": {
      "text/plain": [
       "array(['2013-01-01', '2013-01-02', '2013-01-03', ..., '2017-12-29',\n",
       "       '2017-12-30', '2017-12-31'], dtype=object)"
      ]
     },
     "execution_count": 11,
     "metadata": {},
     "output_type": "execute_result"
    }
   ],
   "source": [
    "data['date'].unique()"
   ]
  },
  {
   "cell_type": "code",
   "execution_count": 12,
   "id": "40209de9",
   "metadata": {},
   "outputs": [
    {
     "name": "stderr",
     "output_type": "stream",
     "text": [
      "C:\\Users\\sohail\\AppData\\Local\\Temp/ipykernel_24324/100452331.py:9: FutureWarning: Series.dt.weekofyear and Series.dt.week have been deprecated.  Please use Series.dt.isocalendar().week instead.\n",
      "  df['weekofyear'] = df.date.dt.weekofyear\n"
     ]
    },
    {
     "data": {
      "text/html": [
       "<div>\n",
       "<style scoped>\n",
       "    .dataframe tbody tr th:only-of-type {\n",
       "        vertical-align: middle;\n",
       "    }\n",
       "\n",
       "    .dataframe tbody tr th {\n",
       "        vertical-align: top;\n",
       "    }\n",
       "\n",
       "    .dataframe thead th {\n",
       "        text-align: right;\n",
       "    }\n",
       "</style>\n",
       "<table border=\"1\" class=\"dataframe\">\n",
       "  <thead>\n",
       "    <tr style=\"text-align: right;\">\n",
       "      <th></th>\n",
       "      <th>store</th>\n",
       "      <th>item</th>\n",
       "      <th>sales</th>\n",
       "      <th>year</th>\n",
       "      <th>month</th>\n",
       "      <th>day</th>\n",
       "      <th>dayofyear</th>\n",
       "      <th>dayofweek</th>\n",
       "      <th>weekofyear</th>\n",
       "    </tr>\n",
       "  </thead>\n",
       "  <tbody>\n",
       "    <tr>\n",
       "      <th>0</th>\n",
       "      <td>1</td>\n",
       "      <td>1</td>\n",
       "      <td>13</td>\n",
       "      <td>2013</td>\n",
       "      <td>1</td>\n",
       "      <td>1</td>\n",
       "      <td>1</td>\n",
       "      <td>1</td>\n",
       "      <td>1</td>\n",
       "    </tr>\n",
       "    <tr>\n",
       "      <th>1</th>\n",
       "      <td>1</td>\n",
       "      <td>1</td>\n",
       "      <td>11</td>\n",
       "      <td>2013</td>\n",
       "      <td>1</td>\n",
       "      <td>2</td>\n",
       "      <td>2</td>\n",
       "      <td>2</td>\n",
       "      <td>1</td>\n",
       "    </tr>\n",
       "    <tr>\n",
       "      <th>2</th>\n",
       "      <td>1</td>\n",
       "      <td>1</td>\n",
       "      <td>14</td>\n",
       "      <td>2013</td>\n",
       "      <td>1</td>\n",
       "      <td>3</td>\n",
       "      <td>3</td>\n",
       "      <td>3</td>\n",
       "      <td>1</td>\n",
       "    </tr>\n",
       "    <tr>\n",
       "      <th>3</th>\n",
       "      <td>1</td>\n",
       "      <td>1</td>\n",
       "      <td>13</td>\n",
       "      <td>2013</td>\n",
       "      <td>1</td>\n",
       "      <td>4</td>\n",
       "      <td>4</td>\n",
       "      <td>4</td>\n",
       "      <td>1</td>\n",
       "    </tr>\n",
       "    <tr>\n",
       "      <th>4</th>\n",
       "      <td>1</td>\n",
       "      <td>1</td>\n",
       "      <td>10</td>\n",
       "      <td>2013</td>\n",
       "      <td>1</td>\n",
       "      <td>5</td>\n",
       "      <td>5</td>\n",
       "      <td>5</td>\n",
       "      <td>1</td>\n",
       "    </tr>\n",
       "    <tr>\n",
       "      <th>...</th>\n",
       "      <td>...</td>\n",
       "      <td>...</td>\n",
       "      <td>...</td>\n",
       "      <td>...</td>\n",
       "      <td>...</td>\n",
       "      <td>...</td>\n",
       "      <td>...</td>\n",
       "      <td>...</td>\n",
       "      <td>...</td>\n",
       "    </tr>\n",
       "    <tr>\n",
       "      <th>912995</th>\n",
       "      <td>10</td>\n",
       "      <td>50</td>\n",
       "      <td>63</td>\n",
       "      <td>2017</td>\n",
       "      <td>12</td>\n",
       "      <td>27</td>\n",
       "      <td>361</td>\n",
       "      <td>2</td>\n",
       "      <td>52</td>\n",
       "    </tr>\n",
       "    <tr>\n",
       "      <th>912996</th>\n",
       "      <td>10</td>\n",
       "      <td>50</td>\n",
       "      <td>59</td>\n",
       "      <td>2017</td>\n",
       "      <td>12</td>\n",
       "      <td>28</td>\n",
       "      <td>362</td>\n",
       "      <td>3</td>\n",
       "      <td>52</td>\n",
       "    </tr>\n",
       "    <tr>\n",
       "      <th>912997</th>\n",
       "      <td>10</td>\n",
       "      <td>50</td>\n",
       "      <td>74</td>\n",
       "      <td>2017</td>\n",
       "      <td>12</td>\n",
       "      <td>29</td>\n",
       "      <td>363</td>\n",
       "      <td>4</td>\n",
       "      <td>52</td>\n",
       "    </tr>\n",
       "    <tr>\n",
       "      <th>912998</th>\n",
       "      <td>10</td>\n",
       "      <td>50</td>\n",
       "      <td>62</td>\n",
       "      <td>2017</td>\n",
       "      <td>12</td>\n",
       "      <td>30</td>\n",
       "      <td>364</td>\n",
       "      <td>5</td>\n",
       "      <td>52</td>\n",
       "    </tr>\n",
       "    <tr>\n",
       "      <th>912999</th>\n",
       "      <td>10</td>\n",
       "      <td>50</td>\n",
       "      <td>82</td>\n",
       "      <td>2017</td>\n",
       "      <td>12</td>\n",
       "      <td>31</td>\n",
       "      <td>365</td>\n",
       "      <td>6</td>\n",
       "      <td>52</td>\n",
       "    </tr>\n",
       "  </tbody>\n",
       "</table>\n",
       "<p>913000 rows × 9 columns</p>\n",
       "</div>"
      ],
      "text/plain": [
       "        store  item  sales  year  month  day  dayofyear  dayofweek  weekofyear\n",
       "0           1     1     13  2013      1    1          1          1           1\n",
       "1           1     1     11  2013      1    2          2          2           1\n",
       "2           1     1     14  2013      1    3          3          3           1\n",
       "3           1     1     13  2013      1    4          4          4           1\n",
       "4           1     1     10  2013      1    5          5          5           1\n",
       "...       ...   ...    ...   ...    ...  ...        ...        ...         ...\n",
       "912995     10    50     63  2017     12   27        361          2          52\n",
       "912996     10    50     59  2017     12   28        362          3          52\n",
       "912997     10    50     74  2017     12   29        363          4          52\n",
       "912998     10    50     62  2017     12   30        364          5          52\n",
       "912999     10    50     82  2017     12   31        365          6          52\n",
       "\n",
       "[913000 rows x 9 columns]"
      ]
     },
     "execution_count": 12,
     "metadata": {},
     "output_type": "execute_result"
    }
   ],
   "source": [
    "def date_features(df):\n",
    "    # Date Features\n",
    "    df['date'] = pd.to_datetime(df['date'])\n",
    "    df['year'] = df.date.dt.year\n",
    "    df['month'] = df.date.dt.month\n",
    "    df['day'] = df.date.dt.day\n",
    "    df['dayofyear'] = df.date.dt.dayofyear\n",
    "    df['dayofweek'] = df.date.dt.dayofweek\n",
    "    df['weekofyear'] = df.date.dt.weekofyear\n",
    "    \n",
    "    # Additionnal Data Features\n",
    "    df['day^year'] = np.log((np.log(dataset['dayofyear'] + 1)) ** (dataset['year'] - 2000))\n",
    "    \n",
    "    # Drop date\n",
    "    df.drop('date', axis=1, inplace=True)\n",
    "    \n",
    "    return df\n",
    "\n",
    "\n",
    "date_features(data)"
   ]
  },
  {
   "cell_type": "code",
   "execution_count": 13,
   "id": "1044da30",
   "metadata": {},
   "outputs": [
    {
     "data": {
      "text/html": [
       "<div>\n",
       "<style scoped>\n",
       "    .dataframe tbody tr th:only-of-type {\n",
       "        vertical-align: middle;\n",
       "    }\n",
       "\n",
       "    .dataframe tbody tr th {\n",
       "        vertical-align: top;\n",
       "    }\n",
       "\n",
       "    .dataframe thead th {\n",
       "        text-align: right;\n",
       "    }\n",
       "</style>\n",
       "<table border=\"1\" class=\"dataframe\">\n",
       "  <thead>\n",
       "    <tr style=\"text-align: right;\">\n",
       "      <th></th>\n",
       "      <th>store</th>\n",
       "      <th>item</th>\n",
       "      <th>sales</th>\n",
       "      <th>year</th>\n",
       "      <th>month</th>\n",
       "      <th>day</th>\n",
       "      <th>dayofyear</th>\n",
       "      <th>dayofweek</th>\n",
       "      <th>weekofyear</th>\n",
       "    </tr>\n",
       "  </thead>\n",
       "  <tbody>\n",
       "    <tr>\n",
       "      <th>0</th>\n",
       "      <td>1</td>\n",
       "      <td>1</td>\n",
       "      <td>13</td>\n",
       "      <td>2013</td>\n",
       "      <td>1</td>\n",
       "      <td>1</td>\n",
       "      <td>1</td>\n",
       "      <td>1</td>\n",
       "      <td>1</td>\n",
       "    </tr>\n",
       "    <tr>\n",
       "      <th>1</th>\n",
       "      <td>1</td>\n",
       "      <td>1</td>\n",
       "      <td>11</td>\n",
       "      <td>2013</td>\n",
       "      <td>1</td>\n",
       "      <td>2</td>\n",
       "      <td>2</td>\n",
       "      <td>2</td>\n",
       "      <td>1</td>\n",
       "    </tr>\n",
       "    <tr>\n",
       "      <th>2</th>\n",
       "      <td>1</td>\n",
       "      <td>1</td>\n",
       "      <td>14</td>\n",
       "      <td>2013</td>\n",
       "      <td>1</td>\n",
       "      <td>3</td>\n",
       "      <td>3</td>\n",
       "      <td>3</td>\n",
       "      <td>1</td>\n",
       "    </tr>\n",
       "    <tr>\n",
       "      <th>3</th>\n",
       "      <td>1</td>\n",
       "      <td>1</td>\n",
       "      <td>13</td>\n",
       "      <td>2013</td>\n",
       "      <td>1</td>\n",
       "      <td>4</td>\n",
       "      <td>4</td>\n",
       "      <td>4</td>\n",
       "      <td>1</td>\n",
       "    </tr>\n",
       "    <tr>\n",
       "      <th>4</th>\n",
       "      <td>1</td>\n",
       "      <td>1</td>\n",
       "      <td>10</td>\n",
       "      <td>2013</td>\n",
       "      <td>1</td>\n",
       "      <td>5</td>\n",
       "      <td>5</td>\n",
       "      <td>5</td>\n",
       "      <td>1</td>\n",
       "    </tr>\n",
       "  </tbody>\n",
       "</table>\n",
       "</div>"
      ],
      "text/plain": [
       "   store  item  sales  year  month  day  dayofyear  dayofweek  weekofyear\n",
       "0      1     1     13  2013      1    1          1          1           1\n",
       "1      1     1     11  2013      1    2          2          2           1\n",
       "2      1     1     14  2013      1    3          3          3           1\n",
       "3      1     1     13  2013      1    4          4          4           1\n",
       "4      1     1     10  2013      1    5          5          5           1"
      ]
     },
     "execution_count": 13,
     "metadata": {},
     "output_type": "execute_result"
    }
   ],
   "source": [
    "data.head()"
   ]
  },
  {
   "cell_type": "code",
   "execution_count": 14,
   "id": "f2be927f",
   "metadata": {},
   "outputs": [
    {
     "data": {
      "text/plain": [
       "Index(['store', 'item', 'sales', 'year', 'month', 'day', 'dayofyear',\n",
       "       'dayofweek', 'weekofyear'],\n",
       "      dtype='object')"
      ]
     },
     "execution_count": 14,
     "metadata": {},
     "output_type": "execute_result"
    }
   ],
   "source": [
    "data.columns"
   ]
  },
  {
   "cell_type": "code",
   "execution_count": 15,
   "id": "66c50d15",
   "metadata": {},
   "outputs": [
    {
     "data": {
      "text/plain": [
       "array([ 1,  2,  3,  4,  5,  6,  7,  8,  9, 10, 11, 12], dtype=int64)"
      ]
     },
     "execution_count": 15,
     "metadata": {},
     "output_type": "execute_result"
    }
   ],
   "source": [
    "data['month'].unique()"
   ]
  },
  {
   "cell_type": "code",
   "execution_count": 16,
   "id": "eb1c8e67",
   "metadata": {},
   "outputs": [
    {
     "data": {
      "text/plain": [
       "<seaborn.axisgrid.JointGrid at 0x256ade57ac0>"
      ]
     },
     "execution_count": 16,
     "metadata": {},
     "output_type": "execute_result"
    },
    {
     "data": {
      "image/png": "[encoded data removed]",
      "text/plain": [
       "<Figure size 432x432 with 3 Axes>"
      ]
     },
     "metadata": {
      "needs_background": "light"
     },
     "output_type": "display_data"
    }
   ],
   "source": [
    "sns.jointplot(x='month',y='sales',data=data,kind='scatter')"
   ]
  },
  {
   "cell_type": "code",
   "execution_count": 17,
   "id": "c92e572b",
   "metadata": {},
   "outputs": [
    {
     "data": {
      "text/plain": [
       "<seaborn.axisgrid.JointGrid at 0x256ac1fedc0>"
      ]
     },
     "execution_count": 17,
     "metadata": {},
     "output_type": "execute_result"
    },
    {
     "data": {
      "image/png": "[encoded data removed]",
      "text/plain": [
       "<Figure size 432x432 with 3 Axes>"
      ]
     },
     "metadata": {
      "needs_background": "light"
     },
     "output_type": "display_data"
    }
   ],
   "source": [
    "sns.jointplot(x='year',y='sales',data=data,kind='scatter')"
   ]
  },
  {
   "cell_type": "code",
   "execution_count": 18,
   "id": "e200cae6",
   "metadata": {},
   "outputs": [
    {
     "data": {
      "text/plain": [
       "<AxesSubplot:xlabel='year', ylabel='sales'>"
      ]
     },
     "execution_count": 18,
     "metadata": {},
     "output_type": "execute_result"
    },
    {
     "data": {
      "image/png": "[encoded data removed]",
      "text/plain": [
       "<Figure size 432x288 with 1 Axes>"
      ]
     },
     "metadata": {
      "needs_background": "light"
     },
     "output_type": "display_data"
    }
   ],
   "source": [
    "sns.histplot(x='year',y='sales',data= data)"
   ]
  },
  {
   "cell_type": "code",
   "execution_count": 19,
   "id": "0ad6019b",
   "metadata": {},
   "outputs": [],
   "source": [
    "dataf = pd.read_csv('train.csv')"
   ]
  },
  {
   "cell_type": "code",
   "execution_count": 20,
   "id": "aaa158e7",
   "metadata": {},
   "outputs": [
    {
     "data": {
      "text/html": [
       "<div>\n",
       "<style scoped>\n",
       "    .dataframe tbody tr th:only-of-type {\n",
       "        vertical-align: middle;\n",
       "    }\n",
       "\n",
       "    .dataframe tbody tr th {\n",
       "        vertical-align: top;\n",
       "    }\n",
       "\n",
       "    .dataframe thead th {\n",
       "        text-align: right;\n",
       "    }\n",
       "</style>\n",
       "<table border=\"1\" class=\"dataframe\">\n",
       "  <thead>\n",
       "    <tr style=\"text-align: right;\">\n",
       "      <th></th>\n",
       "      <th>date</th>\n",
       "      <th>store</th>\n",
       "      <th>item</th>\n",
       "      <th>sales</th>\n",
       "    </tr>\n",
       "  </thead>\n",
       "  <tbody>\n",
       "    <tr>\n",
       "      <th>0</th>\n",
       "      <td>2013-01-01</td>\n",
       "      <td>1</td>\n",
       "      <td>1</td>\n",
       "      <td>13</td>\n",
       "    </tr>\n",
       "    <tr>\n",
       "      <th>1</th>\n",
       "      <td>2013-01-02</td>\n",
       "      <td>1</td>\n",
       "      <td>1</td>\n",
       "      <td>11</td>\n",
       "    </tr>\n",
       "    <tr>\n",
       "      <th>2</th>\n",
       "      <td>2013-01-03</td>\n",
       "      <td>1</td>\n",
       "      <td>1</td>\n",
       "      <td>14</td>\n",
       "    </tr>\n",
       "    <tr>\n",
       "      <th>3</th>\n",
       "      <td>2013-01-04</td>\n",
       "      <td>1</td>\n",
       "      <td>1</td>\n",
       "      <td>13</td>\n",
       "    </tr>\n",
       "    <tr>\n",
       "      <th>4</th>\n",
       "      <td>2013-01-05</td>\n",
       "      <td>1</td>\n",
       "      <td>1</td>\n",
       "      <td>10</td>\n",
       "    </tr>\n",
       "  </tbody>\n",
       "</table>\n",
       "</div>"
      ],
      "text/plain": [
       "         date  store  item  sales\n",
       "0  2013-01-01      1     1     13\n",
       "1  2013-01-02      1     1     11\n",
       "2  2013-01-03      1     1     14\n",
       "3  2013-01-04      1     1     13\n",
       "4  2013-01-05      1     1     10"
      ]
     },
     "execution_count": 20,
     "metadata": {},
     "output_type": "execute_result"
    }
   ],
   "source": [
    "dataf.head()"
   ]
  },
  {
   "cell_type": "code",
   "execution_count": 21,
   "id": "90a0e701",
   "metadata": {},
   "outputs": [
    {
     "data": {
      "text/plain": [
       "Text(0.5, 1.0, 'Sales and Profits over the Years')"
      ]
     },
     "execution_count": 21,
     "metadata": {},
     "output_type": "execute_result"
    },
    {
     "data": {
      "image/png": "[encoded data removed]",
      "text/plain": [
       "<Figure size 1440x720 with 1 Axes>"
      ]
     },
     "metadata": {
      "needs_background": "light"
     },
     "output_type": "display_data"
    }
   ],
   "source": [
    "matplotlibdf = dataf[['date', 'sales']].copy()\n",
    "matplotlibdf['date'] = pd.to_datetime(matplotlibdf['date'],yearfirst=True)\n",
    "#matplotlibdf.Sales.resample('M',how='sum')\n",
    "#matplotlibdf\n",
    "linechartData = matplotlibdf.groupby([pd.Grouper(freq='MS',key='date')]).sum()\n",
    "linechartData.plot(figsize=(20,10))\n",
    "plt.gca()\n",
    "plt.title(\"Sales and Profits over the Years\")"
   ]
  },
  {
   "cell_type": "code",
   "execution_count": 22,
   "id": "6f26272d",
   "metadata": {},
   "outputs": [
    {
     "data": {
      "text/plain": [
       "Text(0.5, 1.0, 'Sales of all years')"
      ]
     },
     "execution_count": 22,
     "metadata": {},
     "output_type": "execute_result"
    },
    {
     "data": {
      "image/png": "[encoded data removed]",
      "text/plain": [
       "<Figure size 576x576 with 1 Axes>"
      ]
     },
     "metadata": {},
     "output_type": "display_data"
    }
   ],
   "source": [
    "year2013 = len(data[data[\"year\"]== 2013][\"sales\"])\n",
    "year2014 = len(data[data[\"year\"]== 2014][\"sales\"])\n",
    "year2015 = len(data[data[\"year\"]== 2015][\"sales\"])\n",
    "year2016 = len(data[data[\"year\"]== 2016][\"sales\"])\n",
    "year2017 = len(data[data[\"year\"]== 2017][\"sales\"])\n",
    " \n",
    "values = [year2013,year2014,year2015,year2016,year2017]\n",
    "labels = [\"2013\",\"2014\",\"2015\",\"2016\",\"2017\"]\n",
    "colors = ['lightgreen','red','blue','pink','cyan']\n",
    "explode = [0.05,0,0,0,0.05]\n",
    "fig = plt.figure(figsize = (8,8))\n",
    "pie = plt.pie(values, labels = labels, explode = explode, autopct = '%4.2f%%')\n",
    "plt.title(\"Sales of all years\")"
   ]
  },
  {
   "cell_type": "markdown",
   "id": "d38413ef",
   "metadata": {},
   "source": [
    "# Model Building"
   ]
  },
  {
   "cell_type": "code",
   "execution_count": 69,
   "id": "15abc48f",
   "metadata": {},
   "outputs": [
    {
     "name": "stderr",
     "output_type": "stream",
     "text": [
      "C:\\Users\\sohail\\AppData\\Local\\Temp/ipykernel_24324/100452331.py:9: FutureWarning: Series.dt.weekofyear and Series.dt.week have been deprecated.  Please use Series.dt.isocalendar().week instead.\n",
      "  df['weekofyear'] = df.date.dt.weekofyear\n"
     ]
    }
   ],
   "source": [
    "train = pd.read_csv('train.csv')\n",
    "test = pd.read_csv('test.csv')\n",
    "train, test = date_features(train), date_features(test)"
   ]
  },
  {
   "cell_type": "code",
   "execution_count": null,
   "id": "e9a48390",
   "metadata": {},
   "outputs": [],
   "source": []
  },
  {
   "cell_type": "code",
   "execution_count": 70,
   "id": "a7afc85c",
   "metadata": {},
   "outputs": [],
   "source": [
    "train['daily_avg']  = train.groupby(['item','store','dayofweek'])['sales'].transform('mean')\n",
    "train['monthly_avg'] = train.groupby(['item','store','month'])['sales'].transform('mean')\n",
    "train['weekly_avg'] = train.groupby(['item','store','weekofyear'])['sales'].transform('mean')\n",
    "train = train.dropna()\n",
    "\n",
    "\n",
    "daymonth_avg = train.groupby(['item','store','dayofweek'])['sales'].mean().reset_index()\n",
    "\n",
    "monthly_avg = train.groupby(['item','store','month'])['sales'].mean().reset_index()\n",
    "\n",
    "weekly_avg = train.groupby(['item','store','weekofyear'])['sales'].mean().reset_index()"
   ]
  },
  {
   "cell_type": "code",
   "execution_count": 71,
   "id": "3ac0f431",
   "metadata": {},
   "outputs": [
    {
     "data": {
      "text/plain": [
       "Index(['store', 'item', 'sales', 'year', 'month', 'day', 'dayofyear',\n",
       "       'dayofweek', 'weekofyear', 'daily_avg', 'monthly_avg', 'weekly_avg'],\n",
       "      dtype='object')"
      ]
     },
     "execution_count": 71,
     "metadata": {},
     "output_type": "execute_result"
    }
   ],
   "source": [
    "train.columns"
   ]
  },
  {
   "cell_type": "code",
   "execution_count": 72,
   "id": "8b569808",
   "metadata": {},
   "outputs": [
    {
     "data": {
      "text/html": [
       "<div>\n",
       "<style scoped>\n",
       "    .dataframe tbody tr th:only-of-type {\n",
       "        vertical-align: middle;\n",
       "    }\n",
       "\n",
       "    .dataframe tbody tr th {\n",
       "        vertical-align: top;\n",
       "    }\n",
       "\n",
       "    .dataframe thead th {\n",
       "        text-align: right;\n",
       "    }\n",
       "</style>\n",
       "<table border=\"1\" class=\"dataframe\">\n",
       "  <thead>\n",
       "    <tr style=\"text-align: right;\">\n",
       "      <th></th>\n",
       "      <th>store</th>\n",
       "      <th>item</th>\n",
       "      <th>sales</th>\n",
       "      <th>year</th>\n",
       "      <th>month</th>\n",
       "      <th>day</th>\n",
       "      <th>dayofyear</th>\n",
       "      <th>dayofweek</th>\n",
       "      <th>weekofyear</th>\n",
       "      <th>daily_avg</th>\n",
       "      <th>monthly_avg</th>\n",
       "      <th>weekly_avg</th>\n",
       "      <th>rolling_mean</th>\n",
       "    </tr>\n",
       "  </thead>\n",
       "  <tbody>\n",
       "    <tr>\n",
       "      <th>0</th>\n",
       "      <td>1</td>\n",
       "      <td>1</td>\n",
       "      <td>13</td>\n",
       "      <td>2013</td>\n",
       "      <td>1</td>\n",
       "      <td>1</td>\n",
       "      <td>1</td>\n",
       "      <td>1</td>\n",
       "      <td>1</td>\n",
       "      <td>18.168582</td>\n",
       "      <td>13.709677</td>\n",
       "      <td>13.970588</td>\n",
       "      <td>NaN</td>\n",
       "    </tr>\n",
       "    <tr>\n",
       "      <th>1</th>\n",
       "      <td>1</td>\n",
       "      <td>1</td>\n",
       "      <td>11</td>\n",
       "      <td>2013</td>\n",
       "      <td>1</td>\n",
       "      <td>2</td>\n",
       "      <td>2</td>\n",
       "      <td>2</td>\n",
       "      <td>1</td>\n",
       "      <td>18.793103</td>\n",
       "      <td>13.709677</td>\n",
       "      <td>13.970588</td>\n",
       "      <td>NaN</td>\n",
       "    </tr>\n",
       "    <tr>\n",
       "      <th>2</th>\n",
       "      <td>1</td>\n",
       "      <td>1</td>\n",
       "      <td>14</td>\n",
       "      <td>2013</td>\n",
       "      <td>1</td>\n",
       "      <td>3</td>\n",
       "      <td>3</td>\n",
       "      <td>3</td>\n",
       "      <td>1</td>\n",
       "      <td>19.452107</td>\n",
       "      <td>13.709677</td>\n",
       "      <td>13.970588</td>\n",
       "      <td>NaN</td>\n",
       "    </tr>\n",
       "    <tr>\n",
       "      <th>3</th>\n",
       "      <td>1</td>\n",
       "      <td>1</td>\n",
       "      <td>13</td>\n",
       "      <td>2013</td>\n",
       "      <td>1</td>\n",
       "      <td>4</td>\n",
       "      <td>4</td>\n",
       "      <td>4</td>\n",
       "      <td>1</td>\n",
       "      <td>21.015326</td>\n",
       "      <td>13.709677</td>\n",
       "      <td>13.970588</td>\n",
       "      <td>NaN</td>\n",
       "    </tr>\n",
       "    <tr>\n",
       "      <th>4</th>\n",
       "      <td>1</td>\n",
       "      <td>1</td>\n",
       "      <td>10</td>\n",
       "      <td>2013</td>\n",
       "      <td>1</td>\n",
       "      <td>5</td>\n",
       "      <td>5</td>\n",
       "      <td>5</td>\n",
       "      <td>1</td>\n",
       "      <td>22.973180</td>\n",
       "      <td>13.709677</td>\n",
       "      <td>13.970588</td>\n",
       "      <td>NaN</td>\n",
       "    </tr>\n",
       "  </tbody>\n",
       "</table>\n",
       "</div>"
      ],
      "text/plain": [
       "   store  item  sales  year  month  day  dayofyear  dayofweek  weekofyear  \\\n",
       "0      1     1     13  2013      1    1          1          1           1   \n",
       "1      1     1     11  2013      1    2          2          2           1   \n",
       "2      1     1     14  2013      1    3          3          3           1   \n",
       "3      1     1     13  2013      1    4          4          4           1   \n",
       "4      1     1     10  2013      1    5          5          5           1   \n",
       "\n",
       "   daily_avg  monthly_avg  weekly_avg  rolling_mean  \n",
       "0  18.168582    13.709677   13.970588           NaN  \n",
       "1  18.793103    13.709677   13.970588           NaN  \n",
       "2  19.452107    13.709677   13.970588           NaN  \n",
       "3  21.015326    13.709677   13.970588           NaN  \n",
       "4  22.973180    13.709677   13.970588           NaN  "
      ]
     },
     "execution_count": 72,
     "metadata": {},
     "output_type": "execute_result"
    }
   ],
   "source": [
    "def merge(df1, df2, col,col_name):\n",
    "    \n",
    "    df1 =pd.merge(df1, df2, how='left', on=None, left_on=col, right_on=col,\n",
    "            left_index=False, right_index=False, sort=True,\n",
    "             copy=True, indicator=False)\n",
    "    \n",
    "    df1 = df1.rename(columns={'sales':col_name})\n",
    "    return df1\n",
    "\n",
    "# Add Daily_avg and Monthly_avg features to test \n",
    "test = merge(test, daymonth_avg,['item','store','dayofweek'],'daily_avg')\n",
    "test = merge(test, monthly_avg,['item','store','month'],'monthly_avg')\n",
    "test = merge(test,weekly_avg,['item','store','weekofyear'],'weekly_avg')\n",
    "\n",
    "# Sales Rolling mean sequence per item \n",
    "rolling_10 = train.groupby(['item'])['sales'].rolling(10).mean().reset_index().drop('level_1', axis=1)\n",
    "train['rolling_mean'] = rolling_10['sales'] \n",
    "\n",
    "# 90 last days of training rolling mean sequence added to test data\n",
    "rolling_last90 = train.groupby(['item','store'])['rolling_mean'].tail(90).copy()\n",
    "test['rolling_mean'] = rolling_last90.reset_index().drop('index', axis=1)\n",
    "\n",
    "# Shifting rolling mean 3 months\n",
    "train['rolling_mean'] = train.groupby(['item'])['rolling_mean'].shift(90) # Create a feature with rolling mean of day - 90\n",
    "train.head()"
   ]
  },
  {
   "cell_type": "code",
   "execution_count": 73,
   "id": "234dcd3e",
   "metadata": {},
   "outputs": [],
   "source": [
    "from sklearn.model_selection import train_test_split\n",
    "import xgboost as xgb"
   ]
  },
  {
   "cell_type": "code",
   "execution_count": 74,
   "id": "0fb15583",
   "metadata": {},
   "outputs": [
    {
     "name": "stdout",
     "output_type": "stream",
     "text": [
      "[10:35:00] WARNING: C:/Users/Administrator/workspace/xgboost-win64_release_1.6.0/src/objective/regression_obj.cu:203: reg:linear is now deprecated in favor of reg:squarederror.\n",
      "[0]\ttest-rmse:54.80982\n",
      "[1]\ttest-rmse:49.60015\n",
      "[2]\ttest-rmse:44.93429\n",
      "[3]\ttest-rmse:41.03704\n",
      "[4]\ttest-rmse:38.21775\n",
      "[5]\ttest-rmse:35.77058\n",
      "[6]\ttest-rmse:32.57294\n",
      "[7]\ttest-rmse:30.04297\n",
      "[8]\ttest-rmse:28.38465\n",
      "[9]\ttest-rmse:26.00320\n",
      "[10]\ttest-rmse:24.22715\n",
      "[11]\ttest-rmse:22.33984\n",
      "[12]\ttest-rmse:20.68445\n",
      "[13]\ttest-rmse:19.67587\n",
      "[14]\ttest-rmse:18.32719\n",
      "[15]\ttest-rmse:17.40371\n",
      "[16]\ttest-rmse:16.36362\n",
      "[17]\ttest-rmse:15.72701\n",
      "[18]\ttest-rmse:15.19130\n",
      "[19]\ttest-rmse:14.38887\n",
      "[20]\ttest-rmse:13.70374\n",
      "[21]\ttest-rmse:13.32574\n",
      "[22]\ttest-rmse:12.96733\n",
      "[23]\ttest-rmse:12.66932\n",
      "[24]\ttest-rmse:12.23653\n",
      "[25]\ttest-rmse:11.99245\n",
      "[26]\ttest-rmse:11.79080\n",
      "[27]\ttest-rmse:11.44918\n",
      "[28]\ttest-rmse:11.16435\n",
      "[29]\ttest-rmse:10.92767\n",
      "[30]\ttest-rmse:10.78620\n",
      "[31]\ttest-rmse:10.67010\n",
      "[32]\ttest-rmse:10.48491\n",
      "[33]\ttest-rmse:10.33180\n",
      "[34]\ttest-rmse:10.24386\n",
      "[35]\ttest-rmse:10.17198\n",
      "[36]\ttest-rmse:10.11330\n",
      "[37]\ttest-rmse:9.99369\n",
      "[38]\ttest-rmse:9.89843\n",
      "[39]\ttest-rmse:9.82046\n",
      "[40]\ttest-rmse:9.74444\n",
      "[41]\ttest-rmse:9.68144\n",
      "[42]\ttest-rmse:9.63881\n",
      "[43]\ttest-rmse:9.60410\n",
      "[44]\ttest-rmse:9.54336\n",
      "[45]\ttest-rmse:9.53764\n",
      "[46]\ttest-rmse:9.48944\n",
      "[47]\ttest-rmse:9.45026\n",
      "[48]\ttest-rmse:9.40161\n",
      "[49]\ttest-rmse:9.36961\n",
      "[50]\ttest-rmse:9.34273\n",
      "[51]\ttest-rmse:9.31448\n",
      "[52]\ttest-rmse:9.29270\n",
      "[53]\ttest-rmse:9.27502\n",
      "[54]\ttest-rmse:9.23546\n",
      "[55]\ttest-rmse:9.21447\n",
      "[56]\ttest-rmse:9.18219\n",
      "[57]\ttest-rmse:9.16272\n",
      "[58]\ttest-rmse:9.14885\n",
      "[59]\ttest-rmse:9.12251\n",
      "[60]\ttest-rmse:9.10930\n",
      "[61]\ttest-rmse:9.09500\n",
      "[62]\ttest-rmse:9.08416\n",
      "[63]\ttest-rmse:9.06267\n",
      "[64]\ttest-rmse:9.05371\n",
      "[65]\ttest-rmse:9.04211\n",
      "[66]\ttest-rmse:9.03270\n",
      "[67]\ttest-rmse:9.02596\n",
      "[68]\ttest-rmse:9.01881\n",
      "[69]\ttest-rmse:9.01239\n",
      "[70]\ttest-rmse:9.00727\n",
      "[71]\ttest-rmse:8.99790\n",
      "[72]\ttest-rmse:8.99165\n",
      "[73]\ttest-rmse:8.98500\n",
      "[74]\ttest-rmse:8.96648\n",
      "[75]\ttest-rmse:8.95140\n",
      "[76]\ttest-rmse:8.94591\n",
      "[77]\ttest-rmse:8.93815\n",
      "[78]\ttest-rmse:8.92584\n",
      "[79]\ttest-rmse:8.91581\n",
      "[80]\ttest-rmse:8.91121\n",
      "[81]\ttest-rmse:8.90491\n",
      "[82]\ttest-rmse:8.90098\n",
      "[83]\ttest-rmse:8.89871\n",
      "[84]\ttest-rmse:8.89610\n",
      "[85]\ttest-rmse:8.88791\n",
      "[86]\ttest-rmse:8.87531\n",
      "[87]\ttest-rmse:8.86833\n",
      "[88]\ttest-rmse:8.85786\n",
      "[89]\ttest-rmse:8.85191\n",
      "[90]\ttest-rmse:8.84884\n",
      "[91]\ttest-rmse:8.84398\n",
      "[92]\ttest-rmse:8.84145\n",
      "[93]\ttest-rmse:8.83937\n",
      "[94]\ttest-rmse:8.83415\n",
      "[95]\ttest-rmse:8.82992\n",
      "[96]\ttest-rmse:8.82595\n",
      "[97]\ttest-rmse:8.82307\n",
      "[98]\ttest-rmse:8.81982\n",
      "[99]\ttest-rmse:8.81639\n",
      "[100]\ttest-rmse:8.81374\n",
      "[101]\ttest-rmse:8.81156\n",
      "[102]\ttest-rmse:8.81002\n",
      "[103]\ttest-rmse:8.80824\n",
      "[104]\ttest-rmse:8.80678\n",
      "[105]\ttest-rmse:8.79305\n",
      "[106]\ttest-rmse:8.79051\n",
      "[107]\ttest-rmse:8.77864\n",
      "[108]\ttest-rmse:8.76902\n",
      "[109]\ttest-rmse:8.76511\n",
      "[110]\ttest-rmse:8.76222\n",
      "[111]\ttest-rmse:8.76061\n",
      "[112]\ttest-rmse:8.75702\n",
      "[113]\ttest-rmse:8.75570\n",
      "[114]\ttest-rmse:8.75356\n",
      "[115]\ttest-rmse:8.75248\n",
      "[116]\ttest-rmse:8.74203\n",
      "[117]\ttest-rmse:8.73882\n",
      "[118]\ttest-rmse:8.72967\n",
      "[119]\ttest-rmse:8.72858\n",
      "[120]\ttest-rmse:8.72102\n",
      "[121]\ttest-rmse:8.71735\n",
      "[122]\ttest-rmse:8.71361\n",
      "[123]\ttest-rmse:8.71262\n",
      "[124]\ttest-rmse:8.71018\n",
      "[125]\ttest-rmse:8.70717\n",
      "[126]\ttest-rmse:8.70517\n",
      "[127]\ttest-rmse:8.70435\n",
      "[128]\ttest-rmse:8.70237\n",
      "[129]\ttest-rmse:8.69323\n",
      "[130]\ttest-rmse:8.69098\n",
      "[131]\ttest-rmse:8.68291\n",
      "[132]\ttest-rmse:8.67642\n",
      "[133]\ttest-rmse:8.67550\n",
      "[134]\ttest-rmse:8.67383\n",
      "[135]\ttest-rmse:8.67248\n",
      "[136]\ttest-rmse:8.67172\n",
      "[137]\ttest-rmse:8.66834\n",
      "[138]\ttest-rmse:8.66223\n",
      "[139]\ttest-rmse:8.65814\n",
      "[140]\ttest-rmse:8.65532\n",
      "[141]\ttest-rmse:8.65243\n",
      "[142]\ttest-rmse:8.65132\n",
      "[143]\ttest-rmse:8.64895\n",
      "[144]\ttest-rmse:8.64749\n",
      "[145]\ttest-rmse:8.63946\n",
      "[146]\ttest-rmse:8.63697\n",
      "[147]\ttest-rmse:8.63492\n",
      "[148]\ttest-rmse:8.63370\n",
      "[149]\ttest-rmse:8.63228\n",
      "[150]\ttest-rmse:8.63136\n",
      "[151]\ttest-rmse:8.62283\n",
      "[152]\ttest-rmse:8.62149\n",
      "[153]\ttest-rmse:8.62073\n",
      "[154]\ttest-rmse:8.61912\n",
      "[155]\ttest-rmse:8.61792\n",
      "[156]\ttest-rmse:8.61730\n",
      "[157]\ttest-rmse:8.61646\n",
      "[158]\ttest-rmse:8.61561\n",
      "[159]\ttest-rmse:8.61500\n",
      "[160]\ttest-rmse:8.61449\n",
      "[161]\ttest-rmse:8.61365\n",
      "[162]\ttest-rmse:8.60399\n",
      "[163]\ttest-rmse:8.59617\n",
      "[164]\ttest-rmse:8.59530\n",
      "[165]\ttest-rmse:8.58887\n",
      "[166]\ttest-rmse:8.58373\n",
      "[167]\ttest-rmse:8.58105\n",
      "[168]\ttest-rmse:8.58049\n",
      "[169]\ttest-rmse:8.57816\n",
      "[170]\ttest-rmse:8.57771\n",
      "[171]\ttest-rmse:8.57628\n",
      "[172]\ttest-rmse:8.57505\n",
      "[173]\ttest-rmse:8.56905\n",
      "[174]\ttest-rmse:8.56712\n",
      "[175]\ttest-rmse:8.56549\n",
      "[176]\ttest-rmse:8.56457\n",
      "[177]\ttest-rmse:8.55881\n",
      "[178]\ttest-rmse:8.55417\n",
      "[179]\ttest-rmse:8.55043\n",
      "[180]\ttest-rmse:8.54947\n",
      "[181]\ttest-rmse:8.54869\n",
      "[182]\ttest-rmse:8.54828\n",
      "[183]\ttest-rmse:8.54517\n",
      "[184]\ttest-rmse:8.54484\n",
      "[185]\ttest-rmse:8.54230\n",
      "[186]\ttest-rmse:8.54203\n",
      "[187]\ttest-rmse:8.53879\n",
      "[188]\ttest-rmse:8.53806\n",
      "[189]\ttest-rmse:8.53745\n",
      "[190]\ttest-rmse:8.53481\n",
      "[191]\ttest-rmse:8.53184\n",
      "[192]\ttest-rmse:8.52943\n",
      "[193]\ttest-rmse:8.52920\n",
      "[194]\ttest-rmse:8.52900\n",
      "[195]\ttest-rmse:8.52885\n",
      "[196]\ttest-rmse:8.52584\n",
      "[197]\ttest-rmse:8.52336\n",
      "[198]\ttest-rmse:8.52132\n",
      "[199]\ttest-rmse:8.52119\n",
      "[200]\ttest-rmse:8.52061\n",
      "[201]\ttest-rmse:8.51736\n",
      "[202]\ttest-rmse:8.51684\n",
      "[203]\ttest-rmse:8.51427\n",
      "[204]\ttest-rmse:8.51122\n",
      "[205]\ttest-rmse:8.51075\n",
      "[206]\ttest-rmse:8.51064\n",
      "[207]\ttest-rmse:8.51025\n",
      "[208]\ttest-rmse:8.50773\n",
      "[209]\ttest-rmse:8.50741\n",
      "[210]\ttest-rmse:8.50449\n",
      "[211]\ttest-rmse:8.50195\n",
      "[212]\ttest-rmse:8.50186\n",
      "[213]\ttest-rmse:8.50178\n",
      "[214]\ttest-rmse:8.50172\n",
      "[215]\ttest-rmse:8.50004\n",
      "[216]\ttest-rmse:8.49694\n",
      "[217]\ttest-rmse:8.49518\n",
      "[218]\ttest-rmse:8.49333\n",
      "[219]\ttest-rmse:8.49216\n",
      "[220]\ttest-rmse:8.49211\n",
      "[221]\ttest-rmse:8.49178\n",
      "[222]\ttest-rmse:8.48823\n",
      "[223]\ttest-rmse:8.48650\n",
      "[224]\ttest-rmse:8.48619\n",
      "[225]\ttest-rmse:8.48299\n",
      "[226]\ttest-rmse:8.48294\n",
      "[227]\ttest-rmse:8.48290\n",
      "[228]\ttest-rmse:8.48261\n",
      "[229]\ttest-rmse:8.47999\n",
      "[230]\ttest-rmse:8.47785\n",
      "[231]\ttest-rmse:8.47781\n",
      "[232]\ttest-rmse:8.47778\n",
      "[233]\ttest-rmse:8.47538\n",
      "[234]\ttest-rmse:8.47329\n",
      "[235]\ttest-rmse:8.47300\n",
      "[236]\ttest-rmse:8.47276\n",
      "[237]\ttest-rmse:8.47037\n",
      "[238]\ttest-rmse:8.46845\n",
      "[239]\ttest-rmse:8.46821\n",
      "[240]\ttest-rmse:8.46587\n",
      "[241]\ttest-rmse:8.46424\n",
      "[242]\ttest-rmse:8.46257\n",
      "[243]\ttest-rmse:8.46236\n",
      "[244]\ttest-rmse:8.46128\n",
      "[245]\ttest-rmse:8.46041\n",
      "[246]\ttest-rmse:8.45970\n",
      "[247]\ttest-rmse:8.45873\n",
      "[248]\ttest-rmse:8.45827\n",
      "[249]\ttest-rmse:8.45457\n",
      "[250]\ttest-rmse:8.45437\n",
      "[251]\ttest-rmse:8.45375\n",
      "[252]\ttest-rmse:8.45322\n",
      "[253]\ttest-rmse:8.45305\n",
      "[254]\ttest-rmse:8.45239\n",
      "[255]\ttest-rmse:8.45202\n",
      "[256]\ttest-rmse:8.45143\n",
      "[257]\ttest-rmse:8.45096\n",
      "[258]\ttest-rmse:8.45082\n",
      "[259]\ttest-rmse:8.45068\n",
      "[260]\ttest-rmse:8.44641\n",
      "[261]\ttest-rmse:8.44637\n",
      "[262]\ttest-rmse:8.44601\n",
      "[263]\ttest-rmse:8.44598\n",
      "[264]\ttest-rmse:8.44238\n",
      "[265]\ttest-rmse:8.44189\n",
      "[266]\ttest-rmse:8.43879\n",
      "[267]\ttest-rmse:8.43628\n",
      "[268]\ttest-rmse:8.43625\n",
      "[269]\ttest-rmse:8.43604\n",
      "[270]\ttest-rmse:8.43525\n",
      "[271]\ttest-rmse:8.43508\n",
      "[272]\ttest-rmse:8.43506\n",
      "[273]\ttest-rmse:8.43504\n",
      "[274]\ttest-rmse:8.43415\n",
      "[275]\ttest-rmse:8.43338\n",
      "[276]\ttest-rmse:8.43296\n",
      "[277]\ttest-rmse:8.43013\n",
      "[278]\ttest-rmse:8.42962\n",
      "[279]\ttest-rmse:8.42919\n",
      "[280]\ttest-rmse:8.42883\n",
      "[281]\ttest-rmse:8.42830\n",
      "[282]\ttest-rmse:8.42783\n",
      "[283]\ttest-rmse:8.42781\n",
      "[284]\ttest-rmse:8.42473\n",
      "[285]\ttest-rmse:8.42414\n",
      "[286]\ttest-rmse:8.42395\n",
      "[287]\ttest-rmse:8.42347\n",
      "[288]\ttest-rmse:8.42065\n",
      "[289]\ttest-rmse:8.42006\n",
      "[290]\ttest-rmse:8.41988\n",
      "[291]\ttest-rmse:8.41954\n",
      "[292]\ttest-rmse:8.41934\n",
      "[293]\ttest-rmse:8.41919\n",
      "[294]\ttest-rmse:8.41639\n",
      "[295]\ttest-rmse:8.41410\n",
      "[296]\ttest-rmse:8.41390\n",
      "[297]\ttest-rmse:8.41343\n",
      "[298]\ttest-rmse:8.41143\n",
      "[299]\ttest-rmse:8.41089\n",
      "[300]\ttest-rmse:8.41021\n",
      "[301]\ttest-rmse:8.40984\n",
      "[302]\ttest-rmse:8.40953\n",
      "[303]\ttest-rmse:8.40733\n",
      "[304]\ttest-rmse:8.40683\n",
      "[305]\ttest-rmse:8.40681\n",
      "[306]\ttest-rmse:8.40491\n",
      "[307]\ttest-rmse:8.40469\n",
      "[308]\ttest-rmse:8.40402\n",
      "[309]\ttest-rmse:8.40350\n",
      "[310]\ttest-rmse:8.40167\n",
      "[311]\ttest-rmse:8.40146\n",
      "[312]\ttest-rmse:8.40130\n",
      "[313]\ttest-rmse:8.40067\n",
      "[314]\ttest-rmse:8.40053\n",
      "[315]\ttest-rmse:8.39888\n",
      "[316]\ttest-rmse:8.39839\n",
      "[317]\ttest-rmse:8.39692\n",
      "[318]\ttest-rmse:8.39677\n",
      "[319]\ttest-rmse:8.39674\n",
      "[320]\ttest-rmse:8.39662\n",
      "[321]\ttest-rmse:8.39586\n",
      "[322]\ttest-rmse:8.39452\n",
      "[323]\ttest-rmse:8.39375\n",
      "[324]\ttest-rmse:8.39251\n",
      "[325]\ttest-rmse:8.39172\n",
      "[326]\ttest-rmse:8.39159\n",
      "[327]\ttest-rmse:8.39107\n",
      "[328]\ttest-rmse:8.39096\n",
      "[329]\ttest-rmse:8.38972\n",
      "[330]\ttest-rmse:8.38919\n",
      "[331]\ttest-rmse:8.38842\n",
      "[332]\ttest-rmse:8.38790\n",
      "[333]\ttest-rmse:8.38788\n",
      "[334]\ttest-rmse:8.38741\n",
      "[335]\ttest-rmse:8.38715\n",
      "[336]\ttest-rmse:8.38713\n",
      "[337]\ttest-rmse:8.38686\n"
     ]
    },
    {
     "name": "stdout",
     "output_type": "stream",
     "text": [
      "[338]\ttest-rmse:8.38684\n",
      "[339]\ttest-rmse:8.38515\n",
      "[340]\ttest-rmse:8.38488\n",
      "[341]\ttest-rmse:8.38476\n",
      "[342]\ttest-rmse:8.38327\n",
      "[343]\ttest-rmse:8.38316\n",
      "[344]\ttest-rmse:8.38272\n",
      "[345]\ttest-rmse:8.38232\n",
      "[346]\ttest-rmse:8.38223\n",
      "[347]\ttest-rmse:8.38215\n",
      "[348]\ttest-rmse:8.38200\n",
      "[349]\ttest-rmse:8.38193\n",
      "[350]\ttest-rmse:8.38166\n",
      "[351]\ttest-rmse:8.38160\n",
      "[352]\ttest-rmse:8.38155\n",
      "[353]\ttest-rmse:8.38144\n",
      "[354]\ttest-rmse:8.38142\n",
      "[355]\ttest-rmse:8.38119\n",
      "[356]\ttest-rmse:8.38100\n",
      "[357]\ttest-rmse:8.38096\n",
      "[358]\ttest-rmse:8.38094\n",
      "[359]\ttest-rmse:8.38067\n",
      "[360]\ttest-rmse:8.37878\n",
      "[361]\ttest-rmse:8.37873\n",
      "[362]\ttest-rmse:8.37865\n",
      "[363]\ttest-rmse:8.37859\n",
      "[364]\ttest-rmse:8.37840\n",
      "[365]\ttest-rmse:8.37830\n",
      "[366]\ttest-rmse:8.37826\n",
      "[367]\ttest-rmse:8.37823\n",
      "[368]\ttest-rmse:8.37819\n",
      "[369]\ttest-rmse:8.37815\n",
      "[370]\ttest-rmse:8.37814\n",
      "[371]\ttest-rmse:8.37811\n",
      "[372]\ttest-rmse:8.37816\n",
      "[373]\ttest-rmse:8.37814\n",
      "[374]\ttest-rmse:8.37813\n",
      "[375]\ttest-rmse:8.37811\n",
      "[376]\ttest-rmse:8.37809\n",
      "[377]\ttest-rmse:8.37808\n",
      "[378]\ttest-rmse:8.37612\n",
      "[379]\ttest-rmse:8.37591\n",
      "[380]\ttest-rmse:8.37426\n",
      "[381]\ttest-rmse:8.37425\n",
      "[382]\ttest-rmse:8.37425\n",
      "[383]\ttest-rmse:8.37409\n",
      "[384]\ttest-rmse:8.37267\n",
      "[385]\ttest-rmse:8.37263\n",
      "[386]\ttest-rmse:8.37243\n",
      "[387]\ttest-rmse:8.37229\n",
      "[388]\ttest-rmse:8.37105\n",
      "[389]\ttest-rmse:8.37080\n",
      "[390]\ttest-rmse:8.37063\n",
      "[391]\ttest-rmse:8.37041\n",
      "[392]\ttest-rmse:8.37033\n",
      "[393]\ttest-rmse:8.37032\n",
      "[394]\ttest-rmse:8.36905\n",
      "[395]\ttest-rmse:8.36800\n",
      "[396]\ttest-rmse:8.36794\n",
      "[397]\ttest-rmse:8.36769\n",
      "[398]\ttest-rmse:8.36764\n",
      "[399]\ttest-rmse:8.36763\n",
      "[400]\ttest-rmse:8.36722\n",
      "[401]\ttest-rmse:8.36718\n",
      "[402]\ttest-rmse:8.36717\n",
      "[403]\ttest-rmse:8.36701\n",
      "[404]\ttest-rmse:8.36697\n",
      "[405]\ttest-rmse:8.36694\n",
      "[406]\ttest-rmse:8.36691\n",
      "[407]\ttest-rmse:8.36691\n",
      "[408]\ttest-rmse:8.36678\n",
      "[409]\ttest-rmse:8.36655\n",
      "[410]\ttest-rmse:8.36653\n",
      "[411]\ttest-rmse:8.36651\n",
      "[412]\ttest-rmse:8.36650\n",
      "[413]\ttest-rmse:8.36529\n",
      "[414]\ttest-rmse:8.36529\n",
      "[415]\ttest-rmse:8.36515\n",
      "[416]\ttest-rmse:8.36505\n",
      "[417]\ttest-rmse:8.36503\n",
      "[418]\ttest-rmse:8.36484\n",
      "[419]\ttest-rmse:8.36370\n",
      "[420]\ttest-rmse:8.36338\n",
      "[421]\ttest-rmse:8.36337\n",
      "[422]\ttest-rmse:8.36334\n",
      "[423]\ttest-rmse:8.36332\n",
      "[424]\ttest-rmse:8.36312\n",
      "[425]\ttest-rmse:8.36303\n",
      "[426]\ttest-rmse:8.36301\n",
      "[427]\ttest-rmse:8.36300\n",
      "[428]\ttest-rmse:8.36283\n",
      "[429]\ttest-rmse:8.36282\n",
      "[430]\ttest-rmse:8.36257\n",
      "[431]\ttest-rmse:8.36134\n",
      "[432]\ttest-rmse:8.36117\n",
      "[433]\ttest-rmse:8.36098\n",
      "[434]\ttest-rmse:8.36080\n",
      "[435]\ttest-rmse:8.36076\n",
      "[436]\ttest-rmse:8.36075\n",
      "[437]\ttest-rmse:8.36074\n",
      "[438]\ttest-rmse:8.35954\n",
      "[439]\ttest-rmse:8.35944\n",
      "[440]\ttest-rmse:8.35938\n",
      "[441]\ttest-rmse:8.35933\n",
      "[442]\ttest-rmse:8.35922\n",
      "[443]\ttest-rmse:8.35919\n",
      "[444]\ttest-rmse:8.35921\n",
      "[445]\ttest-rmse:8.35918\n",
      "[446]\ttest-rmse:8.35918\n",
      "[447]\ttest-rmse:8.35799\n",
      "[448]\ttest-rmse:8.35797\n",
      "[449]\ttest-rmse:8.35792\n",
      "[450]\ttest-rmse:8.35790\n",
      "[451]\ttest-rmse:8.35789\n",
      "[452]\ttest-rmse:8.35787\n",
      "[453]\ttest-rmse:8.35786\n",
      "[454]\ttest-rmse:8.35784\n",
      "[455]\ttest-rmse:8.35682\n",
      "[456]\ttest-rmse:8.35680\n",
      "[457]\ttest-rmse:8.35673\n",
      "[458]\ttest-rmse:8.35656\n",
      "[459]\ttest-rmse:8.35655\n",
      "[460]\ttest-rmse:8.35653\n",
      "[461]\ttest-rmse:8.35651\n",
      "[462]\ttest-rmse:8.35556\n",
      "[463]\ttest-rmse:8.35555\n",
      "[464]\ttest-rmse:8.35479\n",
      "[465]\ttest-rmse:8.35420\n",
      "[466]\ttest-rmse:8.35390\n",
      "[467]\ttest-rmse:8.35387\n",
      "[468]\ttest-rmse:8.35387\n",
      "[469]\ttest-rmse:8.35331\n",
      "[470]\ttest-rmse:8.35298\n",
      "[471]\ttest-rmse:8.35295\n",
      "[472]\ttest-rmse:8.35278\n",
      "[473]\ttest-rmse:8.35277\n",
      "[474]\ttest-rmse:8.35262\n",
      "[475]\ttest-rmse:8.35248\n",
      "[476]\ttest-rmse:8.35245\n",
      "[477]\ttest-rmse:8.35243\n",
      "[478]\ttest-rmse:8.35233\n",
      "[479]\ttest-rmse:8.35232\n",
      "[480]\ttest-rmse:8.35230\n",
      "[481]\ttest-rmse:8.35230\n",
      "[482]\ttest-rmse:8.35228\n",
      "[483]\ttest-rmse:8.35227\n",
      "[484]\ttest-rmse:8.35218\n",
      "[485]\ttest-rmse:8.35218\n",
      "[486]\ttest-rmse:8.35217\n",
      "[487]\ttest-rmse:8.35216\n",
      "[488]\ttest-rmse:8.35212\n",
      "[489]\ttest-rmse:8.35210\n",
      "[490]\ttest-rmse:8.35137\n",
      "[491]\ttest-rmse:8.35118\n",
      "[492]\ttest-rmse:8.35111\n",
      "[493]\ttest-rmse:8.35105\n",
      "[494]\ttest-rmse:8.35105\n",
      "[495]\ttest-rmse:8.35104\n",
      "[496]\ttest-rmse:8.35104\n",
      "[497]\ttest-rmse:8.35103\n",
      "[498]\ttest-rmse:8.35100\n",
      "[499]\ttest-rmse:8.35099\n"
     ]
    }
   ],
   "source": [
    "for df in [train, test]:\n",
    "    df.drop(['dayofyear', \n",
    "                  'weekofyear',\n",
    "                  'daily_avg',\n",
    "                  'day',\n",
    "                  'month',\n",
    "                  'item',\n",
    "                  'store',],\n",
    "                 axis=1, \n",
    "                 inplace=True)\n",
    "    \n",
    "# Features Scaling (except sales)\n",
    "sales_series, id_series = train['sales'], test['id']\n",
    "# Features Scaling\n",
    "train = (train - train.mean()) / train.std()\n",
    "test = (test - test.mean()) / test.std()\n",
    "# Retrieve actual Sales values and ID\n",
    "train['sales'] = sales_series\n",
    "test['id'] = id_series\n",
    "\n",
    "# Training Data\n",
    "X_train = train.drop('sales', axis=1).dropna()\n",
    "y_train = train['sales']\n",
    "# Test Data\n",
    "test.sort_values(by=['id'], inplace=True)\n",
    "X_test = test.drop('id', axis=1)\n",
    "#df = train\n",
    "df_train = train.copy()\n",
    "\n",
    "# Train Test Split\n",
    "X_train , X_test ,y_train, y_test = train_test_split(df_train.drop('sales',axis=1),df_train.pop('sales'), random_state=123, test_size=0.2)\n",
    "\n",
    "# XGB Model\n",
    "matrix_train = xgb.DMatrix(X_train, label = y_train)\n",
    "matrix_test = xgb.DMatrix(X_test, label = y_test)\n",
    "\n",
    "# Run XGB \n",
    "model = xgb.train({\"objective\":\"reg:linear\",'colsample_bytree': 0.3,'learning_rate': 0.1,\n",
    "                'max_depth': 5, 'alpha': 10}\n",
    "                ,dtrain = matrix_train, num_boost_round = 500, \n",
    "                early_stopping_rounds = 20, evals = [(matrix_test,'test')],)\n"
   ]
  },
  {
   "cell_type": "code",
   "execution_count": 82,
   "id": "06d37454",
   "metadata": {},
   "outputs": [
    {
     "name": "stdout",
     "output_type": "stream",
     "text": [
      "[10:41:18] WARNING: C:/Users/Administrator/workspace/xgboost-win64_release_1.6.0/src/objective/regression_obj.cu:203: reg:linear is now deprecated in favor of reg:squarederror.\n"
     ]
    },
    {
     "data": {
      "image/png": "[encoded data removed]",
      "text/plain": [
       "<Figure size 720x720 with 1 Axes>"
      ]
     },
     "metadata": {
      "needs_background": "light"
     },
     "output_type": "display_data"
    },
    {
     "data": {
      "text/plain": [
       "<Figure size 720x720 with 0 Axes>"
      ]
     },
     "metadata": {},
     "output_type": "display_data"
    }
   ],
   "source": [
    "params = {\"objective\":\"reg:linear\",'colsample_bytree': 0.3,'learning_rate': 0.1,\n",
    "                'max_depth': 5, 'alpha': 10}\n",
    "\n",
    "xg_reg = xgb.train(params=params, dtrain=matrix_train, num_boost_round=10)\n",
    "\n",
    "\n",
    "xgb.plot_tree(xg_reg,num_trees=0)\n",
    "plt.rcParams['figure.figsize'] = [10, 10]\n",
    "plt.show()\n",
    "plt.savefig('graph.jpg')"
   ]
  },
  {
   "cell_type": "code",
   "execution_count": 79,
   "id": "7d240d91",
   "metadata": {},
   "outputs": [
    {
     "data": {
      "image/png": "[encoded data removed]",
      "text/plain": [
       "<Figure size 360x360 with 1 Axes>"
      ]
     },
     "metadata": {
      "needs_background": "light"
     },
     "output_type": "display_data"
    }
   ],
   "source": [
    "xgb.plot_importance(xg_reg)\n",
    "plt.rcParams['figure.figsize'] = [2, 2]\n",
    "plt.show()"
   ]
  },
  {
   "cell_type": "code",
   "execution_count": null,
   "id": "49ea9e95",
   "metadata": {},
   "outputs": [],
   "source": []
  }
 ],
 "metadata": {
  "kernelspec": {
   "display_name": "Python 3 (ipykernel)",
   "language": "python",
   "name": "python3"
  },
  "language_info": {
   "codemirror_mode": {
    "name": "ipython",
    "version": 3
   },
   "file_extension": ".py",
   "mimetype": "text/x-python",
   "name": "python",
   "nbconvert_exporter": "python",
   "pygments_lexer": "ipython3",
   "version": "3.9.7"
  }
 },
 "nbformat": 4,
 "nbformat_minor": 5
}
