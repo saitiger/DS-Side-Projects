{
 "cells": [
  {
   "cell_type": "code",
   "execution_count": null,
   "id": "ac2c287c",
   "metadata": {},
   "outputs": [],
   "source": [
    "import os\n",
    "import matplotlib.pyplot as plt\n",
    "from datetime import datetime\n",
    "import re\n",
    "from collections import Counter, defaultdict\n",
    "import emoji\n",
    "# os.getcwd()"
   ]
  },
  {
   "cell_type": "code",
   "execution_count": null,
   "id": "35c26f16",
   "metadata": {},
   "outputs": [],
   "source": [
    "# os.chdir('WhatsApp Chat with xxx') \n",
    "# Name redacted for privacy. \n",
    "# Replace with the name of the folder for chat for the specific group or person"
   ]
  },
  {
   "cell_type": "markdown",
   "id": "359dd35e",
   "metadata": {},
   "source": [
    "# Debugging "
   ]
  },
  {
   "cell_type": "code",
   "execution_count": null,
   "id": "a92b1b7f",
   "metadata": {},
   "outputs": [],
   "source": [
    "def main():\n",
    "    file_path = input(\"Enter the path to your WhatsApp chat export file: \")\n",
    "    your_name = input(\"Enter your name as it appears in the chat: \")\n",
    "    \n",
    "    content_keywords = input(\"Enter keywords to filter messages (comma separated): \").split(',')\n",
    "    \n",
    "    if not os.path.exists(file_path):\n",
    "        print(f\"Error: The file '{file_path}' does not exist.\")\n",
    "        return\n",
    "\n",
    "    lines = read_chat(file_path)\n",
    "    if not lines:\n",
    "        print(\"No lines were read from the file. The file might be empty or there was an error reading it.\")\n",
    "        return\n",
    "\n",
    "    print(f\"Read {len(lines)} lines from the file.\")\n",
    "    \n",
    "\n",
    "    messages_by_content = filter_by_content(lines, content_keywords)\n",
    "    \n",
    "    # Print messages filtered by content\n",
    "    print(\"\\nMessages filtered by content:\")\n",
    "    print_filtered_messages(messages_by_content)\n",
    "\n",
    "if __name__ == \"__main__\":\n",
    "    main()"
   ]
  },
  {
   "cell_type": "code",
   "execution_count": null,
   "id": "18ca933a",
   "metadata": {},
   "outputs": [],
   "source": [
    "def filter_by_content(lines, content_keywords, exact_match=False):\n",
    "    messages_by_content = []\n",
    "    \n",
    "    # Pattern to match date, time, sender, and message\n",
    "    pattern = r'(\\d{1,2}/\\d{1,2}/\\d{2,4}),\\s(\\d{1,2}:\\d{2}\\s[APM]{2})\\s-\\s(.+?):\\s(.+)'\n",
    "    \n",
    "    for line in lines:\n",
    "        if 'media omitted' in line.lower():  # Skip \"media omitted\" messages\n",
    "            continue\n",
    "\n",
    "        match = re.match(pattern, line)\n",
    "        if match:\n",
    "            date_str = match.group(1)  # Date part\n",
    "            time_str = match.group(2)  # Time part\n",
    "            sender = match.group(3)    # Sender's name\n",
    "            message = match.group(4)   # Actual message text\n",
    "            \n",
    "            # Check if the message contains any of the specified keywords\n",
    "            found_match = False\n",
    "            for keyword in content_keywords:\n",
    "                if exact_match:\n",
    "                    if re.search(r'\\b' + re.escape(keyword.lower()) + r'\\b', message.lower()):\n",
    "                        found_match = True\n",
    "                        break\n",
    "                else:\n",
    "                    if keyword.lower() in message.lower():\n",
    "                        found_match = True\n",
    "                        break\n",
    "            \n",
    "            if found_match:\n",
    "                message_time = f\"{date_str} {time_str}\"\n",
    "                messages_by_content.append((sender, message, message_time))\n",
    "                print(f\"Match found: [{message_time}] {sender}: {message}\") \n",
    "    \n",
    "    print(f\"Total matches found: {len(messages_by_content)}\")  \n",
    "    return messages_by_content"
   ]
  },
  {
   "cell_type": "code",
   "execution_count": null,
   "id": "ebca4c01",
   "metadata": {},
   "outputs": [],
   "source": [
    "def read_chat(file_path):\n",
    "    try:\n",
    "        with open(file_path, 'r', encoding='utf-8') as file:\n",
    "            return file.readlines()\n",
    "    except FileNotFoundError:\n",
    "        print(f\"Error: File '{file_path}' not found.\")\n",
    "        return []\n",
    "    except Exception as e:\n",
    "        print(f\"Error reading file: {e}\")\n",
    "        return []\n",
    "\n",
    "def extract_messages(lines):\n",
    "    messages = defaultdict(list)\n",
    "    pattern = r'\\[(\\d{2}/\\d{2}/\\d{4}, \\d{2}:\\d{2}:\\d{2})\\] (.+?): (.+)'\n",
    "    for line in lines:\n",
    "        match = re.match(pattern, line)\n",
    "        if match:\n",
    "            sender = match.group(2)\n",
    "            message = match.group(3)\n",
    "            messages[sender].append(message)\n",
    "    return messages\n",
    "\n",
    "def analyze_words(messages):\n",
    "    words = []\n",
    "    for message in messages:\n",
    "        words.extend(re.findall(r'\\w+', message.lower()))\n",
    "    return Counter(words).most_common(10)\n",
    "\n",
    "def analyze_emojis(messages):\n",
    "    all_emojis = []\n",
    "    for message in messages:\n",
    "        all_emojis.extend([char for char in message if char in emoji.EMOJI_DATA])\n",
    "    return Counter(all_emojis).most_common(10)\n",
    "\n",
    "def print_analysis(title, data):\n",
    "    print(f\"\\n{title}:\")\n",
    "    for item, count in data:\n",
    "        print(f\"{item}: {count}\")\n",
    "\n",
    "def main():\n",
    "    file_path = input(\"Enter the path to your WhatsApp chat export file: \")\n",
    "    \n",
    "    if not os.path.exists(file_path):\n",
    "        print(f\"Error: The file '{file_path}' does not exist.\")\n",
    "        return\n",
    "\n",
    "    lines = read_chat(file_path)\n",
    "    if not lines:\n",
    "        print(\"No lines were read from the file. The file might be empty or there was an error reading it.\")\n",
    "        return\n",
    "\n",
    "    print(f\"Read {len(lines)} lines from the file.\")\n",
    "\n",
    "    messages_by_sender = extract_messages(lines)\n",
    "    \n",
    "    if not messages_by_sender:\n",
    "        print(\"No messages were extracted. The file might not be in the expected WhatsApp chat export format.\")\n",
    "        print(\"Example of expected format: [DD/MM/YYYY, HH:MM:SS] Sender Name: Message content\")\n",
    "        return\n",
    "\n",
    "    print(f\"Extracted messages for {len(messages_by_sender)} participants.\")\n",
    "\n",
    "    for sender, messages in messages_by_sender.items():\n",
    "        print(f\"\\n--- Analysis for {sender} ---\")\n",
    "        print(f\"Number of messages: {len(messages)}\")\n",
    "        print_analysis(f\"Top 10 most used words by {sender}\", analyze_words(messages))\n",
    "        print_analysis(f\"Top 10 most used emojis by {sender}\", analyze_emojis(messages))\n",
    "\n",
    "if __name__ == \"__main__\":\n",
    "    main()"
   ]
  },
  {
   "cell_type": "markdown",
   "id": "f910f718",
   "metadata": {},
   "source": [
    "# Without Removing Stopwords "
   ]
  },
  {
   "cell_type": "code",
   "execution_count": null,
   "id": "a7b38f90",
   "metadata": {},
   "outputs": [],
   "source": [
    "def read_chat(file_path):\n",
    "    try:\n",
    "        with open(file_path, 'r', encoding='utf-8') as file:\n",
    "            return file.readlines()\n",
    "    except FileNotFoundError:\n",
    "        print(f\"Error: File '{file_path}' not found.\")\n",
    "        return []\n",
    "    except Exception as e:\n",
    "        print(f\"Error reading file: {e}\")\n",
    "        return []\n",
    "\n",
    "def extract_messages(lines):\n",
    "    messages = defaultdict(list)\n",
    "    # Updated pattern to match the format in your file\n",
    "    pattern = r'(\\d{1,2}/\\d{1,2}/\\d{2,4}),\\s(\\d{1,2}:\\d{2}\\s[APM]{2})\\s-\\s(.+?):\\s(.+)'\n",
    "    for line in lines:\n",
    "        match = re.match(pattern, line)\n",
    "        if match:\n",
    "            sender = match.group(3)\n",
    "            message = match.group(4)\n",
    "            messages[sender].append(message)\n",
    "    return messages\n",
    "\n",
    "def analyze_words(messages):\n",
    "    words = []\n",
    "    for message in messages:\n",
    "        words.extend(re.findall(r'\\w+', message.lower()))\n",
    "    return Counter(words).most_common(10)\n",
    "\n",
    "def analyze_emojis(messages):\n",
    "    all_emojis = []\n",
    "    for message in messages:\n",
    "        all_emojis.extend([char for char in message if char in emoji.EMOJI_DATA])\n",
    "    return Counter(all_emojis).most_common(10)\n",
    "\n",
    "def print_analysis(title, data):\n",
    "    print(f\"\\n{title}:\")\n",
    "    for item, count in data:\n",
    "        print(f\"{item}: {count}\")\n",
    "\n",
    "def main():\n",
    "    file_path = input(\"Enter the path to your WhatsApp chat export file: \")\n",
    "    \n",
    "    if not os.path.exists(file_path):\n",
    "        print(f\"Error: The file '{file_path}' does not exist.\")\n",
    "        return\n",
    "\n",
    "    lines = read_chat(file_path)\n",
    "    if not lines:\n",
    "        print(\"No lines were read from the file. The file might be empty or there was an error reading it.\")\n",
    "        return\n",
    "\n",
    "    print(f\"Read {len(lines)} lines from the file.\")\n",
    "\n",
    "    messages_by_sender = extract_messages(lines)\n",
    "    \n",
    "    if not messages_by_sender:\n",
    "        print(\"No messages were extracted. The file might not be in the expected WhatsApp chat export format.\")\n",
    "        print(\"Example of expected format: MM/DD/YY, HH:MM AM/PM - Sender Name: Message content\")\n",
    "        return\n",
    "\n",
    "    print(f\"Extracted messages for {len(messages_by_sender)} participants.\")\n",
    "\n",
    "    for sender, messages in messages_by_sender.items():\n",
    "        print(f\"\\n--- Analysis for {sender} ---\")\n",
    "        print(f\"Number of messages: {len(messages)}\")\n",
    "        print_analysis(f\"Top 10 most used words by {sender}\", analyze_words(messages))\n",
    "        print_analysis(f\"Top 10 most used emojis by {sender}\", analyze_emojis(messages))\n",
    "\n",
    "if __name__ == \"__main__\":\n",
    "    main()"
   ]
  },
  {
   "cell_type": "markdown",
   "id": "12fddfb6",
   "metadata": {},
   "source": [
    "# Before removing Media Omitted"
   ]
  },
  {
   "cell_type": "code",
   "execution_count": null,
   "id": "68f39441",
   "metadata": {},
   "outputs": [],
   "source": [
    "def read_chat(file_path):\n",
    "    try:\n",
    "        with open(file_path, 'r', encoding='utf-8') as file:\n",
    "            return file.readlines()\n",
    "    except FileNotFoundError:\n",
    "        print(f\"Error: File '{file_path}' not found.\")\n",
    "        return []\n",
    "    except Exception as e:\n",
    "        print(f\"Error reading file: {e}\")\n",
    "        return []\n",
    "\n",
    "def extract_messages(lines):\n",
    "    messages = defaultdict(list)\n",
    "    pattern = r'(\\d{1,2}/\\d{1,2}/\\d{2,4}),\\s(\\d{1,2}:\\d{2}\\s[APM]{2})\\s-\\s(.+?):\\s(.+)'\n",
    "    for line in lines:\n",
    "        match = re.match(pattern, line)\n",
    "        if match:\n",
    "            sender = match.group(3)\n",
    "            message = match.group(4)\n",
    "            messages[sender].append(message)\n",
    "    return messages\n",
    "\n",
    "def load_stopwords(stopwords_file):\n",
    "    try:\n",
    "        with open(stopwords_file, 'r', encoding='utf-8') as file:\n",
    "            stopwords = {line.strip().lower() for line in file if line.strip()}\n",
    "        return stopwords\n",
    "    except Exception as e:\n",
    "        print(f\"Error reading stopwords file: {e}\")\n",
    "        return set()\n",
    "\n",
    "def analyze_words(messages, stopwords):\n",
    "    words = []\n",
    "    for message in messages:\n",
    "        words.extend([word for word in re.findall(r'\\w+', message.lower()) if word not in stopwords])\n",
    "    return Counter(words).most_common(10)\n",
    "\n",
    "def analyze_emojis(messages):\n",
    "    all_emojis = []\n",
    "    for message in messages:\n",
    "        all_emojis.extend([char for char in message if char in emoji.EMOJI_DATA])\n",
    "    return Counter(all_emojis).most_common(10)\n",
    "\n",
    "def print_analysis(title, data):\n",
    "    print(f\"\\n{title}:\")\n",
    "    for item, count in data:\n",
    "        print(f\"{item}: {count}\")"
   ]
  },
  {
   "cell_type": "code",
   "execution_count": null,
   "id": "ed0405f8",
   "metadata": {},
   "outputs": [],
   "source": [
    "def main():\n",
    "    file_path = input(\"Enter the path to your WhatsApp chat export file: \")\n",
    "    \n",
    "    if not os.path.exists(file_path):\n",
    "        print(f\"Error: The file '{file_path}' does not exist.\")\n",
    "        return\n",
    "\n",
    "    stopwords_file = 'stop_hinglish.txt'  # Path to your stopwords file\n",
    "    stopwords = load_stopwords(stopwords_file)\n",
    "\n",
    "    lines = read_chat(file_path)\n",
    "    if not lines:\n",
    "        print(\"No lines were read from the file. The file might be empty or there was an error reading it.\")\n",
    "        return\n",
    "\n",
    "    print(f\"Read {len(lines)} lines from the file.\")\n",
    "\n",
    "    messages_by_sender = extract_messages(lines)\n",
    "    \n",
    "    if not messages_by_sender:\n",
    "        print(\"No messages were extracted. The file might not be in the expected WhatsApp chat export format.\")\n",
    "        print(\"Example of expected format: MM/DD/YY, HH:MM AM/PM - Sender Name: Message content\")\n",
    "        return\n",
    "\n",
    "    print(f\"Extracted messages for {len(messages_by_sender)} participants.\")\n",
    "\n",
    "    for sender, messages in messages_by_sender.items():\n",
    "        print(f\"\\n--- Analysis for {sender} ---\")\n",
    "        print(f\"Number of messages: {len(messages)}\")\n",
    "        print_analysis(f\"Top 10 most used words by {sender}\", analyze_words(messages,stopwords))\n",
    "        print_analysis(f\"Top 10 most used emojis by {sender}\", analyze_emojis(messages))\n",
    "\n",
    "if __name__ == \"__main__\":\n",
    "    main()"
   ]
  },
  def read_chat(file_path):
    try:
        with open(file_path, 'r', encoding='utf-8') as file:
            return file.readlines()
    except FileNotFoundError:
        print(f"Error: File '{file_path}' not found.")
        return []
    except Exception as e:
        print(f"Error reading file: {e}")
        return []

def extract_messages(lines):
    messages = defaultdict(list)
    pattern = r'(\d{1,2}/\d{1,2}/\d{2,4}),\s(\d{1,2}:\d{2}\s[APM]{2})\s-\s(.+?):\s(.+)'
    for line in lines:
        match = re.match(pattern, line)
        if match:
            message = match.group(4).strip().lower()
            if "media omitted" not in message:  # Skip messages containing "media omitted"
                sender = match.group(3)
                messages[sender].append(match.group(4))
    return messages

def load_stopwords(stopwords_file):
    try:
        with open(stopwords_file, 'r', encoding='utf-8') as file:
            stopwords = {line.strip().lower() for line in file if line.strip()}
        return stopwords
    except Exception as e:
        print(f"Error reading stopwords file: {e}")
        return set()
    
def analyze_words(messages, stopwords):
    words = []
    for message in messages:
        words.extend([word for word in re.findall(r'\w+', message.lower()) if word not in stopwords])
    return Counter(words).most_common(10)


def count_specific_words(messages, specific_words, stopwords):
    word_counts = defaultdict(int)
    for message in messages:
        words = re.findall(r'\w+', message.lower())
        for word in words:
            if word in specific_words and word not in stopwords:
                word_counts[word] += 1
    return word_counts

def print_word_counts(word_counts):
    print("\nSpecific Word Counts:")
    for word, count in word_counts.items():
        print(f"{word}: {count}")

def print_analysis(title, data):
    print(f"\n{title}:")
    for item, count in data:
        print(f"{item}: {count}")
        
def extract_messages_with_time(lines, your_name):
    sent_messages_by_hour = defaultdict(int)
    received_messages_by_hour = defaultdict(int)
    
    # Pattern to match date, time, sender, and message
    pattern = r'(\d{1,2}/\d{1,2}/\d{2,4}),\s(\d{1,2}:\d{2}\s[APM]{2})\s-\s(.+?):\s(.+)'
    
    for line in lines:
        if 'media omitted' in line.lower():  # Skip "media omitted" messages
            continue

        match = re.match(pattern, line)
        if match:
            date_str = match.group(1)  # Date part
            time_str = match.group(2)  # Time part
            sender = match.group(3)    # Sender's name
            message_time = f"{date_str} {time_str}"
            
            # Parse the date and time to extract the hour
            try:
                datetime_obj = datetime.strptime(message_time, '%m/%d/%y %I:%M %p')
                hour = datetime_obj.hour

                # Distinguish between sent and received messages
                if sender == your_name:
                    sent_messages_by_hour[hour] += 1
                else:
                    received_messages_by_hour[hour] += 1
            except ValueError:
                continue
    
    return sent_messages_by_hour, received_messages_by_hour

def plot_messages_by_hour(sent_messages_by_hour, received_messages_by_hour):
    hours = list(range(24))  # 0-23 hours
    sent_counts = [sent_messages_by_hour[hour] for hour in hours]
    received_counts = [received_messages_by_hour[hour] for hour in hours]

    plt.figure(figsize=(12, 8))
    
    # Plot sent messages in gray with transparency
    bar1 = plt.bar(hours, sent_counts, color='gray', alpha=0.7, label='Sent Messages', width=0.4, align='center')

    # Plot received messages in red with transparency
    bar2 = plt.bar(hours, received_counts, color='red', alpha=0.7, label='Received Messages', width=0.4, align='edge')

    # Calculate total messages for each hour
    total_messages = [sent_counts[i] + received_counts[i] for i in range(24)]

    # Annotate the bars with raw counts and percentage
    for i, bar in enumerate(bar1):
        total = total_messages[i]
        if total > 150:  # Show annotations only for significant message counts
            percentage = (sent_counts[i] / total) * 100
            plt.text(bar.get_x() + bar.get_width()/2.0, bar.get_height() + 30,
                     f'{sent_counts[i]} ({percentage:.1f}%)', ha='center', va='bottom', fontsize=8)

    for i, bar in enumerate(bar2):
        total = total_messages[i]
        if total > 150:  # Show annotations only for significant message counts
            percentage = (received_counts[i] / total) * 100
            plt.text(bar.get_x() + bar.get_width()/2.0, bar.get_height() + 30,
                     f'{received_counts[i]} ({percentage:.1f}%)', ha='center', va='bottom', fontsize=8)

    # Set titles, labels, and improve visual appearance
    plt.title('Number of Messages Sent and Received by Hour of Day', fontsize=16, pad=20)
    plt.xlabel('Hour of the Day', fontsize=14)
    plt.ylabel('Number of Messages', fontsize=14)
    plt.xticks(hours, [f'{h % 12} {"AM" if h < 12 else "PM"}' for h in hours], rotation=45, fontsize=12)  # Formatting x-axis
    plt.yticks(fontsize=12)

    # Customize the grid and appearance
    plt.grid(True, which='both', axis='y', linestyle='--', linewidth=0.5, color='gray', alpha=0.7)

    plt.legend(fontsize=12)
    plt.tight_layout()
    plt.show()
    
def analyze_emojis(messages):
    all_emojis = []
    for message in messages:
        all_emojis.extend([char for char in message if char in emoji.EMOJI_DATA])
    return Counter(all_emojis).most_common(10)

    
def extract_messages_with_time_and_content(lines, your_name, target_hours, content_keywords):
    messages_by_hour = defaultdict(list)

    # Pattern to match date, time, sender, and message
    pattern = r'(\d{1,2}/\d{1,2}/\d{2,4}),\s(\d{1,2}:\d{2}\s[APM]{2})\s-\s(.+?):\s(.+)'
    
    for line in lines:
        if 'media omitted' in line.lower():  # Skip "media omitted" messages
            continue

        match = re.match(pattern, line)
        if match:
            date_str = match.group(1)  # Date part
            time_str = match.group(2)  # Time part
            sender = match.group(3)    # Sender's name
            message = match.group(4)   # Actual message text
            
            message_time = f"{date_str} {time_str}"
            
            # Parse the date and time to extract the hour
            try:
                datetime_obj = datetime.strptime(message_time, '%m/%d/%y %I:%M %p')
                hour = datetime_obj.hour
                
                # Check if the hour is in the target hours
                if hour in target_hours:
                    # Check if the message contains any of the specified keywords
                    if any(keyword.lower() in message.lower() for keyword in content_keywords):
                        messages_by_hour[hour].append((sender, message, message_time))
            except ValueError:
                continue
    
    return messages_by_hour

def filter_by_time(lines, target_hours):
    messages_by_hour = defaultdict(list)

    # Pattern to match date, time, sender, and message
    pattern = r'(\d{1,2}/\d{1,2}/\d{2,4}),\s(\d{1,2}:\d{2}\s[APM]{2})\s-\s(.+?):\s(.+)'
    
    for line in lines:
        if 'media omitted' in line.lower():  # Skip "media omitted" messages
            continue

        match = re.match(pattern, line)
        if match:
            date_str = match.group(1)  # Date part
            time_str = match.group(2)  # Time part
            sender = match.group(3)    # Sender's name
            message = match.group(4)   # Actual message text
            
            message_time = f"{date_str} {time_str}"
            
            # Parse the date and time to extract the hour
            try:
                datetime_obj = datetime.strptime(message_time, '%m/%d/%y %I:%M %p')
                hour = datetime_obj.hour
                
                # Check if the hour is in the target hours
                if hour in target_hours:
                    messages_by_hour[hour].append((sender, message, message_time))
            except ValueError:
                continue
    
    return messages_by_hour

def filter_by_content(lines, content_keywords):
    filtered_messages = []
    pattern = r'(\d{1,2}/\d{1,2}/\d{2,4}),\s(\d{1,2}:\d{2}\s[APM]{2})\s-\s(.+?):\s(.+)'
    
    for line in lines:
        if 'media omitted' in line.lower():
            continue

        match = re.match(pattern, line)
        if match:
            date_str, time_str, sender, message = match.groups()
            
            if any(keyword.lower() in message.lower() for keyword in content_keywords):
                message_time = f"{date_str} {time_str}"
                filtered_messages.append((sender, message, message_time))
    
    return filtered_messages

def print_filtered_messages(messages):
    if not messages:
        print("No messages found.")
        return
    
    for sender, message, message_time in messages:
        print(f"[{message_time}] {sender}: {message}")
    print("\n" + "="*50 + "\n")

def print_filtered_messages(messages_by_hour):
    for hour, messages in messages_by_hour.items():
        print(f"Messages for {hour % 12} {'AM' if hour < 12 else 'PM'}:")
        for sender, message, message_time in messages:
            print(f"[{message_time}] {sender}: {message}")
        print("\n" + "="*50 + "\n")
        
def extract_messages_by_date(lines, target_date):
    messages = []
    pattern = r'(\d{1,2}/\d{1,2}/\d{2,4}),\s(\d{1,2}:\d{2}\s[APM]{2})\s-\s(.+?):\s(.+)'
    
    for line in lines:
        match = re.match(pattern, line)
        if match:
            date_str, time_str, sender, message = match.groups()
            
            # Parse the date from the message
            try:
                message_date = datetime.strptime(date_str, '%m/%d/%y').date()
            except ValueError:
                try:
                    message_date = datetime.strptime(date_str, '%d/%m/%y').date()
                except ValueError:
                    print(f"Warning: Couldn't parse date from line: {line}")
                    continue
            
            # Check if the message date matches the target date
            if message_date == target_date:
                messages.append((date_str, time_str, sender, message))
    
    return messages,
  {
   "cell_type": "markdown",
   "id": "7538ffdb",
   "metadata": {},
   "source": [
    "# TOP-10 Words and Emoji"
   ]
  },
  {
   "cell_type": "code",
   "execution_count": null,
   "id": "cd00375c",
   "metadata": {},
   "outputs": [],
   "source": [
    "def main():\n",
    "    file_path = input(\"Enter the path to your WhatsApp chat export file: \")\n",
    "    \n",
    "    if not os.path.exists(file_path):\n",
    "        print(f\"Error: The file '{file_path}' does not exist.\")\n",
    "        return\n",
    "\n",
    "    lines = read_chat(file_path)\n",
    "    if not lines:\n",
    "        print(\"No lines were read from the file. The file might be empty or there was an error reading it.\")\n",
    "        return\n",
    "\n",
    "    print(f\"Read {len(lines)} lines from the file.\")\n",
    "\n",
    "    messages_by_sender = extract_messages(lines)\n",
    "    \n",
    "    if not messages_by_sender:\n",
    "        print(\"No messages were extracted. The file might not be in the expected WhatsApp chat export format.\")\n",
    "        return\n",
    "\n",
    "    stopwords_file = 'stop_hinglish.txt'  # Path to your stopwords file\n",
    "    stopwords = load_stopwords(stopwords_file)\n",
    "\n",
    "    print(f\"Extracted messages for {len(messages_by_sender)} participants.\")\n",
    "\n",
    "    for sender, messages in messages_by_sender.items():\n",
    "        print(f\"\\n--- Analysis for {sender} ---\")\n",
    "        print(f\"Number of messages: {len(messages)}\")\n",
    "        \n",
    "        # Top 10 most used words\n",
    "        print_analysis(f\"Top 10 most used words by {sender}\", analyze_words(messages, stopwords))\n",
    "        \n",
    "        # Top 10 most used emojis\n",
    "        print_analysis(f\"Top 10 most used emojis by {sender}\", analyze_emojis(messages))\n",
    "        \n",
    "if __name__ == \"__main__\":\n",
    "    main()"
   ]
  },
  {
   "cell_type": "markdown",
   "id": "fad3e649",
   "metadata": {},
   "source": [
    "# Keyword Search"
   ]
  },
  {
   "cell_type": "code",
   "execution_count": null,
   "id": "ab026052",
   "metadata": {},
   "outputs": [],
   "source": [
    "def main():\n",
    "    file_path = input(\"Enter the path to your WhatsApp chat export file: \")\n",
    "    \n",
    "    if not os.path.exists(file_path):\n",
    "        print(f\"Error: The file '{file_path}' does not exist.\")\n",
    "        return\n",
    "\n",
    "    lines = read_chat(file_path)\n",
    "    if not lines:\n",
    "        print(\"No lines were read from the file. The file might be empty or there was an error reading it.\")\n",
    "        return\n",
    "\n",
    "    print(f\"Read {len(lines)} lines from the file.\")\n",
    "\n",
    "    messages_by_sender = extract_messages(lines)\n",
    "    \n",
    "    if not messages_by_sender:\n",
    "        print(\"No messages were extracted. The file might not be in the expected WhatsApp chat export format.\")\n",
    "        return\n",
    "\n",
    "    stopwords_file = 'stop_hinglish.txt'  # Path to your stopwords file\n",
    "    stopwords = load_stopwords(stopwords_file)\n",
    "\n",
    "    # Get specific words from user input\n",
    "    specific_words = input(\"Enter the specific words to search for (comma-separated): \").lower().split(',')\n",
    "    specific_words = [word.strip() for word in specific_words if word.strip()]\n",
    "\n",
    "    if not specific_words:\n",
    "        print(\"No specific words were provided.\")\n",
    "        return\n",
    "\n",
    "    print(f\"Extracted messages for {len(messages_by_sender)} participants.\")\n",
    "\n",
    "    for sender, messages in messages_by_sender.items():\n",
    "        print(f\"\\n--- Analysis for {sender} ---\")\n",
    "        print(f\"Number of messages: {len(messages)}\")\n",
    "        # Specific word counts\n",
    "        word_counts = count_specific_words(messages, specific_words, stopwords)\n",
    "        print_word_counts(word_counts)\n",
    "\n",
    "if __name__ == \"__main__\":\n",
    "    main()"
   ]
  },
  {
   "cell_type": "code",
   "execution_count": null,
   "id": "6d3205cd",
   "metadata": {},
   "outputs": [],
   "source": [
    "def main():\n",
    "    file_path = input(\"Enter the path to your WhatsApp chat export file: \")\n",
    "    \n",
    "    if not os.path.exists(file_path):\n",
    "        print(f\"Error: The file '{file_path}' does not exist.\")\n",
    "        return\n",
    "    \n",
    "    lines = read_chat(file_path)\n",
    "    if not lines:\n",
    "        print(\"No lines were read from the file. The file might be empty or there was an error reading it.\")\n",
    "        return\n",
    "    print(f\"Read {len(lines)} lines from the file.\")\n",
    "    \n",
    "    content_keywords = input(\"Enter keywords to filter messages (comma separated): \").split(',')\n",
    "    content_keywords = [keyword.strip() for keyword in content_keywords]\n",
    "    \n",
    "    filtered_messages = filter_by_content(lines, content_keywords)\n",
    "    \n",
    "    if filtered_messages:\n",
    "        print(f\"\\nFound {len(filtered_messages)} messages matching the keywords:\")\n",
    "        for sender, message, message_time in filtered_messages:\n",
    "            print(f\"[{message_time}] {sender}: {message}\")\n",
    "    else:\n",
    "        print(\"\\nNo messages found matching the specified keywords.\")\n",
    "\n",
    "if __name__ == \"__main__\":\n",
    "    main()"
   ]
  },
  {
   "cell_type": "code",
   "execution_count": null,
   "id": "5a77f679",
   "metadata": {},
   "outputs": [],
   "source": [
    "def main():\n",
    "    file_path = input(\"Enter the path to your WhatsApp chat export file: \")\n",
    "    your_name = input(\"Enter your name as it appears in the chat: \")\n",
    "    \n",
    "    target_hours = list(map(int, input(\"Enter the target hours (comma separated, 0-23): \").split(',')))\n",
    "    \n",
    "    if not os.path.exists(file_path):\n",
    "        print(f\"Error: The file '{file_path}' does not exist.\")\n",
    "        return\n",
    "\n",
    "    lines = read_chat(file_path)\n",
    "    if not lines:\n",
    "        print(\"No lines were read from the file. The file might be empty or there was an error reading it.\")\n",
    "        return\n",
    "\n",
    "    print(f\"Read {len(lines)} lines from the file.\")\n",
    "    \n",
    "    # Extract messages for specific hours \n",
    "    messages_by_time = filter_by_time(lines, target_hours)\n",
    "    print(messages_by_time)\n",
    "\n",
    "    # Print the filtered messages\n",
    "#     filtered_messages = filter_by_content(messages_by_time, content_keywords)\n",
    "\n",
    "if __name__ == \"__main__\":\n",
    "    main()"
   ]
  },
  {
   "cell_type": "code",
   "execution_count": null,
   "id": "bbecc949",
   "metadata": {},
   "outputs": [],
   "source": [
    "def main():\n",
    "    file_path = input(\"Enter the path to your WhatsApp chat export file: \")\n",
    "    \n",
    "    if not os.path.exists(file_path):\n",
    "        print(f\"Error: The file '{file_path}' does not exist.\")\n",
    "        return\n",
    "    \n",
    "    lines = read_chat(file_path)\n",
    "    if not lines:\n",
    "        print(\"No lines were read from the file. The file might be empty or there was an error reading it.\")\n",
    "        return\n",
    "    print(f\"Read {len(lines)} lines from the file.\")\n",
    "    \n",
    "    date_str = input(\"Enter the date to extract messages from (MM/DD/YY): \")\n",
    "    try:\n",
    "        target_date = datetime.strptime(date_str, '%m/%d/%y').date()\n",
    "    except ValueError:\n",
    "        print(\"Error: Invalid date format. Please use MM/DD/YY.\")\n",
    "        return\n",
    "    \n",
    "    messages = extract_messages_by_date(lines, target_date)\n",
    "    \n",
    "    if messages:\n",
    "        print(f\"\\nFound {len(messages)} messages for {target_date.strftime('%m/%d/%y')}:\")\n",
    "        for date, time, sender, message in messages:\n",
    "            print(f\"[{date}, {time}] {sender}: {message}\")\n",
    "    else:\n",
    "        print(f\"\\nNo messages found for {target_date.strftime('%m/%d/%y')}.\")\n",
    "\n",
    "if __name__ == \"__main__\":\n",
    "    main()"
   ]
  },
  {
   "cell_type": "markdown",
   "id": "643b7a2c",
   "metadata": {},
   "source": [
    "# Plots"
   ]
  },
  {
   "cell_type": "code",
   "execution_count": null,
   "id": "c4ccfca8",
   "metadata": {},
   "outputs": [],
   "source": [
    "def main():\n",
    "    file_path = input(\"Enter the path to your WhatsApp chat export file: \")\n",
    "    your_name = input(\"Enter your name as it appears in the chat: \")\n",
    "    \n",
    "    if not os.path.exists(file_path):\n",
    "        print(f\"Error: The file '{file_path}' does not exist.\")\n",
    "        return\n",
    "\n",
    "    lines = read_chat(file_path)\n",
    "    if not lines:\n",
    "        print(\"No lines were read from the file. The file might be empty or there was an error reading it.\")\n",
    "        return\n",
    "\n",
    "    print(f\"Read {len(lines)} lines from the file.\")\n",
    "\n",
    "    sent_messages_by_hour, received_messages_by_hour = extract_messages_with_time(lines, your_name)\n",
    "\n",
    "    # Plot the number of sent and received messages grouped by hour of day\n",
    "    plot_messages_by_hour(sent_messages_by_hour, received_messages_by_hour)\n",
    "\n",
    "if __name__ == \"__main__\":\n",
    "    main()"
   ]
  }
 ],
 "metadata": {
  "kernelspec": {
   "display_name": "Python 3 (ipykernel)",
   "language": "python",
   "name": "python3"
  },
  "language_info": {
   "codemirror_mode": {
    "name": "ipython",
    "version": 3
   },
   "file_extension": ".py",
   "mimetype": "text/x-python",
   "name": "python",
   "nbconvert_exporter": "python",
   "pygments_lexer": "ipython3",
   "version": "3.11.4"
  }
 },
 "nbformat": 4,
 "nbformat_minor": 5
}
