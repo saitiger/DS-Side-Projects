{
 "cells": [
  {
   "cell_type": "markdown",
   "metadata": {},
   "source": [
    "# Module 5 - Modern Portfolio Theory"
   ]
  },
  {
   "cell_type": "markdown",
   "metadata": {},
   "source": [
    "#--------------------------------------------------------------------------------------------------------------------------------------------------------------------------------------------------------#"
   ]
  },
  {
   "cell_type": "markdown",
   "metadata": {},
   "source": [
    "### Query 5.1 \n",
    "5.1 For your chosen stock, calculate the mean daily return and daily standard deviation of returns, and then just annualise them to get mean expected annual return and volatility of that single stock. **( annual mean = daily mean * 252 , annual stdev = daily stdev * sqrt(252) )**"
   ]
  },
  {
   "cell_type": "code",
   "execution_count": 100,
   "metadata": {},
   "outputs": [],
   "source": [
    "import pandas as pd\n",
    "import math\n",
    "import numpy as np\n",
    "import matplotlib.pyplot as plt"
   ]
  },
  {
   "cell_type": "code",
   "execution_count": 65,
   "metadata": {},
   "outputs": [
    {
     "data": {
      "text/html": [
       "<div>\n",
       "<style scoped>\n",
       "    .dataframe tbody tr th:only-of-type {\n",
       "        vertical-align: middle;\n",
       "    }\n",
       "\n",
       "    .dataframe tbody tr th {\n",
       "        vertical-align: top;\n",
       "    }\n",
       "\n",
       "    .dataframe thead th {\n",
       "        text-align: right;\n",
       "    }\n",
       "</style>\n",
       "<table border=\"1\" class=\"dataframe\">\n",
       "  <thead>\n",
       "    <tr style=\"text-align: right;\">\n",
       "      <th></th>\n",
       "      <th>Symbol</th>\n",
       "      <th>Series</th>\n",
       "      <th>Date</th>\n",
       "      <th>Prev Close</th>\n",
       "      <th>Open Price</th>\n",
       "      <th>High Price</th>\n",
       "      <th>Low Price</th>\n",
       "      <th>Last Price</th>\n",
       "      <th>Close Price</th>\n",
       "      <th>Average Price</th>\n",
       "      <th>Total Traded Quantity</th>\n",
       "      <th>Turnover</th>\n",
       "      <th>No. of Trades</th>\n",
       "      <th>Deliverable Qty</th>\n",
       "      <th>% Dly Qt to Traded Qty</th>\n",
       "    </tr>\n",
       "  </thead>\n",
       "  <tbody>\n",
       "    <tr>\n",
       "      <th>0</th>\n",
       "      <td>VOLTAS</td>\n",
       "      <td>EQ</td>\n",
       "      <td>15-May-2017</td>\n",
       "      <td>433.55</td>\n",
       "      <td>436.00</td>\n",
       "      <td>436.4</td>\n",
       "      <td>430.10</td>\n",
       "      <td>433.40</td>\n",
       "      <td>431.85</td>\n",
       "      <td>432.15</td>\n",
       "      <td>696583</td>\n",
       "      <td>3.010253e+08</td>\n",
       "      <td>14160</td>\n",
       "      <td>327583</td>\n",
       "      <td>47.03</td>\n",
       "    </tr>\n",
       "    <tr>\n",
       "      <th>1</th>\n",
       "      <td>VOLTAS</td>\n",
       "      <td>EQ</td>\n",
       "      <td>16-May-2017</td>\n",
       "      <td>431.85</td>\n",
       "      <td>432.00</td>\n",
       "      <td>438.2</td>\n",
       "      <td>430.70</td>\n",
       "      <td>433.00</td>\n",
       "      <td>432.45</td>\n",
       "      <td>433.46</td>\n",
       "      <td>996780</td>\n",
       "      <td>4.320614e+08</td>\n",
       "      <td>19456</td>\n",
       "      <td>366664</td>\n",
       "      <td>36.78</td>\n",
       "    </tr>\n",
       "    <tr>\n",
       "      <th>2</th>\n",
       "      <td>VOLTAS</td>\n",
       "      <td>EQ</td>\n",
       "      <td>17-May-2017</td>\n",
       "      <td>432.45</td>\n",
       "      <td>435.00</td>\n",
       "      <td>435.0</td>\n",
       "      <td>427.25</td>\n",
       "      <td>430.85</td>\n",
       "      <td>430.20</td>\n",
       "      <td>429.93</td>\n",
       "      <td>686830</td>\n",
       "      <td>2.952867e+08</td>\n",
       "      <td>11494</td>\n",
       "      <td>307390</td>\n",
       "      <td>44.75</td>\n",
       "    </tr>\n",
       "    <tr>\n",
       "      <th>3</th>\n",
       "      <td>VOLTAS</td>\n",
       "      <td>EQ</td>\n",
       "      <td>18-May-2017</td>\n",
       "      <td>430.20</td>\n",
       "      <td>425.10</td>\n",
       "      <td>427.0</td>\n",
       "      <td>412.70</td>\n",
       "      <td>414.50</td>\n",
       "      <td>414.10</td>\n",
       "      <td>418.14</td>\n",
       "      <td>1231618</td>\n",
       "      <td>5.149912e+08</td>\n",
       "      <td>18700</td>\n",
       "      <td>571822</td>\n",
       "      <td>46.43</td>\n",
       "    </tr>\n",
       "    <tr>\n",
       "      <th>4</th>\n",
       "      <td>VOLTAS</td>\n",
       "      <td>EQ</td>\n",
       "      <td>19-May-2017</td>\n",
       "      <td>414.10</td>\n",
       "      <td>414.35</td>\n",
       "      <td>419.9</td>\n",
       "      <td>410.95</td>\n",
       "      <td>416.00</td>\n",
       "      <td>415.75</td>\n",
       "      <td>414.98</td>\n",
       "      <td>869457</td>\n",
       "      <td>3.608041e+08</td>\n",
       "      <td>29631</td>\n",
       "      <td>313872</td>\n",
       "      <td>36.10</td>\n",
       "    </tr>\n",
       "  </tbody>\n",
       "</table>\n",
       "</div>"
      ],
      "text/plain": [
       "   Symbol Series         Date  Prev Close  Open Price  High Price  Low Price  \\\n",
       "0  VOLTAS     EQ  15-May-2017      433.55      436.00       436.4     430.10   \n",
       "1  VOLTAS     EQ  16-May-2017      431.85      432.00       438.2     430.70   \n",
       "2  VOLTAS     EQ  17-May-2017      432.45      435.00       435.0     427.25   \n",
       "3  VOLTAS     EQ  18-May-2017      430.20      425.10       427.0     412.70   \n",
       "4  VOLTAS     EQ  19-May-2017      414.10      414.35       419.9     410.95   \n",
       "\n",
       "   Last Price  Close Price  Average Price  Total Traded Quantity  \\\n",
       "0      433.40       431.85         432.15                 696583   \n",
       "1      433.00       432.45         433.46                 996780   \n",
       "2      430.85       430.20         429.93                 686830   \n",
       "3      414.50       414.10         418.14                1231618   \n",
       "4      416.00       415.75         414.98                 869457   \n",
       "\n",
       "       Turnover  No. of Trades  Deliverable Qty  % Dly Qt to Traded Qty  \n",
       "0  3.010253e+08          14160           327583                   47.03  \n",
       "1  4.320614e+08          19456           366664                   36.78  \n",
       "2  2.952867e+08          11494           307390                   44.75  \n",
       "3  5.149912e+08          18700           571822                   46.43  \n",
       "4  3.608041e+08          29631           313872                   36.10  "
      ]
     },
     "execution_count": 65,
     "metadata": {},
     "output_type": "execute_result"
    }
   ],
   "source": [
    "data = pd.read_csv('VOLTAS.csv')\n",
    "data.head()"
   ]
  },
  {
   "cell_type": "code",
   "execution_count": 66,
   "metadata": {},
   "outputs": [
    {
     "name": "stdout",
     "output_type": "stream",
     "text": [
      "Mean Daily return is : 0.0007580562036287222\n",
      "Daily Standard Deviation of return is : 0.01942400288315044\n",
      "Annual mean is :  0.19103016331443798\n",
      "Annual Standard Deviation is : 0.308346486565306\n"
     ]
    }
   ],
   "source": [
    "data['Daily Return'] = data['Close Price'].pct_change()\n",
    "data['Daily Return'] = data['Daily Return'].replace([np.inf, -np.inf], np.nan)\n",
    "data = data.dropna().reset_index(drop = True)\n",
    "mean_daily_return = data['Daily Return'].mean() \n",
    "print(\"Mean Daily return is :\",mean_daily_return)\n",
    "daily_standard_return = data['Daily Return'].std()\n",
    "print('Daily Standard Deviation of return is :',daily_standard_return)\n",
    "# Expected Annual Return\n",
    "annual_mean = mean_daily_return * 252\n",
    "# Volatility\n",
    "annual_stdev = daily_standard_return * math.sqrt(252)\n",
    "print(\"Annual mean is : \",annual_mean)\n",
    "print(\"Annual Standard Deviation is :\",annual_stdev)"
   ]
  },
  {
   "cell_type": "markdown",
   "metadata": {},
   "source": [
    "QUERY 5.2"
   ]
  },
  {
   "cell_type": "code",
   "execution_count": 89,
   "metadata": {},
   "outputs": [
    {
     "name": "stdout",
     "output_type": "stream",
     "text": [
      "Closing Prices of the 5 respective stocks\n"
     ]
    },
    {
     "data": {
      "text/html": [
       "<div>\n",
       "<style scoped>\n",
       "    .dataframe tbody tr th:only-of-type {\n",
       "        vertical-align: middle;\n",
       "    }\n",
       "\n",
       "    .dataframe tbody tr th {\n",
       "        vertical-align: top;\n",
       "    }\n",
       "\n",
       "    .dataframe thead th {\n",
       "        text-align: right;\n",
       "    }\n",
       "</style>\n",
       "<table border=\"1\" class=\"dataframe\">\n",
       "  <thead>\n",
       "    <tr style=\"text-align: right;\">\n",
       "      <th></th>\n",
       "      <th>ITC</th>\n",
       "      <th>SUNPHARMA</th>\n",
       "      <th>LT</th>\n",
       "      <th>RELINFRA</th>\n",
       "      <th>CASTROLIND</th>\n",
       "    </tr>\n",
       "  </thead>\n",
       "  <tbody>\n",
       "    <tr>\n",
       "      <th>0</th>\n",
       "      <td>277.95</td>\n",
       "      <td>654.45</td>\n",
       "      <td>1742.40</td>\n",
       "      <td>605.40</td>\n",
       "      <td>449.85</td>\n",
       "    </tr>\n",
       "    <tr>\n",
       "      <th>1</th>\n",
       "      <td>283.45</td>\n",
       "      <td>652.35</td>\n",
       "      <td>1740.70</td>\n",
       "      <td>611.05</td>\n",
       "      <td>443.00</td>\n",
       "    </tr>\n",
       "    <tr>\n",
       "      <th>2</th>\n",
       "      <td>281.65</td>\n",
       "      <td>650.90</td>\n",
       "      <td>1755.45</td>\n",
       "      <td>605.25</td>\n",
       "      <td>439.55</td>\n",
       "    </tr>\n",
       "    <tr>\n",
       "      <th>3</th>\n",
       "      <td>277.90</td>\n",
       "      <td>653.95</td>\n",
       "      <td>1722.60</td>\n",
       "      <td>578.65</td>\n",
       "      <td>433.95</td>\n",
       "    </tr>\n",
       "    <tr>\n",
       "      <th>4</th>\n",
       "      <td>286.20</td>\n",
       "      <td>653.15</td>\n",
       "      <td>1724.55</td>\n",
       "      <td>569.55</td>\n",
       "      <td>437.10</td>\n",
       "    </tr>\n",
       "  </tbody>\n",
       "</table>\n",
       "</div>"
      ],
      "text/plain": [
       "      ITC  SUNPHARMA       LT  RELINFRA  CASTROLIND\n",
       "0  277.95     654.45  1742.40    605.40      449.85\n",
       "1  283.45     652.35  1740.70    611.05      443.00\n",
       "2  281.65     650.90  1755.45    605.25      439.55\n",
       "3  277.90     653.95  1722.60    578.65      433.95\n",
       "4  286.20     653.15  1724.55    569.55      437.10"
      ]
     },
     "execution_count": 89,
     "metadata": {},
     "output_type": "execute_result"
    }
   ],
   "source": [
    "itc_data = pd.read_csv('ITC.csv')\n",
    "sun_data = pd.read_csv('SUNPHARMA.csv')\n",
    "lt_data  = pd.read_csv('LT.csv')\n",
    "rel_data = pd.read_csv('RELINFRA.csv')\n",
    "cas_data = pd.read_csv('CASTROLIND.csv')\n",
    "\n",
    "dataset['ITC'] = pd.DataFrame(itc_data['Close Price'])\n",
    "dataset['SUNPHARMA'] = pd.DataFrame(sun_data['Close Price'])\n",
    "dataset['LT'] = pd.DataFrame(lt_data['Close Price'])\n",
    "dataset['RELINFRA'] = pd.DataFrame(rel_data['Close Price'])\n",
    "dataset['CASTROLIND'] = pd.DataFrame(cas_data['Close Price'])\n",
    "print(\"Closing Prices of the 5 respective stocks\")\n",
    "dataset.head()"
   ]
  },
  {
   "cell_type": "markdown",
   "metadata": {},
   "source": [
    "QUERY 5.3"
   ]
  },
  {
   "cell_type": "code",
   "execution_count": 98,
   "metadata": {},
   "outputs": [
    {
     "name": "stdout",
     "output_type": "stream",
     "text": [
      "Portfolio expected annualised return is : -1.14\n",
      "Portfolio volatility is : 0.19\n"
     ]
    }
   ],
   "source": [
    "returns = dataset.astype(float).pct_change()\n",
    "mean_daily_returns = returns.mean()\n",
    "mean_daily_returns = mean_daily_returns.values.reshape(5,1)\n",
    "cov_matrix = returns.cov() # Covarince between the 5 Assests of the portfolio\n",
    "weights = np.asarray([0.2,0.2,0.2,0.2,0.2]) # Weights of repective stocks/assests\n",
    "portfolio_return = round(np.sum(mean_daily_returns * weights) * 252,2)\n",
    "portfolio_std_dev = round(np.sqrt(np.dot(weights.T,np.dot(cov_matrix, weights))) * np.sqrt(252),2)\n",
    "print('Portfolio expected annualised return is :',portfolio_return)\n",
    "print('Portfolio volatility is :',portfolio_std_dev)"
   ]
  },
  {
   "cell_type": "code",
   "execution_count": 103,
   "metadata": {},
   "outputs": [
    {
     "data": {
      "text/plain": [
       "<matplotlib.colorbar.Colorbar at 0x7f0e0a6d1cf8>"
      ]
     },
     "execution_count": 103,
     "metadata": {},
     "output_type": "execute_result"
    },
    {
     "data": {
      "image/png": "[encoded data removed]",
      "text/plain": [
       "<Figure size 432x288 with 2 Axes>"
      ]
     },
     "metadata": {},
     "output_type": "display_data"
    }
   ],
   "source": [
    "returns = dataset.astype(float).pct_change()\n",
    "mean_daily_returns = returns.mean()\n",
    "cov_matrix = returns.cov()\n",
    "num_portfolios = 25000\n",
    "\n",
    "#set up array to hold results\n",
    "results = np.zeros((3,num_portfolios))\n",
    "for i in range(num_portfolios):\n",
    "    weights = np.random.random(5)\n",
    "    #rebalance weights to sum to 1\n",
    "    weights /= np.sum(weights)\n",
    "    \n",
    "    portfolio_return = np.sum(mean_daily_returns * weights) * 252\n",
    "    portfolio_std_dev = np.sqrt(np.dot(weights.T,np.dot(cov_matrix, weights))) * np.sqrt(252)\n",
    "    \n",
    "\n",
    "    #store results in results array\n",
    "    results[0,i] = portfolio_return\n",
    "    results[1,i] = portfolio_std_dev\n",
    "    #store Sharpe Ratio (return / volatility) - risk free rate element excluded for simplicity\n",
    "    results[2,i] = results[0,i] / results[1,i]    \n",
    "#convert results array to Pandas DataFrame\n",
    "results_frame = pd.DataFrame(results.T,columns=['ret','stdev','sharpe'])\n",
    "\n",
    "results_frame\n",
    "#create scatter plot coloured by Sharpe Ratio\n",
    "plt.scatter(results_frame.stdev,results_frame.ret,c=results_frame.sharpe,cmap='RdYlBu')\n",
    "plt.colorbar()"
   ]
  },
  {
   "cell_type": "markdown",
   "metadata": {},
   "source": [
    "QUERY 5.4"
   ]
  },
  {
   "cell_type": "code",
   "execution_count": 105,
   "metadata": {},
   "outputs": [
    {
     "data": {
      "text/plain": [
       "<matplotlib.collections.PathCollection at 0x7f0e0a4a6438>"
      ]
     },
     "execution_count": 105,
     "metadata": {},
     "output_type": "execute_result"
    },
    {
     "data": {
      "image/png": "[encoded data removed]",
      "text/plain": [
       "<Figure size 432x288 with 2 Axes>"
      ]
     },
     "metadata": {},
     "output_type": "display_data"
    }
   ],
   "source": [
    "stocks = ['ITC','SUNPHARMA','LT','RELINFRA','CASTROLIND']\n",
    "\n",
    "returns = dataset.astype(float).pct_change()\n",
    "mean_daily_returns = returns.mean()\n",
    "cov_matrix = returns.cov()\n",
    "\n",
    "num_portfolios = 25000\n",
    "\n",
    "#set up array to hold results\n",
    "#We have increased the size of the array to hold the weight values for each stock\n",
    "results = np.zeros((4+len(stocks)-1,num_portfolios))\n",
    "for i in range(num_portfolios):\n",
    "    weights = np.random.random(5)\n",
    "    #rebalance weights to sum to 1\n",
    "    weights /= np.sum(weights)\n",
    "    \n",
    "    portfolio_return = np.sum(mean_daily_returns * weights) * 252\n",
    "    portfolio_std_dev = np.sqrt(np.dot(weights.T,np.dot(cov_matrix, weights))) * np.sqrt(252)\n",
    "    \n",
    "\n",
    "    #store results in results array\n",
    "    results[0,i] = portfolio_return\n",
    "    results[1,i] = portfolio_std_dev\n",
    "    #store Sharpe Ratio (return / volatility) - risk free rate element excluded for simplicity\n",
    "    results[2,i] = results[0,i] / results[1,i]  \n",
    "     #iterate through the weight vector and add data to results array\n",
    "    for j in range(len(weights)):\n",
    "        results[j+3,i] = weights[j]\n",
    "#convert results array to Pandas DataFrame\n",
    "results_frame = pd.DataFrame(results.T,columns=['ret','stdev','sharpe',stocks[0],stocks[1],stocks[2],stocks[3],stocks[4]])\n",
    "\n",
    "#locate position of portfolio with highest Sharpe Ratio\n",
    "max_sharpe_port = results_frame.iloc[results_frame['sharpe'].idxmax()]\n",
    "#locate positon of portfolio with minimum standard deviation\n",
    "min_vol_port = results_frame.iloc[results_frame['stdev'].idxmin()]\n",
    "\n",
    "#create scatter plot coloured by Sharpe Ratio\n",
    "plt.scatter(results_frame.stdev,results_frame.ret,c=results_frame.sharpe,cmap='RdYlBu')\n",
    "plt.xlabel('Volatility')\n",
    "plt.ylabel('Returns')\n",
    "plt.colorbar()\n",
    "#plot red star to highlight position of portfolio with highest Sharpe Ratio\n",
    "plt.scatter(max_sharpe_port[1],max_sharpe_port[0],marker=(5,1,0),color='r',s=1000)\n",
    "#plot green star to highlight position of minimum variance portfolio\n",
    "plt.scatter(min_vol_port[1],min_vol_port[0],marker=(5,1,0),color='g',s=1000)"
   ]
  }
 ],
 "metadata": {
  "kernelspec": {
   "display_name": "Python 3",
   "language": "python",
   "name": "python3"
  },
  "language_info": {
   "codemirror_mode": {
    "name": "ipython",
    "version": 3
   },
   "file_extension": ".py",
   "mimetype": "text/x-python",
   "name": "python",
   "nbconvert_exporter": "python",
   "pygments_lexer": "ipython3",
   "version": "3.7.1"
  }
 },
 "nbformat": 4,
 "nbformat_minor": 2
}
