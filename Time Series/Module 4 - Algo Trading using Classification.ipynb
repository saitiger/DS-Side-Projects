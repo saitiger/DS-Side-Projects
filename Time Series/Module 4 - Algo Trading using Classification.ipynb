{
 "cells": [
  {
   "cell_type": "markdown",
   "metadata": {},
   "source": [
    "# Module 4 - Algo Trading using Classification\n"
   ]
  },
  {
   "cell_type": "markdown",
   "metadata": {},
   "source": [
    "   ### Welcome to the Answer notebook for Module 4 ! \n",
    "Make sure that you've submitted the module 3 notebook and unlocked Module 4 yourself before you start coding here\n"
   ]
  },
  {
   "cell_type": "markdown",
   "metadata": {},
   "source": [
    "#--------------------------------------------------------------------------------------------------------------------------------------------------------------------------------------------------------#"
   ]
  },
  {
   "cell_type": "markdown",
   "metadata": {},
   "source": [
    "### Query 4.1 \n",
    "Import the csv file of the stock which contained the Bollinger columns as well.\n",
    "\n"
   ]
  },
  {
   "cell_type": "code",
   "execution_count": 109,
   "metadata": {},
   "outputs": [],
   "source": [
    "import pandas as pd\n",
    "import os\n",
    "from collections import Counter\n",
    "import matplotlib.pyplot as plt\n",
    "from sklearn import svm\n",
    "from sklearn import preprocessing\n",
    "from sklearn.model_selection import train_test_split\n",
    "from sklearn.linear_model import LogisticRegression\n",
    "from sklearn.ensemble import RandomForestClassifier\n",
    "from sklearn.neural_network import MLPClassifier\n",
    "from sklearn.neighbors import KNeighborsClassifier\n",
    "from sklearn.metrics import accuracy_score, confusion_matrix"
   ]
  },
  {
   "cell_type": "markdown",
   "metadata": {},
   "source": [
    "Bollinger Bands are a type of statistical chart characterizing the prices and volatility over time of a financial instrument or commodity\n",
    "\n",
    "There are three lines that compose Bollinger Bands: A simple moving average (middle band) and an upper and lower band. \n",
    "These bands move with the price, widening or narrowing as volatility increases or decreases, respectively. \n",
    "The position of the bands and how the price acts in relation to the bands provides information \n",
    "about how strong the trend is and potential bottom or topping signals.\n",
    "\n",
    "Bollinger Bands have two adjustable settings: the Period and the Standard Deviation. \n",
    "The Period is how many price bars are included in the Bollinger Band calculation. \n",
    "\n",
    "Middle Band = 20-day simple moving average (SMA)\n",
    "Upper Band = 20-day SMA + (20-day standard deviation of price x 2)\n",
    "Lower Band = 20-day SMA – (20-day standard deviation of price x 2)\n",
    "Where SMA(Simple Moving Average) = the sum of closing prices over n periods.\n",
    "\n",
    "Usually the days over which STD is calculate is 20 but can be changed according to the situation."
   ]
  },
  {
   "cell_type": "code",
   "execution_count": 34,
   "metadata": {},
   "outputs": [
    {
     "data": {
      "text/html": [
       "<div>\n",
       "<style scoped>\n",
       "    .dataframe tbody tr th:only-of-type {\n",
       "        vertical-align: middle;\n",
       "    }\n",
       "\n",
       "    .dataframe tbody tr th {\n",
       "        vertical-align: top;\n",
       "    }\n",
       "\n",
       "    .dataframe thead th {\n",
       "        text-align: right;\n",
       "    }\n",
       "</style>\n",
       "<table border=\"1\" class=\"dataframe\">\n",
       "  <thead>\n",
       "    <tr style=\"text-align: right;\">\n",
       "      <th></th>\n",
       "      <th>Symbol</th>\n",
       "      <th>Series</th>\n",
       "      <th>Date</th>\n",
       "      <th>Prev Close</th>\n",
       "      <th>Open Price</th>\n",
       "      <th>High Price</th>\n",
       "      <th>Low Price</th>\n",
       "      <th>Last Price</th>\n",
       "      <th>Close Price</th>\n",
       "      <th>Average Price</th>\n",
       "      <th>Total Traded Quantity</th>\n",
       "      <th>Turnover</th>\n",
       "      <th>No. of Trades</th>\n",
       "      <th>Deliverable Qty</th>\n",
       "      <th>% Dly Qt to Traded Qty</th>\n",
       "      <th>20 Day SMA</th>\n",
       "      <th>20 Day STD</th>\n",
       "      <th>Upper Band</th>\n",
       "      <th>Lower Band</th>\n",
       "      <th>Mid Band</th>\n",
       "    </tr>\n",
       "  </thead>\n",
       "  <tbody>\n",
       "    <tr>\n",
       "      <th>19</th>\n",
       "      <td>TCS</td>\n",
       "      <td>EQ</td>\n",
       "      <td>09-Jun-2017</td>\n",
       "      <td>2521.60</td>\n",
       "      <td>2520.0</td>\n",
       "      <td>2547.4</td>\n",
       "      <td>2486.0</td>\n",
       "      <td>2518.6</td>\n",
       "      <td>2507.00</td>\n",
       "      <td>2513.28</td>\n",
       "      <td>1574017</td>\n",
       "      <td>3.955950e+09</td>\n",
       "      <td>83931</td>\n",
       "      <td>599286</td>\n",
       "      <td>38.07</td>\n",
       "      <td>2542.0425</td>\n",
       "      <td>71.824613</td>\n",
       "      <td>2685.691727</td>\n",
       "      <td>2398.393273</td>\n",
       "      <td>2542.0425</td>\n",
       "    </tr>\n",
       "    <tr>\n",
       "      <th>20</th>\n",
       "      <td>TCS</td>\n",
       "      <td>EQ</td>\n",
       "      <td>12-Jun-2017</td>\n",
       "      <td>2507.00</td>\n",
       "      <td>2497.0</td>\n",
       "      <td>2512.9</td>\n",
       "      <td>2470.4</td>\n",
       "      <td>2484.9</td>\n",
       "      <td>2487.20</td>\n",
       "      <td>2487.48</td>\n",
       "      <td>813253</td>\n",
       "      <td>2.022948e+09</td>\n",
       "      <td>44849</td>\n",
       "      <td>306655</td>\n",
       "      <td>37.71</td>\n",
       "      <td>2548.1475</td>\n",
       "      <td>60.249637</td>\n",
       "      <td>2668.646775</td>\n",
       "      <td>2427.648225</td>\n",
       "      <td>2548.1475</td>\n",
       "    </tr>\n",
       "    <tr>\n",
       "      <th>21</th>\n",
       "      <td>TCS</td>\n",
       "      <td>EQ</td>\n",
       "      <td>13-Jun-2017</td>\n",
       "      <td>2487.20</td>\n",
       "      <td>2465.0</td>\n",
       "      <td>2481.1</td>\n",
       "      <td>2447.0</td>\n",
       "      <td>2450.0</td>\n",
       "      <td>2451.55</td>\n",
       "      <td>2464.89</td>\n",
       "      <td>587707</td>\n",
       "      <td>1.448635e+09</td>\n",
       "      <td>52410</td>\n",
       "      <td>268108</td>\n",
       "      <td>45.62</td>\n",
       "      <td>2549.2675</td>\n",
       "      <td>58.090647</td>\n",
       "      <td>2665.448793</td>\n",
       "      <td>2433.086207</td>\n",
       "      <td>2549.2675</td>\n",
       "    </tr>\n",
       "    <tr>\n",
       "      <th>22</th>\n",
       "      <td>TCS</td>\n",
       "      <td>EQ</td>\n",
       "      <td>14-Jun-2017</td>\n",
       "      <td>2451.55</td>\n",
       "      <td>2455.0</td>\n",
       "      <td>2476.0</td>\n",
       "      <td>2455.0</td>\n",
       "      <td>2465.4</td>\n",
       "      <td>2470.20</td>\n",
       "      <td>2469.41</td>\n",
       "      <td>744571</td>\n",
       "      <td>1.838651e+09</td>\n",
       "      <td>42987</td>\n",
       "      <td>456486</td>\n",
       "      <td>61.31</td>\n",
       "      <td>2550.0100</td>\n",
       "      <td>56.909942</td>\n",
       "      <td>2663.829884</td>\n",
       "      <td>2436.190116</td>\n",
       "      <td>2550.0100</td>\n",
       "    </tr>\n",
       "    <tr>\n",
       "      <th>23</th>\n",
       "      <td>TCS</td>\n",
       "      <td>EQ</td>\n",
       "      <td>15-Jun-2017</td>\n",
       "      <td>2470.20</td>\n",
       "      <td>2469.0</td>\n",
       "      <td>2469.7</td>\n",
       "      <td>2405.0</td>\n",
       "      <td>2410.0</td>\n",
       "      <td>2411.20</td>\n",
       "      <td>2427.94</td>\n",
       "      <td>1498599</td>\n",
       "      <td>3.638509e+09</td>\n",
       "      <td>65157</td>\n",
       "      <td>1140716</td>\n",
       "      <td>76.12</td>\n",
       "      <td>2543.7600</td>\n",
       "      <td>64.820537</td>\n",
       "      <td>2673.401074</td>\n",
       "      <td>2414.118926</td>\n",
       "      <td>2543.7600</td>\n",
       "    </tr>\n",
       "  </tbody>\n",
       "</table>\n",
       "</div>"
      ],
      "text/plain": [
       "   Symbol Series         Date  Prev Close  Open Price  High Price  Low Price  \\\n",
       "19    TCS     EQ  09-Jun-2017     2521.60      2520.0      2547.4     2486.0   \n",
       "20    TCS     EQ  12-Jun-2017     2507.00      2497.0      2512.9     2470.4   \n",
       "21    TCS     EQ  13-Jun-2017     2487.20      2465.0      2481.1     2447.0   \n",
       "22    TCS     EQ  14-Jun-2017     2451.55      2455.0      2476.0     2455.0   \n",
       "23    TCS     EQ  15-Jun-2017     2470.20      2469.0      2469.7     2405.0   \n",
       "\n",
       "    Last Price  Close Price  Average Price  Total Traded Quantity  \\\n",
       "19      2518.6      2507.00        2513.28                1574017   \n",
       "20      2484.9      2487.20        2487.48                 813253   \n",
       "21      2450.0      2451.55        2464.89                 587707   \n",
       "22      2465.4      2470.20        2469.41                 744571   \n",
       "23      2410.0      2411.20        2427.94                1498599   \n",
       "\n",
       "        Turnover  No. of Trades  Deliverable Qty  % Dly Qt to Traded Qty  \\\n",
       "19  3.955950e+09          83931           599286                   38.07   \n",
       "20  2.022948e+09          44849           306655                   37.71   \n",
       "21  1.448635e+09          52410           268108                   45.62   \n",
       "22  1.838651e+09          42987           456486                   61.31   \n",
       "23  3.638509e+09          65157          1140716                   76.12   \n",
       "\n",
       "    20 Day SMA  20 Day STD   Upper Band   Lower Band   Mid Band  \n",
       "19   2542.0425   71.824613  2685.691727  2398.393273  2542.0425  \n",
       "20   2548.1475   60.249637  2668.646775  2427.648225  2548.1475  \n",
       "21   2549.2675   58.090647  2665.448793  2433.086207  2549.2675  \n",
       "22   2550.0100   56.909942  2663.829884  2436.190116  2550.0100  \n",
       "23   2543.7600   64.820537  2673.401074  2414.118926  2543.7600  "
      ]
     },
     "execution_count": 34,
     "metadata": {},
     "output_type": "execute_result"
    }
   ],
   "source": [
    "data = pd.read_csv(\"TCS.csv\")\n",
    "data['20 Day SMA'] = data['Close Price'].rolling(window = 20).mean()\n",
    "data['20 Day STD'] = data['Close Price'].rolling(window = 20).std()\n",
    "data['Upper Band'] = data['20 Day SMA'] + (data['20 Day STD'] * 2)\n",
    "data['Lower Band'] = data['20 Day SMA'] - (data['20 Day STD'] * 2)\n",
    "data = data.dropna()\n",
    "data['Mid Band'] = (data['Upper Band']+data['Lower Band'])/2\n",
    "data.head()\n"
   ]
  },
  {
   "cell_type": "markdown",
   "metadata": {},
   "source": [
    "### Query 4.1a \n",
    "\n",
    "Create a new column 'Call' , whose entries are - \n",
    "\n",
    ">'Buy' if the stock price is below the lower Bollinger band \n",
    "\n",
    ">'Hold Buy/ Liquidate Short' if the stock price is between the lower and middle Bollinger band \n",
    "\n",
    ">'Hold Short/ Liquidate Buy' if the stock price is between the middle and upper Bollinger band \n",
    "\n",
    ">'Short' if the stock price is above the upper Bollinger band\n",
    "\n",
    "\n"
   ]
  },
  {
   "cell_type": "code",
   "execution_count": 192,
   "metadata": {},
   "outputs": [
    {
     "data": {
      "text/html": [
       "<div>\n",
       "<style scoped>\n",
       "    .dataframe tbody tr th:only-of-type {\n",
       "        vertical-align: middle;\n",
       "    }\n",
       "\n",
       "    .dataframe tbody tr th {\n",
       "        vertical-align: top;\n",
       "    }\n",
       "\n",
       "    .dataframe thead th {\n",
       "        text-align: right;\n",
       "    }\n",
       "</style>\n",
       "<table border=\"1\" class=\"dataframe\">\n",
       "  <thead>\n",
       "    <tr style=\"text-align: right;\">\n",
       "      <th></th>\n",
       "      <th>Symbol</th>\n",
       "      <th>Series</th>\n",
       "      <th>Date</th>\n",
       "      <th>Prev Close</th>\n",
       "      <th>Open Price</th>\n",
       "      <th>High Price</th>\n",
       "      <th>Low Price</th>\n",
       "      <th>Last Price</th>\n",
       "      <th>Close Price</th>\n",
       "      <th>Average Price</th>\n",
       "      <th>...</th>\n",
       "      <th>Turnover</th>\n",
       "      <th>No. of Trades</th>\n",
       "      <th>Deliverable Qty</th>\n",
       "      <th>% Dly Qt to Traded Qty</th>\n",
       "      <th>20 Day SMA</th>\n",
       "      <th>20 Day STD</th>\n",
       "      <th>Upper Band</th>\n",
       "      <th>Lower Band</th>\n",
       "      <th>Mid Band</th>\n",
       "      <th>Call</th>\n",
       "    </tr>\n",
       "  </thead>\n",
       "  <tbody>\n",
       "    <tr>\n",
       "      <th>19</th>\n",
       "      <td>TCS</td>\n",
       "      <td>EQ</td>\n",
       "      <td>09-Jun-2017</td>\n",
       "      <td>2521.60</td>\n",
       "      <td>2520.0</td>\n",
       "      <td>2547.4</td>\n",
       "      <td>2486.0</td>\n",
       "      <td>2518.6</td>\n",
       "      <td>2507.00</td>\n",
       "      <td>2513.28</td>\n",
       "      <td>...</td>\n",
       "      <td>3.955950e+09</td>\n",
       "      <td>83931</td>\n",
       "      <td>599286</td>\n",
       "      <td>38.07</td>\n",
       "      <td>2542.0425</td>\n",
       "      <td>71.824613</td>\n",
       "      <td>2685.691727</td>\n",
       "      <td>2398.393273</td>\n",
       "      <td>2542.0425</td>\n",
       "      <td>Hold Buy/ Liquidate Short</td>\n",
       "    </tr>\n",
       "    <tr>\n",
       "      <th>20</th>\n",
       "      <td>TCS</td>\n",
       "      <td>EQ</td>\n",
       "      <td>12-Jun-2017</td>\n",
       "      <td>2507.00</td>\n",
       "      <td>2497.0</td>\n",
       "      <td>2512.9</td>\n",
       "      <td>2470.4</td>\n",
       "      <td>2484.9</td>\n",
       "      <td>2487.20</td>\n",
       "      <td>2487.48</td>\n",
       "      <td>...</td>\n",
       "      <td>2.022948e+09</td>\n",
       "      <td>44849</td>\n",
       "      <td>306655</td>\n",
       "      <td>37.71</td>\n",
       "      <td>2548.1475</td>\n",
       "      <td>60.249637</td>\n",
       "      <td>2668.646775</td>\n",
       "      <td>2427.648225</td>\n",
       "      <td>2548.1475</td>\n",
       "      <td>Hold Buy/ Liquidate Short</td>\n",
       "    </tr>\n",
       "    <tr>\n",
       "      <th>21</th>\n",
       "      <td>TCS</td>\n",
       "      <td>EQ</td>\n",
       "      <td>13-Jun-2017</td>\n",
       "      <td>2487.20</td>\n",
       "      <td>2465.0</td>\n",
       "      <td>2481.1</td>\n",
       "      <td>2447.0</td>\n",
       "      <td>2450.0</td>\n",
       "      <td>2451.55</td>\n",
       "      <td>2464.89</td>\n",
       "      <td>...</td>\n",
       "      <td>1.448635e+09</td>\n",
       "      <td>52410</td>\n",
       "      <td>268108</td>\n",
       "      <td>45.62</td>\n",
       "      <td>2549.2675</td>\n",
       "      <td>58.090647</td>\n",
       "      <td>2665.448793</td>\n",
       "      <td>2433.086207</td>\n",
       "      <td>2549.2675</td>\n",
       "      <td>Hold Buy/ Liquidate Short</td>\n",
       "    </tr>\n",
       "    <tr>\n",
       "      <th>22</th>\n",
       "      <td>TCS</td>\n",
       "      <td>EQ</td>\n",
       "      <td>14-Jun-2017</td>\n",
       "      <td>2451.55</td>\n",
       "      <td>2455.0</td>\n",
       "      <td>2476.0</td>\n",
       "      <td>2455.0</td>\n",
       "      <td>2465.4</td>\n",
       "      <td>2470.20</td>\n",
       "      <td>2469.41</td>\n",
       "      <td>...</td>\n",
       "      <td>1.838651e+09</td>\n",
       "      <td>42987</td>\n",
       "      <td>456486</td>\n",
       "      <td>61.31</td>\n",
       "      <td>2550.0100</td>\n",
       "      <td>56.909942</td>\n",
       "      <td>2663.829884</td>\n",
       "      <td>2436.190116</td>\n",
       "      <td>2550.0100</td>\n",
       "      <td>Hold Buy/ Liquidate Short</td>\n",
       "    </tr>\n",
       "    <tr>\n",
       "      <th>23</th>\n",
       "      <td>TCS</td>\n",
       "      <td>EQ</td>\n",
       "      <td>15-Jun-2017</td>\n",
       "      <td>2470.20</td>\n",
       "      <td>2469.0</td>\n",
       "      <td>2469.7</td>\n",
       "      <td>2405.0</td>\n",
       "      <td>2410.0</td>\n",
       "      <td>2411.20</td>\n",
       "      <td>2427.94</td>\n",
       "      <td>...</td>\n",
       "      <td>3.638509e+09</td>\n",
       "      <td>65157</td>\n",
       "      <td>1140716</td>\n",
       "      <td>76.12</td>\n",
       "      <td>2543.7600</td>\n",
       "      <td>64.820537</td>\n",
       "      <td>2673.401074</td>\n",
       "      <td>2414.118926</td>\n",
       "      <td>2543.7600</td>\n",
       "      <td>Buy</td>\n",
       "    </tr>\n",
       "  </tbody>\n",
       "</table>\n",
       "<p>5 rows × 21 columns</p>\n",
       "</div>"
      ],
      "text/plain": [
       "   Symbol Series         Date  Prev Close  Open Price  High Price  Low Price  \\\n",
       "19    TCS     EQ  09-Jun-2017     2521.60      2520.0      2547.4     2486.0   \n",
       "20    TCS     EQ  12-Jun-2017     2507.00      2497.0      2512.9     2470.4   \n",
       "21    TCS     EQ  13-Jun-2017     2487.20      2465.0      2481.1     2447.0   \n",
       "22    TCS     EQ  14-Jun-2017     2451.55      2455.0      2476.0     2455.0   \n",
       "23    TCS     EQ  15-Jun-2017     2470.20      2469.0      2469.7     2405.0   \n",
       "\n",
       "    Last Price  Close Price  Average Price            ...              \\\n",
       "19      2518.6      2507.00        2513.28            ...               \n",
       "20      2484.9      2487.20        2487.48            ...               \n",
       "21      2450.0      2451.55        2464.89            ...               \n",
       "22      2465.4      2470.20        2469.41            ...               \n",
       "23      2410.0      2411.20        2427.94            ...               \n",
       "\n",
       "        Turnover  No. of Trades  Deliverable Qty  % Dly Qt to Traded Qty  \\\n",
       "19  3.955950e+09          83931           599286                   38.07   \n",
       "20  2.022948e+09          44849           306655                   37.71   \n",
       "21  1.448635e+09          52410           268108                   45.62   \n",
       "22  1.838651e+09          42987           456486                   61.31   \n",
       "23  3.638509e+09          65157          1140716                   76.12   \n",
       "\n",
       "    20 Day SMA  20 Day STD   Upper Band   Lower Band   Mid Band  \\\n",
       "19   2542.0425   71.824613  2685.691727  2398.393273  2542.0425   \n",
       "20   2548.1475   60.249637  2668.646775  2427.648225  2548.1475   \n",
       "21   2549.2675   58.090647  2665.448793  2433.086207  2549.2675   \n",
       "22   2550.0100   56.909942  2663.829884  2436.190116  2550.0100   \n",
       "23   2543.7600   64.820537  2673.401074  2414.118926  2543.7600   \n",
       "\n",
       "                         Call  \n",
       "19  Hold Buy/ Liquidate Short  \n",
       "20  Hold Buy/ Liquidate Short  \n",
       "21  Hold Buy/ Liquidate Short  \n",
       "22  Hold Buy/ Liquidate Short  \n",
       "23                        Buy  \n",
       "\n",
       "[5 rows x 21 columns]"
      ]
     },
     "execution_count": 192,
     "metadata": {},
     "output_type": "execute_result"
    }
   ],
   "source": [
    "def select_buy(data):\n",
    "    if data['Close Price'] < data['Lower Band']:\n",
    "        return \"Buy\"\n",
    "    if data['Close Price'] > data['Lower Band'] and data['Close Price'] < data['Mid Band']:\n",
    "        return \"Hold Buy/ Liquidate Short\"\n",
    "    if data['Close Price'] > data['Mid Band'] and data['Close Price'] < data['Upper Band']:\n",
    "        return \"Hold Short/ Liquidate Buy\"\n",
    "    if data['Close Price'] > data['Upper Band']:\n",
    "        return \"Short\"\n",
    "data = data.assign(Call = data.apply(select_buy, axis=1))\n",
    "data.head()"
   ]
  },
  {
   "cell_type": "code",
   "execution_count": 102,
   "metadata": {},
   "outputs": [
    {
     "name": "stderr",
     "output_type": "stream",
     "text": [
      "/opt/anaconda/lib/python3.6/site-packages/sklearn/preprocessing/label.py:111: DataConversionWarning: A column-vector y was passed when a 1d array was expected. Please change the shape of y to (n_samples, ), for example using ravel().\n",
      "  y = column_or_1d(y, warn=True)\n"
     ]
    }
   ],
   "source": [
    "le = preprocessing.LabelEncoder()\n",
    "X = data[['Upper Band','Lower Band','Mid Band','Close Price']]\n",
    "transformed_label = le.fit_transform(data[['Call']])\n",
    "Y = transformed_label.reshape(-1,1)\n",
    "X_train, X_test, Y_train, Y_test = train_test_split(X, Y, test_size=0.2 , shuffle = True)\n"
   ]
  },
  {
   "cell_type": "code",
   "execution_count": 195,
   "metadata": {},
   "outputs": [
    {
     "name": "stdout",
     "output_type": "stream",
     "text": [
      "Logistic Regression\n"
     ]
    },
    {
     "data": {
      "text/plain": [
       "0.8542"
      ]
     },
     "execution_count": 195,
     "metadata": {},
     "output_type": "execute_result"
    }
   ],
   "source": [
    "LR = LogisticRegression(random_state = 0, solver='lbfgs', multi_class='ovr').fit(X_train,Y_train.ravel())\n",
    "y_pred = LR.predict(X_train)\n",
    "print('Logistic Regression')\n",
    "round(LR.score(X_test,Y_test), 4)\n"
   ]
  },
  {
   "cell_type": "code",
   "execution_count": 105,
   "metadata": {},
   "outputs": [
    {
     "name": "stdout",
     "output_type": "stream",
     "text": [
      "Support Vector Machines\n"
     ]
    },
    {
     "name": "stderr",
     "output_type": "stream",
     "text": [
      "/opt/anaconda/lib/python3.6/site-packages/sklearn/utils/validation.py:578: DataConversionWarning: A column-vector y was passed when a 1d array was expected. Please change the shape of y to (n_samples, ), for example using ravel().\n",
      "  y = column_or_1d(y, warn=True)\n"
     ]
    },
    {
     "data": {
      "text/plain": [
       "0.6667"
      ]
     },
     "execution_count": 105,
     "metadata": {},
     "output_type": "execute_result"
    }
   ],
   "source": [
    "SVM = svm.LinearSVC()\n",
    "SVM.fit(X_train,Y_train)\n",
    "SVM.predict(X_train)\n",
    "print(\"Support Vector Machines\")\n",
    "round(SVM.score(X_test,Y_test), 4)"
   ]
  },
  {
   "cell_type": "code",
   "execution_count": 106,
   "metadata": {},
   "outputs": [
    {
     "name": "stdout",
     "output_type": "stream",
     "text": [
      "Random Forest\n"
     ]
    },
    {
     "name": "stderr",
     "output_type": "stream",
     "text": [
      "/opt/anaconda/lib/python3.6/site-packages/ipykernel_launcher.py:2: DataConversionWarning: A column-vector y was passed when a 1d array was expected. Please change the shape of y to (n_samples,), for example using ravel().\n",
      "  \n"
     ]
    },
    {
     "data": {
      "text/plain": [
       "0.6042"
      ]
     },
     "execution_count": 106,
     "metadata": {},
     "output_type": "execute_result"
    }
   ],
   "source": [
    "RF = RandomForestClassifier(n_estimators=100, max_depth=2, random_state=0)  \n",
    "RF.fit(X_train, Y_train)  \n",
    "RF.predict(X_train) \n",
    "print(\"Random Forest\")\n",
    "round(RF.score(X_test,Y_test), 4)"
   ]
  },
  {
   "cell_type": "code",
   "execution_count": 107,
   "metadata": {},
   "outputs": [
    {
     "name": "stdout",
     "output_type": "stream",
     "text": [
      "Neural Networks\n"
     ]
    },
    {
     "name": "stderr",
     "output_type": "stream",
     "text": [
      "/opt/anaconda/lib/python3.6/site-packages/sklearn/neural_network/multilayer_perceptron.py:912: DataConversionWarning: A column-vector y was passed when a 1d array was expected. Please change the shape of y to (n_samples, ), for example using ravel().\n",
      "  y = column_or_1d(y, warn=True)\n"
     ]
    },
    {
     "data": {
      "text/plain": [
       "0.4896"
      ]
     },
     "execution_count": 107,
     "metadata": {},
     "output_type": "execute_result"
    }
   ],
   "source": [
    "NN = MLPClassifier(solver='lbfgs', alpha=1e-5, hidden_layer_sizes=(5, 2), random_state=1)  \n",
    "NN.fit(X_train,Y_train)  \n",
    "NN.predict(X_train)\n",
    "print(\"Neural Networks\")\n",
    "round(NN.score(X_test,Y_test), 4)\n"
   ]
  },
  {
   "cell_type": "code",
   "execution_count": 108,
   "metadata": {},
   "outputs": [
    {
     "name": "stdout",
     "output_type": "stream",
     "text": [
      "K-Nearest-Neighbour : \n"
     ]
    },
    {
     "name": "stderr",
     "output_type": "stream",
     "text": [
      "/opt/anaconda/lib/python3.6/site-packages/ipykernel_launcher.py:2: DataConversionWarning: A column-vector y was passed when a 1d array was expected. Please change the shape of y to (n_samples, ), for example using ravel().\n",
      "  \n"
     ]
    },
    {
     "data": {
      "text/plain": [
       "0.4896"
      ]
     },
     "execution_count": 108,
     "metadata": {},
     "output_type": "execute_result"
    }
   ],
   "source": [
    "knn = KNeighborsClassifier(n_neighbors = 8)\n",
    "knn.fit(X_train, Y_train)\n",
    "Y_pred = knn.predict(X_train)\n",
    "print(\"K-Nearest-Neighbour : \")\n",
    "round(NN.score(X_test,Y_test), 4)\n"
   ]
  },
  {
   "cell_type": "code",
   "execution_count": 205,
   "metadata": {},
   "outputs": [
    {
     "name": "stderr",
     "output_type": "stream",
     "text": [
      "/opt/anaconda/lib/python3.6/site-packages/ipykernel_launcher.py:15: SettingWithCopyWarning: \n",
      "A value is trying to be set on a copy of a slice from a DataFrame\n",
      "\n",
      "See the caveats in the documentation: http://pandas.pydata.org/pandas-docs/stable/indexing.html#indexing-view-versus-copy\n",
      "  from ipykernel import kernelapp as app\n",
      "/opt/anaconda/lib/python3.6/site-packages/ipykernel_launcher.py:13: SettingWithCopyWarning: \n",
      "A value is trying to be set on a copy of a slice from a DataFrame\n",
      "\n",
      "See the caveats in the documentation: http://pandas.pydata.org/pandas-docs/stable/indexing.html#indexing-view-versus-copy\n",
      "  del sys.path[0]\n",
      "/opt/anaconda/lib/python3.6/site-packages/ipykernel_launcher.py:11: SettingWithCopyWarning: \n",
      "A value is trying to be set on a copy of a slice from a DataFrame\n",
      "\n",
      "See the caveats in the documentation: http://pandas.pydata.org/pandas-docs/stable/indexing.html#indexing-view-versus-copy\n",
      "  # This is added back by InteractiveShellApp.init_path()\n",
      "/opt/anaconda/lib/python3.6/site-packages/ipykernel_launcher.py:8: SettingWithCopyWarning: \n",
      "A value is trying to be set on a copy of a slice from a DataFrame\n",
      "\n",
      "See the caveats in the documentation: http://pandas.pydata.org/pandas-docs/stable/indexing.html#indexing-view-versus-copy\n",
      "  \n"
     ]
    }
   ],
   "source": [
    "VOLTAS=pd.read_csv('VOLTAS.csv')\n",
    "\n",
    "VOLTAS['Upper Bollinger Band']=VOLTAS['Close Price'].rolling(14).mean()+2*VOLTAS['Close Price'].rolling(14).std()\n",
    "VOLTAS['Lower Bollinger Band']=VOLTAS['Close Price'].rolling(14).mean()-2*VOLTAS['Close Price'].rolling(14).std()\n",
    "VOLTAS['Middle Bollinger Band']=(VOLTAS['Upper Bollinger Band']+VOLTAS['Lower Bollinger Band'])/2\n",
    "VOLTAS['Call']=\"xyz\"\n",
    "\n",
    "for i in range(0,len(VOLTAS)):\n",
    "    if(VOLTAS['Close Price'][i]<VOLTAS['Lower Bollinger Band'][i]):       \n",
    "        VOLTAS['Call'][i]=\"Buy\"\n",
    "    elif((VOLTAS['Close Price'][i]>VOLTAS['Lower Bollinger Band'][i]) and (VOLTAS['Close Price'][i]<VOLTAS['Middle Bollinger Band'][i])):\n",
    "        \n",
    "        VOLTAS['Call'][i]=\"Hold Buy/ Liquidate Short\"\n",
    "    elif((VOLTAS['Close Price'][i]>VOLTAS['Middle Bollinger Band'][i])and (VOLTAS['Close Price'][i]<VOLTAS['Upper Bollinger Band'][i])):\n",
    "        VOLTAS['Call'][i]=\"Hold Short/ Liquidate Buy\"\n",
    "    else:\n",
    "        VOLTAS['Call'][i]=\"Short\"\n",
    "     "
   ]
  },
  {
   "cell_type": "code",
   "execution_count": 224,
   "metadata": {},
   "outputs": [
    {
     "data": {
      "text/plain": [
       "dict_values([37, 233, 207, 17])"
      ]
     },
     "execution_count": 224,
     "metadata": {},
     "output_type": "execute_result"
    }
   ],
   "source": [
    "Counter(VOLTAS['Call']).values()"
   ]
  },
  {
   "cell_type": "markdown",
   "metadata": {},
   "source": [
    "QUERY 4.2"
   ]
  },
  {
   "cell_type": "code",
   "execution_count": 229,
   "metadata": {},
   "outputs": [
    {
     "data": {
      "text/html": [
       "<div>\n",
       "<style scoped>\n",
       "    .dataframe tbody tr th:only-of-type {\n",
       "        vertical-align: middle;\n",
       "    }\n",
       "\n",
       "    .dataframe tbody tr th {\n",
       "        vertical-align: top;\n",
       "    }\n",
       "\n",
       "    .dataframe thead th {\n",
       "        text-align: right;\n",
       "    }\n",
       "</style>\n",
       "<table border=\"1\" class=\"dataframe\">\n",
       "  <thead>\n",
       "    <tr style=\"text-align: right;\">\n",
       "      <th></th>\n",
       "      <th>Symbol</th>\n",
       "      <th>Series</th>\n",
       "      <th>Date</th>\n",
       "      <th>Prev Close</th>\n",
       "      <th>Open Price</th>\n",
       "      <th>High Price</th>\n",
       "      <th>Low Price</th>\n",
       "      <th>Last Price</th>\n",
       "      <th>Close Price</th>\n",
       "      <th>Average Price</th>\n",
       "      <th>Total Traded Quantity</th>\n",
       "      <th>Turnover</th>\n",
       "      <th>No. of Trades</th>\n",
       "      <th>Deliverable Qty</th>\n",
       "      <th>% Dly Qt to Traded Qty</th>\n",
       "    </tr>\n",
       "  </thead>\n",
       "  <tbody>\n",
       "    <tr>\n",
       "      <th>0</th>\n",
       "      <td>ITC</td>\n",
       "      <td>EQ</td>\n",
       "      <td>15-May-2017</td>\n",
       "      <td>274.95</td>\n",
       "      <td>275.90</td>\n",
       "      <td>278.90</td>\n",
       "      <td>275.50</td>\n",
       "      <td>278.50</td>\n",
       "      <td>277.95</td>\n",
       "      <td>277.78</td>\n",
       "      <td>5462855</td>\n",
       "      <td>1.517477e+09</td>\n",
       "      <td>52501</td>\n",
       "      <td>4128324</td>\n",
       "      <td>75.57</td>\n",
       "    </tr>\n",
       "    <tr>\n",
       "      <th>1</th>\n",
       "      <td>ITC</td>\n",
       "      <td>EQ</td>\n",
       "      <td>16-May-2017</td>\n",
       "      <td>277.95</td>\n",
       "      <td>278.50</td>\n",
       "      <td>284.30</td>\n",
       "      <td>278.00</td>\n",
       "      <td>283.00</td>\n",
       "      <td>283.45</td>\n",
       "      <td>280.93</td>\n",
       "      <td>11204308</td>\n",
       "      <td>3.147583e+09</td>\n",
       "      <td>98347</td>\n",
       "      <td>8307567</td>\n",
       "      <td>74.15</td>\n",
       "    </tr>\n",
       "    <tr>\n",
       "      <th>2</th>\n",
       "      <td>ITC</td>\n",
       "      <td>EQ</td>\n",
       "      <td>17-May-2017</td>\n",
       "      <td>283.45</td>\n",
       "      <td>284.10</td>\n",
       "      <td>284.40</td>\n",
       "      <td>279.25</td>\n",
       "      <td>281.50</td>\n",
       "      <td>281.65</td>\n",
       "      <td>281.56</td>\n",
       "      <td>8297700</td>\n",
       "      <td>2.336261e+09</td>\n",
       "      <td>99107</td>\n",
       "      <td>5924804</td>\n",
       "      <td>71.40</td>\n",
       "    </tr>\n",
       "    <tr>\n",
       "      <th>3</th>\n",
       "      <td>ITC</td>\n",
       "      <td>EQ</td>\n",
       "      <td>18-May-2017</td>\n",
       "      <td>281.65</td>\n",
       "      <td>278.00</td>\n",
       "      <td>281.05</td>\n",
       "      <td>277.05</td>\n",
       "      <td>277.65</td>\n",
       "      <td>277.90</td>\n",
       "      <td>278.49</td>\n",
       "      <td>7924261</td>\n",
       "      <td>2.206822e+09</td>\n",
       "      <td>47830</td>\n",
       "      <td>5434449</td>\n",
       "      <td>68.58</td>\n",
       "    </tr>\n",
       "    <tr>\n",
       "      <th>4</th>\n",
       "      <td>ITC</td>\n",
       "      <td>EQ</td>\n",
       "      <td>19-May-2017</td>\n",
       "      <td>277.90</td>\n",
       "      <td>282.25</td>\n",
       "      <td>295.65</td>\n",
       "      <td>281.95</td>\n",
       "      <td>286.40</td>\n",
       "      <td>286.20</td>\n",
       "      <td>290.08</td>\n",
       "      <td>35724128</td>\n",
       "      <td>1.036268e+10</td>\n",
       "      <td>248579</td>\n",
       "      <td>19137631</td>\n",
       "      <td>53.57</td>\n",
       "    </tr>\n",
       "  </tbody>\n",
       "</table>\n",
       "</div>"
      ],
      "text/plain": [
       "  Symbol Series         Date  Prev Close  Open Price  High Price  Low Price  \\\n",
       "0    ITC     EQ  15-May-2017      274.95      275.90      278.90     275.50   \n",
       "1    ITC     EQ  16-May-2017      277.95      278.50      284.30     278.00   \n",
       "2    ITC     EQ  17-May-2017      283.45      284.10      284.40     279.25   \n",
       "3    ITC     EQ  18-May-2017      281.65      278.00      281.05     277.05   \n",
       "4    ITC     EQ  19-May-2017      277.90      282.25      295.65     281.95   \n",
       "\n",
       "   Last Price  Close Price  Average Price  Total Traded Quantity  \\\n",
       "0      278.50       277.95         277.78                5462855   \n",
       "1      283.00       283.45         280.93               11204308   \n",
       "2      281.50       281.65         281.56                8297700   \n",
       "3      277.65       277.90         278.49                7924261   \n",
       "4      286.40       286.20         290.08               35724128   \n",
       "\n",
       "       Turnover  No. of Trades  Deliverable Qty  % Dly Qt to Traded Qty  \n",
       "0  1.517477e+09          52501          4128324                   75.57  \n",
       "1  3.147583e+09          98347          8307567                   74.15  \n",
       "2  2.336261e+09          99107          5924804                   71.40  \n",
       "3  2.206822e+09          47830          5434449                   68.58  \n",
       "4  1.036268e+10         248579         19137631                   53.57  "
      ]
     },
     "execution_count": 229,
     "metadata": {},
     "output_type": "execute_result"
    }
   ],
   "source": [
    "dt = pd.read_csv(\"ITC.csv\")\n",
    "dt.head()\n"
   ]
  },
  {
   "cell_type": "code",
   "execution_count": 230,
   "metadata": {},
   "outputs": [
    {
     "data": {
      "text/html": [
       "<div>\n",
       "<style scoped>\n",
       "    .dataframe tbody tr th:only-of-type {\n",
       "        vertical-align: middle;\n",
       "    }\n",
       "\n",
       "    .dataframe tbody tr th {\n",
       "        vertical-align: top;\n",
       "    }\n",
       "\n",
       "    .dataframe thead th {\n",
       "        text-align: right;\n",
       "    }\n",
       "</style>\n",
       "<table border=\"1\" class=\"dataframe\">\n",
       "  <thead>\n",
       "    <tr style=\"text-align: right;\">\n",
       "      <th></th>\n",
       "      <th>Symbol</th>\n",
       "      <th>Series</th>\n",
       "      <th>Date</th>\n",
       "      <th>Prev Close</th>\n",
       "      <th>Open Price</th>\n",
       "      <th>High Price</th>\n",
       "      <th>Low Price</th>\n",
       "      <th>Last Price</th>\n",
       "      <th>Close Price</th>\n",
       "      <th>Average Price</th>\n",
       "      <th>Total Traded Quantity</th>\n",
       "      <th>Turnover</th>\n",
       "      <th>No. of Trades</th>\n",
       "      <th>Deliverable Qty</th>\n",
       "      <th>% Dly Qt to Traded Qty</th>\n",
       "      <th>%chg open/close</th>\n",
       "      <th>%chg close/high</th>\n",
       "      <th>%cl_DTD 5dymean</th>\n",
       "      <th>%cl_DTD 5dystd</th>\n",
       "    </tr>\n",
       "  </thead>\n",
       "  <tbody>\n",
       "    <tr>\n",
       "      <th>5</th>\n",
       "      <td>ITC</td>\n",
       "      <td>EQ</td>\n",
       "      <td>22-May-2017</td>\n",
       "      <td>286.20</td>\n",
       "      <td>292.45</td>\n",
       "      <td>304.80</td>\n",
       "      <td>291.30</td>\n",
       "      <td>303.0</td>\n",
       "      <td>303.60</td>\n",
       "      <td>299.75</td>\n",
       "      <td>35939315</td>\n",
       "      <td>1.077281e+10</td>\n",
       "      <td>250048</td>\n",
       "      <td>17079600</td>\n",
       "      <td>47.52</td>\n",
       "      <td>3.672596</td>\n",
       "      <td>-0.411946</td>\n",
       "      <td>0.018157</td>\n",
       "      <td>0.029787</td>\n",
       "    </tr>\n",
       "    <tr>\n",
       "      <th>6</th>\n",
       "      <td>ITC</td>\n",
       "      <td>EQ</td>\n",
       "      <td>23-May-2017</td>\n",
       "      <td>303.60</td>\n",
       "      <td>301.90</td>\n",
       "      <td>303.90</td>\n",
       "      <td>298.25</td>\n",
       "      <td>300.0</td>\n",
       "      <td>300.15</td>\n",
       "      <td>300.39</td>\n",
       "      <td>19784738</td>\n",
       "      <td>5.943114e+09</td>\n",
       "      <td>127039</td>\n",
       "      <td>12142585</td>\n",
       "      <td>61.37</td>\n",
       "      <td>-0.583042</td>\n",
       "      <td>-1.257334</td>\n",
       "      <td>0.011927</td>\n",
       "      <td>0.032495</td>\n",
       "    </tr>\n",
       "    <tr>\n",
       "      <th>7</th>\n",
       "      <td>ITC</td>\n",
       "      <td>EQ</td>\n",
       "      <td>24-May-2017</td>\n",
       "      <td>300.15</td>\n",
       "      <td>300.00</td>\n",
       "      <td>301.95</td>\n",
       "      <td>297.90</td>\n",
       "      <td>300.1</td>\n",
       "      <td>299.90</td>\n",
       "      <td>299.95</td>\n",
       "      <td>9457848</td>\n",
       "      <td>2.836837e+09</td>\n",
       "      <td>87850</td>\n",
       "      <td>6078221</td>\n",
       "      <td>64.27</td>\n",
       "      <td>-0.033344</td>\n",
       "      <td>-0.688150</td>\n",
       "      <td>0.013031</td>\n",
       "      <td>0.031806</td>\n",
       "    </tr>\n",
       "    <tr>\n",
       "      <th>8</th>\n",
       "      <td>ITC</td>\n",
       "      <td>EQ</td>\n",
       "      <td>25-May-2017</td>\n",
       "      <td>299.90</td>\n",
       "      <td>300.00</td>\n",
       "      <td>304.70</td>\n",
       "      <td>295.35</td>\n",
       "      <td>301.0</td>\n",
       "      <td>300.05</td>\n",
       "      <td>300.00</td>\n",
       "      <td>22769975</td>\n",
       "      <td>6.830908e+09</td>\n",
       "      <td>110127</td>\n",
       "      <td>16464978</td>\n",
       "      <td>72.31</td>\n",
       "      <td>0.016664</td>\n",
       "      <td>-1.574403</td>\n",
       "      <td>0.015793</td>\n",
       "      <td>0.029458</td>\n",
       "    </tr>\n",
       "    <tr>\n",
       "      <th>9</th>\n",
       "      <td>ITC</td>\n",
       "      <td>EQ</td>\n",
       "      <td>26-May-2017</td>\n",
       "      <td>300.05</td>\n",
       "      <td>302.00</td>\n",
       "      <td>313.80</td>\n",
       "      <td>299.55</td>\n",
       "      <td>306.1</td>\n",
       "      <td>309.10</td>\n",
       "      <td>305.48</td>\n",
       "      <td>21742467</td>\n",
       "      <td>6.641980e+09</td>\n",
       "      <td>155758</td>\n",
       "      <td>8123024</td>\n",
       "      <td>37.36</td>\n",
       "      <td>2.296991</td>\n",
       "      <td>-1.569020</td>\n",
       "      <td>0.015852</td>\n",
       "      <td>0.029494</td>\n",
       "    </tr>\n",
       "  </tbody>\n",
       "</table>\n",
       "</div>"
      ],
      "text/plain": [
       "  Symbol Series         Date  Prev Close  Open Price  High Price  Low Price  \\\n",
       "5    ITC     EQ  22-May-2017      286.20      292.45      304.80     291.30   \n",
       "6    ITC     EQ  23-May-2017      303.60      301.90      303.90     298.25   \n",
       "7    ITC     EQ  24-May-2017      300.15      300.00      301.95     297.90   \n",
       "8    ITC     EQ  25-May-2017      299.90      300.00      304.70     295.35   \n",
       "9    ITC     EQ  26-May-2017      300.05      302.00      313.80     299.55   \n",
       "\n",
       "   Last Price  Close Price  Average Price  Total Traded Quantity  \\\n",
       "5       303.0       303.60         299.75               35939315   \n",
       "6       300.0       300.15         300.39               19784738   \n",
       "7       300.1       299.90         299.95                9457848   \n",
       "8       301.0       300.05         300.00               22769975   \n",
       "9       306.1       309.10         305.48               21742467   \n",
       "\n",
       "       Turnover  No. of Trades  Deliverable Qty  % Dly Qt to Traded Qty  \\\n",
       "5  1.077281e+10         250048         17079600                   47.52   \n",
       "6  5.943114e+09         127039         12142585                   61.37   \n",
       "7  2.836837e+09          87850          6078221                   64.27   \n",
       "8  6.830908e+09         110127         16464978                   72.31   \n",
       "9  6.641980e+09         155758          8123024                   37.36   \n",
       "\n",
       "   %chg open/close  %chg close/high  %cl_DTD 5dymean  %cl_DTD 5dystd  \n",
       "5         3.672596        -0.411946         0.018157        0.029787  \n",
       "6        -0.583042        -1.257334         0.011927        0.032495  \n",
       "7        -0.033344        -0.688150         0.013031        0.031806  \n",
       "8         0.016664        -1.574403         0.015793        0.029458  \n",
       "9         2.296991        -1.569020         0.015852        0.029494  "
      ]
     },
     "execution_count": 230,
     "metadata": {},
     "output_type": "execute_result"
    }
   ],
   "source": [
    "dt['%chg open/close'] = ((dt['Close Price'] - dt['Open Price'])/(dt['Close Price']))*100\n",
    "dt['%chg close/high'] = ((dt['Close Price'] - dt['High Price'])/(dt['Low Price']))*100\n",
    "dt['%cl_DTD 5dymean'] = dt['Close Price'].pct_change().dropna().rolling(5).mean()\n",
    "dt['%cl_DTD 5dystd'] = dt['Close Price'].pct_change().dropna().rolling(5).std()\n",
    "dt=dt.dropna()\n",
    "dt.head()\n"
   ]
  },
  {
   "cell_type": "code",
   "execution_count": 241,
   "metadata": {},
   "outputs": [
    {
     "name": "stderr",
     "output_type": "stream",
     "text": [
      "/opt/anaconda/lib/python3.6/site-packages/ipykernel_launcher.py:9: SettingWithCopyWarning: \n",
      "A value is trying to be set on a copy of a slice from a DataFrame\n",
      "\n",
      "See the caveats in the documentation: http://pandas.pydata.org/pandas-docs/stable/indexing.html#indexing-view-versus-copy\n",
      "  if __name__ == '__main__':\n",
      "/opt/anaconda/lib/python3.6/site-packages/ipykernel_launcher.py:7: SettingWithCopyWarning: \n",
      "A value is trying to be set on a copy of a slice from a DataFrame\n",
      "\n",
      "See the caveats in the documentation: http://pandas.pydata.org/pandas-docs/stable/indexing.html#indexing-view-versus-copy\n",
      "  import sys\n"
     ]
    }
   ],
   "source": [
    "\n",
    "dt['Action']=1\n",
    "dt.index = [ i for i in range(0,len(dt))]\n",
    "l=len(dt)-1\n",
    "for i in range(0,l):\n",
    "    if (dt['Close Price'][i+1]>dt['Close Price'][i]):\n",
    "        dt['Action'][i]=1\n",
    "    elif(dt['Close Price'][i+1]<dt['Close Price'][i]):\n",
    "        dt['Action'][i]=-1"
   ]
  },
  {
   "cell_type": "code",
   "execution_count": 242,
   "metadata": {},
   "outputs": [
    {
     "name": "stderr",
     "output_type": "stream",
     "text": [
      "/opt/anaconda/lib/python3.6/site-packages/ipykernel_launcher.py:5: DataConversionWarning: A column-vector y was passed when a 1d array was expected. Please change the shape of y to (n_samples,), for example using ravel().\n",
      "  \"\"\"\n"
     ]
    }
   ],
   "source": [
    "classifier=RandomForestClassifier()\n",
    "X=dt[['%chg open/close','%chg close/high','%cl_DTD 5dymean','%cl_DTD 5dystd']]\n",
    "Y=dt[['Action']]\n",
    "X_train,X_test,Y_train,Y_test=train_test_split(X,Y,test_size=0.2,random_state=0)\n",
    "classifier.fit(X_train,Y_train)\n",
    "y_pred=classifier.predict(X_test)"
   ]
  },
  {
   "cell_type": "code",
   "execution_count": 243,
   "metadata": {},
   "outputs": [
    {
     "name": "stderr",
     "output_type": "stream",
     "text": [
      "/opt/anaconda/lib/python3.6/site-packages/ipykernel_launcher.py:3: SettingWithCopyWarning: \n",
      "A value is trying to be set on a copy of a slice from a DataFrame\n",
      "\n",
      "See the caveats in the documentation: http://pandas.pydata.org/pandas-docs/stable/indexing.html#indexing-view-versus-copy\n",
      "  This is separate from the ipykernel package so we can avoid doing imports until\n"
     ]
    },
    {
     "data": {
      "image/png": "[encoded data removed]",
      "text/plain": [
       "<Figure size 1440x720 with 1 Axes>"
      ]
     },
     "metadata": {},
     "output_type": "display_data"
    }
   ],
   "source": [
    "dt['netcumret']=1.0\n",
    "for i in range(6,len(dt)):\n",
    "    dt['netcumret'][i]=float(dt['Close Price'][i]-dt['Close Price'][i-1])/dt['Close Price'][i]\n",
    "plt.figure(figsize=(20,10))\n",
    "plt.plot(dt['netcumret'].cumsum())\n",
    "plt.ylabel('Strategy Returns (%)')\n",
    "plt.show()"
   ]
  }
 ],
 "metadata": {
  "kernelspec": {
   "display_name": "Python 3",
   "language": "python",
   "name": "python3"
  },
  "language_info": {
   "codemirror_mode": {
    "name": "ipython",
    "version": 3
   },
   "file_extension": ".py",
   "mimetype": "text/x-python",
   "name": "python",
   "nbconvert_exporter": "python",
   "pygments_lexer": "ipython3",
   "version": "3.7.1"
  }
 },
 "nbformat": 4,
 "nbformat_minor": 2
}
