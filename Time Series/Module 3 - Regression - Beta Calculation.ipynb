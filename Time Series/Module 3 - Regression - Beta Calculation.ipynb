{
 "cells": [
  {
   "cell_type": "markdown",
   "metadata": {},
   "source": [
    "# Module 3- Regression & Beta Calculation\n",
    "\n"
   ]
  },
  {
   "cell_type": "markdown",
   "metadata": {},
   "source": [
    "#--------------------------------------------------------------------------------------------------------------------------------------------------------------------------------------------------------#"
   ]
  },
  {
   "cell_type": "markdown",
   "metadata": {},
   "source": [
    "### Query 3.1 \n",
    "Import the file 'gold.csv', which is contains the data about last 2 years price action of Indian(MCX) gold standard. Explore the dataframe. You'd see 2 unique columns - 'Pred' and 'new'.\n",
    "\n",
    "One of the 2 columns is a linear combination of the OHLC prices with varying coefficients while the other is a polynomial fucntion of the same inputs. Also, one of the 2 columns is partially filled.\n",
    "\n",
    ">Using linear regression, find the coefficients of the inputs and using the same trained model, complete the\n",
    "      entire column.\n",
    "      \n",
    ">Also, try to fit the other column as well using a new linear regression model. Check if the predicitons are \n",
    "      accurate.\n",
    "      Mention which column is a linear function and which is a polynomial function.\n",
    "      (Hint: Plotting a histogram & distplot helps in recognizing the  discrepencies in prediction, if any.)"
   ]
  },
  {
   "cell_type": "code",
   "execution_count": 6,
   "metadata": {},
   "outputs": [],
   "source": [
    "# Imports\n",
    "import pandas as pd\n",
    "import numpy as np\n",
    "import matplotlib.pyplot as plt\n",
    "import seaborn as sns\n",
    "from sklearn.linear_model import LinearRegression\n",
    "from sklearn.model_selection import train_test_split\n",
    "from sklearn.metrics import mean_squared_error, r2_score\n",
    "from sklearn.preprocessing import PolynomialFeatures\n",
    "\n",
    "# pylab is used to format the legend in plots\n",
    "\n",
    "import pylab as plot \n",
    "params = {'legend.fontsize': 20,\n",
    "          'legend.handlelength': 2}\n",
    "plot.rcParams.update(params)"
   ]
  },
  {
   "cell_type": "code",
   "execution_count": 3,
   "metadata": {},
   "outputs": [
    {
     "data": {
      "text/html": [
       "<div>\n",
       "<style scoped>\n",
       "    .dataframe tbody tr th:only-of-type {\n",
       "        vertical-align: middle;\n",
       "    }\n",
       "\n",
       "    .dataframe tbody tr th {\n",
       "        vertical-align: top;\n",
       "    }\n",
       "\n",
       "    .dataframe thead th {\n",
       "        text-align: right;\n",
       "    }\n",
       "</style>\n",
       "<table border=\"1\" class=\"dataframe\">\n",
       "  <thead>\n",
       "    <tr style=\"text-align: right;\">\n",
       "      <th></th>\n",
       "      <th>Date</th>\n",
       "      <th>Price</th>\n",
       "      <th>Open</th>\n",
       "      <th>High</th>\n",
       "      <th>Low</th>\n",
       "      <th>Vol.</th>\n",
       "      <th>Change %</th>\n",
       "      <th>Pred</th>\n",
       "      <th>new</th>\n",
       "    </tr>\n",
       "  </thead>\n",
       "  <tbody>\n",
       "    <tr>\n",
       "      <th>0</th>\n",
       "      <td>May 04, 2017</td>\n",
       "      <td>28060</td>\n",
       "      <td>28400</td>\n",
       "      <td>28482</td>\n",
       "      <td>28025</td>\n",
       "      <td>0.08K</td>\n",
       "      <td>-1.79%</td>\n",
       "      <td>738.0</td>\n",
       "      <td>117.570740</td>\n",
       "    </tr>\n",
       "    <tr>\n",
       "      <th>1</th>\n",
       "      <td>May 05, 2017</td>\n",
       "      <td>28184</td>\n",
       "      <td>28136</td>\n",
       "      <td>28382</td>\n",
       "      <td>28135</td>\n",
       "      <td>0.06K</td>\n",
       "      <td>0.44%</td>\n",
       "      <td>-146.0</td>\n",
       "      <td>295.430176</td>\n",
       "    </tr>\n",
       "    <tr>\n",
       "      <th>2</th>\n",
       "      <td>May 08, 2017</td>\n",
       "      <td>28119</td>\n",
       "      <td>28145</td>\n",
       "      <td>28255</td>\n",
       "      <td>28097</td>\n",
       "      <td>7.85K</td>\n",
       "      <td>-0.23%</td>\n",
       "      <td>30.0</td>\n",
       "      <td>132.123714</td>\n",
       "    </tr>\n",
       "    <tr>\n",
       "      <th>3</th>\n",
       "      <td>May 09, 2017</td>\n",
       "      <td>27981</td>\n",
       "      <td>28125</td>\n",
       "      <td>28192</td>\n",
       "      <td>27947</td>\n",
       "      <td>10.10K</td>\n",
       "      <td>-0.49%</td>\n",
       "      <td>357.0</td>\n",
       "      <td>101.298064</td>\n",
       "    </tr>\n",
       "    <tr>\n",
       "      <th>4</th>\n",
       "      <td>May 10, 2017</td>\n",
       "      <td>28007</td>\n",
       "      <td>28060</td>\n",
       "      <td>28146</td>\n",
       "      <td>27981</td>\n",
       "      <td>9.28K</td>\n",
       "      <td>0.09%</td>\n",
       "      <td>124.0</td>\n",
       "      <td>112.153318</td>\n",
       "    </tr>\n",
       "  </tbody>\n",
       "</table>\n",
       "</div>"
      ],
      "text/plain": [
       "           Date  Price   Open   High    Low    Vol. Change %   Pred  \\\n",
       "0  May 04, 2017  28060  28400  28482  28025   0.08K   -1.79%  738.0   \n",
       "1  May 05, 2017  28184  28136  28382  28135   0.06K    0.44% -146.0   \n",
       "2  May 08, 2017  28119  28145  28255  28097   7.85K   -0.23%   30.0   \n",
       "3  May 09, 2017  27981  28125  28192  27947  10.10K   -0.49%  357.0   \n",
       "4  May 10, 2017  28007  28060  28146  27981   9.28K    0.09%  124.0   \n",
       "\n",
       "          new  \n",
       "0  117.570740  \n",
       "1  295.430176  \n",
       "2  132.123714  \n",
       "3  101.298064  \n",
       "4  112.153318  "
      ]
     },
     "execution_count": 3,
     "metadata": {},
     "output_type": "execute_result"
    }
   ],
   "source": [
    "data = pd.read_csv(\"GOLD.csv\")\n",
    "data.head()"
   ]
  },
  {
   "cell_type": "code",
   "execution_count": 4,
   "metadata": {},
   "outputs": [
    {
     "name": "stdout",
     "output_type": "stream",
     "text": [
      "<class 'pandas.core.frame.DataFrame'>\n",
      "RangeIndex: 512 entries, 0 to 511\n",
      "Data columns (total 9 columns):\n",
      " #   Column    Non-Null Count  Dtype  \n",
      "---  ------    --------------  -----  \n",
      " 0   Date      512 non-null    object \n",
      " 1   Price     512 non-null    int64  \n",
      " 2   Open      512 non-null    int64  \n",
      " 3   High      512 non-null    int64  \n",
      " 4   Low       512 non-null    int64  \n",
      " 5   Vol.      512 non-null    object \n",
      " 6   Change %  512 non-null    object \n",
      " 7   Pred      411 non-null    float64\n",
      " 8   new       512 non-null    float64\n",
      "dtypes: float64(2), int64(4), object(3)\n",
      "memory usage: 36.1+ KB\n"
     ]
    }
   ],
   "source": [
    "data.info()\n",
    "# From this it is clearly visible that the columnn which has some missing values i.e. Partially Filled is Pred "
   ]
  },
  {
   "cell_type": "code",
   "execution_count": 7,
   "metadata": {},
   "outputs": [
    {
     "name": "stdout",
     "output_type": "stream",
     "text": [
      "The coefficient for Linear Regression are [ 1.01306267 -1.00039938  1.00537134 -1.01810115]\n",
      "Assume new column is Linear So MSE is 0.2841148088565647\n",
      "The coefficient for Polynomial Regression are [ 0.00000000e+00  1.01143585e+00 -1.00058453e+00  1.00498370e+00\n",
      " -1.01590068e+00  2.73163332e-07 -1.06766960e-06  3.26670411e-05\n",
      " -3.25170942e-05 -3.81729920e-07  6.25464412e-07  1.22690759e-06\n",
      " -1.22430358e-07 -3.32134990e-05  3.25116747e-05]\n",
      "Assume new column is Polynomial So MSE is 0.00035408750824057506\n",
      "Our Second Assumption has less Error Hence new Column is Polynomial\n"
     ]
    }
   ],
   "source": [
    "xdataset = data.drop(['Date','Vol.','Change %','Pred','new'],axis=1)\n",
    "\n",
    "# Right now taking into consideration new column to check if it is Linear or Polynomial\n",
    "\n",
    "ydataset = data['new']\n",
    "xtrain,xtest,ytrain,ytest=train_test_split(xdataset,ydataset,test_size=0.3,random_state=2)\n",
    "\n",
    "\n",
    "linear=LinearRegression()\n",
    "linear.fit(xtrain,ytrain)\n",
    "print('The coefficient for Linear Regression are',linear.coef_)\n",
    "print('Assume new column is Linear So MSE is',mean_squared_error(ytest,linear.predict(xtest)))\n",
    "\n",
    "linear1=LinearRegression()\n",
    "poly=PolynomialFeatures(degree=2)\n",
    "xrain=poly.fit_transform(xtrain.values)\n",
    "xwhole=poly.fit_transform(xdataset.values)\n",
    "#yrain=poly.fit_transform([ytrain])\n",
    "linear1.fit(xrain,ytrain)\n",
    "print('The coefficient for Polynomial Regression are',linear1.coef_)\n",
    "#linear.predict(poly.fit_transform(xtest.values))\n",
    "print('Assume new column is Polynomial So MSE is',mean_squared_error(ytest,linear1.predict(poly.fit_transform(xtest.values))))\n",
    "print('Our Second Assumption has less Error Hence new Column is Polynomial')"
   ]
  },
  {
   "cell_type": "code",
   "execution_count": 8,
   "metadata": {},
   "outputs": [
    {
     "name": "stdout",
     "output_type": "stream",
     "text": [
      "0.0003495715527131423\n",
      "AxesSubplot(0.125,0.125;0.775x0.755)\n",
      "AxesSubplot(0.125,0.125;0.775x0.755)\n"
     ]
    },
    {
     "data": {
      "image/png": "[encoded data removed]",
      "text/plain": [
       "<Figure size 432x288 with 1 Axes>"
      ]
     },
     "metadata": {
      "needs_background": "light"
     },
     "output_type": "display_data"
    }
   ],
   "source": [
    "import warnings\n",
    "warnings.simplefilter('ignore')\n",
    "e = data.loc[0:410]\n",
    "d = data.loc[411:512]\n",
    "dcop=d.drop(['Date','Vol.','Change %','Pred','new'],axis=1)\n",
    "store=linear.predict(dcop)\n",
    "d['Pred']=store[0:101]\n",
    "d['Pred']=round(d['Pred'])\n",
    "r1=pd.concat([e,d],axis=0)\n",
    "\n",
    "new_predict=linear1.predict(xwhole) \n",
    "# fit new column with Polynomial Features and predict on the xdataset\n",
    "r1['new_predict']=new_predict\n",
    "print(mean_squared_error(r1['new_predict'],r1['new']))\n",
    "print(sns.distplot(r1['new_predict'],color='b',label='Pred'))\n",
    "print(sns.distplot(r1['new'],color='r',label='new'))\n"
   ]
  },
  {
   "cell_type": "code",
   "execution_count": 5,
   "metadata": {},
   "outputs": [
    {
     "data": {
      "text/html": [
       "<div>\n",
       "<style scoped>\n",
       "    .dataframe tbody tr th:only-of-type {\n",
       "        vertical-align: middle;\n",
       "    }\n",
       "\n",
       "    .dataframe tbody tr th {\n",
       "        vertical-align: top;\n",
       "    }\n",
       "\n",
       "    .dataframe thead th {\n",
       "        text-align: right;\n",
       "    }\n",
       "</style>\n",
       "<table border=\"1\" class=\"dataframe\">\n",
       "  <thead>\n",
       "    <tr style=\"text-align: right;\">\n",
       "      <th></th>\n",
       "      <th>Date</th>\n",
       "      <th>Price</th>\n",
       "      <th>Open</th>\n",
       "      <th>High</th>\n",
       "      <th>Low</th>\n",
       "      <th>Vol.</th>\n",
       "      <th>Change %</th>\n",
       "      <th>Pred</th>\n",
       "      <th>new</th>\n",
       "    </tr>\n",
       "  </thead>\n",
       "  <tbody>\n",
       "    <tr>\n",
       "      <th>0</th>\n",
       "      <td>May 04, 2017</td>\n",
       "      <td>28060</td>\n",
       "      <td>28400</td>\n",
       "      <td>28482</td>\n",
       "      <td>28025</td>\n",
       "      <td>0.08K</td>\n",
       "      <td>-1.79%</td>\n",
       "      <td>738.0</td>\n",
       "      <td>117.570740</td>\n",
       "    </tr>\n",
       "    <tr>\n",
       "      <th>1</th>\n",
       "      <td>May 05, 2017</td>\n",
       "      <td>28184</td>\n",
       "      <td>28136</td>\n",
       "      <td>28382</td>\n",
       "      <td>28135</td>\n",
       "      <td>0.06K</td>\n",
       "      <td>0.44%</td>\n",
       "      <td>-146.0</td>\n",
       "      <td>295.430176</td>\n",
       "    </tr>\n",
       "    <tr>\n",
       "      <th>2</th>\n",
       "      <td>May 08, 2017</td>\n",
       "      <td>28119</td>\n",
       "      <td>28145</td>\n",
       "      <td>28255</td>\n",
       "      <td>28097</td>\n",
       "      <td>7.85K</td>\n",
       "      <td>-0.23%</td>\n",
       "      <td>30.0</td>\n",
       "      <td>132.123714</td>\n",
       "    </tr>\n",
       "    <tr>\n",
       "      <th>3</th>\n",
       "      <td>May 09, 2017</td>\n",
       "      <td>27981</td>\n",
       "      <td>28125</td>\n",
       "      <td>28192</td>\n",
       "      <td>27947</td>\n",
       "      <td>10.10K</td>\n",
       "      <td>-0.49%</td>\n",
       "      <td>357.0</td>\n",
       "      <td>101.298064</td>\n",
       "    </tr>\n",
       "    <tr>\n",
       "      <th>4</th>\n",
       "      <td>May 10, 2017</td>\n",
       "      <td>28007</td>\n",
       "      <td>28060</td>\n",
       "      <td>28146</td>\n",
       "      <td>27981</td>\n",
       "      <td>9.28K</td>\n",
       "      <td>0.09%</td>\n",
       "      <td>124.0</td>\n",
       "      <td>112.153318</td>\n",
       "    </tr>\n",
       "  </tbody>\n",
       "</table>\n",
       "</div>"
      ],
      "text/plain": [
       "           Date  Price   Open   High    Low    Vol. Change %   Pred  \\\n",
       "0  May 04, 2017  28060  28400  28482  28025   0.08K   -1.79%  738.0   \n",
       "1  May 05, 2017  28184  28136  28382  28135   0.06K    0.44% -146.0   \n",
       "2  May 08, 2017  28119  28145  28255  28097   7.85K   -0.23%   30.0   \n",
       "3  May 09, 2017  27981  28125  28192  27947  10.10K   -0.49%  357.0   \n",
       "4  May 10, 2017  28007  28060  28146  27981   9.28K    0.09%  124.0   \n",
       "\n",
       "          new  \n",
       "0  117.570740  \n",
       "1  295.430176  \n",
       "2  132.123714  \n",
       "3  101.298064  \n",
       "4  112.153318  "
      ]
     },
     "execution_count": 5,
     "metadata": {},
     "output_type": "execute_result"
    }
   ],
   "source": [
    "data.set_index('Date')\n",
    "gold_without_nan = data.dropna()\n",
    "data.head()"
   ]
  },
  {
   "cell_type": "code",
   "execution_count": 73,
   "metadata": {},
   "outputs": [
    {
     "name": "stdout",
     "output_type": "stream",
     "text": [
      "Slope: [[-0.00823083]]\n",
      "Intercept: [343.67028421]\n",
      "Root mean squared error:  73300.46132887459\n",
      "R2 score:  3.732507600850976e-05\n"
     ]
    },
    {
     "data": {
      "image/png": "[encoded data removed]",
      "text/plain": [
       "<Figure size 432x288 with 1 Axes>"
      ]
     },
     "metadata": {},
     "output_type": "display_data"
    }
   ],
   "source": [
    "y = np.array(gold_without_nan[\"Pred\"])\n",
    "x = np.array(gold_without_nan[\"new\"])\n",
    "x = x.reshape(-1,1)\n",
    "y = y.reshape(-1,1)\n",
    "\n",
    "# Model initialization\n",
    "\n",
    "regression_model = LinearRegression()\n",
    "\n",
    "# Fit the data(Training the model)\n",
    "\n",
    "regression_model.fit(x, y)\n",
    "\n",
    "# Predicting\n",
    "\n",
    "y_predicted = regression_model.predict(x)\n",
    "\n",
    "# Model Evaluation\n",
    "\n",
    "rmse = mean_squared_error(y, y_predicted)\n",
    "r2 = r2_score(y, y_predicted)\n",
    "\n",
    "# Printing the value of the coefficients and also Showing the accuracy of the prediction\n",
    "\n",
    "print('Slope:' ,regression_model.coef_)\n",
    "print('Intercept:', regression_model.intercept_)\n",
    "print('Root mean squared error: ', rmse)\n",
    "print('R2 score: ', r2)\n",
    "\n",
    "# Plotting Values\n",
    "\n",
    "plt.scatter(x, y, s=10)\n",
    "plt.xlabel('X')\n",
    "plt.ylabel('Y')\n",
    "\n",
    "# Predicted Values\n",
    "\n",
    "plt.plot(x, y_predicted, color='r')\n",
    "plt.show()"
   ]
  },
  {
   "cell_type": "code",
   "execution_count": 72,
   "metadata": {},
   "outputs": [
    {
     "data": {
      "text/html": [
       "<div>\n",
       "<style scoped>\n",
       "    .dataframe tbody tr th:only-of-type {\n",
       "        vertical-align: middle;\n",
       "    }\n",
       "\n",
       "    .dataframe tbody tr th {\n",
       "        vertical-align: top;\n",
       "    }\n",
       "\n",
       "    .dataframe thead th {\n",
       "        text-align: right;\n",
       "    }\n",
       "</style>\n",
       "<table border=\"1\" class=\"dataframe\">\n",
       "  <thead>\n",
       "    <tr style=\"text-align: right;\">\n",
       "      <th></th>\n",
       "      <th>Date</th>\n",
       "      <th>Price</th>\n",
       "      <th>Open</th>\n",
       "      <th>High</th>\n",
       "      <th>Low</th>\n",
       "      <th>Vol.</th>\n",
       "      <th>Change %</th>\n",
       "      <th>Pred</th>\n",
       "      <th>new</th>\n",
       "    </tr>\n",
       "  </thead>\n",
       "  <tbody>\n",
       "    <tr>\n",
       "      <th>0</th>\n",
       "      <td>May 04, 2017</td>\n",
       "      <td>28060</td>\n",
       "      <td>28400</td>\n",
       "      <td>28482</td>\n",
       "      <td>28025</td>\n",
       "      <td>0.08K</td>\n",
       "      <td>-1.79%</td>\n",
       "      <td>27469.839133</td>\n",
       "      <td>117.570740</td>\n",
       "    </tr>\n",
       "    <tr>\n",
       "      <th>1</th>\n",
       "      <td>May 05, 2017</td>\n",
       "      <td>28184</td>\n",
       "      <td>28136</td>\n",
       "      <td>28382</td>\n",
       "      <td>28135</td>\n",
       "      <td>0.06K</td>\n",
       "      <td>0.44%</td>\n",
       "      <td>5860.905297</td>\n",
       "      <td>295.430176</td>\n",
       "    </tr>\n",
       "    <tr>\n",
       "      <th>2</th>\n",
       "      <td>May 08, 2017</td>\n",
       "      <td>28119</td>\n",
       "      <td>28145</td>\n",
       "      <td>28255</td>\n",
       "      <td>28097</td>\n",
       "      <td>7.85K</td>\n",
       "      <td>-0.23%</td>\n",
       "      <td>25701.733615</td>\n",
       "      <td>132.123714</td>\n",
       "    </tr>\n",
       "    <tr>\n",
       "      <th>3</th>\n",
       "      <td>May 09, 2017</td>\n",
       "      <td>27981</td>\n",
       "      <td>28125</td>\n",
       "      <td>28192</td>\n",
       "      <td>27947</td>\n",
       "      <td>10.10K</td>\n",
       "      <td>-0.49%</td>\n",
       "      <td>29446.878938</td>\n",
       "      <td>101.298064</td>\n",
       "    </tr>\n",
       "    <tr>\n",
       "      <th>4</th>\n",
       "      <td>May 10, 2017</td>\n",
       "      <td>28007</td>\n",
       "      <td>28060</td>\n",
       "      <td>28146</td>\n",
       "      <td>27981</td>\n",
       "      <td>9.28K</td>\n",
       "      <td>0.09%</td>\n",
       "      <td>28128.025836</td>\n",
       "      <td>112.153318</td>\n",
       "    </tr>\n",
       "  </tbody>\n",
       "</table>\n",
       "</div>"
      ],
      "text/plain": [
       "           Date  Price   Open   High    Low    Vol. Change %          Pred  \\\n",
       "0  May 04, 2017  28060  28400  28482  28025   0.08K   -1.79%  27469.839133   \n",
       "1  May 05, 2017  28184  28136  28382  28135   0.06K    0.44%   5860.905297   \n",
       "2  May 08, 2017  28119  28145  28255  28097   7.85K   -0.23%  25701.733615   \n",
       "3  May 09, 2017  27981  28125  28192  27947  10.10K   -0.49%  29446.878938   \n",
       "4  May 10, 2017  28007  28060  28146  27981   9.28K    0.09%  28128.025836   \n",
       "\n",
       "          new  \n",
       "0  117.570740  \n",
       "1  295.430176  \n",
       "2  132.123714  \n",
       "3  101.298064  \n",
       "4  112.153318  "
      ]
     },
     "execution_count": 72,
     "metadata": {},
     "output_type": "execute_result"
    }
   ],
   "source": [
    "# Regression for the complete Data\n",
    "\n",
    "pre_data = data[:]\n",
    "pre_data_new = pre_data['new']\n",
    "pre_data_new = pre_data_new.values.reshape(-1,1)\n",
    "na_data = (regression_model.predict(pre_data_new))#Getting Predicted Values\n",
    "na_data_series = pd.Series(na_data.ravel())\n",
    "sata = na_data_series.to_frame()\n",
    "data['Pred'] = sata\n",
    "data.head()"
   ]
  },
  {
   "cell_type": "code",
   "execution_count": 74,
   "metadata": {},
   "outputs": [
    {
     "name": "stdout",
     "output_type": "stream",
     "text": [
      "Slope: [[-0.00823083]]\n",
      "Intercept: [343.67028421]\n",
      "Root mean squared error:  7.841339027655078e-28\n",
      "R2 score:  1.0\n"
     ]
    },
    {
     "data": {
      "image/png": "[encoded data removed]",
      "text/plain": [
       "<Figure size 432x288 with 1 Axes>"
      ]
     },
     "metadata": {},
     "output_type": "display_data"
    }
   ],
   "source": [
    "y = np.array(data[\"new\"])\n",
    "x = np.array(data[\"Pred\"])\n",
    "x = x.reshape(-1,1)\n",
    "y = y.reshape(-1,1)\n",
    "\n",
    "# Model initialization\n",
    "\n",
    "regression_model = LinearRegression()\n",
    "\n",
    "# Fit the data(train the model)\n",
    "\n",
    "regression_model.fit(x, y)\n",
    "\n",
    "# Predicting the values\n",
    "\n",
    "y_predicted = regression_model.predict(x)\n",
    "\n",
    "# Model evaluation\n",
    "\n",
    "rmse = mean_squared_error(y, y_predicted)\n",
    "r2 = r2_score(y, y_predicted)\n",
    "\n",
    "# Printing values\n",
    "\n",
    "print('Slope:' ,regression_model.coef_)\n",
    "print('Intercept:', regression_model.intercept_)\n",
    "print('Root mean squared error: ', rmse)\n",
    "print('R2 score: ', r2)\n",
    "\n",
    "# Plotting \n",
    "\n",
    "plt.scatter(x, y, s=10)\n",
    "plt.xlabel('X')\n",
    "plt.ylabel('Y')\n",
    "\n",
    "# Predicted values\n",
    "\n",
    "plt.plot(x, y_predicted, color='r')\n",
    "plt.show()"
   ]
  },
  {
   "cell_type": "code",
   "execution_count": 47,
   "metadata": {},
   "outputs": [
    {
     "data": {
      "image/png": "[encoded data removed]",
      "text/plain": [
       "<Figure size 432x288 with 1 Axes>"
      ]
     },
     "metadata": {},
     "output_type": "display_data"
    }
   ],
   "source": [
    "plt.hist(data['Pred'])\n",
    "plt.show()"
   ]
  },
  {
   "cell_type": "code",
   "execution_count": 77,
   "metadata": {},
   "outputs": [
    {
     "data": {
      "image/png": "[encoded data removed]",
      "text/plain": [
       "<Figure size 432x288 with 1 Axes>"
      ]
     },
     "metadata": {},
     "output_type": "display_data"
    }
   ],
   "source": [
    "sns.distplot(data['Pred'])\n",
    "plt.show()"
   ]
  },
  {
   "cell_type": "markdown",
   "metadata": {},
   "source": [
    "The column new is the linear function as the mean squared error for it is very low whereas \n",
    "the pred column is more comaptible as a polynomial function."
   ]
  },
  {
   "cell_type": "markdown",
   "metadata": {},
   "source": [
    "QUERY 3.2"
   ]
  },
  {
   "cell_type": "code",
   "execution_count": 89,
   "metadata": {},
   "outputs": [
    {
     "data": {
      "text/html": [
       "<div>\n",
       "<style scoped>\n",
       "    .dataframe tbody tr th:only-of-type {\n",
       "        vertical-align: middle;\n",
       "    }\n",
       "\n",
       "    .dataframe tbody tr th {\n",
       "        vertical-align: top;\n",
       "    }\n",
       "\n",
       "    .dataframe thead th {\n",
       "        text-align: right;\n",
       "    }\n",
       "</style>\n",
       "<table border=\"1\" class=\"dataframe\">\n",
       "  <thead>\n",
       "    <tr style=\"text-align: right;\">\n",
       "      <th></th>\n",
       "      <th>Symbol</th>\n",
       "      <th>Series</th>\n",
       "      <th>Date</th>\n",
       "      <th>Prev Close</th>\n",
       "      <th>Open Price</th>\n",
       "      <th>High Price</th>\n",
       "      <th>Low Price</th>\n",
       "      <th>Last Price</th>\n",
       "      <th>Close Price</th>\n",
       "      <th>Average Price</th>\n",
       "      <th>Total Traded Quantity</th>\n",
       "      <th>Turnover</th>\n",
       "      <th>No. of Trades</th>\n",
       "      <th>Deliverable Qty</th>\n",
       "      <th>% Dly Qt to Traded Qty</th>\n",
       "    </tr>\n",
       "  </thead>\n",
       "  <tbody>\n",
       "    <tr>\n",
       "      <th>0</th>\n",
       "      <td>PNB</td>\n",
       "      <td>EQ</td>\n",
       "      <td>2017-05-15</td>\n",
       "      <td>169.15</td>\n",
       "      <td>169.95</td>\n",
       "      <td>171.30</td>\n",
       "      <td>166.2</td>\n",
       "      <td>166.85</td>\n",
       "      <td>166.80</td>\n",
       "      <td>168.94</td>\n",
       "      <td>7476618</td>\n",
       "      <td>1.263123e+09</td>\n",
       "      <td>41641</td>\n",
       "      <td>1352589</td>\n",
       "      <td>18.09</td>\n",
       "    </tr>\n",
       "    <tr>\n",
       "      <th>1</th>\n",
       "      <td>PNB</td>\n",
       "      <td>EQ</td>\n",
       "      <td>2017-05-16</td>\n",
       "      <td>166.80</td>\n",
       "      <td>167.35</td>\n",
       "      <td>178.00</td>\n",
       "      <td>164.8</td>\n",
       "      <td>173.20</td>\n",
       "      <td>174.15</td>\n",
       "      <td>173.13</td>\n",
       "      <td>51532461</td>\n",
       "      <td>8.921904e+09</td>\n",
       "      <td>254027</td>\n",
       "      <td>5804867</td>\n",
       "      <td>11.26</td>\n",
       "    </tr>\n",
       "    <tr>\n",
       "      <th>2</th>\n",
       "      <td>PNB</td>\n",
       "      <td>EQ</td>\n",
       "      <td>2017-05-17</td>\n",
       "      <td>174.15</td>\n",
       "      <td>173.00</td>\n",
       "      <td>173.10</td>\n",
       "      <td>164.3</td>\n",
       "      <td>164.80</td>\n",
       "      <td>165.05</td>\n",
       "      <td>167.27</td>\n",
       "      <td>26536944</td>\n",
       "      <td>4.438942e+09</td>\n",
       "      <td>116512</td>\n",
       "      <td>7037498</td>\n",
       "      <td>26.52</td>\n",
       "    </tr>\n",
       "    <tr>\n",
       "      <th>3</th>\n",
       "      <td>PNB</td>\n",
       "      <td>EQ</td>\n",
       "      <td>2017-05-18</td>\n",
       "      <td>165.05</td>\n",
       "      <td>163.40</td>\n",
       "      <td>164.40</td>\n",
       "      <td>157.9</td>\n",
       "      <td>158.25</td>\n",
       "      <td>158.50</td>\n",
       "      <td>161.06</td>\n",
       "      <td>13905573</td>\n",
       "      <td>2.239613e+09</td>\n",
       "      <td>76746</td>\n",
       "      <td>3245443</td>\n",
       "      <td>23.34</td>\n",
       "    </tr>\n",
       "    <tr>\n",
       "      <th>4</th>\n",
       "      <td>PNB</td>\n",
       "      <td>EQ</td>\n",
       "      <td>2017-05-19</td>\n",
       "      <td>158.50</td>\n",
       "      <td>159.50</td>\n",
       "      <td>162.25</td>\n",
       "      <td>154.1</td>\n",
       "      <td>155.20</td>\n",
       "      <td>155.20</td>\n",
       "      <td>157.59</td>\n",
       "      <td>16311602</td>\n",
       "      <td>2.570540e+09</td>\n",
       "      <td>82394</td>\n",
       "      <td>2816963</td>\n",
       "      <td>17.27</td>\n",
       "    </tr>\n",
       "  </tbody>\n",
       "</table>\n",
       "</div>"
      ],
      "text/plain": [
       "  Symbol Series       Date  Prev Close  Open Price  High Price  Low Price  \\\n",
       "0    PNB     EQ 2017-05-15      169.15      169.95      171.30      166.2   \n",
       "1    PNB     EQ 2017-05-16      166.80      167.35      178.00      164.8   \n",
       "2    PNB     EQ 2017-05-17      174.15      173.00      173.10      164.3   \n",
       "3    PNB     EQ 2017-05-18      165.05      163.40      164.40      157.9   \n",
       "4    PNB     EQ 2017-05-19      158.50      159.50      162.25      154.1   \n",
       "\n",
       "   Last Price  Close Price  Average Price  Total Traded Quantity  \\\n",
       "0      166.85       166.80         168.94                7476618   \n",
       "1      173.20       174.15         173.13               51532461   \n",
       "2      164.80       165.05         167.27               26536944   \n",
       "3      158.25       158.50         161.06               13905573   \n",
       "4      155.20       155.20         157.59               16311602   \n",
       "\n",
       "       Turnover  No. of Trades  Deliverable Qty  % Dly Qt to Traded Qty  \n",
       "0  1.263123e+09          41641          1352589                   18.09  \n",
       "1  8.921904e+09         254027          5804867                   11.26  \n",
       "2  4.438942e+09         116512          7037498                   26.52  \n",
       "3  2.239613e+09          76746          3245443                   23.34  \n",
       "4  2.570540e+09          82394          2816963                   17.27  "
      ]
     },
     "execution_count": 89,
     "metadata": {},
     "output_type": "execute_result"
    }
   ],
   "source": [
    "\n",
    "PNB=pd.read_csv('PNB.csv')\n",
    "Nifty=pd.read_csv('Nifty50.csv')\n",
    "Nifty['Date']=Nifty['Date'].astype('datetime64[ns]')\n",
    "PNB['Date']=PNB['Date'].astype('datetime64[ns]')\n",
    "\n",
    "PNB.head()"
   ]
  },
  {
   "cell_type": "code",
   "execution_count": 88,
   "metadata": {},
   "outputs": [
    {
     "data": {
      "text/html": [
       "<div>\n",
       "<style scoped>\n",
       "    .dataframe tbody tr th:only-of-type {\n",
       "        vertical-align: middle;\n",
       "    }\n",
       "\n",
       "    .dataframe tbody tr th {\n",
       "        vertical-align: top;\n",
       "    }\n",
       "\n",
       "    .dataframe thead th {\n",
       "        text-align: right;\n",
       "    }\n",
       "</style>\n",
       "<table border=\"1\" class=\"dataframe\">\n",
       "  <thead>\n",
       "    <tr style=\"text-align: right;\">\n",
       "      <th></th>\n",
       "      <th>Open</th>\n",
       "      <th>High</th>\n",
       "      <th>Low</th>\n",
       "      <th>Close</th>\n",
       "      <th>Shares Traded</th>\n",
       "      <th>Turnover (Rs. Cr)</th>\n",
       "    </tr>\n",
       "    <tr>\n",
       "      <th>Date</th>\n",
       "      <th></th>\n",
       "      <th></th>\n",
       "      <th></th>\n",
       "      <th></th>\n",
       "      <th></th>\n",
       "      <th></th>\n",
       "    </tr>\n",
       "  </thead>\n",
       "  <tbody>\n",
       "    <tr>\n",
       "      <th>2017-05-15</th>\n",
       "      <td>9433.55</td>\n",
       "      <td>9449.25</td>\n",
       "      <td>9423.10</td>\n",
       "      <td>9445.40</td>\n",
       "      <td>145163953</td>\n",
       "      <td>7790.97</td>\n",
       "    </tr>\n",
       "    <tr>\n",
       "      <th>2017-05-16</th>\n",
       "      <td>9461.00</td>\n",
       "      <td>9517.20</td>\n",
       "      <td>9456.35</td>\n",
       "      <td>9512.25</td>\n",
       "      <td>171709433</td>\n",
       "      <td>9209.89</td>\n",
       "    </tr>\n",
       "    <tr>\n",
       "      <th>2017-05-17</th>\n",
       "      <td>9517.60</td>\n",
       "      <td>9532.60</td>\n",
       "      <td>9486.10</td>\n",
       "      <td>9525.75</td>\n",
       "      <td>211856040</td>\n",
       "      <td>10726.23</td>\n",
       "    </tr>\n",
       "    <tr>\n",
       "      <th>2017-05-18</th>\n",
       "      <td>9453.20</td>\n",
       "      <td>9489.10</td>\n",
       "      <td>9418.10</td>\n",
       "      <td>9429.45</td>\n",
       "      <td>199340647</td>\n",
       "      <td>10782.46</td>\n",
       "    </tr>\n",
       "    <tr>\n",
       "      <th>2017-05-19</th>\n",
       "      <td>9469.90</td>\n",
       "      <td>9505.75</td>\n",
       "      <td>9390.75</td>\n",
       "      <td>9427.90</td>\n",
       "      <td>259861396</td>\n",
       "      <td>11544.77</td>\n",
       "    </tr>\n",
       "  </tbody>\n",
       "</table>\n",
       "</div>"
      ],
      "text/plain": [
       "               Open     High      Low    Close  Shares Traded  \\\n",
       "Date                                                            \n",
       "2017-05-15  9433.55  9449.25  9423.10  9445.40      145163953   \n",
       "2017-05-16  9461.00  9517.20  9456.35  9512.25      171709433   \n",
       "2017-05-17  9517.60  9532.60  9486.10  9525.75      211856040   \n",
       "2017-05-18  9453.20  9489.10  9418.10  9429.45      199340647   \n",
       "2017-05-19  9469.90  9505.75  9390.75  9427.90      259861396   \n",
       "\n",
       "            Turnover (Rs. Cr)  \n",
       "Date                           \n",
       "2017-05-15            7790.97  \n",
       "2017-05-16            9209.89  \n",
       "2017-05-17           10726.23  \n",
       "2017-05-18           10782.46  \n",
       "2017-05-19           11544.77  "
      ]
     },
     "execution_count": 88,
     "metadata": {},
     "output_type": "execute_result"
    }
   ],
   "source": [
    "nifty_data = Nifty.sort_values('Date')\n",
    "Nifty.set_index('Date', inplace=True)\n",
    "Nifty.head()"
   ]
  },
  {
   "cell_type": "code",
   "execution_count": 91,
   "metadata": {},
   "outputs": [
    {
     "data": {
      "image/png": "[encoded data removed]",
      "text/plain": [
       "<Figure size 1440x720 with 1 Axes>"
      ]
     },
     "metadata": {},
     "output_type": "display_data"
    }
   ],
   "source": [
    "fil_PNB = PNB[405:]\n",
    "fil_Nifty = Nifty[405:]\n",
    "return_PNB = fil_PNB['Close Price'].pct_change()\n",
    "return_Nifty = fil_Nifty['Close'].pct_change()\n",
    "plt.figure(figsize=(20,10))\n",
    "return_PNB.plot()\n",
    "return_Nifty.plot()\n",
    "plt.ylabel(\"Daily Return of PNB and NIFTY\")\n",
    "my_labels = {\"PNB_ClosePrice\",\"Nifty_ClosePrice\"}\n",
    "plt.legend(labels=my_labels)\n",
    "plt.show()"
   ]
  },
  {
   "cell_type": "code",
   "execution_count": 94,
   "metadata": {},
   "outputs": [
    {
     "data": {
      "text/plain": [
       "LinearRegression(copy_X=True, fit_intercept=True, n_jobs=1, normalize=False)"
      ]
     },
     "execution_count": 94,
     "metadata": {},
     "output_type": "execute_result"
    }
   ],
   "source": [
    "xaxis=[]\n",
    "yaxis=[]\n",
    "for i in range(1,len(PNB)):\n",
    "    xaxis.append((PNB['Close Price'][i]-PNB['Close Price'][i-1])/PNB['Close Price'][i-1])\n",
    "    yaxis.append((Nifty['Close'][i]-Nifty['Close'][i-1])/Nifty['Close'][i-1])\n",
    "\n",
    "l=len(PNB['Date'][PNB['Date']<('2017-8-15')])   # Data for last three months\n",
    "xaxis=np.array(xaxis)\n",
    "yaxis=np.array(yaxis)\n",
    "xaxis=xaxis[0:l]\n",
    "yaxis=yaxis[0:l]\n",
    "yaxis=yaxis.reshape(-1,1)\n",
    "xaxis=xaxis.reshape(-1,1)\n",
    "xt,xte,yt,yte=train_test_split(xaxis,yaxis,test_size=0.2,random_state=0)\n",
    "ob1=LinearRegression()\n",
    "ob1.fit(xt,yt)\n",
    "\n",
    " "
   ]
  },
  {
   "cell_type": "code",
   "execution_count": 95,
   "metadata": {},
   "outputs": [
    {
     "data": {
      "text/plain": [
       "array([[0.1059548]])"
      ]
     },
     "execution_count": 95,
     "metadata": {},
     "output_type": "execute_result"
    }
   ],
   "source": [
    "ob1.coef_\n",
    "#value is less than 1. beta of value less than 1 indicates that the security is less volatile than the market as a whole."
   ]
  },
  {
   "cell_type": "code",
   "execution_count": 98,
   "metadata": {},
   "outputs": [],
   "source": [
    "PNB['Month']=PNB['Date'].dt.month\n",
    "PNB['Year']=PNB['Date'].dt.year\n",
    "Nifty['Month']=Nifty['Date'].dt.month\n",
    "Nifty['Year']=Nifty['Date'].dt.year\n",
    "MonthlyPNB=PNB.groupby([PNB['Year'],PNB['Month']]).sum()\n",
    "MonthlyNifty=Nifty.groupby([Nifty['Year'],Nifty['Month']]).sum()\n",
    "xa=[]\n",
    "ya=[]\n",
    "for i in range(1,len(MonthlyPNB)):\n",
    "    xa.append((MonthlyPNB['Close Price'][i]-MonthlyPNB['Close Price'][i-1])/MonthlyPNB['Close Price'][i-1])\n",
    "    ya.append((MonthlyNifty['Close'][i]-MonthlyNifty['Close'][i-1])/MonthlyNifty['Close'][i-1])\n",
    "xax=np.array(xa)\n",
    "yax=np.array(ya)\n",
    "yax=yax.reshape(-1,1)\n",
    "xax=xax.reshape(-1,1)"
   ]
  },
  {
   "cell_type": "code",
   "execution_count": 99,
   "metadata": {},
   "outputs": [
    {
     "data": {
      "text/plain": [
       "LinearRegression(copy_X=True, fit_intercept=True, n_jobs=1, normalize=False)"
      ]
     },
     "execution_count": 99,
     "metadata": {},
     "output_type": "execute_result"
    }
   ],
   "source": [
    "xtr,xtes,ytr,ytes=train_test_split(xax,yax,test_size=0.2,random_state=0)\n",
    "ob2=LinearRegression()\n",
    "ob2.fit(xtr,ytr)\n"
   ]
  },
  {
   "cell_type": "code",
   "execution_count": 100,
   "metadata": {},
   "outputs": [
    {
     "data": {
      "text/plain": [
       "array([[0.76913476]])"
      ]
     },
     "execution_count": 100,
     "metadata": {},
     "output_type": "execute_result"
    }
   ],
   "source": [
    "ob2.coef_\n",
    "#beta value for months (months returns)"
   ]
  },
  {
   "cell_type": "markdown",
   "metadata": {},
   "source": [
    "With a negative beta value a inverse co relation is shown with the market value.\n",
    "\n",
    "Increase in market value is decrease in the stock value.\n",
    "\n",
    "Beta value were fairly below the value of 1 showing that the stocks of PNB are worth buying as the risk is not that high and a person can expect good returns from this investment.\n",
    "\n",
    "The beta value is shown by the coefficient of the Linear Regession model or slope. The larger the value thehigher the risk. \n",
    "The value between 0 to 1 is desirable as it shows less volatility with the market"
   ]
  },
  {
   "cell_type": "markdown",
   "metadata": {},
   "source": [
    "A beta that is greater than 1.0 indicates that the security's price is theoretically more volatile than the market. For example, if a stock's beta is 1.2, it is assumed to be 20% more volatile than the market.\n",
    "-->A beta value of less than 1.0 means that the security is theoretically less volatile than the market, meaning the portfolio is less risky with the stock included than without it. For example, utility stocks often have low betas because they tend to move more slowly than market averages.\n",
    "-->A beta of -1.0 means that the stock is inversely correlated to the market benchmark as if it were an opposite, mirror image of the benchmark’s trends."
   ]
  }
 ],
 "metadata": {
  "kernelspec": {
   "display_name": "Python 3",
   "language": "python",
   "name": "python3"
  },
  "language_info": {
   "codemirror_mode": {
    "name": "ipython",
    "version": 3
   },
   "file_extension": ".py",
   "mimetype": "text/x-python",
   "name": "python",
   "nbconvert_exporter": "python",
   "pygments_lexer": "ipython3",
   "version": "3.7.1"
  }
 },
 "nbformat": 4,
 "nbformat_minor": 2
}
