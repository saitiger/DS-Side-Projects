{
 "cells": [
  {
   "cell_type": "code",
   "execution_count": 1,
   "id": "1b7db17a",
   "metadata": {},
   "outputs": [],
   "source": [
    "import pandas as pd\n",
    "import seaborn as sns\n",
    "import matplotlib.pyplot as plt\n",
    "import numpy as np\n",
    "import warnings\n",
    "warnings.filterwarnings('ignore')\n",
    "import statsmodels.api as sm\n",
    "import plotly.express as px\n",
    "import plotly.graph_objects as go\n",
    "import streamlit as st\n",
    "from dowhy import CausalModel\n",
    "import networkx as nx\n",
    "from dowhy.utils import networkx_plotting"
   ]
  },
  {
   "cell_type": "code",
   "execution_count": 2,
   "id": "4951f265",
   "metadata": {},
   "outputs": [],
   "source": [
    "df = pd.read_excel('Sales Analysis.xlsx')"
   ]
  },
  {
   "cell_type": "code",
   "execution_count": 3,
   "id": "aea36c2b",
   "metadata": {},
   "outputs": [
    {
     "data": {
      "text/html": [
       "<div>\n",
       "<style scoped>\n",
       "    .dataframe tbody tr th:only-of-type {\n",
       "        vertical-align: middle;\n",
       "    }\n",
       "\n",
       "    .dataframe tbody tr th {\n",
       "        vertical-align: top;\n",
       "    }\n",
       "\n",
       "    .dataframe thead th {\n",
       "        text-align: right;\n",
       "    }\n",
       "</style>\n",
       "<table border=\"1\" class=\"dataframe\">\n",
       "  <thead>\n",
       "    <tr style=\"text-align: right;\">\n",
       "      <th></th>\n",
       "      <th>Order ID</th>\n",
       "      <th>Customer Name</th>\n",
       "      <th>Product</th>\n",
       "      <th>Region</th>\n",
       "      <th>Sales ('000, USD)</th>\n",
       "      <th>Registered At</th>\n",
       "      <th>Purchased At</th>\n",
       "      <th>Refunded</th>\n",
       "      <th>Origin</th>\n",
       "    </tr>\n",
       "  </thead>\n",
       "  <tbody>\n",
       "    <tr>\n",
       "      <th>0</th>\n",
       "      <td>1</td>\n",
       "      <td>Jones</td>\n",
       "      <td>A</td>\n",
       "      <td>South</td>\n",
       "      <td>500</td>\n",
       "      <td>2018-01-12 02:00:00</td>\n",
       "      <td>2018-06-12 18:59:00</td>\n",
       "      <td>False</td>\n",
       "      <td>referral</td>\n",
       "    </tr>\n",
       "    <tr>\n",
       "      <th>1</th>\n",
       "      <td>2</td>\n",
       "      <td>Kivell</td>\n",
       "      <td>B</td>\n",
       "      <td>East</td>\n",
       "      <td>400</td>\n",
       "      <td>2018-01-12 12:23:00</td>\n",
       "      <td>2018-06-12 19:54:00</td>\n",
       "      <td>False</td>\n",
       "      <td>display</td>\n",
       "    </tr>\n",
       "    <tr>\n",
       "      <th>2</th>\n",
       "      <td>3</td>\n",
       "      <td>James</td>\n",
       "      <td>G</td>\n",
       "      <td>North</td>\n",
       "      <td>100</td>\n",
       "      <td>2018-01-12 13:49:00</td>\n",
       "      <td>2018-06-13 16:37:00</td>\n",
       "      <td>False</td>\n",
       "      <td>social</td>\n",
       "    </tr>\n",
       "    <tr>\n",
       "      <th>3</th>\n",
       "      <td>4</td>\n",
       "      <td>Jack</td>\n",
       "      <td>F</td>\n",
       "      <td>West</td>\n",
       "      <td>200</td>\n",
       "      <td>2018-01-12 16:07:00</td>\n",
       "      <td>2018-06-14 14:30:00</td>\n",
       "      <td>False</td>\n",
       "      <td>social</td>\n",
       "    </tr>\n",
       "    <tr>\n",
       "      <th>4</th>\n",
       "      <td>5</td>\n",
       "      <td>Anny</td>\n",
       "      <td>B</td>\n",
       "      <td>Central</td>\n",
       "      <td>250</td>\n",
       "      <td>2018-01-12 18:25:00</td>\n",
       "      <td>2018-06-14 15:43:00</td>\n",
       "      <td>True</td>\n",
       "      <td>other</td>\n",
       "    </tr>\n",
       "  </tbody>\n",
       "</table>\n",
       "</div>"
      ],
      "text/plain": [
       "   Order ID Customer Name Product   Region  Sales ('000, USD)  \\\n",
       "0         1         Jones       A    South                500   \n",
       "1         2        Kivell       B     East                400   \n",
       "2         3         James       G    North                100   \n",
       "3         4          Jack       F     West                200   \n",
       "4         5          Anny       B  Central                250   \n",
       "\n",
       "        Registered At        Purchased At  Refunded    Origin  \n",
       "0 2018-01-12 02:00:00 2018-06-12 18:59:00     False  referral  \n",
       "1 2018-01-12 12:23:00 2018-06-12 19:54:00     False   display  \n",
       "2 2018-01-12 13:49:00 2018-06-13 16:37:00     False    social  \n",
       "3 2018-01-12 16:07:00 2018-06-14 14:30:00     False    social  \n",
       "4 2018-01-12 18:25:00 2018-06-14 15:43:00      True     other  "
      ]
     },
     "execution_count": 3,
     "metadata": {},
     "output_type": "execute_result"
    }
   ],
   "source": [
    "df.head()"
   ]
  },
  {
   "cell_type": "code",
   "execution_count": 55,
   "id": "573f3a44",
   "metadata": {},
   "outputs": [
    {
     "data": {
      "image/png": "[encoded data removed]",
      "text/latex": [
       "$\\displaystyle 150$"
      ],
      "text/plain": [
       "150"
      ]
     },
     "execution_count": 55,
     "metadata": {},
     "output_type": "execute_result"
    }
   ],
   "source": [
    "df['Purchased At'].nunique()"
   ]
  },
  {
   "cell_type": "code",
   "execution_count": 4,
   "id": "0753a0c1",
   "metadata": {},
   "outputs": [
    {
     "data": {
      "text/plain": [
       "Order ID                      int64\n",
       "Customer Name                object\n",
       "Product                      object\n",
       "Region                       object\n",
       "Sales ('000, USD)             int64\n",
       "Registered At        datetime64[ns]\n",
       "Purchased At         datetime64[ns]\n",
       "Refunded                       bool\n",
       "Origin                       object\n",
       "dtype: object"
      ]
     },
     "execution_count": 4,
     "metadata": {},
     "output_type": "execute_result"
    }
   ],
   "source": [
    "df.dtypes"
   ]
  },
  {
   "cell_type": "code",
   "execution_count": 5,
   "id": "807fba52",
   "metadata": {},
   "outputs": [],
   "source": [
    "df.rename(columns = {\"Sales ('000, USD)\":\"Sales\"},inplace = True)"
   ]
  },
  {
   "cell_type": "code",
   "execution_count": 6,
   "id": "f08dfcc3",
   "metadata": {},
   "outputs": [],
   "source": [
    "df['Customer Name'] = df['Customer Name'].astype(str)\n",
    "\n",
    "df['Origin'] = df['Origin'].astype(str)\n",
    "\n",
    "df['Product'] = df['Product'].astype(str)"
   ]
  },
  {
   "cell_type": "code",
   "execution_count": 7,
   "id": "cb7a2823",
   "metadata": {},
   "outputs": [
    {
     "data": {
      "text/plain": [
       "Order ID                  int64\n",
       "Customer Name            object\n",
       "Product                  object\n",
       "Region                   object\n",
       "Sales                     int64\n",
       "Registered At    datetime64[ns]\n",
       "Purchased At     datetime64[ns]\n",
       "Refunded                   bool\n",
       "Origin                   object\n",
       "dtype: object"
      ]
     },
     "execution_count": 7,
     "metadata": {},
     "output_type": "execute_result"
    }
   ],
   "source": [
    "df.dtypes"
   ]
  },
  {
   "cell_type": "code",
   "execution_count": 8,
   "id": "01eaadf3",
   "metadata": {},
   "outputs": [
    {
     "data": {
      "text/html": [
       "<div>\n",
       "<style scoped>\n",
       "    .dataframe tbody tr th:only-of-type {\n",
       "        vertical-align: middle;\n",
       "    }\n",
       "\n",
       "    .dataframe tbody tr th {\n",
       "        vertical-align: top;\n",
       "    }\n",
       "\n",
       "    .dataframe thead th {\n",
       "        text-align: right;\n",
       "    }\n",
       "</style>\n",
       "<table border=\"1\" class=\"dataframe\">\n",
       "  <thead>\n",
       "    <tr style=\"text-align: right;\">\n",
       "      <th></th>\n",
       "      <th>Order ID</th>\n",
       "      <th>Sales</th>\n",
       "    </tr>\n",
       "  </thead>\n",
       "  <tbody>\n",
       "    <tr>\n",
       "      <th>count</th>\n",
       "      <td>150.000000</td>\n",
       "      <td>150.000000</td>\n",
       "    </tr>\n",
       "    <tr>\n",
       "      <th>mean</th>\n",
       "      <td>76.040000</td>\n",
       "      <td>289.033333</td>\n",
       "    </tr>\n",
       "    <tr>\n",
       "      <th>std</th>\n",
       "      <td>44.358346</td>\n",
       "      <td>127.018860</td>\n",
       "    </tr>\n",
       "    <tr>\n",
       "      <th>min</th>\n",
       "      <td>1.000000</td>\n",
       "      <td>100.000000</td>\n",
       "    </tr>\n",
       "    <tr>\n",
       "      <th>25%</th>\n",
       "      <td>38.250000</td>\n",
       "      <td>200.000000</td>\n",
       "    </tr>\n",
       "    <tr>\n",
       "      <th>50%</th>\n",
       "      <td>75.500000</td>\n",
       "      <td>300.000000</td>\n",
       "    </tr>\n",
       "    <tr>\n",
       "      <th>75%</th>\n",
       "      <td>113.750000</td>\n",
       "      <td>350.000000</td>\n",
       "    </tr>\n",
       "    <tr>\n",
       "      <th>max</th>\n",
       "      <td>190.000000</td>\n",
       "      <td>550.000000</td>\n",
       "    </tr>\n",
       "  </tbody>\n",
       "</table>\n",
       "</div>"
      ],
      "text/plain": [
       "         Order ID       Sales\n",
       "count  150.000000  150.000000\n",
       "mean    76.040000  289.033333\n",
       "std     44.358346  127.018860\n",
       "min      1.000000  100.000000\n",
       "25%     38.250000  200.000000\n",
       "50%     75.500000  300.000000\n",
       "75%    113.750000  350.000000\n",
       "max    190.000000  550.000000"
      ]
     },
     "execution_count": 8,
     "metadata": {},
     "output_type": "execute_result"
    }
   ],
   "source": [
    "df.describe()"
   ]
  },
  {
   "cell_type": "code",
   "execution_count": 9,
   "id": "908c545a",
   "metadata": {},
   "outputs": [
    {
     "name": "stdout",
     "output_type": "stream",
     "text": [
      "<class 'pandas.core.frame.DataFrame'>\n",
      "RangeIndex: 150 entries, 0 to 149\n",
      "Data columns (total 9 columns):\n",
      " #   Column         Non-Null Count  Dtype         \n",
      "---  ------         --------------  -----         \n",
      " 0   Order ID       150 non-null    int64         \n",
      " 1   Customer Name  150 non-null    object        \n",
      " 2   Product        150 non-null    object        \n",
      " 3   Region         150 non-null    object        \n",
      " 4   Sales          150 non-null    int64         \n",
      " 5   Registered At  150 non-null    datetime64[ns]\n",
      " 6   Purchased At   150 non-null    datetime64[ns]\n",
      " 7   Refunded       150 non-null    bool          \n",
      " 8   Origin         150 non-null    object        \n",
      "dtypes: bool(1), datetime64[ns](2), int64(2), object(4)\n",
      "memory usage: 9.7+ KB\n"
     ]
    }
   ],
   "source": [
    "df.info()"
   ]
  },
  {
   "cell_type": "code",
   "execution_count": 10,
   "id": "3b2ef0fb",
   "metadata": {},
   "outputs": [
    {
     "data": {
      "text/plain": [
       "social            35\n",
       "organic_search    31\n",
       "paid_search       28\n",
       "unknown           16\n",
       "email             14\n",
       "direct_traffic    13\n",
       "referral           6\n",
       "display            4\n",
       "other              3\n",
       "Name: Origin, dtype: int64"
      ]
     },
     "execution_count": 10,
     "metadata": {},
     "output_type": "execute_result"
    }
   ],
   "source": [
    "df['Origin'].value_counts()"
   ]
  },
  {
   "cell_type": "code",
   "execution_count": 11,
   "id": "e65d72ab",
   "metadata": {},
   "outputs": [
    {
     "data": {
      "text/plain": [
       "Region\n",
       "Central     7755\n",
       "East       11960\n",
       "North       6775\n",
       "South       7695\n",
       "West        9170\n",
       "Name: Sales, dtype: int64"
      ]
     },
     "execution_count": 11,
     "metadata": {},
     "output_type": "execute_result"
    }
   ],
   "source": [
    "df.groupby('Region')['Sales'].sum()"
   ]
  },
  {
   "cell_type": "code",
   "execution_count": 12,
   "id": "039de558",
   "metadata": {},
   "outputs": [
    {
     "data": {
      "text/plain": [
       "Origin\n",
       "direct_traffic    0\n",
       "display           0\n",
       "email             0\n",
       "organic_search    1\n",
       "other             1\n",
       "paid_search       2\n",
       "referral          0\n",
       "social            1\n",
       "unknown           2\n",
       "Name: Refunded, dtype: int64"
      ]
     },
     "execution_count": 12,
     "metadata": {},
     "output_type": "execute_result"
    }
   ],
   "source": [
    "df.groupby('Origin')['Refunded'].sum()"
   ]
  },
  {
   "cell_type": "code",
   "execution_count": 67,
   "id": "38afdd04",
   "metadata": {},
   "outputs": [
    {
     "data": {
      "application/vnd.plotly.v1+json": {
       "config": {
        "plotlyServerURL": "https://plot.ly"
       },
       "data": [
        {
         "link": {
          "source": [
           0,
           1,
           2,
           3,
           4,
           5,
           6,
           7,
           8
          ],
          "target": [
           9,
           9,
           9,
           9,
           9,
           9,
           9,
           9,
           9
          ],
          "value": [
           10280,
           9350,
           8475,
           5125,
           3990,
           3160,
           1335,
           1040,
           600
          ]
         },
         "node": {
          "color": "blue",
          "label": [
           "socialTotal Sales",
           "organic_searchTotal Sales",
           "paid_searchTotal Sales",
           "unknownTotal Sales",
           "emailTotal Sales",
           "direct_trafficTotal Sales",
           "referralTotal Sales",
           "displayTotal Sales",
           "otherTotal Sales"
          ],
          "line": {
           "color": "black",
           "width": 0.5
          },
          "pad": 15,
          "thickness": 20
         },
         "type": "sankey"
        }
       ],
       "layout": {
        "font": {
         "size": 10
        },
        "template": {
         "data": {
          "candlestick": [
           {
            "decreasing": {
             "line": {
              "color": "#000033"
             }
            },
            "increasing": {
             "line": {
              "color": "#000032"
             }
            },
            "type": "candlestick"
           }
          ],
          "contour": [
           {
            "colorscale": [
             [
              0,
              "#000011"
             ],
             [
              0.1111111111111111,
              "#000012"
             ],
             [
              0.2222222222222222,
              "#000013"
             ],
             [
              0.3333333333333333,
              "#000014"
             ],
             [
              0.4444444444444444,
              "#000015"
             ],
             [
              0.5555555555555556,
              "#000016"
             ],
             [
              0.6666666666666666,
              "#000017"
             ],
             [
              0.7777777777777778,
              "#000018"
             ],
             [
              0.8888888888888888,
              "#000019"
             ],
             [
              1,
              "#000020"
             ]
            ],
            "type": "contour"
           }
          ],
          "contourcarpet": [
           {
            "colorscale": [
             [
              0,
              "#000011"
             ],
             [
              0.1111111111111111,
              "#000012"
             ],
             [
              0.2222222222222222,
              "#000013"
             ],
             [
              0.3333333333333333,
              "#000014"
             ],
             [
              0.4444444444444444,
              "#000015"
             ],
             [
              0.5555555555555556,
              "#000016"
             ],
             [
              0.6666666666666666,
              "#000017"
             ],
             [
              0.7777777777777778,
              "#000018"
             ],
             [
              0.8888888888888888,
              "#000019"
             ],
             [
              1,
              "#000020"
             ]
            ],
            "type": "contourcarpet"
           }
          ],
          "heatmap": [
           {
            "colorscale": [
             [
              0,
              "#000011"
             ],
             [
              0.1111111111111111,
              "#000012"
             ],
             [
              0.2222222222222222,
              "#000013"
             ],
             [
              0.3333333333333333,
              "#000014"
             ],
             [
              0.4444444444444444,
              "#000015"
             ],
             [
              0.5555555555555556,
              "#000016"
             ],
             [
              0.6666666666666666,
              "#000017"
             ],
             [
              0.7777777777777778,
              "#000018"
             ],
             [
              0.8888888888888888,
              "#000019"
             ],
             [
              1,
              "#000020"
             ]
            ],
            "type": "heatmap"
           }
          ],
          "histogram2d": [
           {
            "colorscale": [
             [
              0,
              "#000011"
             ],
             [
              0.1111111111111111,
              "#000012"
             ],
             [
              0.2222222222222222,
              "#000013"
             ],
             [
              0.3333333333333333,
              "#000014"
             ],
             [
              0.4444444444444444,
              "#000015"
             ],
             [
              0.5555555555555556,
              "#000016"
             ],
             [
              0.6666666666666666,
              "#000017"
             ],
             [
              0.7777777777777778,
              "#000018"
             ],
             [
              0.8888888888888888,
              "#000019"
             ],
             [
              1,
              "#000020"
             ]
            ],
            "type": "histogram2d"
           }
          ],
          "icicle": [
           {
            "textfont": {
             "color": "white"
            },
            "type": "icicle"
           }
          ],
          "sankey": [
           {
            "textfont": {
             "color": "#000036"
            },
            "type": "sankey"
           }
          ],
          "scatter": [
           {
            "marker": {
             "line": {
              "width": 0
             }
            },
            "type": "scatter"
           }
          ],
          "table": [
           {
            "cells": {
             "fill": {
              "color": "#000038"
             },
             "font": {
              "color": "#000037"
             },
             "line": {
              "color": "#000039"
             }
            },
            "header": {
             "fill": {
              "color": "#000040"
             },
             "font": {
              "color": "#000036"
             },
             "line": {
              "color": "#000039"
             }
            },
            "type": "table"
           }
          ],
          "waterfall": [
           {
            "connector": {
             "line": {
              "color": "#000036",
              "width": 2
             }
            },
            "decreasing": {
             "marker": {
              "color": "#000033"
             }
            },
            "increasing": {
             "marker": {
              "color": "#000032"
             }
            },
            "totals": {
             "marker": {
              "color": "#000034"
             }
            },
            "type": "waterfall"
           }
          ]
         },
         "layout": {
          "coloraxis": {
           "colorscale": [
            [
             0,
             "#000011"
            ],
            [
             0.1111111111111111,
             "#000012"
            ],
            [
             0.2222222222222222,
             "#000013"
            ],
            [
             0.3333333333333333,
             "#000014"
            ],
            [
             0.4444444444444444,
             "#000015"
            ],
            [
             0.5555555555555556,
             "#000016"
            ],
            [
             0.6666666666666666,
             "#000017"
            ],
            [
             0.7777777777777778,
             "#000018"
            ],
            [
             0.8888888888888888,
             "#000019"
            ],
            [
             1,
             "#000020"
            ]
           ]
          },
          "colorscale": {
           "diverging": [
            [
             0,
             "#000021"
            ],
            [
             0.1,
             "#000022"
            ],
            [
             0.2,
             "#000023"
            ],
            [
             0.3,
             "#000024"
            ],
            [
             0.4,
             "#000025"
            ],
            [
             0.5,
             "#000026"
            ],
            [
             0.6,
             "#000027"
            ],
            [
             0.7,
             "#000028"
            ],
            [
             0.8,
             "#000029"
            ],
            [
             0.9,
             "#000030"
            ],
            [
             1,
             "#000031"
            ]
           ],
           "sequential": [
            [
             0,
             "#000011"
            ],
            [
             0.1111111111111111,
             "#000012"
            ],
            [
             0.2222222222222222,
             "#000013"
            ],
            [
             0.3333333333333333,
             "#000014"
            ],
            [
             0.4444444444444444,
             "#000015"
            ],
            [
             0.5555555555555556,
             "#000016"
            ],
            [
             0.6666666666666666,
             "#000017"
            ],
            [
             0.7777777777777778,
             "#000018"
            ],
            [
             0.8888888888888888,
             "#000019"
            ],
            [
             1,
             "#000020"
            ]
           ],
           "sequentialminus": [
            [
             0,
             "#000011"
            ],
            [
             0.1111111111111111,
             "#000012"
            ],
            [
             0.2222222222222222,
             "#000013"
            ],
            [
             0.3333333333333333,
             "#000014"
            ],
            [
             0.4444444444444444,
             "#000015"
            ],
            [
             0.5555555555555556,
             "#000016"
            ],
            [
             0.6666666666666666,
             "#000017"
            ],
            [
             0.7777777777777778,
             "#000018"
            ],
            [
             0.8888888888888888,
             "#000019"
            ],
            [
             1,
             "#000020"
            ]
           ]
          },
          "colorway": [
           "#000001",
           "#000002",
           "#000003",
           "#000004",
           "#000005",
           "#000006",
           "#000007",
           "#000008",
           "#000009",
           "#000010"
          ]
         }
        },
        "title": {
         "text": "Sales Funnel"
        }
       }
      },
      "text/html": [
       "<div>                            <div id=\"f28c4cf3-2e27-421a-ac5f-eb17e5350512\" class=\"plotly-graph-div\" style=\"height:525px; width:100%;\"></div>            <script type=\"text/javascript\">                require([\"plotly\"], function(Plotly) {                    window.PLOTLYENV=window.PLOTLYENV || {};                                    if (document.getElementById(\"f28c4cf3-2e27-421a-ac5f-eb17e5350512\")) {                    Plotly.newPlot(                        \"f28c4cf3-2e27-421a-ac5f-eb17e5350512\",                        [{\"link\":{\"source\":[0,1,2,3,4,5,6,7,8],\"target\":[9,9,9,9,9,9,9,9,9],\"value\":[10280,9350,8475,5125,3990,3160,1335,1040,600]},\"node\":{\"color\":\"blue\",\"label\":[\"socialTotal Sales\",\"organic_searchTotal Sales\",\"paid_searchTotal Sales\",\"unknownTotal Sales\",\"emailTotal Sales\",\"direct_trafficTotal Sales\",\"referralTotal Sales\",\"displayTotal Sales\",\"otherTotal Sales\"],\"line\":{\"color\":\"black\",\"width\":0.5},\"pad\":15,\"thickness\":20},\"type\":\"sankey\"}],                        {\"template\":{\"data\":{\"candlestick\":[{\"decreasing\":{\"line\":{\"color\":\"#000033\"}},\"increasing\":{\"line\":{\"color\":\"#000032\"}},\"type\":\"candlestick\"}],\"contourcarpet\":[{\"colorscale\":[[0.0,\"#000011\"],[0.1111111111111111,\"#000012\"],[0.2222222222222222,\"#000013\"],[0.3333333333333333,\"#000014\"],[0.4444444444444444,\"#000015\"],[0.5555555555555556,\"#000016\"],[0.6666666666666666,\"#000017\"],[0.7777777777777778,\"#000018\"],[0.8888888888888888,\"#000019\"],[1.0,\"#000020\"]],\"type\":\"contourcarpet\"}],\"contour\":[{\"colorscale\":[[0.0,\"#000011\"],[0.1111111111111111,\"#000012\"],[0.2222222222222222,\"#000013\"],[0.3333333333333333,\"#000014\"],[0.4444444444444444,\"#000015\"],[0.5555555555555556,\"#000016\"],[0.6666666666666666,\"#000017\"],[0.7777777777777778,\"#000018\"],[0.8888888888888888,\"#000019\"],[1.0,\"#000020\"]],\"type\":\"contour\"}],\"heatmap\":[{\"colorscale\":[[0.0,\"#000011\"],[0.1111111111111111,\"#000012\"],[0.2222222222222222,\"#000013\"],[0.3333333333333333,\"#000014\"],[0.4444444444444444,\"#000015\"],[0.5555555555555556,\"#000016\"],[0.6666666666666666,\"#000017\"],[0.7777777777777778,\"#000018\"],[0.8888888888888888,\"#000019\"],[1.0,\"#000020\"]],\"type\":\"heatmap\"}],\"histogram2d\":[{\"colorscale\":[[0.0,\"#000011\"],[0.1111111111111111,\"#000012\"],[0.2222222222222222,\"#000013\"],[0.3333333333333333,\"#000014\"],[0.4444444444444444,\"#000015\"],[0.5555555555555556,\"#000016\"],[0.6666666666666666,\"#000017\"],[0.7777777777777778,\"#000018\"],[0.8888888888888888,\"#000019\"],[1.0,\"#000020\"]],\"type\":\"histogram2d\"}],\"icicle\":[{\"textfont\":{\"color\":\"white\"},\"type\":\"icicle\"}],\"sankey\":[{\"textfont\":{\"color\":\"#000036\"},\"type\":\"sankey\"}],\"scatter\":[{\"marker\":{\"line\":{\"width\":0}},\"type\":\"scatter\"}],\"table\":[{\"cells\":{\"fill\":{\"color\":\"#000038\"},\"font\":{\"color\":\"#000037\"},\"line\":{\"color\":\"#000039\"}},\"header\":{\"fill\":{\"color\":\"#000040\"},\"font\":{\"color\":\"#000036\"},\"line\":{\"color\":\"#000039\"}},\"type\":\"table\"}],\"waterfall\":[{\"connector\":{\"line\":{\"color\":\"#000036\",\"width\":2}},\"decreasing\":{\"marker\":{\"color\":\"#000033\"}},\"increasing\":{\"marker\":{\"color\":\"#000032\"}},\"totals\":{\"marker\":{\"color\":\"#000034\"}},\"type\":\"waterfall\"}]},\"layout\":{\"coloraxis\":{\"colorscale\":[[0.0,\"#000011\"],[0.1111111111111111,\"#000012\"],[0.2222222222222222,\"#000013\"],[0.3333333333333333,\"#000014\"],[0.4444444444444444,\"#000015\"],[0.5555555555555556,\"#000016\"],[0.6666666666666666,\"#000017\"],[0.7777777777777778,\"#000018\"],[0.8888888888888888,\"#000019\"],[1.0,\"#000020\"]]},\"colorscale\":{\"diverging\":[[0.0,\"#000021\"],[0.1,\"#000022\"],[0.2,\"#000023\"],[0.3,\"#000024\"],[0.4,\"#000025\"],[0.5,\"#000026\"],[0.6,\"#000027\"],[0.7,\"#000028\"],[0.8,\"#000029\"],[0.9,\"#000030\"],[1.0,\"#000031\"]],\"sequential\":[[0.0,\"#000011\"],[0.1111111111111111,\"#000012\"],[0.2222222222222222,\"#000013\"],[0.3333333333333333,\"#000014\"],[0.4444444444444444,\"#000015\"],[0.5555555555555556,\"#000016\"],[0.6666666666666666,\"#000017\"],[0.7777777777777778,\"#000018\"],[0.8888888888888888,\"#000019\"],[1.0,\"#000020\"]],\"sequentialminus\":[[0.0,\"#000011\"],[0.1111111111111111,\"#000012\"],[0.2222222222222222,\"#000013\"],[0.3333333333333333,\"#000014\"],[0.4444444444444444,\"#000015\"],[0.5555555555555556,\"#000016\"],[0.6666666666666666,\"#000017\"],[0.7777777777777778,\"#000018\"],[0.8888888888888888,\"#000019\"],[1.0,\"#000020\"]]},\"colorway\":[\"#000001\",\"#000002\",\"#000003\",\"#000004\",\"#000005\",\"#000006\",\"#000007\",\"#000008\",\"#000009\",\"#000010\"]}},\"title\":{\"text\":\"Sales Funnel\"},\"font\":{\"size\":10}},                        {\"responsive\": true}                    ).then(function(){\n",
       "                            \n",
       "var gd = document.getElementById('f28c4cf3-2e27-421a-ac5f-eb17e5350512');\n",
       "var x = new MutationObserver(function (mutations, observer) {{\n",
       "        var display = window.getComputedStyle(gd).display;\n",
       "        if (!display || display === 'none') {{\n",
       "            console.log([gd, 'removed!']);\n",
       "            Plotly.purge(gd);\n",
       "            observer.disconnect();\n",
       "        }}\n",
       "}});\n",
       "\n",
       "// Listen for the removal of the full notebook cells\n",
       "var notebookContainer = gd.closest('#notebook-container');\n",
       "if (notebookContainer) {{\n",
       "    x.observe(notebookContainer, {childList: true});\n",
       "}}\n",
       "\n",
       "// Listen for the clearing of the current output cell\n",
       "var outputEl = gd.closest('.output');\n",
       "if (outputEl) {{\n",
       "    x.observe(outputEl, {childList: true});\n",
       "}}\n",
       "\n",
       "                        })                };                });            </script>        </div>"
      ]
     },
     "metadata": {},
     "output_type": "display_data"
    }
   ],
   "source": [
    "origins = Origin_info['Origin']\n",
    "total_sales = Origin_info['Total Sales']\n",
    "\n",
    "labels = origins + ['Total Sales']\n",
    "\n",
    "sources = list(range(len(origins)))  \n",
    "targets = [len(origins)] * len(origins)  \n",
    "\n",
    "fig = go.Figure(go.Sankey(\n",
    "    node=dict(\n",
    "        pad=15,\n",
    "        thickness=20,\n",
    "        line=dict(color=\"black\", width=0.5),\n",
    "        label=labels,\n",
    "        color=\"blue\"\n",
    "    ),\n",
    "    link=dict(\n",
    "        source=sources,\n",
    "        target=targets,\n",
    "        value=total_sales\n",
    "    )\n",
    "))\n",
    "\n",
    "fig.update_layout(title_text=\"Sales Funnel\", font_size=10)\n",
    "fig.show()"
   ]
  },
  {
   "cell_type": "code",
   "execution_count": 13,
   "id": "646b3a20",
   "metadata": {},
   "outputs": [],
   "source": [
    "Origin_info = df.groupby('Origin').agg({'Region':'count','Sales':'sum','Refunded':'sum'}).reset_index().rename(columns = {'Region':'Count','Sales':'Total Sales','Refunded':'Products Refunded'}).sort_values(by = 'Total Sales',ascending = False)\n",
    "Origin_info['Average Order Value'] = round(Origin_info['Total Sales']/Origin_info['Count'],2)\n",
    "Origin_info['Percentage of Products Returned'] = round(Origin_info['Products Refunded']/Origin_info['Count']*100,2)\n",
    "\n",
    "# df_melted = Origin_info.melt(id_vars='Origin', value_vars=['Count', 'Total Sales'], var_name='Metric', value_name='Value')"
   ]
  },
  {
   "cell_type": "code",
   "execution_count": 78,
   "id": "38bec824",
   "metadata": {},
   "outputs": [
    {
     "data": {
      "text/html": [
       "<div>\n",
       "<style scoped>\n",
       "    .dataframe tbody tr th:only-of-type {\n",
       "        vertical-align: middle;\n",
       "    }\n",
       "\n",
       "    .dataframe tbody tr th {\n",
       "        vertical-align: top;\n",
       "    }\n",
       "\n",
       "    .dataframe thead th {\n",
       "        text-align: right;\n",
       "    }\n",
       "</style>\n",
       "<table border=\"1\" class=\"dataframe\">\n",
       "  <thead>\n",
       "    <tr style=\"text-align: right;\">\n",
       "      <th></th>\n",
       "      <th>Origin</th>\n",
       "      <th>Count</th>\n",
       "      <th>Total Sales</th>\n",
       "      <th>Products Refunded</th>\n",
       "      <th>Average Order Value</th>\n",
       "      <th>Percentage of Products Returned</th>\n",
       "    </tr>\n",
       "  </thead>\n",
       "  <tbody>\n",
       "    <tr>\n",
       "      <th>8</th>\n",
       "      <td>unknown</td>\n",
       "      <td>16</td>\n",
       "      <td>5125</td>\n",
       "      <td>2</td>\n",
       "      <td>320.31</td>\n",
       "      <td>12.50</td>\n",
       "    </tr>\n",
       "    <tr>\n",
       "      <th>5</th>\n",
       "      <td>paid_search</td>\n",
       "      <td>28</td>\n",
       "      <td>8475</td>\n",
       "      <td>2</td>\n",
       "      <td>302.68</td>\n",
       "      <td>7.14</td>\n",
       "    </tr>\n",
       "    <tr>\n",
       "      <th>3</th>\n",
       "      <td>organic_search</td>\n",
       "      <td>31</td>\n",
       "      <td>9350</td>\n",
       "      <td>1</td>\n",
       "      <td>301.61</td>\n",
       "      <td>3.23</td>\n",
       "    </tr>\n",
       "    <tr>\n",
       "      <th>7</th>\n",
       "      <td>social</td>\n",
       "      <td>35</td>\n",
       "      <td>10280</td>\n",
       "      <td>1</td>\n",
       "      <td>293.71</td>\n",
       "      <td>2.86</td>\n",
       "    </tr>\n",
       "    <tr>\n",
       "      <th>2</th>\n",
       "      <td>email</td>\n",
       "      <td>14</td>\n",
       "      <td>3990</td>\n",
       "      <td>0</td>\n",
       "      <td>285.00</td>\n",
       "      <td>0.00</td>\n",
       "    </tr>\n",
       "    <tr>\n",
       "      <th>1</th>\n",
       "      <td>display</td>\n",
       "      <td>4</td>\n",
       "      <td>1040</td>\n",
       "      <td>0</td>\n",
       "      <td>260.00</td>\n",
       "      <td>0.00</td>\n",
       "    </tr>\n",
       "    <tr>\n",
       "      <th>0</th>\n",
       "      <td>direct_traffic</td>\n",
       "      <td>13</td>\n",
       "      <td>3160</td>\n",
       "      <td>0</td>\n",
       "      <td>243.08</td>\n",
       "      <td>0.00</td>\n",
       "    </tr>\n",
       "    <tr>\n",
       "      <th>6</th>\n",
       "      <td>referral</td>\n",
       "      <td>6</td>\n",
       "      <td>1335</td>\n",
       "      <td>0</td>\n",
       "      <td>222.50</td>\n",
       "      <td>0.00</td>\n",
       "    </tr>\n",
       "    <tr>\n",
       "      <th>4</th>\n",
       "      <td>other</td>\n",
       "      <td>3</td>\n",
       "      <td>600</td>\n",
       "      <td>1</td>\n",
       "      <td>200.00</td>\n",
       "      <td>33.33</td>\n",
       "    </tr>\n",
       "  </tbody>\n",
       "</table>\n",
       "</div>"
      ],
      "text/plain": [
       "           Origin  Count  Total Sales  Products Refunded  Average Order Value  \\\n",
       "8         unknown     16         5125                  2               320.31   \n",
       "5     paid_search     28         8475                  2               302.68   \n",
       "3  organic_search     31         9350                  1               301.61   \n",
       "7          social     35        10280                  1               293.71   \n",
       "2           email     14         3990                  0               285.00   \n",
       "1         display      4         1040                  0               260.00   \n",
       "0  direct_traffic     13         3160                  0               243.08   \n",
       "6        referral      6         1335                  0               222.50   \n",
       "4           other      3          600                  1               200.00   \n",
       "\n",
       "   Percentage of Products Returned  \n",
       "8                            12.50  \n",
       "5                             7.14  \n",
       "3                             3.23  \n",
       "7                             2.86  \n",
       "2                             0.00  \n",
       "1                             0.00  \n",
       "0                             0.00  \n",
       "6                             0.00  \n",
       "4                            33.33  "
      ]
     },
     "execution_count": 78,
     "metadata": {},
     "output_type": "execute_result"
    }
   ],
   "source": [
    "Origin_info.sort_values(by = 'Average Order Value', ascending = False)"
   ]
  },
  {
   "cell_type": "code",
   "execution_count": 16,
   "id": "bedf3dc3",
   "metadata": {},
   "outputs": [
    {
     "data": {
      "text/plain": [
       "B    28\n",
       "G    24\n",
       "F    24\n",
       "C    22\n",
       "D    20\n",
       "A    18\n",
       "E    14\n",
       "Name: Product, dtype: int64"
      ]
     },
     "execution_count": 16,
     "metadata": {},
     "output_type": "execute_result"
    }
   ],
   "source": [
    "df['Product'].value_counts()"
   ]
  },
  {
   "cell_type": "code",
   "execution_count": 19,
   "id": "c17066bb",
   "metadata": {},
   "outputs": [
    {
     "data": {
      "text/html": [
       "<div>\n",
       "<style scoped>\n",
       "    .dataframe tbody tr th:only-of-type {\n",
       "        vertical-align: middle;\n",
       "    }\n",
       "\n",
       "    .dataframe tbody tr th {\n",
       "        vertical-align: top;\n",
       "    }\n",
       "\n",
       "    .dataframe thead th {\n",
       "        text-align: right;\n",
       "    }\n",
       "</style>\n",
       "<table border=\"1\" class=\"dataframe\">\n",
       "  <thead>\n",
       "    <tr style=\"text-align: right;\">\n",
       "      <th></th>\n",
       "      <th>Region</th>\n",
       "      <th>Product</th>\n",
       "    </tr>\n",
       "    <tr>\n",
       "      <th>Region</th>\n",
       "      <th></th>\n",
       "      <th></th>\n",
       "    </tr>\n",
       "  </thead>\n",
       "  <tbody>\n",
       "    <tr>\n",
       "      <th>Central</th>\n",
       "      <td>3</td>\n",
       "      <td>[B, F, A]</td>\n",
       "    </tr>\n",
       "    <tr>\n",
       "      <th>East</th>\n",
       "      <td>2</td>\n",
       "      <td>[F, B]</td>\n",
       "    </tr>\n",
       "    <tr>\n",
       "      <th>North</th>\n",
       "      <td>1</td>\n",
       "      <td>[C]</td>\n",
       "    </tr>\n",
       "    <tr>\n",
       "      <th>South</th>\n",
       "      <td>1</td>\n",
       "      <td>[B]</td>\n",
       "    </tr>\n",
       "  </tbody>\n",
       "</table>\n",
       "</div>"
      ],
      "text/plain": [
       "         Region    Product\n",
       "Region                    \n",
       "Central       3  [B, F, A]\n",
       "East          2     [F, B]\n",
       "North         1        [C]\n",
       "South         1        [B]"
      ]
     },
     "execution_count": 19,
     "metadata": {},
     "output_type": "execute_result"
    }
   ],
   "source": [
    "df[df['Refunded']].groupby('Region').agg({'Region':'count','Product':'unique'})"
   ]
  },
  {
   "cell_type": "code",
   "execution_count": 22,
   "id": "a385cf31",
   "metadata": {},
   "outputs": [
    {
     "data": {
      "text/plain": [
       "Product\n",
       "A                 [Central]\n",
       "B    [Central, East, South]\n",
       "C                   [North]\n",
       "F           [Central, East]\n",
       "Name: Region, dtype: object"
      ]
     },
     "execution_count": 22,
     "metadata": {},
     "output_type": "execute_result"
    }
   ],
   "source": [
    "df[df['Refunded']].groupby('Product')['Region'].unique()"
   ]
  },
  {
   "cell_type": "code",
   "execution_count": 23,
   "id": "c531f821",
   "metadata": {},
   "outputs": [
    {
     "data": {
      "text/plain": [
       "2    82\n",
       "1    68\n",
       "Name: Registered At, dtype: int64"
      ]
     },
     "execution_count": 23,
     "metadata": {},
     "output_type": "execute_result"
    }
   ],
   "source": [
    "df['Registered At'].dt.month.value_counts()"
   ]
  },
  {
   "cell_type": "code",
   "execution_count": 25,
   "id": "fdb5e382",
   "metadata": {},
   "outputs": [],
   "source": [
    "# df[df['Refunded']].groupby('Region')['Product'].count()"
   ]
  },
  {
   "cell_type": "code",
   "execution_count": 26,
   "id": "6fab44ff",
   "metadata": {},
   "outputs": [
    {
     "data": {
      "text/html": [
       "<div>\n",
       "<style scoped>\n",
       "    .dataframe tbody tr th:only-of-type {\n",
       "        vertical-align: middle;\n",
       "    }\n",
       "\n",
       "    .dataframe tbody tr th {\n",
       "        vertical-align: top;\n",
       "    }\n",
       "\n",
       "    .dataframe thead th {\n",
       "        text-align: right;\n",
       "    }\n",
       "</style>\n",
       "<table border=\"1\" class=\"dataframe\">\n",
       "  <thead>\n",
       "    <tr style=\"text-align: right;\">\n",
       "      <th></th>\n",
       "      <th>Region</th>\n",
       "      <th>Origin</th>\n",
       "      <th>count</th>\n",
       "    </tr>\n",
       "  </thead>\n",
       "  <tbody>\n",
       "    <tr>\n",
       "      <th>0</th>\n",
       "      <td>Central</td>\n",
       "      <td>social</td>\n",
       "      <td>9</td>\n",
       "    </tr>\n",
       "    <tr>\n",
       "      <th>8</th>\n",
       "      <td>East</td>\n",
       "      <td>organic_search</td>\n",
       "      <td>11</td>\n",
       "    </tr>\n",
       "    <tr>\n",
       "      <th>16</th>\n",
       "      <td>North</td>\n",
       "      <td>organic_search</td>\n",
       "      <td>7</td>\n",
       "    </tr>\n",
       "    <tr>\n",
       "      <th>24</th>\n",
       "      <td>South</td>\n",
       "      <td>social</td>\n",
       "      <td>6</td>\n",
       "    </tr>\n",
       "    <tr>\n",
       "      <th>33</th>\n",
       "      <td>West</td>\n",
       "      <td>paid_search</td>\n",
       "      <td>7</td>\n",
       "    </tr>\n",
       "  </tbody>\n",
       "</table>\n",
       "</div>"
      ],
      "text/plain": [
       "     Region          Origin  count\n",
       "0   Central          social      9\n",
       "8      East  organic_search     11\n",
       "16    North  organic_search      7\n",
       "24    South          social      6\n",
       "33     West     paid_search      7"
      ]
     },
     "execution_count": 26,
     "metadata": {},
     "output_type": "execute_result"
    }
   ],
   "source": [
    "value_counts_df = df.groupby('Region')['Origin'].value_counts().reset_index(name='count')\n",
    "idx = value_counts_df.groupby('Region')['count'].idxmax()\n",
    "value_counts_df.loc[idx]"
   ]
  },
  {
   "cell_type": "code",
   "execution_count": 27,
   "id": "118e23c5",
   "metadata": {},
   "outputs": [
    {
     "data": {
      "text/plain": [
       "array(['referral', 'display', 'social', 'other', 'paid_search', 'unknown',\n",
       "       'email', 'direct_traffic', 'organic_search'], dtype=object)"
      ]
     },
     "execution_count": 27,
     "metadata": {},
     "output_type": "execute_result"
    }
   ],
   "source": [
    "df['Origin'].unique()"
   ]
  },
  {
   "cell_type": "code",
   "execution_count": 28,
   "id": "9693806a",
   "metadata": {},
   "outputs": [],
   "source": [
    "# Define the mapping\n",
    "mapping = {\n",
    "    'direct_traffic': 'Organic',\n",
    "    'referral': 'Organic',\n",
    "    'organic_search': 'Organic'\n",
    "}\n",
    "\n",
    "# Apply the mapping to the 'Origin' column\n",
    "df['Origin'] = df['Origin'].apply(lambda x: mapping.get(x, 'Paid'))"
   ]
  },
  {
   "cell_type": "code",
   "execution_count": 29,
   "id": "22532f5d",
   "metadata": {},
   "outputs": [
    {
     "data": {
      "text/plain": [
       "Paid       100\n",
       "Organic     50\n",
       "Name: Origin, dtype: int64"
      ]
     },
     "execution_count": 29,
     "metadata": {},
     "output_type": "execute_result"
    }
   ],
   "source": [
    "df['Origin'].value_counts()"
   ]
  },
  {
   "cell_type": "code",
   "execution_count": 75,
   "id": "5442b27c",
   "metadata": {},
   "outputs": [
    {
     "data": {
      "text/html": [
       "<div>\n",
       "<style scoped>\n",
       "    .dataframe tbody tr th:only-of-type {\n",
       "        vertical-align: middle;\n",
       "    }\n",
       "\n",
       "    .dataframe tbody tr th {\n",
       "        vertical-align: top;\n",
       "    }\n",
       "\n",
       "    .dataframe thead th {\n",
       "        text-align: right;\n",
       "    }\n",
       "</style>\n",
       "<table border=\"1\" class=\"dataframe\">\n",
       "  <thead>\n",
       "    <tr style=\"text-align: right;\">\n",
       "      <th></th>\n",
       "      <th>Region</th>\n",
       "      <th>Origin</th>\n",
       "      <th>Sales</th>\n",
       "    </tr>\n",
       "  </thead>\n",
       "  <tbody>\n",
       "    <tr>\n",
       "      <th>1</th>\n",
       "      <td>Central</td>\n",
       "      <td>Paid</td>\n",
       "      <td>5185</td>\n",
       "    </tr>\n",
       "    <tr>\n",
       "      <th>0</th>\n",
       "      <td>Central</td>\n",
       "      <td>Organic</td>\n",
       "      <td>2570</td>\n",
       "    </tr>\n",
       "    <tr>\n",
       "      <th>3</th>\n",
       "      <td>East</td>\n",
       "      <td>Paid</td>\n",
       "      <td>8060</td>\n",
       "    </tr>\n",
       "    <tr>\n",
       "      <th>2</th>\n",
       "      <td>East</td>\n",
       "      <td>Organic</td>\n",
       "      <td>3900</td>\n",
       "    </tr>\n",
       "    <tr>\n",
       "      <th>5</th>\n",
       "      <td>North</td>\n",
       "      <td>Paid</td>\n",
       "      <td>3880</td>\n",
       "    </tr>\n",
       "    <tr>\n",
       "      <th>4</th>\n",
       "      <td>North</td>\n",
       "      <td>Organic</td>\n",
       "      <td>2895</td>\n",
       "    </tr>\n",
       "    <tr>\n",
       "      <th>7</th>\n",
       "      <td>South</td>\n",
       "      <td>Paid</td>\n",
       "      <td>4685</td>\n",
       "    </tr>\n",
       "    <tr>\n",
       "      <th>6</th>\n",
       "      <td>South</td>\n",
       "      <td>Organic</td>\n",
       "      <td>3010</td>\n",
       "    </tr>\n",
       "    <tr>\n",
       "      <th>9</th>\n",
       "      <td>West</td>\n",
       "      <td>Paid</td>\n",
       "      <td>7700</td>\n",
       "    </tr>\n",
       "    <tr>\n",
       "      <th>8</th>\n",
       "      <td>West</td>\n",
       "      <td>Organic</td>\n",
       "      <td>1470</td>\n",
       "    </tr>\n",
       "  </tbody>\n",
       "</table>\n",
       "</div>"
      ],
      "text/plain": [
       "    Region   Origin  Sales\n",
       "1  Central     Paid   5185\n",
       "0  Central  Organic   2570\n",
       "3     East     Paid   8060\n",
       "2     East  Organic   3900\n",
       "5    North     Paid   3880\n",
       "4    North  Organic   2895\n",
       "7    South     Paid   4685\n",
       "6    South  Organic   3010\n",
       "9     West     Paid   7700\n",
       "8     West  Organic   1470"
      ]
     },
     "execution_count": 75,
     "metadata": {},
     "output_type": "execute_result"
    }
   ],
   "source": [
    "df.groupby(['Region','Origin'])['Sales'].sum().reset_index().sort_values(by = ['Region','Sales'],ascending = [True,False])\n",
    "\n",
    "# In all regions Sales for the paid channel was more  "
   ]
  },
  {
   "cell_type": "code",
   "execution_count": 53,
   "id": "1cabfffe",
   "metadata": {},
   "outputs": [],
   "source": [
    "df['Time to Purchase (days)'] = (df['Purchased At'] - df['Registered At']).dt.days"
   ]
  },
  {
   "cell_type": "code",
   "execution_count": 52,
   "id": "b92b7c10",
   "metadata": {},
   "outputs": [
    {
     "data": {
      "text/html": [
       "<div>\n",
       "<style scoped>\n",
       "    .dataframe tbody tr th:only-of-type {\n",
       "        vertical-align: middle;\n",
       "    }\n",
       "\n",
       "    .dataframe tbody tr th {\n",
       "        vertical-align: top;\n",
       "    }\n",
       "\n",
       "    .dataframe thead th {\n",
       "        text-align: right;\n",
       "    }\n",
       "</style>\n",
       "<table border=\"1\" class=\"dataframe\">\n",
       "  <thead>\n",
       "    <tr style=\"text-align: right;\">\n",
       "      <th></th>\n",
       "      <th>Customer Name</th>\n",
       "      <th>Min_Time_to_Purchase</th>\n",
       "      <th>Max_Time_to_Purchase</th>\n",
       "      <th>Product_Bought</th>\n",
       "    </tr>\n",
       "  </thead>\n",
       "  <tbody>\n",
       "    <tr>\n",
       "      <th>0</th>\n",
       "      <td>Amy</td>\n",
       "      <td>150</td>\n",
       "      <td>262</td>\n",
       "      <td>7</td>\n",
       "    </tr>\n",
       "    <tr>\n",
       "      <th>1</th>\n",
       "      <td>Andrew</td>\n",
       "      <td>152</td>\n",
       "      <td>221</td>\n",
       "      <td>8</td>\n",
       "    </tr>\n",
       "    <tr>\n",
       "      <th>2</th>\n",
       "      <td>Anny</td>\n",
       "      <td>152</td>\n",
       "      <td>224</td>\n",
       "      <td>7</td>\n",
       "    </tr>\n",
       "    <tr>\n",
       "      <th>3</th>\n",
       "      <td>Daisy</td>\n",
       "      <td>152</td>\n",
       "      <td>223</td>\n",
       "      <td>6</td>\n",
       "    </tr>\n",
       "    <tr>\n",
       "      <th>4</th>\n",
       "      <td>Elena</td>\n",
       "      <td>186</td>\n",
       "      <td>223</td>\n",
       "      <td>2</td>\n",
       "    </tr>\n",
       "    <tr>\n",
       "      <th>5</th>\n",
       "      <td>Gill</td>\n",
       "      <td>150</td>\n",
       "      <td>263</td>\n",
       "      <td>7</td>\n",
       "    </tr>\n",
       "    <tr>\n",
       "      <th>6</th>\n",
       "      <td>Isle</td>\n",
       "      <td>218</td>\n",
       "      <td>218</td>\n",
       "      <td>1</td>\n",
       "    </tr>\n",
       "    <tr>\n",
       "      <th>7</th>\n",
       "      <td>Jack</td>\n",
       "      <td>152</td>\n",
       "      <td>249</td>\n",
       "      <td>14</td>\n",
       "    </tr>\n",
       "    <tr>\n",
       "      <th>8</th>\n",
       "      <td>James</td>\n",
       "      <td>152</td>\n",
       "      <td>226</td>\n",
       "      <td>9</td>\n",
       "    </tr>\n",
       "    <tr>\n",
       "      <th>9</th>\n",
       "      <td>Jardine</td>\n",
       "      <td>152</td>\n",
       "      <td>251</td>\n",
       "      <td>13</td>\n",
       "    </tr>\n",
       "    <tr>\n",
       "      <th>10</th>\n",
       "      <td>Jones</td>\n",
       "      <td>151</td>\n",
       "      <td>250</td>\n",
       "      <td>7</td>\n",
       "    </tr>\n",
       "    <tr>\n",
       "      <th>11</th>\n",
       "      <td>Jonshon</td>\n",
       "      <td>166</td>\n",
       "      <td>166</td>\n",
       "      <td>1</td>\n",
       "    </tr>\n",
       "    <tr>\n",
       "      <th>12</th>\n",
       "      <td>Kivell</td>\n",
       "      <td>151</td>\n",
       "      <td>251</td>\n",
       "      <td>15</td>\n",
       "    </tr>\n",
       "    <tr>\n",
       "      <th>13</th>\n",
       "      <td>Mack</td>\n",
       "      <td>152</td>\n",
       "      <td>167</td>\n",
       "      <td>3</td>\n",
       "    </tr>\n",
       "    <tr>\n",
       "      <th>14</th>\n",
       "      <td>Mathew</td>\n",
       "      <td>256</td>\n",
       "      <td>256</td>\n",
       "      <td>1</td>\n",
       "    </tr>\n",
       "    <tr>\n",
       "      <th>15</th>\n",
       "      <td>Morgan</td>\n",
       "      <td>151</td>\n",
       "      <td>232</td>\n",
       "      <td>11</td>\n",
       "    </tr>\n",
       "    <tr>\n",
       "      <th>16</th>\n",
       "      <td>Rebecca</td>\n",
       "      <td>176</td>\n",
       "      <td>251</td>\n",
       "      <td>4</td>\n",
       "    </tr>\n",
       "    <tr>\n",
       "      <th>17</th>\n",
       "      <td>Smith</td>\n",
       "      <td>151</td>\n",
       "      <td>247</td>\n",
       "      <td>15</td>\n",
       "    </tr>\n",
       "    <tr>\n",
       "      <th>18</th>\n",
       "      <td>Sorvina</td>\n",
       "      <td>153</td>\n",
       "      <td>227</td>\n",
       "      <td>9</td>\n",
       "    </tr>\n",
       "    <tr>\n",
       "      <th>19</th>\n",
       "      <td>Thompson</td>\n",
       "      <td>153</td>\n",
       "      <td>251</td>\n",
       "      <td>10</td>\n",
       "    </tr>\n",
       "  </tbody>\n",
       "</table>\n",
       "</div>"
      ],
      "text/plain": [
       "   Customer Name  Min_Time_to_Purchase  Max_Time_to_Purchase  Product_Bought\n",
       "0            Amy                   150                   262               7\n",
       "1         Andrew                   152                   221               8\n",
       "2           Anny                   152                   224               7\n",
       "3          Daisy                   152                   223               6\n",
       "4          Elena                   186                   223               2\n",
       "5           Gill                   150                   263               7\n",
       "6           Isle                   218                   218               1\n",
       "7           Jack                   152                   249              14\n",
       "8          James                   152                   226               9\n",
       "9        Jardine                   152                   251              13\n",
       "10         Jones                   151                   250               7\n",
       "11       Jonshon                   166                   166               1\n",
       "12        Kivell                   151                   251              15\n",
       "13          Mack                   152                   167               3\n",
       "14        Mathew                   256                   256               1\n",
       "15        Morgan                   151                   232              11\n",
       "16       Rebecca                   176                   251               4\n",
       "17         Smith                   151                   247              15\n",
       "18       Sorvina                   153                   227               9\n",
       "19      Thompson                   153                   251              10"
      ]
     },
     "execution_count": 52,
     "metadata": {},
     "output_type": "execute_result"
    }
   ],
   "source": [
    "df.groupby('Customer Name').agg(\n",
    "    Min_Time_to_Purchase = ('Time to Purchase (days)', 'min'),\n",
    "    Max_Time_to_Purchase = ('Time to Purchase (days)', 'max'),\n",
    "    Product_Bought = ('Time to Purchase (days)', 'count')\n",
    ").reset_index()"
   ]
  },
  {
   "cell_type": "code",
   "execution_count": 48,
   "id": "ecce80ab",
   "metadata": {},
   "outputs": [],
   "source": [
    "df['rnk'] = df.groupby('Customer Name')['Purchased At'].rank()"
   ]
  },
  {
   "cell_type": "code",
   "execution_count": 49,
   "id": "fa286d62",
   "metadata": {},
   "outputs": [
    {
     "data": {
      "text/html": [
       "<div>\n",
       "<style scoped>\n",
       "    .dataframe tbody tr th:only-of-type {\n",
       "        vertical-align: middle;\n",
       "    }\n",
       "\n",
       "    .dataframe tbody tr th {\n",
       "        vertical-align: top;\n",
       "    }\n",
       "\n",
       "    .dataframe thead th {\n",
       "        text-align: right;\n",
       "    }\n",
       "</style>\n",
       "<table border=\"1\" class=\"dataframe\">\n",
       "  <thead>\n",
       "    <tr style=\"text-align: right;\">\n",
       "      <th></th>\n",
       "      <th>Customer Name</th>\n",
       "      <th>Purchased At Rank 1</th>\n",
       "      <th>Purchased At Rank 2</th>\n",
       "      <th>Difference</th>\n",
       "    </tr>\n",
       "  </thead>\n",
       "  <tbody>\n",
       "    <tr>\n",
       "      <th>0</th>\n",
       "      <td>Jones</td>\n",
       "      <td>2018-06-12 18:59:00</td>\n",
       "      <td>2018-06-18 13:51:00</td>\n",
       "      <td>5 days 18:52:00</td>\n",
       "    </tr>\n",
       "    <tr>\n",
       "      <th>1</th>\n",
       "      <td>Kivell</td>\n",
       "      <td>2018-06-12 19:54:00</td>\n",
       "      <td>2018-06-19 12:36:00</td>\n",
       "      <td>6 days 16:42:00</td>\n",
       "    </tr>\n",
       "    <tr>\n",
       "      <th>2</th>\n",
       "      <td>James</td>\n",
       "      <td>2018-06-13 16:37:00</td>\n",
       "      <td>2018-06-18 13:58:00</td>\n",
       "      <td>4 days 21:21:00</td>\n",
       "    </tr>\n",
       "    <tr>\n",
       "      <th>3</th>\n",
       "      <td>Jack</td>\n",
       "      <td>2018-06-14 14:30:00</td>\n",
       "      <td>2018-06-29 20:16:00</td>\n",
       "      <td>15 days 05:46:00</td>\n",
       "    </tr>\n",
       "    <tr>\n",
       "      <th>4</th>\n",
       "      <td>Anny</td>\n",
       "      <td>2018-06-14 15:43:00</td>\n",
       "      <td>2018-06-26 17:13:00</td>\n",
       "      <td>12 days 01:30:00</td>\n",
       "    </tr>\n",
       "    <tr>\n",
       "      <th>5</th>\n",
       "      <td>Gill</td>\n",
       "      <td>2018-06-14 18:51:00</td>\n",
       "      <td>2018-06-26 12:51:00</td>\n",
       "      <td>11 days 18:00:00</td>\n",
       "    </tr>\n",
       "    <tr>\n",
       "      <th>6</th>\n",
       "      <td>Amy</td>\n",
       "      <td>2018-06-15 14:04:00</td>\n",
       "      <td>2018-06-25 19:33:00</td>\n",
       "      <td>10 days 05:29:00</td>\n",
       "    </tr>\n",
       "    <tr>\n",
       "      <th>7</th>\n",
       "      <td>Morgan</td>\n",
       "      <td>2018-06-15 19:49:00</td>\n",
       "      <td>2018-06-25 18:42:00</td>\n",
       "      <td>9 days 22:53:00</td>\n",
       "    </tr>\n",
       "    <tr>\n",
       "      <th>8</th>\n",
       "      <td>Smith</td>\n",
       "      <td>2018-06-15 21:32:00</td>\n",
       "      <td>2018-07-03 20:17:00</td>\n",
       "      <td>17 days 22:45:00</td>\n",
       "    </tr>\n",
       "    <tr>\n",
       "      <th>9</th>\n",
       "      <td>Sorvina</td>\n",
       "      <td>2018-06-18 12:46:00</td>\n",
       "      <td>2018-06-19 14:08:00</td>\n",
       "      <td>1 days 01:22:00</td>\n",
       "    </tr>\n",
       "    <tr>\n",
       "      <th>10</th>\n",
       "      <td>Jardine</td>\n",
       "      <td>2018-06-19 19:54:00</td>\n",
       "      <td>2018-06-29 17:54:00</td>\n",
       "      <td>9 days 22:00:00</td>\n",
       "    </tr>\n",
       "    <tr>\n",
       "      <th>11</th>\n",
       "      <td>Andrew</td>\n",
       "      <td>2018-06-19 21:04:00</td>\n",
       "      <td>2018-06-29 18:28:00</td>\n",
       "      <td>9 days 21:24:00</td>\n",
       "    </tr>\n",
       "    <tr>\n",
       "      <th>12</th>\n",
       "      <td>Thompson</td>\n",
       "      <td>2018-06-20 12:24:00</td>\n",
       "      <td>2018-07-13 21:58:00</td>\n",
       "      <td>23 days 09:34:00</td>\n",
       "    </tr>\n",
       "    <tr>\n",
       "      <th>13</th>\n",
       "      <td>Mack</td>\n",
       "      <td>2018-06-20 18:31:00</td>\n",
       "      <td>2018-06-21 12:21:00</td>\n",
       "      <td>0 days 17:50:00</td>\n",
       "    </tr>\n",
       "    <tr>\n",
       "      <th>14</th>\n",
       "      <td>Daisy</td>\n",
       "      <td>2018-06-20 18:32:00</td>\n",
       "      <td>2018-06-21 12:39:00</td>\n",
       "      <td>0 days 18:07:00</td>\n",
       "    </tr>\n",
       "    <tr>\n",
       "      <th>15</th>\n",
       "      <td>Jonshon</td>\n",
       "      <td>2018-07-09 14:53:00</td>\n",
       "      <td>NaT</td>\n",
       "      <td>Only one item purchased</td>\n",
       "    </tr>\n",
       "    <tr>\n",
       "      <th>16</th>\n",
       "      <td>Rebecca</td>\n",
       "      <td>2018-07-26 16:15:00</td>\n",
       "      <td>2018-07-30 14:34:00</td>\n",
       "      <td>3 days 22:19:00</td>\n",
       "    </tr>\n",
       "    <tr>\n",
       "      <th>17</th>\n",
       "      <td>Elena</td>\n",
       "      <td>2018-08-07 17:17:00</td>\n",
       "      <td>2018-09-27 12:31:00</td>\n",
       "      <td>50 days 19:14:00</td>\n",
       "    </tr>\n",
       "    <tr>\n",
       "      <th>18</th>\n",
       "      <td>Isle</td>\n",
       "      <td>2018-09-21 18:18:00</td>\n",
       "      <td>NaT</td>\n",
       "      <td>Only one item purchased</td>\n",
       "    </tr>\n",
       "    <tr>\n",
       "      <th>19</th>\n",
       "      <td>Mathew</td>\n",
       "      <td>2018-11-06 19:41:00</td>\n",
       "      <td>NaT</td>\n",
       "      <td>Only one item purchased</td>\n",
       "    </tr>\n",
       "  </tbody>\n",
       "</table>\n",
       "</div>"
      ],
      "text/plain": [
       "   Customer Name Purchased At Rank 1 Purchased At Rank 2  \\\n",
       "0          Jones 2018-06-12 18:59:00 2018-06-18 13:51:00   \n",
       "1         Kivell 2018-06-12 19:54:00 2018-06-19 12:36:00   \n",
       "2          James 2018-06-13 16:37:00 2018-06-18 13:58:00   \n",
       "3           Jack 2018-06-14 14:30:00 2018-06-29 20:16:00   \n",
       "4           Anny 2018-06-14 15:43:00 2018-06-26 17:13:00   \n",
       "5           Gill 2018-06-14 18:51:00 2018-06-26 12:51:00   \n",
       "6            Amy 2018-06-15 14:04:00 2018-06-25 19:33:00   \n",
       "7         Morgan 2018-06-15 19:49:00 2018-06-25 18:42:00   \n",
       "8          Smith 2018-06-15 21:32:00 2018-07-03 20:17:00   \n",
       "9        Sorvina 2018-06-18 12:46:00 2018-06-19 14:08:00   \n",
       "10       Jardine 2018-06-19 19:54:00 2018-06-29 17:54:00   \n",
       "11        Andrew 2018-06-19 21:04:00 2018-06-29 18:28:00   \n",
       "12      Thompson 2018-06-20 12:24:00 2018-07-13 21:58:00   \n",
       "13          Mack 2018-06-20 18:31:00 2018-06-21 12:21:00   \n",
       "14         Daisy 2018-06-20 18:32:00 2018-06-21 12:39:00   \n",
       "15       Jonshon 2018-07-09 14:53:00                 NaT   \n",
       "16       Rebecca 2018-07-26 16:15:00 2018-07-30 14:34:00   \n",
       "17         Elena 2018-08-07 17:17:00 2018-09-27 12:31:00   \n",
       "18          Isle 2018-09-21 18:18:00                 NaT   \n",
       "19        Mathew 2018-11-06 19:41:00                 NaT   \n",
       "\n",
       "                 Difference  \n",
       "0           5 days 18:52:00  \n",
       "1           6 days 16:42:00  \n",
       "2           4 days 21:21:00  \n",
       "3          15 days 05:46:00  \n",
       "4          12 days 01:30:00  \n",
       "5          11 days 18:00:00  \n",
       "6          10 days 05:29:00  \n",
       "7           9 days 22:53:00  \n",
       "8          17 days 22:45:00  \n",
       "9           1 days 01:22:00  \n",
       "10          9 days 22:00:00  \n",
       "11          9 days 21:24:00  \n",
       "12         23 days 09:34:00  \n",
       "13          0 days 17:50:00  \n",
       "14          0 days 18:07:00  \n",
       "15  Only one item purchased  \n",
       "16          3 days 22:19:00  \n",
       "17         50 days 19:14:00  \n",
       "18  Only one item purchased  \n",
       "19  Only one item purchased  "
      ]
     },
     "execution_count": 49,
     "metadata": {},
     "output_type": "execute_result"
    }
   ],
   "source": [
    "# pivot_df = df.pivot_table(index='Customer Name', columns='rnk', values='Purchased At')\n",
    "\n",
    "# pivot_df.columns = ['Rank 1', 'Rank 2']\n",
    "\n",
    "# pivot_df['Difference'] = pivot_df['Rank 2'] - pivot_df['Rank 1']\n",
    "\n",
    "# pivot_df = pivot_df.reset_index()\n",
    "\n",
    "# print(pivot_df)\n",
    "\n",
    "rank1 = df[df['rnk'] == 1].rename(columns={'Purchased At': 'Purchased At Rank 1'})\n",
    "rank2 = df[df['rnk'] == 2].rename(columns={'Purchased At': 'Purchased At Rank 2'})\n",
    "\n",
    "merged_df = pd.merge(rank1[['Customer Name', 'Purchased At Rank 1']],\n",
    "                     rank2[['Customer Name', 'Purchased At Rank 2']],\n",
    "                     on='Customer Name',\n",
    "                     how='outer')\n",
    "\n",
    "merged_df['Difference'] = merged_df['Purchased At Rank 2'] - merged_df['Purchased At Rank 1']\n",
    "\n",
    "merged_df['Difference'] = merged_df['Difference'].astype(str)\n",
    "\n",
    "merged_df['Difference'] = np.where(merged_df['Purchased At Rank 2'].isna(), \n",
    "                               'Only one item purchased', \n",
    "                               merged_df['Difference'])\n",
    "\n",
    "merged_df"
   ]
  },
  {
   "cell_type": "code",
   "execution_count": 45,
   "id": "7610e346",
   "metadata": {},
   "outputs": [
    {
     "name": "stdout",
     "output_type": "stream",
     "text": [
      "                 sum_sq     df         F    PR(>F)\n",
      "C(Origin)  1.104133e+04    1.0  0.682904  0.409919\n",
      "Residual   2.392894e+06  148.0       NaN       NaN\n"
     ]
    }
   ],
   "source": [
    "import statsmodels.api as sm\n",
    "from statsmodels.formula.api import ols\n",
    "\n",
    "model = ols('Sales ~ C(Origin)', data=df).fit()\n",
    "anova_table = sm.stats.anova_lm(model, typ=2)\n",
    "\n",
    "print(anova_table)"
   ]
  },
  {
   "cell_type": "code",
   "execution_count": 46,
   "id": "20f2927e",
   "metadata": {},
   "outputs": [
    {
     "data": {
      "text/html": [
       "<div>\n",
       "<style scoped>\n",
       "    .dataframe tbody tr th:only-of-type {\n",
       "        vertical-align: middle;\n",
       "    }\n",
       "\n",
       "    .dataframe tbody tr th {\n",
       "        vertical-align: top;\n",
       "    }\n",
       "\n",
       "    .dataframe thead th {\n",
       "        text-align: right;\n",
       "    }\n",
       "</style>\n",
       "<table border=\"1\" class=\"dataframe\">\n",
       "  <thead>\n",
       "    <tr style=\"text-align: right;\">\n",
       "      <th></th>\n",
       "      <th>Order ID</th>\n",
       "      <th>Sales</th>\n",
       "      <th>Refunded</th>\n",
       "      <th>Time to Purchase (days)</th>\n",
       "    </tr>\n",
       "  </thead>\n",
       "  <tbody>\n",
       "    <tr>\n",
       "      <th>Order ID</th>\n",
       "      <td>1.000000</td>\n",
       "      <td>-0.000160</td>\n",
       "      <td>-0.055964</td>\n",
       "      <td>0.968596</td>\n",
       "    </tr>\n",
       "    <tr>\n",
       "      <th>Sales</th>\n",
       "      <td>-0.000160</td>\n",
       "      <td>1.000000</td>\n",
       "      <td>-0.010794</td>\n",
       "      <td>0.009753</td>\n",
       "    </tr>\n",
       "    <tr>\n",
       "      <th>Refunded</th>\n",
       "      <td>-0.055964</td>\n",
       "      <td>-0.010794</td>\n",
       "      <td>1.000000</td>\n",
       "      <td>-0.041408</td>\n",
       "    </tr>\n",
       "    <tr>\n",
       "      <th>Time to Purchase (days)</th>\n",
       "      <td>0.968596</td>\n",
       "      <td>0.009753</td>\n",
       "      <td>-0.041408</td>\n",
       "      <td>1.000000</td>\n",
       "    </tr>\n",
       "  </tbody>\n",
       "</table>\n",
       "</div>"
      ],
      "text/plain": [
       "                         Order ID     Sales  Refunded  Time to Purchase (days)\n",
       "Order ID                 1.000000 -0.000160 -0.055964                 0.968596\n",
       "Sales                   -0.000160  1.000000 -0.010794                 0.009753\n",
       "Refunded                -0.055964 -0.010794  1.000000                -0.041408\n",
       "Time to Purchase (days)  0.968596  0.009753 -0.041408                 1.000000"
      ]
     },
     "execution_count": 46,
     "metadata": {},
     "output_type": "execute_result"
    }
   ],
   "source": [
    "df.corr(numeric_only = True)"
   ]
  },
  {
   "cell_type": "code",
   "execution_count": 47,
   "id": "ae874066",
   "metadata": {},
   "outputs": [
    {
     "data": {
      "application/vnd.plotly.v1+json": {
       "config": {
        "plotlyServerURL": "https://plot.ly"
       },
       "data": [
        {
         "colorbar": {
          "title": {
           "text": "Correlation"
          }
         },
         "colorscale": [
          [
           0,
           "rgb(103,0,31)"
          ],
          [
           0.1,
           "rgb(178,24,43)"
          ],
          [
           0.2,
           "rgb(214,96,77)"
          ],
          [
           0.3,
           "rgb(244,165,130)"
          ],
          [
           0.4,
           "rgb(253,219,199)"
          ],
          [
           0.5,
           "rgb(247,247,247)"
          ],
          [
           0.6,
           "rgb(209,229,240)"
          ],
          [
           0.7,
           "rgb(146,197,222)"
          ],
          [
           0.8,
           "rgb(67,147,195)"
          ],
          [
           0.9,
           "rgb(33,102,172)"
          ],
          [
           1,
           "rgb(5,48,97)"
          ]
         ],
         "type": "heatmap",
         "x": [
          "Order ID",
          "Sales",
          "Refunded",
          "Time to Purchase (days)"
         ],
         "y": [
          "Order ID",
          "Sales",
          "Refunded",
          "Time to Purchase (days)"
         ],
         "z": [
          [
           1,
           -0.00015985370139767882,
           -0.05596428169816052,
           0.9685961904958683
          ],
          [
           -0.00015985370139767882,
           1,
           -0.010794088311416256,
           0.009753244778460164
          ],
          [
           -0.05596428169816052,
           -0.010794088311416256,
           1,
           -0.0414076193173166
          ],
          [
           0.9685961904958683,
           0.009753244778460164,
           -0.0414076193173166,
           1
          ]
         ],
         "zmax": 1,
         "zmin": -1
        }
       ],
       "layout": {
        "template": {
         "data": {
          "candlestick": [
           {
            "decreasing": {
             "line": {
              "color": "#000033"
             }
            },
            "increasing": {
             "line": {
              "color": "#000032"
             }
            },
            "type": "candlestick"
           }
          ],
          "contour": [
           {
            "colorscale": [
             [
              0,
              "#000011"
             ],
             [
              0.1111111111111111,
              "#000012"
             ],
             [
              0.2222222222222222,
              "#000013"
             ],
             [
              0.3333333333333333,
              "#000014"
             ],
             [
              0.4444444444444444,
              "#000015"
             ],
             [
              0.5555555555555556,
              "#000016"
             ],
             [
              0.6666666666666666,
              "#000017"
             ],
             [
              0.7777777777777778,
              "#000018"
             ],
             [
              0.8888888888888888,
              "#000019"
             ],
             [
              1,
              "#000020"
             ]
            ],
            "type": "contour"
           }
          ],
          "contourcarpet": [
           {
            "colorscale": [
             [
              0,
              "#000011"
             ],
             [
              0.1111111111111111,
              "#000012"
             ],
             [
              0.2222222222222222,
              "#000013"
             ],
             [
              0.3333333333333333,
              "#000014"
             ],
             [
              0.4444444444444444,
              "#000015"
             ],
             [
              0.5555555555555556,
              "#000016"
             ],
             [
              0.6666666666666666,
              "#000017"
             ],
             [
              0.7777777777777778,
              "#000018"
             ],
             [
              0.8888888888888888,
              "#000019"
             ],
             [
              1,
              "#000020"
             ]
            ],
            "type": "contourcarpet"
           }
          ],
          "heatmap": [
           {
            "colorscale": [
             [
              0,
              "#000011"
             ],
             [
              0.1111111111111111,
              "#000012"
             ],
             [
              0.2222222222222222,
              "#000013"
             ],
             [
              0.3333333333333333,
              "#000014"
             ],
             [
              0.4444444444444444,
              "#000015"
             ],
             [
              0.5555555555555556,
              "#000016"
             ],
             [
              0.6666666666666666,
              "#000017"
             ],
             [
              0.7777777777777778,
              "#000018"
             ],
             [
              0.8888888888888888,
              "#000019"
             ],
             [
              1,
              "#000020"
             ]
            ],
            "type": "heatmap"
           }
          ],
          "histogram2d": [
           {
            "colorscale": [
             [
              0,
              "#000011"
             ],
             [
              0.1111111111111111,
              "#000012"
             ],
             [
              0.2222222222222222,
              "#000013"
             ],
             [
              0.3333333333333333,
              "#000014"
             ],
             [
              0.4444444444444444,
              "#000015"
             ],
             [
              0.5555555555555556,
              "#000016"
             ],
             [
              0.6666666666666666,
              "#000017"
             ],
             [
              0.7777777777777778,
              "#000018"
             ],
             [
              0.8888888888888888,
              "#000019"
             ],
             [
              1,
              "#000020"
             ]
            ],
            "type": "histogram2d"
           }
          ],
          "icicle": [
           {
            "textfont": {
             "color": "white"
            },
            "type": "icicle"
           }
          ],
          "sankey": [
           {
            "textfont": {
             "color": "#000036"
            },
            "type": "sankey"
           }
          ],
          "scatter": [
           {
            "marker": {
             "line": {
              "width": 0
             }
            },
            "type": "scatter"
           }
          ],
          "table": [
           {
            "cells": {
             "fill": {
              "color": "#000038"
             },
             "font": {
              "color": "#000037"
             },
             "line": {
              "color": "#000039"
             }
            },
            "header": {
             "fill": {
              "color": "#000040"
             },
             "font": {
              "color": "#000036"
             },
             "line": {
              "color": "#000039"
             }
            },
            "type": "table"
           }
          ],
          "waterfall": [
           {
            "connector": {
             "line": {
              "color": "#000036",
              "width": 2
             }
            },
            "decreasing": {
             "marker": {
              "color": "#000033"
             }
            },
            "increasing": {
             "marker": {
              "color": "#000032"
             }
            },
            "totals": {
             "marker": {
              "color": "#000034"
             }
            },
            "type": "waterfall"
           }
          ]
         },
         "layout": {
          "coloraxis": {
           "colorscale": [
            [
             0,
             "#000011"
            ],
            [
             0.1111111111111111,
             "#000012"
            ],
            [
             0.2222222222222222,
             "#000013"
            ],
            [
             0.3333333333333333,
             "#000014"
            ],
            [
             0.4444444444444444,
             "#000015"
            ],
            [
             0.5555555555555556,
             "#000016"
            ],
            [
             0.6666666666666666,
             "#000017"
            ],
            [
             0.7777777777777778,
             "#000018"
            ],
            [
             0.8888888888888888,
             "#000019"
            ],
            [
             1,
             "#000020"
            ]
           ]
          },
          "colorscale": {
           "diverging": [
            [
             0,
             "#000021"
            ],
            [
             0.1,
             "#000022"
            ],
            [
             0.2,
             "#000023"
            ],
            [
             0.3,
             "#000024"
            ],
            [
             0.4,
             "#000025"
            ],
            [
             0.5,
             "#000026"
            ],
            [
             0.6,
             "#000027"
            ],
            [
             0.7,
             "#000028"
            ],
            [
             0.8,
             "#000029"
            ],
            [
             0.9,
             "#000030"
            ],
            [
             1,
             "#000031"
            ]
           ],
           "sequential": [
            [
             0,
             "#000011"
            ],
            [
             0.1111111111111111,
             "#000012"
            ],
            [
             0.2222222222222222,
             "#000013"
            ],
            [
             0.3333333333333333,
             "#000014"
            ],
            [
             0.4444444444444444,
             "#000015"
            ],
            [
             0.5555555555555556,
             "#000016"
            ],
            [
             0.6666666666666666,
             "#000017"
            ],
            [
             0.7777777777777778,
             "#000018"
            ],
            [
             0.8888888888888888,
             "#000019"
            ],
            [
             1,
             "#000020"
            ]
           ],
           "sequentialminus": [
            [
             0,
             "#000011"
            ],
            [
             0.1111111111111111,
             "#000012"
            ],
            [
             0.2222222222222222,
             "#000013"
            ],
            [
             0.3333333333333333,
             "#000014"
            ],
            [
             0.4444444444444444,
             "#000015"
            ],
            [
             0.5555555555555556,
             "#000016"
            ],
            [
             0.6666666666666666,
             "#000017"
            ],
            [
             0.7777777777777778,
             "#000018"
            ],
            [
             0.8888888888888888,
             "#000019"
            ],
            [
             1,
             "#000020"
            ]
           ]
          },
          "colorway": [
           "#000001",
           "#000002",
           "#000003",
           "#000004",
           "#000005",
           "#000006",
           "#000007",
           "#000008",
           "#000009",
           "#000010"
          ]
         }
        },
        "title": {
         "text": "Correlation Matrix"
        },
        "xaxis": {
         "tickangle": -45,
         "title": {
          "text": "Variables"
         }
        },
        "yaxis": {
         "tickangle": 0,
         "title": {
          "text": "Variables"
         }
        }
       }
      },
      "text/html": [
       "<div>                            <div id=\"70be111e-b6a9-447f-b522-313cf6d1b4c0\" class=\"plotly-graph-div\" style=\"height:525px; width:100%;\"></div>            <script type=\"text/javascript\">                require([\"plotly\"], function(Plotly) {                    window.PLOTLYENV=window.PLOTLYENV || {};                                    if (document.getElementById(\"70be111e-b6a9-447f-b522-313cf6d1b4c0\")) {                    Plotly.newPlot(                        \"70be111e-b6a9-447f-b522-313cf6d1b4c0\",                        [{\"colorbar\":{\"title\":{\"text\":\"Correlation\"}},\"colorscale\":[[0.0,\"rgb(103,0,31)\"],[0.1,\"rgb(178,24,43)\"],[0.2,\"rgb(214,96,77)\"],[0.3,\"rgb(244,165,130)\"],[0.4,\"rgb(253,219,199)\"],[0.5,\"rgb(247,247,247)\"],[0.6,\"rgb(209,229,240)\"],[0.7,\"rgb(146,197,222)\"],[0.8,\"rgb(67,147,195)\"],[0.9,\"rgb(33,102,172)\"],[1.0,\"rgb(5,48,97)\"]],\"x\":[\"Order ID\",\"Sales\",\"Refunded\",\"Time to Purchase (days)\"],\"y\":[\"Order ID\",\"Sales\",\"Refunded\",\"Time to Purchase (days)\"],\"z\":[[1.0,-0.00015985370139767882,-0.05596428169816052,0.9685961904958683],[-0.00015985370139767882,1.0,-0.010794088311416256,0.009753244778460164],[-0.05596428169816052,-0.010794088311416256,1.0,-0.0414076193173166],[0.9685961904958683,0.009753244778460164,-0.0414076193173166,1.0]],\"zmax\":1,\"zmin\":-1,\"type\":\"heatmap\"}],                        {\"template\":{\"data\":{\"candlestick\":[{\"decreasing\":{\"line\":{\"color\":\"#000033\"}},\"increasing\":{\"line\":{\"color\":\"#000032\"}},\"type\":\"candlestick\"}],\"contourcarpet\":[{\"colorscale\":[[0.0,\"#000011\"],[0.1111111111111111,\"#000012\"],[0.2222222222222222,\"#000013\"],[0.3333333333333333,\"#000014\"],[0.4444444444444444,\"#000015\"],[0.5555555555555556,\"#000016\"],[0.6666666666666666,\"#000017\"],[0.7777777777777778,\"#000018\"],[0.8888888888888888,\"#000019\"],[1.0,\"#000020\"]],\"type\":\"contourcarpet\"}],\"contour\":[{\"colorscale\":[[0.0,\"#000011\"],[0.1111111111111111,\"#000012\"],[0.2222222222222222,\"#000013\"],[0.3333333333333333,\"#000014\"],[0.4444444444444444,\"#000015\"],[0.5555555555555556,\"#000016\"],[0.6666666666666666,\"#000017\"],[0.7777777777777778,\"#000018\"],[0.8888888888888888,\"#000019\"],[1.0,\"#000020\"]],\"type\":\"contour\"}],\"heatmap\":[{\"colorscale\":[[0.0,\"#000011\"],[0.1111111111111111,\"#000012\"],[0.2222222222222222,\"#000013\"],[0.3333333333333333,\"#000014\"],[0.4444444444444444,\"#000015\"],[0.5555555555555556,\"#000016\"],[0.6666666666666666,\"#000017\"],[0.7777777777777778,\"#000018\"],[0.8888888888888888,\"#000019\"],[1.0,\"#000020\"]],\"type\":\"heatmap\"}],\"histogram2d\":[{\"colorscale\":[[0.0,\"#000011\"],[0.1111111111111111,\"#000012\"],[0.2222222222222222,\"#000013\"],[0.3333333333333333,\"#000014\"],[0.4444444444444444,\"#000015\"],[0.5555555555555556,\"#000016\"],[0.6666666666666666,\"#000017\"],[0.7777777777777778,\"#000018\"],[0.8888888888888888,\"#000019\"],[1.0,\"#000020\"]],\"type\":\"histogram2d\"}],\"icicle\":[{\"textfont\":{\"color\":\"white\"},\"type\":\"icicle\"}],\"sankey\":[{\"textfont\":{\"color\":\"#000036\"},\"type\":\"sankey\"}],\"scatter\":[{\"marker\":{\"line\":{\"width\":0}},\"type\":\"scatter\"}],\"table\":[{\"cells\":{\"fill\":{\"color\":\"#000038\"},\"font\":{\"color\":\"#000037\"},\"line\":{\"color\":\"#000039\"}},\"header\":{\"fill\":{\"color\":\"#000040\"},\"font\":{\"color\":\"#000036\"},\"line\":{\"color\":\"#000039\"}},\"type\":\"table\"}],\"waterfall\":[{\"connector\":{\"line\":{\"color\":\"#000036\",\"width\":2}},\"decreasing\":{\"marker\":{\"color\":\"#000033\"}},\"increasing\":{\"marker\":{\"color\":\"#000032\"}},\"totals\":{\"marker\":{\"color\":\"#000034\"}},\"type\":\"waterfall\"}]},\"layout\":{\"coloraxis\":{\"colorscale\":[[0.0,\"#000011\"],[0.1111111111111111,\"#000012\"],[0.2222222222222222,\"#000013\"],[0.3333333333333333,\"#000014\"],[0.4444444444444444,\"#000015\"],[0.5555555555555556,\"#000016\"],[0.6666666666666666,\"#000017\"],[0.7777777777777778,\"#000018\"],[0.8888888888888888,\"#000019\"],[1.0,\"#000020\"]]},\"colorscale\":{\"diverging\":[[0.0,\"#000021\"],[0.1,\"#000022\"],[0.2,\"#000023\"],[0.3,\"#000024\"],[0.4,\"#000025\"],[0.5,\"#000026\"],[0.6,\"#000027\"],[0.7,\"#000028\"],[0.8,\"#000029\"],[0.9,\"#000030\"],[1.0,\"#000031\"]],\"sequential\":[[0.0,\"#000011\"],[0.1111111111111111,\"#000012\"],[0.2222222222222222,\"#000013\"],[0.3333333333333333,\"#000014\"],[0.4444444444444444,\"#000015\"],[0.5555555555555556,\"#000016\"],[0.6666666666666666,\"#000017\"],[0.7777777777777778,\"#000018\"],[0.8888888888888888,\"#000019\"],[1.0,\"#000020\"]],\"sequentialminus\":[[0.0,\"#000011\"],[0.1111111111111111,\"#000012\"],[0.2222222222222222,\"#000013\"],[0.3333333333333333,\"#000014\"],[0.4444444444444444,\"#000015\"],[0.5555555555555556,\"#000016\"],[0.6666666666666666,\"#000017\"],[0.7777777777777778,\"#000018\"],[0.8888888888888888,\"#000019\"],[1.0,\"#000020\"]]},\"colorway\":[\"#000001\",\"#000002\",\"#000003\",\"#000004\",\"#000005\",\"#000006\",\"#000007\",\"#000008\",\"#000009\",\"#000010\"]}},\"xaxis\":{\"title\":{\"text\":\"Variables\"},\"tickangle\":-45},\"yaxis\":{\"title\":{\"text\":\"Variables\"},\"tickangle\":0},\"title\":{\"text\":\"Correlation Matrix\"}},                        {\"responsive\": true}                    ).then(function(){\n",
       "                            \n",
       "var gd = document.getElementById('70be111e-b6a9-447f-b522-313cf6d1b4c0');\n",
       "var x = new MutationObserver(function (mutations, observer) {{\n",
       "        var display = window.getComputedStyle(gd).display;\n",
       "        if (!display || display === 'none') {{\n",
       "            console.log([gd, 'removed!']);\n",
       "            Plotly.purge(gd);\n",
       "            observer.disconnect();\n",
       "        }}\n",
       "}});\n",
       "\n",
       "// Listen for the removal of the full notebook cells\n",
       "var notebookContainer = gd.closest('#notebook-container');\n",
       "if (notebookContainer) {{\n",
       "    x.observe(notebookContainer, {childList: true});\n",
       "}}\n",
       "\n",
       "// Listen for the clearing of the current output cell\n",
       "var outputEl = gd.closest('.output');\n",
       "if (outputEl) {{\n",
       "    x.observe(outputEl, {childList: true});\n",
       "}}\n",
       "\n",
       "                        })                };                });            </script>        </div>"
      ]
     },
     "metadata": {},
     "output_type": "display_data"
    }
   ],
   "source": [
    "correlation_matrix = df.corr(numeric_only=True)\n",
    "\n",
    "fig = go.Figure(data=go.Heatmap(\n",
    "    z=correlation_matrix.values,\n",
    "    x=correlation_matrix.columns,\n",
    "    y=correlation_matrix.columns,\n",
    "    colorscale='RdBu',\n",
    "    zmin=-1,\n",
    "    zmax=1,\n",
    "    colorbar=dict(title='Correlation'),\n",
    "))\n",
    "\n",
    "fig.update_layout(\n",
    "    title='Correlation Matrix',\n",
    "    xaxis_title='Variables',\n",
    "    yaxis_title='Variables',\n",
    "    xaxis=dict(tickangle=-45),\n",
    "    yaxis=dict(tickangle=0),\n",
    ")\n",
    "\n",
    "fig.show()"
   ]
  },
  {
   "cell_type": "code",
   "execution_count": null,
   "id": "75536edd",
   "metadata": {},
   "outputs": [],
   "source": [
    "# # Correlation Matrix\n",
    "# correlation_matrix = df.corr(numeric_only=True)\n",
    "\n",
    "# # Plot Correlation Matrix using Seaborn\n",
    "# plt.figure(figsize=(10, 8))  # Set the figure size\n",
    "# sns.heatmap(correlation_matrix, annot=True, cmap='coolwarm', vmin=-1, vmax=1, fmt=\".2f\")\n",
    "# plt.title('Correlation Matrix', fontsize=16)\n",
    "# plt.xticks(rotation=45, ha='right')  # Rotate the x-axis labels for better readability\n",
    "# plt.yticks(rotation=0)  # Keep y-axis labels horizontal\n",
    "# plt.show()"
   ]
  },
  {
   "cell_type": "code",
   "execution_count": 43,
   "id": "cc68ec74",
   "metadata": {},
   "outputs": [
    {
     "data": {
      "text/plain": [
       "Kivell      15\n",
       "Smith       15\n",
       "Jack        14\n",
       "Jardine     13\n",
       "Morgan      11\n",
       "Thompson    10\n",
       "Sorvina      9\n",
       "James        9\n",
       "Andrew       8\n",
       "Jones        7\n",
       "Amy          7\n",
       "Gill         7\n",
       "Anny         7\n",
       "Daisy        6\n",
       "Rebecca      4\n",
       "Mack         3\n",
       "Elena        2\n",
       "Jonshon      1\n",
       "Isle         1\n",
       "Mathew       1\n",
       "Name: Customer Name, dtype: int64"
      ]
     },
     "execution_count": 43,
     "metadata": {},
     "output_type": "execute_result"
    }
   ],
   "source": [
    "df['Customer Name'].value_counts()"
   ]
  },
  {
   "cell_type": "code",
   "execution_count": 44,
   "id": "dcab7425",
   "metadata": {},
   "outputs": [
    {
     "data": {
      "text/plain": [
       "Customer Name\n",
       "Amy         1\n",
       "Andrew      1\n",
       "Anny        1\n",
       "Daisy       1\n",
       "Elena       1\n",
       "Gill        1\n",
       "Isle        1\n",
       "Jack        1\n",
       "James       1\n",
       "Jardine     1\n",
       "Jones       1\n",
       "Jonshon     1\n",
       "Kivell      1\n",
       "Mack        1\n",
       "Mathew      1\n",
       "Morgan      1\n",
       "Rebecca     1\n",
       "Smith       1\n",
       "Sorvina     1\n",
       "Thompson    1\n",
       "Name: Region, dtype: int64"
      ]
     },
     "execution_count": 44,
     "metadata": {},
     "output_type": "execute_result"
    }
   ],
   "source": [
    "df.groupby('Customer Name')['Region'].nunique()\n",
    "\n",
    "# All Customers Bought products from one region"
   ]
  },
  {
   "cell_type": "code",
   "execution_count": null,
   "id": "5e22c95d",
   "metadata": {},
   "outputs": [],
   "source": [
    "# df.groupby(['Customer Name','Region'])['Order ID'].count().sort_values(ascending = False)"
   ]
  },
  {
   "cell_type": "code",
   "execution_count": 38,
   "id": "dd399ce7",
   "metadata": {},
   "outputs": [
    {
     "data": {
      "text/html": [
       "<div>\n",
       "<style scoped>\n",
       "    .dataframe tbody tr th:only-of-type {\n",
       "        vertical-align: middle;\n",
       "    }\n",
       "\n",
       "    .dataframe tbody tr th {\n",
       "        vertical-align: top;\n",
       "    }\n",
       "\n",
       "    .dataframe thead th {\n",
       "        text-align: right;\n",
       "    }\n",
       "</style>\n",
       "<table border=\"1\" class=\"dataframe\">\n",
       "  <thead>\n",
       "    <tr style=\"text-align: right;\">\n",
       "      <th></th>\n",
       "      <th>Refunded</th>\n",
       "      <th>Product</th>\n",
       "      <th>count</th>\n",
       "    </tr>\n",
       "  </thead>\n",
       "  <tbody>\n",
       "    <tr>\n",
       "      <th>0</th>\n",
       "      <td>True</td>\n",
       "      <td>A</td>\n",
       "      <td>1</td>\n",
       "    </tr>\n",
       "    <tr>\n",
       "      <th>1</th>\n",
       "      <td>True</td>\n",
       "      <td>B</td>\n",
       "      <td>3</td>\n",
       "    </tr>\n",
       "    <tr>\n",
       "      <th>2</th>\n",
       "      <td>True</td>\n",
       "      <td>C</td>\n",
       "      <td>1</td>\n",
       "    </tr>\n",
       "    <tr>\n",
       "      <th>3</th>\n",
       "      <td>True</td>\n",
       "      <td>F</td>\n",
       "      <td>2</td>\n",
       "    </tr>\n",
       "  </tbody>\n",
       "</table>\n",
       "</div>"
      ],
      "text/plain": [
       "   Refunded Product  count\n",
       "0      True       A      1\n",
       "1      True       B      3\n",
       "2      True       C      1\n",
       "3      True       F      2"
      ]
     },
     "execution_count": 38,
     "metadata": {},
     "output_type": "execute_result"
    }
   ],
   "source": [
    "df[df['Refunded']].groupby(['Refunded', 'Product']).size().reset_index(name='count')"
   ]
  },
  {
   "cell_type": "code",
   "execution_count": 39,
   "id": "45f72d6d",
   "metadata": {},
   "outputs": [
    {
     "data": {
      "text/html": [
       "<div>\n",
       "<style scoped>\n",
       "    .dataframe tbody tr th:only-of-type {\n",
       "        vertical-align: middle;\n",
       "    }\n",
       "\n",
       "    .dataframe tbody tr th {\n",
       "        vertical-align: top;\n",
       "    }\n",
       "\n",
       "    .dataframe thead th {\n",
       "        text-align: right;\n",
       "    }\n",
       "</style>\n",
       "<table border=\"1\" class=\"dataframe\">\n",
       "  <thead>\n",
       "    <tr style=\"text-align: right;\">\n",
       "      <th></th>\n",
       "      <th>Region</th>\n",
       "      <th>Product</th>\n",
       "      <th>count</th>\n",
       "    </tr>\n",
       "  </thead>\n",
       "  <tbody>\n",
       "    <tr>\n",
       "      <th>0</th>\n",
       "      <td>Central</td>\n",
       "      <td>A</td>\n",
       "      <td>1</td>\n",
       "    </tr>\n",
       "    <tr>\n",
       "      <th>1</th>\n",
       "      <td>Central</td>\n",
       "      <td>B</td>\n",
       "      <td>1</td>\n",
       "    </tr>\n",
       "    <tr>\n",
       "      <th>2</th>\n",
       "      <td>Central</td>\n",
       "      <td>F</td>\n",
       "      <td>1</td>\n",
       "    </tr>\n",
       "    <tr>\n",
       "      <th>3</th>\n",
       "      <td>East</td>\n",
       "      <td>B</td>\n",
       "      <td>1</td>\n",
       "    </tr>\n",
       "    <tr>\n",
       "      <th>4</th>\n",
       "      <td>East</td>\n",
       "      <td>F</td>\n",
       "      <td>1</td>\n",
       "    </tr>\n",
       "    <tr>\n",
       "      <th>5</th>\n",
       "      <td>North</td>\n",
       "      <td>C</td>\n",
       "      <td>1</td>\n",
       "    </tr>\n",
       "    <tr>\n",
       "      <th>6</th>\n",
       "      <td>South</td>\n",
       "      <td>B</td>\n",
       "      <td>1</td>\n",
       "    </tr>\n",
       "  </tbody>\n",
       "</table>\n",
       "</div>"
      ],
      "text/plain": [
       "    Region Product  count\n",
       "0  Central       A      1\n",
       "1  Central       B      1\n",
       "2  Central       F      1\n",
       "3     East       B      1\n",
       "4     East       F      1\n",
       "5    North       C      1\n",
       "6    South       B      1"
      ]
     },
     "execution_count": 39,
     "metadata": {},
     "output_type": "execute_result"
    }
   ],
   "source": [
    "df[df['Refunded']].groupby(['Region','Product']).size().reset_index(name='count')"
   ]
  },
  {
   "cell_type": "code",
   "execution_count": 40,
   "id": "831308b5",
   "metadata": {},
   "outputs": [
    {
     "data": {
      "text/html": [
       "<div>\n",
       "<style scoped>\n",
       "    .dataframe tbody tr th:only-of-type {\n",
       "        vertical-align: middle;\n",
       "    }\n",
       "\n",
       "    .dataframe tbody tr th {\n",
       "        vertical-align: top;\n",
       "    }\n",
       "\n",
       "    .dataframe thead th {\n",
       "        text-align: right;\n",
       "    }\n",
       "</style>\n",
       "<table border=\"1\" class=\"dataframe\">\n",
       "  <thead>\n",
       "    <tr style=\"text-align: right;\">\n",
       "      <th></th>\n",
       "      <th>Region</th>\n",
       "      <th>count</th>\n",
       "    </tr>\n",
       "  </thead>\n",
       "  <tbody>\n",
       "    <tr>\n",
       "      <th>0</th>\n",
       "      <td>Central</td>\n",
       "      <td>3</td>\n",
       "    </tr>\n",
       "    <tr>\n",
       "      <th>1</th>\n",
       "      <td>East</td>\n",
       "      <td>2</td>\n",
       "    </tr>\n",
       "    <tr>\n",
       "      <th>2</th>\n",
       "      <td>North</td>\n",
       "      <td>1</td>\n",
       "    </tr>\n",
       "    <tr>\n",
       "      <th>3</th>\n",
       "      <td>South</td>\n",
       "      <td>1</td>\n",
       "    </tr>\n",
       "  </tbody>\n",
       "</table>\n",
       "</div>"
      ],
      "text/plain": [
       "    Region  count\n",
       "0  Central      3\n",
       "1     East      2\n",
       "2    North      1\n",
       "3    South      1"
      ]
     },
     "execution_count": 40,
     "metadata": {},
     "output_type": "execute_result"
    }
   ],
   "source": [
    "df[df['Refunded']].groupby('Region').size().reset_index(name='count')"
   ]
  },
  {
   "cell_type": "code",
   "execution_count": 41,
   "id": "c133afaf",
   "metadata": {},
   "outputs": [],
   "source": [
    "df_agg = df.groupby('Product').agg({'Sales':'sum','Product':'count'}).rename(columns = {'Sales':'Total Sales','Product':'Number of Orders'})"
   ]
  },
  {
   "cell_type": "code",
   "execution_count": 42,
   "id": "9ba0fb18",
   "metadata": {},
   "outputs": [
    {
     "data": {
      "text/plain": [
       "Product\n",
       "A    411.388889\n",
       "B    349.285714\n",
       "C    274.772727\n",
       "D    248.000000\n",
       "E    318.571429\n",
       "F    263.125000\n",
       "G    182.916667\n",
       "dtype: float64"
      ]
     },
     "execution_count": 42,
     "metadata": {},
     "output_type": "execute_result"
    }
   ],
   "source": [
    "avg_order_value = df_agg['Total Sales']/df_agg['Number of Orders']\n",
    "\n",
    "avg_order_value"
   ]
  },
  {
   "cell_type": "code",
   "execution_count": 35,
   "id": "8d17e537",
   "metadata": {},
   "outputs": [
    {
     "name": "stdout",
     "output_type": "stream",
     "text": [
      "Region : South\n",
      "Product : A\n",
      "Sales Values: [500 500 500 235]\n",
      "\n",
      "Region : South\n",
      "Product : B\n",
      "Sales Values: [400 350 400 400]\n",
      "\n",
      "Region : South\n",
      "Product : G\n",
      "Sales Values: [350 100 100]\n",
      "\n",
      "Region : South\n",
      "Product : F\n",
      "Sales Values: [500 200 200 200 200 410]\n",
      "\n",
      "Region : South\n",
      "Product : D\n",
      "Sales Values: [350]\n",
      "\n",
      "Region : South\n",
      "Product : E\n",
      "Sales Values: [220]\n",
      "\n",
      "Region : South\n",
      "Product : C\n",
      "Sales Values: [110 300 520 350 300]\n",
      "\n",
      "Region : East\n",
      "Product : A\n",
      "Sales Values: [350 120 500 500 500]\n",
      "\n",
      "Region : East\n",
      "Product : B\n",
      "Sales Values: [400 320 210 400 350 300 400 210 400 135]\n",
      "\n",
      "Region : East\n",
      "Product : G\n",
      "Sales Values: [550 110 210 350 120 130 105]\n",
      "\n",
      "Region : East\n",
      "Product : F\n",
      "Sales Values: [350 200 200 320 200 335]\n",
      "\n",
      "Region : East\n",
      "Product : D\n",
      "Sales Values: [250 250]\n",
      "\n",
      "Region : East\n",
      "Product : E\n",
      "Sales Values: [200 220 550 550 205]\n",
      "\n",
      "Region : East\n",
      "Product : C\n",
      "Sales Values: [320 300 300 320 220]\n",
      "\n",
      "Region : North\n",
      "Product : A\n",
      "Sales Values: [520 210 300]\n",
      "\n",
      "Region : North\n",
      "Product : B\n",
      "Sales Values: [400 400 320 350]\n",
      "\n",
      "Region : North\n",
      "Product : G\n",
      "Sales Values: [100 300 300 100 100]\n",
      "\n",
      "Region : North\n",
      "Product : F\n",
      "Sales Values: [200 200 520 320 220]\n",
      "\n",
      "Region : North\n",
      "Product : D\n",
      "Sales Values: [250 250 125 250 250]\n",
      "\n",
      "Region : North\n",
      "Product : E\n",
      "Sales Values: [350 120]\n",
      "\n",
      "Region : North\n",
      "Product : C\n",
      "Sales Values: [210 110]\n",
      "\n",
      "Region : West\n",
      "Product : A\n",
      "Sales Values: [500 500 300]\n",
      "\n",
      "Region : West\n",
      "Product : B\n",
      "Sales Values: [400 400 500]\n",
      "\n",
      "Region : West\n",
      "Product : G\n",
      "Sales Values: [200 220 320 100 125]\n",
      "\n",
      "Region : West\n",
      "Product : F\n",
      "Sales Values: [200 320 220]\n",
      "\n",
      "Region : West\n",
      "Product : D\n",
      "Sales Values: [320 100 250 250 320 250 210 225]\n",
      "\n",
      "Region : West\n",
      "Product : E\n",
      "Sales Values: [225 520 220 550]\n",
      "\n",
      "Region : West\n",
      "Product : C\n",
      "Sales Values: [110 220 320 350 425]\n",
      "\n",
      "Region : Central\n",
      "Product : A\n",
      "Sales Values: [350 500 520]\n",
      "\n",
      "Region : Central\n",
      "Product : B\n",
      "Sales Values: [250 400 310 300 325 400 350]\n",
      "\n",
      "Region : Central\n",
      "Product : G\n",
      "Sales Values: [100 100 100 100]\n",
      "\n",
      "Region : Central\n",
      "Product : F\n",
      "Sales Values: [200 200 200 200]\n",
      "\n",
      "Region : Central\n",
      "Product : D\n",
      "Sales Values: [250 310 250 250]\n",
      "\n",
      "Region : Central\n",
      "Product : E\n",
      "Sales Values: [320 210]\n",
      "\n",
      "Region : Central\n",
      "Product : C\n",
      "Sales Values: [110 200 320 520 110]\n",
      "\n"
     ]
    }
   ],
   "source": [
    "# Checking if a given product has the same value in the same region and how it differs across different regions\n",
    "\n",
    "regions = df['Region'].unique()\n",
    "products = df['Product'].unique()\n",
    "\n",
    "for region in regions:\n",
    "    for product in products:\n",
    "        sales_values = df[(df['Region'] == region)&(df['Product']==product)]['Sales'].values\n",
    "        print(f\"Region : {region}\")\n",
    "        print(f\"Product : {product}\")\n",
    "        print(\"Sales Values:\", sales_values)\n",
    "        print()"
   ]
  },
  {
   "cell_type": "code",
   "execution_count": 36,
   "id": "fed781d4",
   "metadata": {},
   "outputs": [
    {
     "name": "stdout",
     "output_type": "stream",
     "text": [
      "    Product  Sales\n",
      "79        A    350\n",
      "134       A    500\n",
      "137       A    520\n",
      "    Product  Sales\n",
      "4         B    250\n",
      "8         B    400\n",
      "17        B    310\n",
      "52        B    300\n",
      "73        B    325\n",
      "96        B    400\n",
      "133       B    350\n",
      "   Product  Sales\n",
      "38       G    100\n",
      "55       G    100\n",
      "66       G    100\n",
      "80       G    100\n",
      "   Product  Sales\n",
      "19       F    200\n",
      "24       F    200\n",
      "40       F    200\n",
      "83       F    200\n",
      "    Product  Sales\n",
      "33        D    250\n",
      "105       D    310\n",
      "109       D    250\n",
      "120       D    250\n",
      "   Product  Sales\n",
      "43       E    320\n",
      "71       E    210\n",
      "    Product  Sales\n",
      "51        C    110\n",
      "122       C    200\n",
      "128       C    320\n",
      "129       C    520\n",
      "146       C    110\n"
     ]
    }
   ],
   "source": [
    "for product in products :\n",
    "    print(df[(df['Region']=='Central')&(df['Product']==product)][['Product','Sales']]) \n",
    "    \n",
    "# Only Product G and F in the Central region has the same price for each product "
   ]
  },
  {
   "cell_type": "markdown",
   "id": "aa59ea05",
   "metadata": {},
   "source": [
    "# Insights "
   ]
  },
  {
   "cell_type": "code",
   "execution_count": 31,
   "id": "6128e4f4",
   "metadata": {},
   "outputs": [
    {
     "data": {
      "text/plain": [
       "{\"Total Sales (in '000 USD)\": 43355,\n",
       " 'Sales by Region': Region\n",
       " East       11960\n",
       " West        9170\n",
       " Central     7755\n",
       " South       7695\n",
       " North       6775\n",
       " Name: Sales, dtype: int64,\n",
       " 'Sales by Product': Product\n",
       " B    9780\n",
       " A    7405\n",
       " F    6315\n",
       " C    6045\n",
       " D    4960\n",
       " E    4460\n",
       " G    4390\n",
       " Name: Sales, dtype: int64,\n",
       " 'Top 10 Customers by Orders': Kivell      15\n",
       " Smith       15\n",
       " Jack        14\n",
       " Jardine     13\n",
       " Morgan      11\n",
       " Thompson    10\n",
       " Sorvina      9\n",
       " James        9\n",
       " Andrew       8\n",
       " Jones        7\n",
       " Name: Customer Name, dtype: int64,\n",
       " \"Average Sales per Order (in '000 USD)\": 289.03333333333336}"
      ]
     },
     "execution_count": 31,
     "metadata": {},
     "output_type": "execute_result"
    }
   ],
   "source": [
    "# 1. Total Sales\n",
    "total_sales = df[\"Sales\"].sum()\n",
    "\n",
    "# 2. Sales by Region\n",
    "sales_by_region = df.groupby('Region')[\"Sales\"].sum().sort_values(ascending=False)\n",
    "\n",
    "# 3. Sales by Product\n",
    "sales_by_product = df.groupby('Product')[\"Sales\"].sum().sort_values(ascending=False)\n",
    "\n",
    "# 4. Number of Orders by Customer\n",
    "orders_by_customer = df['Customer Name'].value_counts().head(10)\n",
    "\n",
    "# 5. Average Sales per Order\n",
    "average_sales_per_order = df[\"Sales\"].mean()\n",
    "\n",
    "{   \n",
    "    \"Total Sales (in '000 USD)\": total_sales,\n",
    "    \"Sales by Region\": sales_by_region,\n",
    "    \"Sales by Product\": sales_by_product,\n",
    "    \"Top 10 Customers by Orders\": orders_by_customer,\n",
    "    \"Average Sales per Order (in '000 USD)\": average_sales_per_order,\n",
    "}"
   ]
  },
  {
   "cell_type": "code",
   "execution_count": 64,
   "id": "7d737f79",
   "metadata": {},
   "outputs": [
    {
     "data": {
      "text/plain": [
       "{'Sales by Origin': Origin\n",
       " Paid       29510\n",
       " Organic    13845\n",
       " Name: Sales, dtype: int64,\n",
       " 'Refund Percentage': 4.67,\n",
       " 'Average Time to Purchase (days)': 191.21,\n",
       " 'Sales Over Time':   Registered At  Sales\n",
       " 0    2018-01-12   1450\n",
       " 1    2018-01-15   1550\n",
       " 2    2018-01-16   1060\n",
       " 3    2018-01-17    750\n",
       " 4    2018-01-18   1180,\n",
       " 'Correlation between Refunds and Sales': -0.010794088311416206}"
      ]
     },
     "execution_count": 64,
     "metadata": {},
     "output_type": "execute_result"
    }
   ],
   "source": [
    "# 6. Sales by Origin\n",
    "sales_by_origin = df.groupby('Origin')[\"Sales\"].sum().sort_values(ascending=False)\n",
    "\n",
    "# 7. Percentage of Refunded Orders\n",
    "refund_percentage = df['Refunded'].mean() * 100\n",
    "\n",
    "# 8. Time taken from Registration to Purchase\n",
    "# df['Time to Purchase (days)'] = (df['Purchased At'] - df['Registered At']).dt.days\n",
    "average_time_to_purchase = df['Time to Purchase (days)'].mean()\n",
    "\n",
    "# 9. Sales distribution over time (Registered At)\n",
    "sales_over_time = df.groupby(df['Registered At'].dt.date)[\"Sales\"].sum().reset_index()\n",
    "\n",
    "# 10. Correlation between Refunds and Sales Amount\n",
    "refund_sales_correlation = df['Refunded'].astype(int).corr(df[\"Sales\"])\n",
    "\n",
    "{    \"Sales by Origin\": sales_by_origin,\n",
    "    \"Refund Percentage\": round(refund_percentage,2),\n",
    "    \"Average Time to Purchase (days)\": round(average_time_to_purchase,2),\n",
    "    \"Sales Over Time\": sales_over_time.head(), \n",
    "    \"Correlation between Refunds and Sales\": refund_sales_correlation\n",
    "}"
   ]
  },
  {
   "cell_type": "markdown",
   "id": "10f4300e",
   "metadata": {},
   "source": [
    "1) Only Product G and F in the Central region has the same price for each product \n",
    "2) Origin does not have a statistically significant effect on the Sales based on the ANOVA test\n",
    "3) Though sales that come through unidentified channels has the highest average order \n",
    "value it also has the highest percentage of products returned while \n",
    "in terms of absolute value socials have the highest sales with very low percentage of returns\n",
    "4) All Customers Bought products from one region\n",
    "5) In all regions Sales for the paid channel was more in comparison to organic channel\n",
    "6) Johnson,Ile and Matthew are the only customers who have ordered once."
   ]
  },
  {
   "cell_type": "markdown",
   "id": "282a08a3",
   "metadata": {},
   "source": [
    "# Total Sales By Origin"
   ]
  },
  {
   "cell_type": "code",
   "execution_count": 65,
   "id": "f4d8b83e",
   "metadata": {},
   "outputs": [
    {
     "data": {
      "application/vnd.plotly.v1+json": {
       "config": {
        "plotlyServerURL": "https://plot.ly"
       },
       "data": [
        {
         "alignmentgroup": "True",
         "customdata": [
          [
           35,
           293.71,
           2.86
          ],
          [
           31,
           301.61,
           3.23
          ],
          [
           28,
           302.68,
           7.14
          ],
          [
           16,
           320.31,
           12.5
          ],
          [
           14,
           285,
           0
          ],
          [
           13,
           243.08,
           0
          ],
          [
           6,
           222.5,
           0
          ],
          [
           4,
           260,
           0
          ],
          [
           3,
           200,
           33.33
          ]
         ],
         "hovertemplate": "Origin=%{x}<br>Total Sales=%{text}<br>Count=%{customdata[0]}<br>Average Order Value=%{customdata[1]}<br>Percentage of Products Returned=%{customdata[2]}<extra></extra>",
         "legendgroup": "",
         "marker": {
          "color": "#000001",
          "pattern": {
           "shape": ""
          }
         },
         "name": "",
         "offsetgroup": "",
         "orientation": "v",
         "showlegend": false,
         "text": [
          10280,
          9350,
          8475,
          5125,
          3990,
          3160,
          1335,
          1040,
          600
         ],
         "textposition": "auto",
         "type": "bar",
         "x": [
          "social",
          "organic_search",
          "paid_search",
          "unknown",
          "email",
          "direct_traffic",
          "referral",
          "display",
          "other"
         ],
         "xaxis": "x",
         "y": [
          10280,
          9350,
          8475,
          5125,
          3990,
          3160,
          1335,
          1040,
          600
         ],
         "yaxis": "y"
        }
       ],
       "layout": {
        "barmode": "relative",
        "legend": {
         "tracegroupgap": 0
        },
        "margin": {
         "t": 60
        },
        "template": {
         "data": {
          "candlestick": [
           {
            "decreasing": {
             "line": {
              "color": "#000033"
             }
            },
            "increasing": {
             "line": {
              "color": "#000032"
             }
            },
            "type": "candlestick"
           }
          ],
          "contour": [
           {
            "colorscale": [
             [
              0,
              "#000011"
             ],
             [
              0.1111111111111111,
              "#000012"
             ],
             [
              0.2222222222222222,
              "#000013"
             ],
             [
              0.3333333333333333,
              "#000014"
             ],
             [
              0.4444444444444444,
              "#000015"
             ],
             [
              0.5555555555555556,
              "#000016"
             ],
             [
              0.6666666666666666,
              "#000017"
             ],
             [
              0.7777777777777778,
              "#000018"
             ],
             [
              0.8888888888888888,
              "#000019"
             ],
             [
              1,
              "#000020"
             ]
            ],
            "type": "contour"
           }
          ],
          "contourcarpet": [
           {
            "colorscale": [
             [
              0,
              "#000011"
             ],
             [
              0.1111111111111111,
              "#000012"
             ],
             [
              0.2222222222222222,
              "#000013"
             ],
             [
              0.3333333333333333,
              "#000014"
             ],
             [
              0.4444444444444444,
              "#000015"
             ],
             [
              0.5555555555555556,
              "#000016"
             ],
             [
              0.6666666666666666,
              "#000017"
             ],
             [
              0.7777777777777778,
              "#000018"
             ],
             [
              0.8888888888888888,
              "#000019"
             ],
             [
              1,
              "#000020"
             ]
            ],
            "type": "contourcarpet"
           }
          ],
          "heatmap": [
           {
            "colorscale": [
             [
              0,
              "#000011"
             ],
             [
              0.1111111111111111,
              "#000012"
             ],
             [
              0.2222222222222222,
              "#000013"
             ],
             [
              0.3333333333333333,
              "#000014"
             ],
             [
              0.4444444444444444,
              "#000015"
             ],
             [
              0.5555555555555556,
              "#000016"
             ],
             [
              0.6666666666666666,
              "#000017"
             ],
             [
              0.7777777777777778,
              "#000018"
             ],
             [
              0.8888888888888888,
              "#000019"
             ],
             [
              1,
              "#000020"
             ]
            ],
            "type": "heatmap"
           }
          ],
          "histogram2d": [
           {
            "colorscale": [
             [
              0,
              "#000011"
             ],
             [
              0.1111111111111111,
              "#000012"
             ],
             [
              0.2222222222222222,
              "#000013"
             ],
             [
              0.3333333333333333,
              "#000014"
             ],
             [
              0.4444444444444444,
              "#000015"
             ],
             [
              0.5555555555555556,
              "#000016"
             ],
             [
              0.6666666666666666,
              "#000017"
             ],
             [
              0.7777777777777778,
              "#000018"
             ],
             [
              0.8888888888888888,
              "#000019"
             ],
             [
              1,
              "#000020"
             ]
            ],
            "type": "histogram2d"
           }
          ],
          "icicle": [
           {
            "textfont": {
             "color": "white"
            },
            "type": "icicle"
           }
          ],
          "sankey": [
           {
            "textfont": {
             "color": "#000036"
            },
            "type": "sankey"
           }
          ],
          "scatter": [
           {
            "marker": {
             "line": {
              "width": 0
             }
            },
            "type": "scatter"
           }
          ],
          "table": [
           {
            "cells": {
             "fill": {
              "color": "#000038"
             },
             "font": {
              "color": "#000037"
             },
             "line": {
              "color": "#000039"
             }
            },
            "header": {
             "fill": {
              "color": "#000040"
             },
             "font": {
              "color": "#000036"
             },
             "line": {
              "color": "#000039"
             }
            },
            "type": "table"
           }
          ],
          "waterfall": [
           {
            "connector": {
             "line": {
              "color": "#000036",
              "width": 2
             }
            },
            "decreasing": {
             "marker": {
              "color": "#000033"
             }
            },
            "increasing": {
             "marker": {
              "color": "#000032"
             }
            },
            "totals": {
             "marker": {
              "color": "#000034"
             }
            },
            "type": "waterfall"
           }
          ]
         },
         "layout": {
          "coloraxis": {
           "colorscale": [
            [
             0,
             "#000011"
            ],
            [
             0.1111111111111111,
             "#000012"
            ],
            [
             0.2222222222222222,
             "#000013"
            ],
            [
             0.3333333333333333,
             "#000014"
            ],
            [
             0.4444444444444444,
             "#000015"
            ],
            [
             0.5555555555555556,
             "#000016"
            ],
            [
             0.6666666666666666,
             "#000017"
            ],
            [
             0.7777777777777778,
             "#000018"
            ],
            [
             0.8888888888888888,
             "#000019"
            ],
            [
             1,
             "#000020"
            ]
           ]
          },
          "colorscale": {
           "diverging": [
            [
             0,
             "#000021"
            ],
            [
             0.1,
             "#000022"
            ],
            [
             0.2,
             "#000023"
            ],
            [
             0.3,
             "#000024"
            ],
            [
             0.4,
             "#000025"
            ],
            [
             0.5,
             "#000026"
            ],
            [
             0.6,
             "#000027"
            ],
            [
             0.7,
             "#000028"
            ],
            [
             0.8,
             "#000029"
            ],
            [
             0.9,
             "#000030"
            ],
            [
             1,
             "#000031"
            ]
           ],
           "sequential": [
            [
             0,
             "#000011"
            ],
            [
             0.1111111111111111,
             "#000012"
            ],
            [
             0.2222222222222222,
             "#000013"
            ],
            [
             0.3333333333333333,
             "#000014"
            ],
            [
             0.4444444444444444,
             "#000015"
            ],
            [
             0.5555555555555556,
             "#000016"
            ],
            [
             0.6666666666666666,
             "#000017"
            ],
            [
             0.7777777777777778,
             "#000018"
            ],
            [
             0.8888888888888888,
             "#000019"
            ],
            [
             1,
             "#000020"
            ]
           ],
           "sequentialminus": [
            [
             0,
             "#000011"
            ],
            [
             0.1111111111111111,
             "#000012"
            ],
            [
             0.2222222222222222,
             "#000013"
            ],
            [
             0.3333333333333333,
             "#000014"
            ],
            [
             0.4444444444444444,
             "#000015"
            ],
            [
             0.5555555555555556,
             "#000016"
            ],
            [
             0.6666666666666666,
             "#000017"
            ],
            [
             0.7777777777777778,
             "#000018"
            ],
            [
             0.8888888888888888,
             "#000019"
            ],
            [
             1,
             "#000020"
            ]
           ]
          },
          "colorway": [
           "#000001",
           "#000002",
           "#000003",
           "#000004",
           "#000005",
           "#000006",
           "#000007",
           "#000008",
           "#000009",
           "#000010"
          ]
         }
        },
        "xaxis": {
         "anchor": "y",
         "domain": [
          0,
          1
         ],
         "title": {
          "text": "Origin"
         }
        },
        "yaxis": {
         "anchor": "x",
         "domain": [
          0,
          1
         ],
         "title": {
          "text": "Total Sales"
         }
        }
       }
      },
      "text/html": [
       "<div>                            <div id=\"666af28e-9e4b-43b5-babe-5bd43d5e82ad\" class=\"plotly-graph-div\" style=\"height:525px; width:100%;\"></div>            <script type=\"text/javascript\">                require([\"plotly\"], function(Plotly) {                    window.PLOTLYENV=window.PLOTLYENV || {};                                    if (document.getElementById(\"666af28e-9e4b-43b5-babe-5bd43d5e82ad\")) {                    Plotly.newPlot(                        \"666af28e-9e4b-43b5-babe-5bd43d5e82ad\",                        [{\"alignmentgroup\":\"True\",\"customdata\":[[35.0,293.71,2.86],[31.0,301.61,3.23],[28.0,302.68,7.14],[16.0,320.31,12.5],[14.0,285.0,0.0],[13.0,243.08,0.0],[6.0,222.5,0.0],[4.0,260.0,0.0],[3.0,200.0,33.33]],\"hovertemplate\":\"Origin=%{x}<br>Total Sales=%{text}<br>Count=%{customdata[0]}<br>Average Order Value=%{customdata[1]}<br>Percentage of Products Returned=%{customdata[2]}<extra></extra>\",\"legendgroup\":\"\",\"marker\":{\"color\":\"#000001\",\"pattern\":{\"shape\":\"\"}},\"name\":\"\",\"offsetgroup\":\"\",\"orientation\":\"v\",\"showlegend\":false,\"text\":[10280.0,9350.0,8475.0,5125.0,3990.0,3160.0,1335.0,1040.0,600.0],\"textposition\":\"auto\",\"x\":[\"social\",\"organic_search\",\"paid_search\",\"unknown\",\"email\",\"direct_traffic\",\"referral\",\"display\",\"other\"],\"xaxis\":\"x\",\"y\":[10280,9350,8475,5125,3990,3160,1335,1040,600],\"yaxis\":\"y\",\"type\":\"bar\"}],                        {\"template\":{\"data\":{\"candlestick\":[{\"decreasing\":{\"line\":{\"color\":\"#000033\"}},\"increasing\":{\"line\":{\"color\":\"#000032\"}},\"type\":\"candlestick\"}],\"contourcarpet\":[{\"colorscale\":[[0.0,\"#000011\"],[0.1111111111111111,\"#000012\"],[0.2222222222222222,\"#000013\"],[0.3333333333333333,\"#000014\"],[0.4444444444444444,\"#000015\"],[0.5555555555555556,\"#000016\"],[0.6666666666666666,\"#000017\"],[0.7777777777777778,\"#000018\"],[0.8888888888888888,\"#000019\"],[1.0,\"#000020\"]],\"type\":\"contourcarpet\"}],\"contour\":[{\"colorscale\":[[0.0,\"#000011\"],[0.1111111111111111,\"#000012\"],[0.2222222222222222,\"#000013\"],[0.3333333333333333,\"#000014\"],[0.4444444444444444,\"#000015\"],[0.5555555555555556,\"#000016\"],[0.6666666666666666,\"#000017\"],[0.7777777777777778,\"#000018\"],[0.8888888888888888,\"#000019\"],[1.0,\"#000020\"]],\"type\":\"contour\"}],\"heatmap\":[{\"colorscale\":[[0.0,\"#000011\"],[0.1111111111111111,\"#000012\"],[0.2222222222222222,\"#000013\"],[0.3333333333333333,\"#000014\"],[0.4444444444444444,\"#000015\"],[0.5555555555555556,\"#000016\"],[0.6666666666666666,\"#000017\"],[0.7777777777777778,\"#000018\"],[0.8888888888888888,\"#000019\"],[1.0,\"#000020\"]],\"type\":\"heatmap\"}],\"histogram2d\":[{\"colorscale\":[[0.0,\"#000011\"],[0.1111111111111111,\"#000012\"],[0.2222222222222222,\"#000013\"],[0.3333333333333333,\"#000014\"],[0.4444444444444444,\"#000015\"],[0.5555555555555556,\"#000016\"],[0.6666666666666666,\"#000017\"],[0.7777777777777778,\"#000018\"],[0.8888888888888888,\"#000019\"],[1.0,\"#000020\"]],\"type\":\"histogram2d\"}],\"icicle\":[{\"textfont\":{\"color\":\"white\"},\"type\":\"icicle\"}],\"sankey\":[{\"textfont\":{\"color\":\"#000036\"},\"type\":\"sankey\"}],\"scatter\":[{\"marker\":{\"line\":{\"width\":0}},\"type\":\"scatter\"}],\"table\":[{\"cells\":{\"fill\":{\"color\":\"#000038\"},\"font\":{\"color\":\"#000037\"},\"line\":{\"color\":\"#000039\"}},\"header\":{\"fill\":{\"color\":\"#000040\"},\"font\":{\"color\":\"#000036\"},\"line\":{\"color\":\"#000039\"}},\"type\":\"table\"}],\"waterfall\":[{\"connector\":{\"line\":{\"color\":\"#000036\",\"width\":2}},\"decreasing\":{\"marker\":{\"color\":\"#000033\"}},\"increasing\":{\"marker\":{\"color\":\"#000032\"}},\"totals\":{\"marker\":{\"color\":\"#000034\"}},\"type\":\"waterfall\"}]},\"layout\":{\"coloraxis\":{\"colorscale\":[[0.0,\"#000011\"],[0.1111111111111111,\"#000012\"],[0.2222222222222222,\"#000013\"],[0.3333333333333333,\"#000014\"],[0.4444444444444444,\"#000015\"],[0.5555555555555556,\"#000016\"],[0.6666666666666666,\"#000017\"],[0.7777777777777778,\"#000018\"],[0.8888888888888888,\"#000019\"],[1.0,\"#000020\"]]},\"colorscale\":{\"diverging\":[[0.0,\"#000021\"],[0.1,\"#000022\"],[0.2,\"#000023\"],[0.3,\"#000024\"],[0.4,\"#000025\"],[0.5,\"#000026\"],[0.6,\"#000027\"],[0.7,\"#000028\"],[0.8,\"#000029\"],[0.9,\"#000030\"],[1.0,\"#000031\"]],\"sequential\":[[0.0,\"#000011\"],[0.1111111111111111,\"#000012\"],[0.2222222222222222,\"#000013\"],[0.3333333333333333,\"#000014\"],[0.4444444444444444,\"#000015\"],[0.5555555555555556,\"#000016\"],[0.6666666666666666,\"#000017\"],[0.7777777777777778,\"#000018\"],[0.8888888888888888,\"#000019\"],[1.0,\"#000020\"]],\"sequentialminus\":[[0.0,\"#000011\"],[0.1111111111111111,\"#000012\"],[0.2222222222222222,\"#000013\"],[0.3333333333333333,\"#000014\"],[0.4444444444444444,\"#000015\"],[0.5555555555555556,\"#000016\"],[0.6666666666666666,\"#000017\"],[0.7777777777777778,\"#000018\"],[0.8888888888888888,\"#000019\"],[1.0,\"#000020\"]]},\"colorway\":[\"#000001\",\"#000002\",\"#000003\",\"#000004\",\"#000005\",\"#000006\",\"#000007\",\"#000008\",\"#000009\",\"#000010\"]}},\"xaxis\":{\"anchor\":\"y\",\"domain\":[0.0,1.0],\"title\":{\"text\":\"Origin\"}},\"yaxis\":{\"anchor\":\"x\",\"domain\":[0.0,1.0],\"title\":{\"text\":\"Total Sales\"}},\"legend\":{\"tracegroupgap\":0},\"margin\":{\"t\":60},\"barmode\":\"relative\"},                        {\"responsive\": true}                    ).then(function(){\n",
       "                            \n",
       "var gd = document.getElementById('666af28e-9e4b-43b5-babe-5bd43d5e82ad');\n",
       "var x = new MutationObserver(function (mutations, observer) {{\n",
       "        var display = window.getComputedStyle(gd).display;\n",
       "        if (!display || display === 'none') {{\n",
       "            console.log([gd, 'removed!']);\n",
       "            Plotly.purge(gd);\n",
       "            observer.disconnect();\n",
       "        }}\n",
       "}});\n",
       "\n",
       "// Listen for the removal of the full notebook cells\n",
       "var notebookContainer = gd.closest('#notebook-container');\n",
       "if (notebookContainer) {{\n",
       "    x.observe(notebookContainer, {childList: true});\n",
       "}}\n",
       "\n",
       "// Listen for the clearing of the current output cell\n",
       "var outputEl = gd.closest('.output');\n",
       "if (outputEl) {{\n",
       "    x.observe(outputEl, {childList: true});\n",
       "}}\n",
       "\n",
       "                        })                };                });            </script>        </div>"
      ]
     },
     "metadata": {},
     "output_type": "display_data"
    }
   ],
   "source": [
    "px.bar(Origin_info, x = 'Origin', y = 'Total Sales',hover_data = ['Count','Average Order Value','Percentage of Products Returned'],text = 'Total Sales')"
   ]
  },
  {
   "cell_type": "markdown",
   "id": "58d1b0ee",
   "metadata": {},
   "source": [
    "# Sales Trend"
   ]
  },
  {
   "cell_type": "code",
   "execution_count": 62,
   "id": "d1c98453",
   "metadata": {},
   "outputs": [
    {
     "data": {
      "application/vnd.plotly.v1+json": {
       "config": {
        "plotlyServerURL": "https://plot.ly"
       },
       "data": [
        {
         "hovertemplate": "Registered At=%{x}<br>Sales=%{y}<extra></extra>",
         "legendgroup": "",
         "line": {
          "color": "#000001",
          "dash": "solid"
         },
         "marker": {
          "symbol": "circle"
         },
         "mode": "lines",
         "name": "",
         "orientation": "v",
         "showlegend": false,
         "type": "scatter",
         "x": [
          "2018-01-12",
          "2018-01-15",
          "2018-01-16",
          "2018-01-17",
          "2018-01-18",
          "2018-01-19",
          "2018-01-22",
          "2018-01-23",
          "2018-01-24",
          "2018-01-25",
          "2018-01-26",
          "2018-01-29",
          "2018-01-30",
          "2018-01-31",
          "2018-02-01",
          "2018-02-02",
          "2018-02-05",
          "2018-02-06",
          "2018-02-07",
          "2018-02-08",
          "2018-02-09",
          "2018-02-12",
          "2018-02-14",
          "2018-02-15",
          "2018-02-16",
          "2018-02-19",
          "2018-02-20",
          "2018-02-21",
          "2018-02-22",
          "2018-02-23"
         ],
         "xaxis": "x",
         "y": [
          1450,
          1550,
          1060,
          750,
          1180,
          1730,
          2360,
          800,
          760,
          200,
          1390,
          2340,
          2105,
          1170,
          620,
          1710,
          1370,
          1870,
          2340,
          3010,
          1810,
          750,
          1040,
          2165,
          1045,
          1260,
          1100,
          1000,
          2605,
          815
         ],
         "yaxis": "y"
        }
       ],
       "layout": {
        "legend": {
         "tracegroupgap": 0
        },
        "margin": {
         "t": 60
        },
        "template": {
         "data": {
          "candlestick": [
           {
            "decreasing": {
             "line": {
              "color": "#000033"
             }
            },
            "increasing": {
             "line": {
              "color": "#000032"
             }
            },
            "type": "candlestick"
           }
          ],
          "contour": [
           {
            "colorscale": [
             [
              0,
              "#000011"
             ],
             [
              0.1111111111111111,
              "#000012"
             ],
             [
              0.2222222222222222,
              "#000013"
             ],
             [
              0.3333333333333333,
              "#000014"
             ],
             [
              0.4444444444444444,
              "#000015"
             ],
             [
              0.5555555555555556,
              "#000016"
             ],
             [
              0.6666666666666666,
              "#000017"
             ],
             [
              0.7777777777777778,
              "#000018"
             ],
             [
              0.8888888888888888,
              "#000019"
             ],
             [
              1,
              "#000020"
             ]
            ],
            "type": "contour"
           }
          ],
          "contourcarpet": [
           {
            "colorscale": [
             [
              0,
              "#000011"
             ],
             [
              0.1111111111111111,
              "#000012"
             ],
             [
              0.2222222222222222,
              "#000013"
             ],
             [
              0.3333333333333333,
              "#000014"
             ],
             [
              0.4444444444444444,
              "#000015"
             ],
             [
              0.5555555555555556,
              "#000016"
             ],
             [
              0.6666666666666666,
              "#000017"
             ],
             [
              0.7777777777777778,
              "#000018"
             ],
             [
              0.8888888888888888,
              "#000019"
             ],
             [
              1,
              "#000020"
             ]
            ],
            "type": "contourcarpet"
           }
          ],
          "heatmap": [
           {
            "colorscale": [
             [
              0,
              "#000011"
             ],
             [
              0.1111111111111111,
              "#000012"
             ],
             [
              0.2222222222222222,
              "#000013"
             ],
             [
              0.3333333333333333,
              "#000014"
             ],
             [
              0.4444444444444444,
              "#000015"
             ],
             [
              0.5555555555555556,
              "#000016"
             ],
             [
              0.6666666666666666,
              "#000017"
             ],
             [
              0.7777777777777778,
              "#000018"
             ],
             [
              0.8888888888888888,
              "#000019"
             ],
             [
              1,
              "#000020"
             ]
            ],
            "type": "heatmap"
           }
          ],
          "histogram2d": [
           {
            "colorscale": [
             [
              0,
              "#000011"
             ],
             [
              0.1111111111111111,
              "#000012"
             ],
             [
              0.2222222222222222,
              "#000013"
             ],
             [
              0.3333333333333333,
              "#000014"
             ],
             [
              0.4444444444444444,
              "#000015"
             ],
             [
              0.5555555555555556,
              "#000016"
             ],
             [
              0.6666666666666666,
              "#000017"
             ],
             [
              0.7777777777777778,
              "#000018"
             ],
             [
              0.8888888888888888,
              "#000019"
             ],
             [
              1,
              "#000020"
             ]
            ],
            "type": "histogram2d"
           }
          ],
          "icicle": [
           {
            "textfont": {
             "color": "white"
            },
            "type": "icicle"
           }
          ],
          "sankey": [
           {
            "textfont": {
             "color": "#000036"
            },
            "type": "sankey"
           }
          ],
          "scatter": [
           {
            "marker": {
             "line": {
              "width": 0
             }
            },
            "type": "scatter"
           }
          ],
          "table": [
           {
            "cells": {
             "fill": {
              "color": "#000038"
             },
             "font": {
              "color": "#000037"
             },
             "line": {
              "color": "#000039"
             }
            },
            "header": {
             "fill": {
              "color": "#000040"
             },
             "font": {
              "color": "#000036"
             },
             "line": {
              "color": "#000039"
             }
            },
            "type": "table"
           }
          ],
          "waterfall": [
           {
            "connector": {
             "line": {
              "color": "#000036",
              "width": 2
             }
            },
            "decreasing": {
             "marker": {
              "color": "#000033"
             }
            },
            "increasing": {
             "marker": {
              "color": "#000032"
             }
            },
            "totals": {
             "marker": {
              "color": "#000034"
             }
            },
            "type": "waterfall"
           }
          ]
         },
         "layout": {
          "coloraxis": {
           "colorscale": [
            [
             0,
             "#000011"
            ],
            [
             0.1111111111111111,
             "#000012"
            ],
            [
             0.2222222222222222,
             "#000013"
            ],
            [
             0.3333333333333333,
             "#000014"
            ],
            [
             0.4444444444444444,
             "#000015"
            ],
            [
             0.5555555555555556,
             "#000016"
            ],
            [
             0.6666666666666666,
             "#000017"
            ],
            [
             0.7777777777777778,
             "#000018"
            ],
            [
             0.8888888888888888,
             "#000019"
            ],
            [
             1,
             "#000020"
            ]
           ]
          },
          "colorscale": {
           "diverging": [
            [
             0,
             "#000021"
            ],
            [
             0.1,
             "#000022"
            ],
            [
             0.2,
             "#000023"
            ],
            [
             0.3,
             "#000024"
            ],
            [
             0.4,
             "#000025"
            ],
            [
             0.5,
             "#000026"
            ],
            [
             0.6,
             "#000027"
            ],
            [
             0.7,
             "#000028"
            ],
            [
             0.8,
             "#000029"
            ],
            [
             0.9,
             "#000030"
            ],
            [
             1,
             "#000031"
            ]
           ],
           "sequential": [
            [
             0,
             "#000011"
            ],
            [
             0.1111111111111111,
             "#000012"
            ],
            [
             0.2222222222222222,
             "#000013"
            ],
            [
             0.3333333333333333,
             "#000014"
            ],
            [
             0.4444444444444444,
             "#000015"
            ],
            [
             0.5555555555555556,
             "#000016"
            ],
            [
             0.6666666666666666,
             "#000017"
            ],
            [
             0.7777777777777778,
             "#000018"
            ],
            [
             0.8888888888888888,
             "#000019"
            ],
            [
             1,
             "#000020"
            ]
           ],
           "sequentialminus": [
            [
             0,
             "#000011"
            ],
            [
             0.1111111111111111,
             "#000012"
            ],
            [
             0.2222222222222222,
             "#000013"
            ],
            [
             0.3333333333333333,
             "#000014"
            ],
            [
             0.4444444444444444,
             "#000015"
            ],
            [
             0.5555555555555556,
             "#000016"
            ],
            [
             0.6666666666666666,
             "#000017"
            ],
            [
             0.7777777777777778,
             "#000018"
            ],
            [
             0.8888888888888888,
             "#000019"
            ],
            [
             1,
             "#000020"
            ]
           ]
          },
          "colorway": [
           "#000001",
           "#000002",
           "#000003",
           "#000004",
           "#000005",
           "#000006",
           "#000007",
           "#000008",
           "#000009",
           "#000010"
          ]
         }
        },
        "xaxis": {
         "anchor": "y",
         "domain": [
          0,
          1
         ],
         "title": {
          "text": "Registered At"
         }
        },
        "yaxis": {
         "anchor": "x",
         "domain": [
          0,
          1
         ],
         "title": {
          "text": "Sales"
         }
        }
       }
      },
      "text/html": [
       "<div>                            <div id=\"962ec1bc-d7af-4148-b379-25c41ddf0544\" class=\"plotly-graph-div\" style=\"height:525px; width:100%;\"></div>            <script type=\"text/javascript\">                require([\"plotly\"], function(Plotly) {                    window.PLOTLYENV=window.PLOTLYENV || {};                                    if (document.getElementById(\"962ec1bc-d7af-4148-b379-25c41ddf0544\")) {                    Plotly.newPlot(                        \"962ec1bc-d7af-4148-b379-25c41ddf0544\",                        [{\"hovertemplate\":\"Registered At=%{x}<br>Sales=%{y}<extra></extra>\",\"legendgroup\":\"\",\"line\":{\"color\":\"#000001\",\"dash\":\"solid\"},\"marker\":{\"symbol\":\"circle\"},\"mode\":\"lines\",\"name\":\"\",\"orientation\":\"v\",\"showlegend\":false,\"x\":[\"2018-01-12\",\"2018-01-15\",\"2018-01-16\",\"2018-01-17\",\"2018-01-18\",\"2018-01-19\",\"2018-01-22\",\"2018-01-23\",\"2018-01-24\",\"2018-01-25\",\"2018-01-26\",\"2018-01-29\",\"2018-01-30\",\"2018-01-31\",\"2018-02-01\",\"2018-02-02\",\"2018-02-05\",\"2018-02-06\",\"2018-02-07\",\"2018-02-08\",\"2018-02-09\",\"2018-02-12\",\"2018-02-14\",\"2018-02-15\",\"2018-02-16\",\"2018-02-19\",\"2018-02-20\",\"2018-02-21\",\"2018-02-22\",\"2018-02-23\"],\"xaxis\":\"x\",\"y\":[1450,1550,1060,750,1180,1730,2360,800,760,200,1390,2340,2105,1170,620,1710,1370,1870,2340,3010,1810,750,1040,2165,1045,1260,1100,1000,2605,815],\"yaxis\":\"y\",\"type\":\"scatter\"}],                        {\"template\":{\"data\":{\"candlestick\":[{\"decreasing\":{\"line\":{\"color\":\"#000033\"}},\"increasing\":{\"line\":{\"color\":\"#000032\"}},\"type\":\"candlestick\"}],\"contourcarpet\":[{\"colorscale\":[[0.0,\"#000011\"],[0.1111111111111111,\"#000012\"],[0.2222222222222222,\"#000013\"],[0.3333333333333333,\"#000014\"],[0.4444444444444444,\"#000015\"],[0.5555555555555556,\"#000016\"],[0.6666666666666666,\"#000017\"],[0.7777777777777778,\"#000018\"],[0.8888888888888888,\"#000019\"],[1.0,\"#000020\"]],\"type\":\"contourcarpet\"}],\"contour\":[{\"colorscale\":[[0.0,\"#000011\"],[0.1111111111111111,\"#000012\"],[0.2222222222222222,\"#000013\"],[0.3333333333333333,\"#000014\"],[0.4444444444444444,\"#000015\"],[0.5555555555555556,\"#000016\"],[0.6666666666666666,\"#000017\"],[0.7777777777777778,\"#000018\"],[0.8888888888888888,\"#000019\"],[1.0,\"#000020\"]],\"type\":\"contour\"}],\"heatmap\":[{\"colorscale\":[[0.0,\"#000011\"],[0.1111111111111111,\"#000012\"],[0.2222222222222222,\"#000013\"],[0.3333333333333333,\"#000014\"],[0.4444444444444444,\"#000015\"],[0.5555555555555556,\"#000016\"],[0.6666666666666666,\"#000017\"],[0.7777777777777778,\"#000018\"],[0.8888888888888888,\"#000019\"],[1.0,\"#000020\"]],\"type\":\"heatmap\"}],\"histogram2d\":[{\"colorscale\":[[0.0,\"#000011\"],[0.1111111111111111,\"#000012\"],[0.2222222222222222,\"#000013\"],[0.3333333333333333,\"#000014\"],[0.4444444444444444,\"#000015\"],[0.5555555555555556,\"#000016\"],[0.6666666666666666,\"#000017\"],[0.7777777777777778,\"#000018\"],[0.8888888888888888,\"#000019\"],[1.0,\"#000020\"]],\"type\":\"histogram2d\"}],\"icicle\":[{\"textfont\":{\"color\":\"white\"},\"type\":\"icicle\"}],\"sankey\":[{\"textfont\":{\"color\":\"#000036\"},\"type\":\"sankey\"}],\"scatter\":[{\"marker\":{\"line\":{\"width\":0}},\"type\":\"scatter\"}],\"table\":[{\"cells\":{\"fill\":{\"color\":\"#000038\"},\"font\":{\"color\":\"#000037\"},\"line\":{\"color\":\"#000039\"}},\"header\":{\"fill\":{\"color\":\"#000040\"},\"font\":{\"color\":\"#000036\"},\"line\":{\"color\":\"#000039\"}},\"type\":\"table\"}],\"waterfall\":[{\"connector\":{\"line\":{\"color\":\"#000036\",\"width\":2}},\"decreasing\":{\"marker\":{\"color\":\"#000033\"}},\"increasing\":{\"marker\":{\"color\":\"#000032\"}},\"totals\":{\"marker\":{\"color\":\"#000034\"}},\"type\":\"waterfall\"}]},\"layout\":{\"coloraxis\":{\"colorscale\":[[0.0,\"#000011\"],[0.1111111111111111,\"#000012\"],[0.2222222222222222,\"#000013\"],[0.3333333333333333,\"#000014\"],[0.4444444444444444,\"#000015\"],[0.5555555555555556,\"#000016\"],[0.6666666666666666,\"#000017\"],[0.7777777777777778,\"#000018\"],[0.8888888888888888,\"#000019\"],[1.0,\"#000020\"]]},\"colorscale\":{\"diverging\":[[0.0,\"#000021\"],[0.1,\"#000022\"],[0.2,\"#000023\"],[0.3,\"#000024\"],[0.4,\"#000025\"],[0.5,\"#000026\"],[0.6,\"#000027\"],[0.7,\"#000028\"],[0.8,\"#000029\"],[0.9,\"#000030\"],[1.0,\"#000031\"]],\"sequential\":[[0.0,\"#000011\"],[0.1111111111111111,\"#000012\"],[0.2222222222222222,\"#000013\"],[0.3333333333333333,\"#000014\"],[0.4444444444444444,\"#000015\"],[0.5555555555555556,\"#000016\"],[0.6666666666666666,\"#000017\"],[0.7777777777777778,\"#000018\"],[0.8888888888888888,\"#000019\"],[1.0,\"#000020\"]],\"sequentialminus\":[[0.0,\"#000011\"],[0.1111111111111111,\"#000012\"],[0.2222222222222222,\"#000013\"],[0.3333333333333333,\"#000014\"],[0.4444444444444444,\"#000015\"],[0.5555555555555556,\"#000016\"],[0.6666666666666666,\"#000017\"],[0.7777777777777778,\"#000018\"],[0.8888888888888888,\"#000019\"],[1.0,\"#000020\"]]},\"colorway\":[\"#000001\",\"#000002\",\"#000003\",\"#000004\",\"#000005\",\"#000006\",\"#000007\",\"#000008\",\"#000009\",\"#000010\"]}},\"xaxis\":{\"anchor\":\"y\",\"domain\":[0.0,1.0],\"title\":{\"text\":\"Registered At\"}},\"yaxis\":{\"anchor\":\"x\",\"domain\":[0.0,1.0],\"title\":{\"text\":\"Sales\"}},\"legend\":{\"tracegroupgap\":0},\"margin\":{\"t\":60}},                        {\"responsive\": true}                    ).then(function(){\n",
       "                            \n",
       "var gd = document.getElementById('962ec1bc-d7af-4148-b379-25c41ddf0544');\n",
       "var x = new MutationObserver(function (mutations, observer) {{\n",
       "        var display = window.getComputedStyle(gd).display;\n",
       "        if (!display || display === 'none') {{\n",
       "            console.log([gd, 'removed!']);\n",
       "            Plotly.purge(gd);\n",
       "            observer.disconnect();\n",
       "        }}\n",
       "}});\n",
       "\n",
       "// Listen for the removal of the full notebook cells\n",
       "var notebookContainer = gd.closest('#notebook-container');\n",
       "if (notebookContainer) {{\n",
       "    x.observe(notebookContainer, {childList: true});\n",
       "}}\n",
       "\n",
       "// Listen for the clearing of the current output cell\n",
       "var outputEl = gd.closest('.output');\n",
       "if (outputEl) {{\n",
       "    x.observe(outputEl, {childList: true});\n",
       "}}\n",
       "\n",
       "                        })                };                });            </script>        </div>"
      ]
     },
     "metadata": {},
     "output_type": "display_data"
    }
   ],
   "source": [
    "px.line(data_frame = sales_over_time, x = 'Registered At', y = 'Sales')"
   ]
  },
  {
   "cell_type": "markdown",
   "id": "f6d28777",
   "metadata": {},
   "source": [
    "##### Testing Streamlit Code "
   ]
  },
  {
   "cell_type": "code",
   "execution_count": null,
   "id": "3ea6327c",
   "metadata": {},
   "outputs": [],
   "source": [
    "st.title(\"Sales Data Analysis and Causal Inference\")\n",
    "\n",
    "st.header(\"Data Preview\")\n",
    "st.write(df.head())\n",
    "\n",
    "st.header(\"Exploratory Data Analysis\")\n",
    "\n",
    "st.write(f\"**Total Sales (in '000 USD):** {total_sales}\")\n",
    "st.write(f\"**Average Sales per Order (in '000 USD):** {average_sales_per_order}\")\n",
    "st.write(f\"**Refund Percentage:** {refund_percentage}%\")\n",
    "st.write(f\"**Average Time to Purchase (days):** {average_time_to_purchase} days\")\n",
    "\n",
    "st.subheader(\"Sales by Region\")\n",
    "st.bar_chart(sales_by_region)\n",
    "\n",
    "st.subheader(\"Sales by Product\")\n",
    "st.bar_chart(sales_by_product)\n",
    "\n",
    "st.subheader(\"Top 10 Customers by Orders\")\n",
    "st.write(orders_by_customer)\n",
    "\n",
    "st.subheader(\"Sales by Origin\")\n",
    "st.bar_chart(sales_by_origin)\n",
    "\n",
    "st.subheader(\"Sales Over Time\")\n",
    "st.line_chart(sales_over_time)\n",
    "\n",
    "st.header(\"Correlation Analysis\")\n",
    "\n",
    "correlation_matrix = df.corr(numeric_only=True)\n",
    "\n",
    "fig, ax = plt.subplots(figsize=(10, 8))\n",
    "sns.heatmap(correlation_matrix, annot=True, cmap='coolwarm', vmin=-1, vmax=1, fmt=\".2f\", ax=ax)\n",
    "ax.set_title('Correlation Matrix')\n",
    "st.pyplot(fig)\n",
    "\n",
    "st.header(\"Causal Inference\")\n",
    "\n",
    "causal_model = CausalModel(\n",
    "    data=df,\n",
    "    treatment=\"Refunded\",\n",
    "    outcome=\"Sales\",\n",
    "    common_causes=[\"Time to Purchase (days)\"]\n",
    ")\n",
    "\n",
    "st.subheader(\"Causal Model Graph\")\n",
    "\n",
    "fig, ax = plt.subplots()\n",
    "\n",
    "causal_graph = causal_model._graph._graph  # Access the internal graph\n",
    "\n",
    "pos = nx.spring_layout(causal_graph)  # or another layout for better spacing\n",
    "nx.draw(causal_graph, pos, with_labels=True, node_color='lightblue', ax=ax, node_size=3000, font_size=10)\n",
    "\n",
    "st.pyplot(fig)\n",
    "\n",
    "identified_estimand = causal_model.identify_effect()\n",
    "st.write(\"Identified Estimand:\")\n",
    "st.write(identified_estimand)\n",
    "\n",
    "causal_estimate = causal_model.estimate_effect(identified_estimand, method_name=\"backdoor.linear_regression\")\n",
    "st.write(\"Causal Estimate:\")\n",
    "st.write(causal_estimate)\n",
    "\n",
    "refutation = causal_model.refute_estimate(identified_estimand, causal_estimate, method_name=\"placebo_treatment_refuter\")\n",
    "st.write(\"Refutation Summary:\")\n",
    "st.write(refutation)\n",
    "\n",
    "st.write(\"**Estimated Causal Effect:**\", causal_estimate.value)\n",
    "st.write(\"**Refutation (Placebo Treatment):**\", refutation)"
   ]
  }
 ],
 "metadata": {
  "kernelspec": {
   "display_name": "Python 3 (ipykernel)",
   "language": "python",
   "name": "python3"
  },
  "language_info": {
   "codemirror_mode": {
    "name": "ipython",
    "version": 3
   },
   "file_extension": ".py",
   "mimetype": "text/x-python",
   "name": "python",
   "nbconvert_exporter": "python",
   "pygments_lexer": "ipython3",
   "version": "3.11.4"
  }
 },
 "nbformat": 4,
 "nbformat_minor": 5
}
