{
 "cells": [
  {
   "cell_type": "code",
   "execution_count": 5,
   "metadata": {},
   "outputs": [],
   "source": [
    "import pandas as pd"
   ]
  },
  {
   "cell_type": "code",
   "execution_count": 15,
   "metadata": {},
   "outputs": [],
   "source": [
    "output = pd.read_csv(\"Fans.csv\")"
   ]
  },
  {
   "cell_type": "code",
   "execution_count": 16,
   "metadata": {},
   "outputs": [
    {
     "data": {
      "text/html": [
       "<div>\n",
       "<style scoped>\n",
       "    .dataframe tbody tr th:only-of-type {\n",
       "        vertical-align: middle;\n",
       "    }\n",
       "\n",
       "    .dataframe tbody tr th {\n",
       "        vertical-align: top;\n",
       "    }\n",
       "\n",
       "    .dataframe thead th {\n",
       "        text-align: right;\n",
       "    }\n",
       "</style>\n",
       "<table border=\"1\" class=\"dataframe\">\n",
       "  <thead>\n",
       "    <tr style=\"text-align: right;\">\n",
       "      <th></th>\n",
       "      <th>S.no</th>\n",
       "      <th>item_description</th>\n",
       "      <th>L1.Category</th>\n",
       "      <th>L2.Category</th>\n",
       "      <th>L3.Category</th>\n",
       "      <th>split</th>\n",
       "      <th>category_check</th>\n",
       "    </tr>\n",
       "  </thead>\n",
       "  <tbody>\n",
       "    <tr>\n",
       "      <th>0</th>\n",
       "      <td>20909</td>\n",
       "      <td>Electronicspices DC Motor Mini Electric Motor...</td>\n",
       "      <td>Fridge, AC, Washing Machine, Large Appliances</td>\n",
       "      <td>Heating, cooling and Air quality</td>\n",
       "      <td>Fans</td>\n",
       "      <td>3</td>\n",
       "      <td>No</td>\n",
       "    </tr>\n",
       "    <tr>\n",
       "      <th>1</th>\n",
       "      <td>20910</td>\n",
       "      <td>EFFULGENT ersonal Fan Battery Operated Small H...</td>\n",
       "      <td>Fridge, AC, Washing Machine, Large Appliances</td>\n",
       "      <td>Heating, cooling and Air quality</td>\n",
       "      <td>Fans</td>\n",
       "      <td>3</td>\n",
       "      <td>No</td>\n",
       "    </tr>\n",
       "    <tr>\n",
       "      <th>2</th>\n",
       "      <td>20911</td>\n",
       "      <td>skynex 12 Volt DC/15 Watt/1.4 Amp/6 Inch Auto ...</td>\n",
       "      <td>Fridge, AC, Washing Machine, Large Appliances</td>\n",
       "      <td>Heating, cooling and Air quality</td>\n",
       "      <td>Fans</td>\n",
       "      <td>3</td>\n",
       "      <td>NaN</td>\n",
       "    </tr>\n",
       "    <tr>\n",
       "      <th>3</th>\n",
       "      <td>20912</td>\n",
       "      <td>Blackt Electrotech: 230Volt Auto Day/Night On...</td>\n",
       "      <td>Fridge, AC, Washing Machine, Large Appliances</td>\n",
       "      <td>Heating, cooling and Air quality</td>\n",
       "      <td>Fans</td>\n",
       "      <td>3</td>\n",
       "      <td>NaN</td>\n",
       "    </tr>\n",
       "    <tr>\n",
       "      <th>4</th>\n",
       "      <td>20913</td>\n",
       "      <td>Electronicspices 5 Pc Mini 2 Pin SPST on/OFF ...</td>\n",
       "      <td>Fridge, AC, Washing Machine, Large Appliances</td>\n",
       "      <td>Heating, cooling and Air quality</td>\n",
       "      <td>Fans</td>\n",
       "      <td>3</td>\n",
       "      <td>NaN</td>\n",
       "    </tr>\n",
       "    <tr>\n",
       "      <th>...</th>\n",
       "      <td>...</td>\n",
       "      <td>...</td>\n",
       "      <td>...</td>\n",
       "      <td>...</td>\n",
       "      <td>...</td>\n",
       "      <td>...</td>\n",
       "      <td>...</td>\n",
       "    </tr>\n",
       "    <tr>\n",
       "      <th>1511</th>\n",
       "      <td>22420</td>\n",
       "      <td>TSV USB Fan</td>\n",
       "      <td>Fridge, AC, Washing Machine, Large Appliances</td>\n",
       "      <td>Heating, cooling and Air quality</td>\n",
       "      <td>Fans</td>\n",
       "      <td>3</td>\n",
       "      <td>NaN</td>\n",
       "    </tr>\n",
       "    <tr>\n",
       "      <th>1512</th>\n",
       "      <td>22421</td>\n",
       "      <td>FAN MOTOR</td>\n",
       "      <td>Fridge, AC, Washing Machine, Large Appliances</td>\n",
       "      <td>Heating, cooling and Air quality</td>\n",
       "      <td>Fans</td>\n",
       "      <td>3</td>\n",
       "      <td>NaN</td>\n",
       "    </tr>\n",
       "    <tr>\n",
       "      <th>1513</th>\n",
       "      <td>22422</td>\n",
       "      <td>Fan brush</td>\n",
       "      <td>Fridge, AC, Washing Machine, Large Appliances</td>\n",
       "      <td>Heating, cooling and Air quality</td>\n",
       "      <td>Fans</td>\n",
       "      <td>3</td>\n",
       "      <td>NaN</td>\n",
       "    </tr>\n",
       "    <tr>\n",
       "      <th>1514</th>\n",
       "      <td>22423</td>\n",
       "      <td>clip fan</td>\n",
       "      <td>Fridge, AC, Washing Machine, Large Appliances</td>\n",
       "      <td>Heating, cooling and Air quality</td>\n",
       "      <td>Fans</td>\n",
       "      <td>3</td>\n",
       "      <td>NaN</td>\n",
       "    </tr>\n",
       "    <tr>\n",
       "      <th>1515</th>\n",
       "      <td>22424</td>\n",
       "      <td>fan part</td>\n",
       "      <td>Fridge, AC, Washing Machine, Large Appliances</td>\n",
       "      <td>Heating, cooling and Air quality</td>\n",
       "      <td>Fans</td>\n",
       "      <td>3</td>\n",
       "      <td>NaN</td>\n",
       "    </tr>\n",
       "  </tbody>\n",
       "</table>\n",
       "<p>1516 rows × 7 columns</p>\n",
       "</div>"
      ],
      "text/plain": [
       "       S.no                                   item_description  \\\n",
       "0     20909   Electronicspices DC Motor Mini Electric Motor...   \n",
       "1     20910  EFFULGENT ersonal Fan Battery Operated Small H...   \n",
       "2     20911  skynex 12 Volt DC/15 Watt/1.4 Amp/6 Inch Auto ...   \n",
       "3     20912   Blackt Electrotech: 230Volt Auto Day/Night On...   \n",
       "4     20913   Electronicspices 5 Pc Mini 2 Pin SPST on/OFF ...   \n",
       "...     ...                                                ...   \n",
       "1511  22420                                        TSV USB Fan   \n",
       "1512  22421                                          FAN MOTOR   \n",
       "1513  22422                                          Fan brush   \n",
       "1514  22423                                           clip fan   \n",
       "1515  22424                                           fan part   \n",
       "\n",
       "                                        L1.Category  \\\n",
       "0     Fridge, AC, Washing Machine, Large Appliances   \n",
       "1     Fridge, AC, Washing Machine, Large Appliances   \n",
       "2     Fridge, AC, Washing Machine, Large Appliances   \n",
       "3     Fridge, AC, Washing Machine, Large Appliances   \n",
       "4     Fridge, AC, Washing Machine, Large Appliances   \n",
       "...                                             ...   \n",
       "1511  Fridge, AC, Washing Machine, Large Appliances   \n",
       "1512  Fridge, AC, Washing Machine, Large Appliances   \n",
       "1513  Fridge, AC, Washing Machine, Large Appliances   \n",
       "1514  Fridge, AC, Washing Machine, Large Appliances   \n",
       "1515  Fridge, AC, Washing Machine, Large Appliances   \n",
       "\n",
       "                           L2.Category L3.Category  split category_check  \n",
       "0     Heating, cooling and Air quality        Fans      3             No  \n",
       "1     Heating, cooling and Air quality        Fans      3             No  \n",
       "2     Heating, cooling and Air quality        Fans      3            NaN  \n",
       "3     Heating, cooling and Air quality        Fans      3            NaN  \n",
       "4     Heating, cooling and Air quality        Fans      3            NaN  \n",
       "...                                ...         ...    ...            ...  \n",
       "1511  Heating, cooling and Air quality        Fans      3            NaN  \n",
       "1512  Heating, cooling and Air quality        Fans      3            NaN  \n",
       "1513  Heating, cooling and Air quality        Fans      3            NaN  \n",
       "1514  Heating, cooling and Air quality        Fans      3            NaN  \n",
       "1515  Heating, cooling and Air quality        Fans      3            NaN  \n",
       "\n",
       "[1516 rows x 7 columns]"
      ]
     },
     "execution_count": 16,
     "metadata": {},
     "output_type": "execute_result"
    }
   ],
   "source": [
    "output"
   ]
  },
  {
   "cell_type": "code",
   "execution_count": 20,
   "metadata": {},
   "outputs": [
    {
     "data": {
      "text/plain": [
       "Yes    1515\n",
       "Name: category_check, dtype: int64"
      ]
     },
     "execution_count": 20,
     "metadata": {},
     "output_type": "execute_result"
    }
   ],
   "source": [
    "for i in range(0, 1515):\n",
    "    if 'Fan'.casefold() in output.iloc[i,1].casefold():\n",
    "        output.iloc[i,-1] = \"Yes\"\n",
    "    else:\n",
    "        output.iloc[i,-1] = \"No\"\n",
    "output[0:1515]['category_check'].value_counts()"
   ]
  },
  {
   "cell_type": "code",
   "execution_count": 22,
   "metadata": {},
   "outputs": [
    {
     "data": {
      "text/plain": [
       "Yes    1317\n",
       "No      198\n",
       "Name: category_check, dtype: int64"
      ]
     },
     "execution_count": 22,
     "metadata": {},
     "output_type": "execute_result"
    }
   ],
   "source": [
    "for i in range(0, 1515):\n",
    "    if 'USB'.casefold() in output.iloc[i,1].casefold():\n",
    "        output.iloc[i,-1] = \"No\"\n",
    "output[0:1515]['category_check'].value_counts()"
   ]
  },
  {
   "cell_type": "code",
   "execution_count": 23,
   "metadata": {},
   "outputs": [
    {
     "data": {
      "text/plain": [
       "Yes    1296\n",
       "No      219\n",
       "Name: category_check, dtype: int64"
      ]
     },
     "execution_count": 23,
     "metadata": {},
     "output_type": "execute_result"
    }
   ],
   "source": [
    "for i in range(0, 1515):\n",
    "    if 'Brush'.casefold() in output.iloc[i,1].casefold():\n",
    "        output.iloc[i,-1] = \"No\"\n",
    "output[0:1515]['category_check'].value_counts()"
   ]
  },
  {
   "cell_type": "code",
   "execution_count": 25,
   "metadata": {},
   "outputs": [
    {
     "data": {
      "text/plain": [
       "Yes    1149\n",
       "No      366\n",
       "Name: category_check, dtype: int64"
      ]
     },
     "execution_count": 25,
     "metadata": {},
     "output_type": "execute_result"
    }
   ],
   "source": [
    "for i in range(0, 1515):\n",
    "    if 'Exhaust'.casefold() in output.iloc[i,1].casefold():\n",
    "        output.iloc[i,-1] = \"No\"\n",
    "output[0:1515]['category_check'].value_counts()"
   ]
  },
  {
   "cell_type": "code",
   "execution_count": 26,
   "metadata": {},
   "outputs": [
    {
     "data": {
      "text/plain": [
       "Yes    1143\n",
       "No      372\n",
       "Name: category_check, dtype: int64"
      ]
     },
     "execution_count": 26,
     "metadata": {},
     "output_type": "execute_result"
    }
   ],
   "source": [
    "for i in range(0, 1515):\n",
    "    if 'Neck'.casefold() in output.iloc[i,1].casefold():\n",
    "        output.iloc[i,-1] = \"No\"\n",
    "output[0:1515]['category_check'].value_counts()"
   ]
  },
  {
   "cell_type": "code",
   "execution_count": 27,
   "metadata": {},
   "outputs": [
    {
     "data": {
      "text/plain": [
       "Yes    1142\n",
       "No      373\n",
       "Name: category_check, dtype: int64"
      ]
     },
     "execution_count": 27,
     "metadata": {},
     "output_type": "execute_result"
    }
   ],
   "source": [
    "for i in range(0, 1515):\n",
    "    if 'Polo'.casefold() in output.iloc[i,1].casefold():\n",
    "        output.iloc[i,-1] = \"No\"\n",
    "output[0:1515]['category_check'].value_counts()"
   ]
  },
  {
   "cell_type": "code",
   "execution_count": 28,
   "metadata": {},
   "outputs": [
    {
     "data": {
      "text/plain": [
       "Yes    1083\n",
       "No      432\n",
       "Name: category_check, dtype: int64"
      ]
     },
     "execution_count": 28,
     "metadata": {},
     "output_type": "execute_result"
    }
   ],
   "source": [
    "for i in range(0, 1515):\n",
    "    if 'Car'.casefold() in output.iloc[i,1].casefold():\n",
    "        output.iloc[i,-1] = \"No\"\n",
    "output[0:1515]['category_check'].value_counts()"
   ]
  },
  {
   "cell_type": "code",
   "execution_count": 30,
   "metadata": {},
   "outputs": [
    {
     "data": {
      "text/plain": [
       "Yes    1078\n",
       "No      437\n",
       "Name: category_check, dtype: int64"
      ]
     },
     "execution_count": 30,
     "metadata": {},
     "output_type": "execute_result"
    }
   ],
   "source": [
    "# isme kuch aise items dikhe jinme likha tha \"... for 6 lights without fan\"\n",
    "for i in range(0, 1515):\n",
    "    if 'Without'.casefold() in output.iloc[i,1].casefold() and 'Fan'.casefold() in output.iloc[i,1].casefold() :\n",
    "        output.iloc[i,-1] = \"No\"\n",
    "output[0:1515]['category_check'].value_counts()"
   ]
  },
  {
   "cell_type": "code",
   "execution_count": 31,
   "metadata": {},
   "outputs": [
    {
     "data": {
      "text/plain": [
       "Yes    1066\n",
       "No      449\n",
       "Name: category_check, dtype: int64"
      ]
     },
     "execution_count": 31,
     "metadata": {},
     "output_type": "execute_result"
    }
   ],
   "source": [
    "for i in range(0, 1515):\n",
    "    if 'Toy'.casefold() in output.iloc[i,1].casefold():\n",
    "        output.iloc[i,-1] = \"No\"\n",
    "output[0:1515]['category_check'].value_counts()"
   ]
  },
  {
   "cell_type": "code",
   "execution_count": 32,
   "metadata": {},
   "outputs": [
    {
     "data": {
      "text/plain": [
       "Yes    1058\n",
       "No      457\n",
       "Name: category_check, dtype: int64"
      ]
     },
     "execution_count": 32,
     "metadata": {},
     "output_type": "execute_result"
    }
   ],
   "source": [
    "for i in range(0, 1515):\n",
    "    if 'Battery'.casefold() in output.iloc[i,1].casefold():\n",
    "        output.iloc[i,-1] = \"No\"\n",
    "output[0:1515]['category_check'].value_counts()"
   ]
  },
  {
   "cell_type": "code",
   "execution_count": 33,
   "metadata": {},
   "outputs": [],
   "source": [
    "output.to_csv(\"Fans.csv\", index = False)"
   ]
  },
  {
   "cell_type": "code",
   "execution_count": 38,
   "metadata": {},
   "outputs": [
    {
     "name": "stdout",
     "output_type": "stream",
     "text": [
      " Electronicspices DC Motor Mini Electric Motor Carbon Brush High Speed Torque Electric Toy Cars Engine Motor Kit, for DIY Fan Toys Cars Models- PACK OF 10 Single Thread 50 Meter Wire Roll (24 gauge) For Electronic Project and DIY project (red) Electronic Spices COMBO of PAM8403 with Bluetooth Stereo Audio Receiver, Multicolour Electronicspices Combo Of 15 Pcs Different Sizes & type Fan Propeller F\n",
      "\n",
      "skynex 12 Volt DC/15 Watt/1.4 Amp/6 Inch Auto Rotate + On/Off Switch + Wiring Set Portable Electric Oscillating Fan for Car, Auto, Caravan, Boat, Truck, Buses, Vehicle, Truck, Automobile Cooling Fan Clip On Fan Steel Metal Body Oscillating Automotive 6 Car Interior Fan\n",
      "\n",
      " Electronicspices 5 Pc Mini 2 Pin SPST on/OFF Switch for Electronic Circuit PCB for Project or Experiment Electronicspices DC Motor Mini Electric Motor Carbon Brush High Speed Torque Electric Toy Cars Engine Motor Kit, for DIY Fan Toys Cars Models- PACK OF 5\n",
      "\n",
      " MAA-KU DC9225 Axial Case Cooling Fan. SIZE\\(9.2x9.2x2.5cm\\), SUPPLY VOLTAGE : 12VDC Absolute Native Electronics W1209 50~100 digital temperature controller thermostat\n",
      "\n",
      " Absolute Native Electronics W1209 50~100 digital temperature controller thermostat MAA-KU DC9225 Axial Case Cooling Fan. SIZE(9.2x9.2x2.5cm), SUPPLY VOLTAGE : 12VDC\n",
      "\n",
      " Electronicspices DC Motor Mini Electric Motor Carbon Brush High Speed Torque Electric Toy Cars Engine Motor Kit, for DIY Fan Toys Cars Models- PACK OF 5\n",
      "\n",
      " Betzila Dual Heads 12V DC Electric Car Fan 360 Degree Rotation 2 Speed Strong Wind Low Noise Car Cooling Air Fan-Blow Out Hot Air, Smoke, Odorous\n",
      "\n",
      "Atomberg Efficio Energy Saving 5 Star Rated with Remote Control and BLDC Motor 1050 mm Decorative Ceiling Fan ( Matte brown , Pack of 1 )\n",
      "\n",
      "Atomberg Efficio Energy Saving 5 Star Rated with Remote Control and BLDC Motor 1200 mm Decorative Ceiling Fan ( Matte brown , Pack of 1 )\n",
      "\n",
      "DHRUV-PRO 2-Pic 12 Volt DC High Speed Motor for Boat, Car, Electric Toys, Fan, Vacuum Cleaner, Air Pump or Many School Science Projects\n",
      "\n",
      " Atomberg Technologies Gorilla Renesa  Energy Saving 5 Star Rated Ceiling Fan with Remote Control and BLDC Motor, 1200 mm \\(Oak Wood\\)\n",
      "\n",
      " ERH INDIA 12 Volts DC Oscillating automaotive 6''Fan Directly Run Through Solar Panel or Any 12 Volts Battery Car Interior Fan (12 V)\n",
      "\n",
      "Atomberg Efficio Energy Saving 5 Star Rated with Remote Control and BLDC Motor 1050 mm Decorative Ceiling Fan ( Ivory , Pack of 1 )\n",
      "\n",
      "MEXICO W1209 Digital Thermostat Temperature Sensor 12V DC Cooling Fan COMBO Temperature Sensor and Controller Electronic Hobby Kit\n",
      "\n",
      " Woschmann - 12V DC Electric Car Fan for Dashboad 360 Degree Rotatable Dual Head Car Auto Powerful 2 Speed Cooling Air Fan\n",
      "\n",
      " Selec 800Sq-A Din Rail On Delay Timer MAA-KU DC9225 Axial Case Cooling Fan. SIZE(9.2x9.2x2.5cm), SUPPLY VOLTAGE : 12VDC\n",
      "\n",
      " Atomberg Renesa  900mm BLDC Motor Energy Saving Anti-Dust Ceiling Fan with Remote Control Pearl White Formerly Gorilla\n",
      "\n",
      " FourDot DC Axial Computer Case Cooling Cabinet Fan 5inch 120mm (38mm Thick) 12volt DC - 4000RPM High Speed Monster Fan\n",
      "\n",
      " Superfan Super X1 Silver - 1200mm (48\") Super Energy Efficient 35W BLDC Ceiling Fan With Remote Control - 5 Star Rated\n",
      "\n",
      " Superfan Super X1 Pink - 1200mm (48\") Super Energy Efficient 35W BLDC Ceiling Fan With Remote Control - 5 Star Rated\n",
      "\n",
      " FourDot DC Axial Computer Case Cooling Cabinet Fan 12volt 4inch 92mm 9.2cm High Speed Fan with Molex SMPS Connector\n",
      "\n",
      " PRIKNIK Car Fan 12V 360 Degree Rotatable Dual Head 2 Speed Quiet Strong Dashboard Auto Cooling Air Fan - for DC TCA\n",
      "\n",
      " ERH INDIA Super Auto Rotate Car Fan 6 Inch with Switch and Wiring 12V DC Car Interior Fan Car Interior Fan (12 V)\n",
      "\n",
      " SUFER FAN 5 Star Rated 1200 mm (48-inch) Super Energy Efficient 35W BLDC Ceiling Fan with Remote Control , Orange\n",
      "\n",
      " Gorilla Efficio Energy Saving 5 Star Rated 3 Blade Ceiling Fan With Remote Control and BLDC Motor, 1200mm- Ivory\n",
      "\n",
      " Gorilla Efficio Energy Saving 5 Star Rated 3 Blade Ceiling Fan With Remote Control and BLDC Motor, 1200mm- White\n",
      "\n",
      " Gorilla Efficio Energy Saving 5 Star Rated 3 Blade Ceiling Fan With Remote Control and BLDC Motor, 1400mm- Ivory\n",
      "\n",
      "Sheny 3V to 9V DC Flat Small Size Toy Motor + Multi Color 10 Pcs Toy Motor Fan Motor Control Electronic Hobby Kit\n",
      "\n",
      " MAA-KU DC Axial Case Cooling Fan. Size : 3.15\" inches (8x8x2.5cm), (80x80x25mm), Supply Voltage : 12VDC (Black)\n",
      "\n",
      " 700 WATT RMS Stereo Power Amplifier KIT TTC 5200 1943 with Power Supply and Cooling Fan 55-0-55 V DC 10 AMPIER\n",
      "\n",
      " Gorilla Renesa  Energy Saving 5 Star Rated Ceiling Fan With Remote Control and BLDC Motor,1200mm (Pearl White)\n",
      "\n",
      " Gorilla Renesa Energy Saving 5 Star Rated Ceiling Fan With Remote Control and BLDC Motor,1200mm (White Black)\n",
      "\n",
      " Jupiter Maharaja 5 Star Energy Saver Ceiling Fan with Remote Control Royal Ivory 4 Blades BLDC Motor 1200 mm\n",
      "\n",
      " Atomberg Renesa 600mm BLDC Motor Energy Saving Ceiling Fan with Remote Control White Black Formerly Gorilla\n",
      "\n",
      " DIY Science Projects Kit DC Motor, Fan, LED, Switch, AA Cell and Holder (5pcs Each) with Instruction Manual\n",
      "\n",
      "Atomberg Renesa with Remote Control and BLDC Motor 1200 mm Premium Ceiling Fan ( White & Black , Pack of 1 )\n",
      "\n",
      "Atomberg Renesa with Remote Control and BLDC Motor 1200 mm Premium Ceiling Fan ( Ivory black , Pack of 1 )\n",
      "\n",
      "Atomberg Renesa with Remote Control and BLDC Motor 1200 mm Premium Ceiling Fan ( Pearl white , Pack of 1 )\n",
      "\n",
      " ERH INDIA Car Fan 6 inch with Switch and Wiring 12v Dc Imported Item 1st Quality Car Interior Fan (12 V)\n",
      "\n",
      " Gorilla Renesa Energy Saving 5 Star Rated 1200 Mm Ceiling Fan With Remote Control And Bldc Motor - White\n",
      "\n",
      "SINOX Hybrid Dual input (12V DC/230V AC) BLDC Ceiling Fan With Remote (Ivory) 1200 mm 3 Blade Ceiling Fan\n",
      "\n",
      " 2-Pic 12 Volt DC High Speed Motor for Fan, Vacuum Cleaner, Air Pump or Many School Science Projects (2)\n",
      "\n",
      "AutoStark Winner Car Fan 6 inch With Switch And Wiring 12v Dc Imported item 1st Quality Car Interior Fan\n",
      "\n",
      " Atomberg Renesa 1200 mm BLDC Motor with Remote 3 Blade Ceiling Fan\\xa0\\xa0(Ivory and Black, Pack of 1)\n",
      "\n",
      " RASHRI ; One For All RS775 Big 3\" Torque Motor, 12 Volt DC Fan  Propeller 14 inches  3\" Mounting Clamp\n",
      "\n",
      " COMPCON DC Axial Computer Case Cooling Cabinet Fan 12volt 3inch 80 mm with 3Pin Motherboard Connector\n",
      "\n",
      "AutoSun Winner Car Fan 6 inch With Switch And Wiring 12v Dc Imported item 1st Quality Car Interior Fan\n",
      "\n",
      " 12 volts DC Oscillating automaotive 6''Fan directly run through Solar Panel or any 12 volts Battery\n",
      "\n",
      " Atomberg Efficio  400mm BLDC motor Energy Saving Pedestal Fan with Remote Control (White,Pack of 1)\n",
      "\n",
      "Atomberg Renesa with Remote Control and BLDC Motor 1200 mm Premium Ceiling Fan ( Brown , Pack of 1 )\n",
      "\n",
      " ERH INDIA Ever Auto Rotate Car Fan 6 Inch with Switch and Wiring 12V DC Car Interior Fan (12 V)\n",
      "\n",
      "Atlas Small 4.5-5V DC Motor, Mini Fan Blade, 9v battery and LED Educational Electronic Hobby Kit\n",
      "\n",
      "Jeffy 5Pcs 3V to 9V DC Flat Small Size Toy Motor and Multi Color 5Pcs Toy Motor Fan (Multicolor)\n",
      "\n",
      "Super Auto Rotate Car Fan 6 Inch With Switch And Wiring 12V DC Car Interior Fan Car Interior Fan\n",
      "\n",
      " Unique India 4020 5 Blade Brushless DC 12V Axial Cooling Fan Z8Y2 (40 x 40 x 20 mm) -4 Pieces\n",
      "\n",
      " Varshine Auto Rotate Car Fan 6 Inch 12V DC ForUniversal car Trucks Farm Tractors Auto F-87\n",
      "\n",
      " Coach Fan 8 Inch 12V DC for Universal car, Bus, Trucks, Farm Tractors, Auto, Multi-Color\n",
      "\n",
      " Coach Fan 8 Inch 24V DC for Universal car, Bus, Trucks, Farm Tractors, Auto, Multi-Color\n",
      "\n",
      "APTECHDEALS 5Pcs 3V to 9V DC Flat Small Size Toy Motor and Multi Color 5Pcs Toy Motor Fan\n",
      "\n",
      " AutoStark Winner Auto Rotate Car Fan 6 Inch With Switch And Wiring 12V DC Universal car\n",
      "\n",
      " Sinox 12 Volt DC 4 Blade Ceiling Fan with Remote Control and BLDC Motor, 900mm (White)\n",
      "\n",
      " AutoStark Winner Auto Rotate Car Fan 6 Inch with Switch and Wiring 12V DC for Audi Q7\n",
      "\n",
      " Victorair VA-ES28 Energy Saving BLDC Ceiling Fan 28 Watt With Remote Control, (Ivory)\n",
      "\n",
      " FourDot DC Axial Computer Case Cooling Cabinet Fan 12volt 3inch 80 mm (25 mm Thick)\n",
      "\n",
      " MAA-KU DC9225 Axial Case Cooling Fan. SIZE\\(9.2x9.2x2.5cm\\), SUPPLY VOLTAGE : 12VDC\n",
      "\n",
      " Nktronics Cooling Fan Frameless 18 Volt DC Type 4.5\" inch 110mm Fan for Project use\n",
      "\n",
      " FourDot DC Axial Computer Case Cooling Cabinet 12V 120mm 12cm 5inch High Speed Fan\n",
      "\n",
      " MAA-KU DC4020 Small Axial Case Cooling Fan. SIZE(4x4x2cm), SUPPLY VOLTAGE : 12VDC\n",
      "\n",
      " MAA-KU DC9225 Axial Case Cooling Fan. SIZE(9.2x9.2x2.5cm), SUPPLY VOLTAGE : 12VDC\n",
      "\n",
      " MAA-KU DC12025 Axial Case Cooling Fan. Size(12x12x2.5cm), Supply Voltage : 12VDC\n",
      "\n",
      " PGSA2Z Science Kit for DIY Projects, Dc Motors,9V Battery, Fan, Cap 10 Pcs Each.\n",
      "\n",
      " Sinox 230 V AC BLDC Ceiling Fan 1200 mm with Smart Remote Control (Milky White)\n",
      "\n",
      " Lovely Solar DC 12Volt - 24Watt, 12inch SanChi Pedestal Fan (Sky Blue & White)\n",
      "\n",
      "Orient Electric Ecotech Plus 1200 mm BLDC Motor with Remote 3 Blade Ceiling Fan\n",
      "\n",
      " Sinox Hybrid Dual Input (12V DC/230V AC) BLDC Ceiling Fan with Remote (Brown)\n",
      "\n",
      " Sinox Hybrid Dual Input (12V DC/230V AC) BLDC Ceiling Fan with Remote (White)\n",
      "\n",
      "MEXICO Cabinet Fan 3.5-Inch Square 12 V DC CPU Cooling fan 1 Fan Cooling Pad\n",
      "\n",
      " Lovely Solar DC 12Volt - 24Watt, 12inch Karora Pedestal Fan (Single Speed)\n",
      "\n",
      " Lovely Solar DC 12Volt - 24Watt, 12inch SanChi Pedestal Fan (Double Speed)\n",
      "\n",
      "Electronicspices Auto Rotate Car Fan 6 Inch 12V DC For car Car Interior Fan\n",
      "\n",
      " Lovely Solar DC 12Volt - 24Watt, 12inch A-One Pedestal Fan (Double Speed)\n",
      "\n",
      " Lovely Solar DC Fan 12Volt - 20Watt, 12inch SKN Pedestal Fan (Red & Grey)\n",
      "\n",
      " Lovely Solar DC 12Volt - 24Watt, 12\" SanChi Pedestal Fan (Double Speed)\n",
      "\n",
      " Lovely Solar Fan DC 12Volt - 22Watt, 12\" Karora Pedestal (Single Speed)\n",
      "\n",
      " Sinox Hybrid Dual Input(12V/230V) BLDC Ceiling Fan with Remote(Brown)\n",
      "\n",
      " Lovely Solar DC 12Volt - 24Watt, 12inch Pedestal Fan (Pink & White)\n",
      "\n",
      "Atomberg Efficio+ 1200 mm BLDC Motor with Remote 3 Blade Ceiling Fan\n",
      "\n",
      "Atomberg Efficio 1200 mm BLDC Motor with Remote 3 Blade Ceiling Fan\n",
      "\n",
      "Atomberg Renesa+ 1200 mm BLDC Motor with Remote 3 Blade Ceiling Fan\n",
      "\n",
      "Gorilla E1-1400W 1400 mm BLDC Motor with Remote 3 Blade Ceiling Fan\n",
      "\n",
      "Gorilla Efficio+ 1200 mm BLDC Motor with Remote 3 Blade Ceiling Fan\n",
      "\n",
      " Lovely Solar DC 12Volt - 24Watt, 12inch Pedestal Fan (Red & Grey)\n",
      "\n",
      "Atomberg Efficio 900 mm BLDC Motor with Remote 3 Blade Ceiling Fan\n",
      "\n",
      "Atomberg Renesa 1200 mm BLDC Motor with Remote 3 Blade Ceiling Fan\n",
      "\n",
      "Gorilla Efficio 1050 mm BLDC Motor with Remote 3 Blade Ceiling Fan\n",
      "\n",
      "Gorilla Efficio 1200 mm BLDC Motor with Remote 3 Blade Ceiling Fan\n",
      "\n",
      "Gorilla Renesa+ 1200 mm BLDC Motor with Remote 3 Blade Ceiling Fan\n",
      "\n",
      "Nnnu cooling fan 120x120x25mm DC (10V)-9 Blades 120 mm Exhaust Fan\n",
      "\n",
      " Lovely Solar DC 12Volt - 24Watt 12inch Pedestal Fan (Red & Grey)\n",
      "\n",
      "Gorilla Efficio 900 mm BLDC Motor with Remote 3 Blade Ceiling Fan\n",
      "\n",
      "Gorilla Renesa 1200 mm BLDC Motor with Remote 3 Blade Ceiling Fan\n",
      "\n",
      " Lovely Solar DC 12Volt - 24Watt, 12inch Pedestal Fan ( SanChi )\n",
      "\n",
      " Sinox 12V DC BLDC Ceiling Fan with Remote Control (METT Brown)\n",
      "\n",
      " Sinox 12V DC BLDC Ceiling Fan with Remote Control (Matt Brown)\n",
      "\n",
      " Lovely Solar DC 12Volt - 24Watt, 12inch Pedestal Fan (SanChi)\n",
      "\n",
      " Lovely Solar DC Pedestal Fan 12Volt - 20Watt, 12inch (S.K.N.)\n",
      "\n",
      " Sinox ECO 230V AC BLDC Ceiling Fan 1200mm with Remote(Ivory)\n",
      "\n",
      " Lovely Solar DC 12Volt -28Watt, 48inch Ceiling Fan (BLDC)\n",
      "\n",
      " Sinox Hybrid Dual Input BLDC Ceiling Fan 1200mm.(Ivory)\n",
      "\n"
     ]
    },
    {
     "name": "stdout",
     "output_type": "stream",
     "text": [
      " Dbie 9 Inch 12 Volt DC Fan, for All Cars & All Trucks\n",
      "\n",
      " Sinox 24V DC BLDC Ceiling Fan with Remote(Mett Brown)\n",
      "\n",
      "SINOX 12V BLDC IVORY 1200 mm 3 Blade Ceiling Fan\n",
      "\n",
      " Sinox 12V DC BLDC Ceiling Fan 1200mm.(White)\n",
      "\n",
      "Lovely Solar Fan DC 12V-18W 12  Solar Fan\n",
      "\n",
      "Lovely Solar Fan DC 12V-20W 12  Solar Fan\n",
      "\n",
      "Lovely Solar Fan DC 12V-24W 12  Solar Fan\n",
      "\n"
     ]
    },
    {
     "data": {
      "text/plain": [
       "Yes    972\n",
       "No     543\n",
       "Name: category_check, dtype: int64"
      ]
     },
     "execution_count": 38,
     "metadata": {},
     "output_type": "execute_result"
    }
   ],
   "source": [
    "# kuch fans hai jo low DC power vale hai\n",
    "for i in range(0, 1515):\n",
    "    if 'DC'.casefold() in output.iloc[i,1].casefold():\n",
    "        print(output.iloc[i,1])\n",
    "        print()\n",
    "        output.iloc[i,-1] = \"No\"\n",
    "output[0:1515]['category_check'].value_counts()\n",
    "# is part ko csv file mein nhi daala because kai saare genuine fans bhi hata rha tha. Link diya hai, aise vale fans\n",
    "# https://www.amazon.in/Sinox-BLDC-Ceiling-Remote-Brown/dp/B07GGP6352/ref=asc_df_B07GGP6352/?tag=googleshopdes-21&linkCode=df0&hvadid=397009191580&hvpos=&hvnetw=g&hvrand=3075580777359888203&hvpone=&hvptwo=&hvqmt=&hvdev=c&hvdvcmdl=&hvlocint=&hvlocphy=9040229&hvtargid=pla-815742427395&psc=1&ext_vrnc=hi"
   ]
  }
 ],
 "metadata": {
  "kernelspec": {
   "display_name": "Python 3",
   "language": "python",
   "name": "python3"
  },
  "language_info": {
   "codemirror_mode": {
    "name": "ipython",
    "version": 3
   },
   "file_extension": ".py",
   "mimetype": "text/x-python",
   "name": "python",
   "nbconvert_exporter": "python",
   "pygments_lexer": "ipython3",
   "version": "3.7.1"
  }
 },
 "nbformat": 4,
 "nbformat_minor": 4
}
