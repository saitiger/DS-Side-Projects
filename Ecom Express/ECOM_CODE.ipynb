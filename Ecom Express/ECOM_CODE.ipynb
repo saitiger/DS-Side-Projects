{
 "cells": [
  {
   "cell_type": "code",
   "execution_count": 1,
   "metadata": {},
   "outputs": [
    {
     "name": "stderr",
     "output_type": "stream",
     "text": [
      "C:\\ProgramData\\Anaconda3\\lib\\site-packages\\fuzzywuzzy\\fuzz.py:11: UserWarning: Using slow pure-python SequenceMatcher. Install python-Levenshtein to remove this warning\n",
      "  warnings.warn('Using slow pure-python SequenceMatcher. Install python-Levenshtein to remove this warning')\n"
     ]
    }
   ],
   "source": [
    "# alternate way\n",
    "# id = item description\n",
    "# repo = repository\n",
    "# 1st step is lookup from repo\n",
    "# 2nd step is string match from short master\n",
    "# 3rd step is string match from main master\n",
    "# please mind the working directory at the time of reading the files  \n",
    "\n",
    "import numpy as np\n",
    "import pandas as pd\n",
    "import re\n",
    "from fuzzywuzzy import fuzz\n",
    "\n",
    "# reading T-1 data, this is the mysql query output and is at awb level\n",
    "id = pd.read_csv(r\"C:\\Users\\24352\\Desktop\\categorisation1\\id.csv\",encoding='latin-1') \n",
    "\n",
    "# reading short master\n",
    "id_master_short = pd.read_csv(r\"C:\\Users\\24352\\Desktop\\categorisation1\\Category_Master_Short.csv\",encoding='latin-1')\n",
    "\n",
    "# previous successful categorisations repository with unique item descriptions\n",
    "id_repo = pd.read_csv(r\"C:\\Users\\24352\\Desktop\\categorisation1\\ID_Repo.csv\",encoding='latin-1')\n",
    "\n",
    "from nltk.corpus import stopwords"
   ]
  },
  {
   "cell_type": "code",
   "execution_count": 2,
   "metadata": {},
   "outputs": [
    {
     "name": "stdout",
     "output_type": "stream",
     "text": [
      "(101, 4)\n",
      "(98, 1)\n",
      "(1, 5)\n"
     ]
    }
   ],
   "source": [
    "# creating a new data frame with unique item descriptions on T-1 data\n",
    "# this is the data frame which will be used later on for string match and exact match look up\n",
    "# this is done to reduce the time complexity\n",
    "\n",
    "id_unique = pd.DataFrame(id[\"item_description\"].unique(),columns=['item_description'])\n",
    "print(id.shape)# prints the count of volume\n",
    "print(id_unique.shape)# prints the count of unique id in t-1 volume\n",
    "print(id_repo.shape)# prints the count of unique ids in id repository "
   ]
  },
  {
   "cell_type": "code",
   "execution_count": 3,
   "metadata": {},
   "outputs": [],
   "source": [
    "# subset of short master containing only keywords\n",
    "id_master_sub = id_master_short[[\"L4 Category\"]]"
   ]
  },
  {
   "cell_type": "code",
   "execution_count": 4,
   "metadata": {},
   "outputs": [],
   "source": [
    "# removing the blank values\n",
    "id_master_sub = id_master_sub[id_master_sub[\"L4 Category\"].notnull()]"
   ]
  },
  {
   "cell_type": "code",
   "execution_count": 5,
   "metadata": {},
   "outputs": [],
   "source": [
    "# function to clean the ids\n",
    "def rmstop(x):\n",
    "    #pattern = re.compile(r'\\b(' + r'|'.join(stopwords.words('english')) + r')\\b\\s*')\n",
    "    #x = pattern.sub('', x)\n",
    "    x = str(x).lower()\n",
    "    x = re.sub(r'[^a-zA-Z0-9\\s]', ' ', x)\n",
    "    return(x)"
   ]
  },
  {
   "cell_type": "code",
   "execution_count": 6,
   "metadata": {},
   "outputs": [],
   "source": [
    "# converting to string type\n",
    "id_unique = id_unique.astype(str)"
   ]
  },
  {
   "cell_type": "code",
   "execution_count": 7,
   "metadata": {},
   "outputs": [],
   "source": [
    "# converting to string type\n",
    "id_master_sub = id_master_sub.astype(str)"
   ]
  },
  {
   "cell_type": "code",
   "execution_count": 8,
   "metadata": {},
   "outputs": [
    {
     "data": {
      "text/html": [
       "<div>\n",
       "<style scoped>\n",
       "    .dataframe tbody tr th:only-of-type {\n",
       "        vertical-align: middle;\n",
       "    }\n",
       "\n",
       "    .dataframe tbody tr th {\n",
       "        vertical-align: top;\n",
       "    }\n",
       "\n",
       "    .dataframe thead th {\n",
       "        text-align: right;\n",
       "    }\n",
       "</style>\n",
       "<table border=\"1\" class=\"dataframe\">\n",
       "  <thead>\n",
       "    <tr style=\"text-align: right;\">\n",
       "      <th></th>\n",
       "      <th>item_description</th>\n",
       "      <th>L1 Category</th>\n",
       "      <th>L2 Category</th>\n",
       "      <th>L3 Category</th>\n",
       "      <th>L4 Category</th>\n",
       "    </tr>\n",
       "  </thead>\n",
       "  <tbody>\n",
       "    <tr>\n",
       "      <th>0</th>\n",
       "      <td>100FIT Tempered Glass for Honor 9 lite (11D)-...</td>\n",
       "      <td>Mobiles, Tablets, Mobile Accessories</td>\n",
       "      <td>Screen Protectors</td>\n",
       "      <td>Hardened Glass</td>\n",
       "      <td>Tempered glass</td>\n",
       "    </tr>\n",
       "  </tbody>\n",
       "</table>\n",
       "</div>"
      ],
      "text/plain": [
       "                                    item_description  \\\n",
       "0   100FIT Tempered Glass for Honor 9 lite (11D)-...   \n",
       "\n",
       "                            L1 Category        L2 Category     L3 Category  \\\n",
       "0  Mobiles, Tablets, Mobile Accessories  Screen Protectors  Hardened Glass   \n",
       "\n",
       "      L4 Category  \n",
       "0  Tempered glass  "
      ]
     },
     "execution_count": 8,
     "metadata": {},
     "output_type": "execute_result"
    }
   ],
   "source": [
    "# viewing the head of id repo\n",
    "id_repo.head()"
   ]
  },
  {
   "cell_type": "code",
   "execution_count": 9,
   "metadata": {},
   "outputs": [],
   "source": [
    "# merging the the two data frames to look up from idrepo\n",
    "lookup = pd.merge(id_unique,id_repo,how=\"left\",left_on=\"item_description\",right_on=\"item_description\")"
   ]
  },
  {
   "cell_type": "code",
   "execution_count": 10,
   "metadata": {},
   "outputs": [
    {
     "data": {
      "text/html": [
       "<div>\n",
       "<style scoped>\n",
       "    .dataframe tbody tr th:only-of-type {\n",
       "        vertical-align: middle;\n",
       "    }\n",
       "\n",
       "    .dataframe tbody tr th {\n",
       "        vertical-align: top;\n",
       "    }\n",
       "\n",
       "    .dataframe thead th {\n",
       "        text-align: right;\n",
       "    }\n",
       "</style>\n",
       "<table border=\"1\" class=\"dataframe\">\n",
       "  <thead>\n",
       "    <tr style=\"text-align: right;\">\n",
       "      <th></th>\n",
       "      <th>item_description</th>\n",
       "      <th>L1 Category</th>\n",
       "      <th>L2 Category</th>\n",
       "      <th>L3 Category</th>\n",
       "      <th>L4 Category</th>\n",
       "    </tr>\n",
       "  </thead>\n",
       "  <tbody>\n",
       "    <tr>\n",
       "      <th>97</th>\n",
       "      <td>100FIT Tempered Glass for Honor 9 lite (11D)-...</td>\n",
       "      <td>Mobiles, Tablets, Mobile Accessories</td>\n",
       "      <td>Screen Protectors</td>\n",
       "      <td>Hardened Glass</td>\n",
       "      <td>Tempered glass</td>\n",
       "    </tr>\n",
       "  </tbody>\n",
       "</table>\n",
       "</div>"
      ],
      "text/plain": [
       "                                     item_description  \\\n",
       "97   100FIT Tempered Glass for Honor 9 lite (11D)-...   \n",
       "\n",
       "                             L1 Category        L2 Category     L3 Category  \\\n",
       "97  Mobiles, Tablets, Mobile Accessories  Screen Protectors  Hardened Glass   \n",
       "\n",
       "       L4 Category  \n",
       "97  Tempered glass  "
      ]
     },
     "execution_count": 10,
     "metadata": {},
     "output_type": "execute_result"
    }
   ],
   "source": [
    "# subset of successful exact match\n",
    "lookup_yes = lookup[lookup[\"L4 Category\"].notnull()]\n",
    "lookup_yes.head()"
   ]
  },
  {
   "cell_type": "code",
   "execution_count": 11,
   "metadata": {},
   "outputs": [
    {
     "data": {
      "text/html": [
       "<div>\n",
       "<style scoped>\n",
       "    .dataframe tbody tr th:only-of-type {\n",
       "        vertical-align: middle;\n",
       "    }\n",
       "\n",
       "    .dataframe tbody tr th {\n",
       "        vertical-align: top;\n",
       "    }\n",
       "\n",
       "    .dataframe thead th {\n",
       "        text-align: right;\n",
       "    }\n",
       "</style>\n",
       "<table border=\"1\" class=\"dataframe\">\n",
       "  <thead>\n",
       "    <tr style=\"text-align: right;\">\n",
       "      <th></th>\n",
       "      <th>item_description</th>\n",
       "      <th>L1 Category</th>\n",
       "      <th>L2 Category</th>\n",
       "      <th>L3 Category</th>\n",
       "      <th>L4 Category</th>\n",
       "    </tr>\n",
       "  </thead>\n",
       "  <tbody>\n",
       "    <tr>\n",
       "      <th>0</th>\n",
       "      <td>TECHNICAL SELLER in-Ear Wired Earphone, 1.2m ...</td>\n",
       "      <td>NaN</td>\n",
       "      <td>NaN</td>\n",
       "      <td>NaN</td>\n",
       "      <td>NaN</td>\n",
       "    </tr>\n",
       "    <tr>\n",
       "      <th>1</th>\n",
       "      <td>Sobo Slim Filter WP 408H Hang On Filter Flow ...</td>\n",
       "      <td>NaN</td>\n",
       "      <td>NaN</td>\n",
       "      <td>NaN</td>\n",
       "      <td>NaN</td>\n",
       "    </tr>\n",
       "    <tr>\n",
       "      <th>2</th>\n",
       "      <td>Fabiano Appliances G-400El(Bfy) Designer Glas...</td>\n",
       "      <td>NaN</td>\n",
       "      <td>NaN</td>\n",
       "      <td>NaN</td>\n",
       "      <td>NaN</td>\n",
       "    </tr>\n",
       "    <tr>\n",
       "      <th>3</th>\n",
       "      <td>Faces: A chilling thriller of loyalty and bet...</td>\n",
       "      <td>NaN</td>\n",
       "      <td>NaN</td>\n",
       "      <td>NaN</td>\n",
       "      <td>NaN</td>\n",
       "    </tr>\n",
       "    <tr>\n",
       "      <th>4</th>\n",
       "      <td>FESTIVAL HOME FURNISHINGS Polycotton 400TC Di...</td>\n",
       "      <td>NaN</td>\n",
       "      <td>NaN</td>\n",
       "      <td>NaN</td>\n",
       "      <td>NaN</td>\n",
       "    </tr>\n",
       "  </tbody>\n",
       "</table>\n",
       "</div>"
      ],
      "text/plain": [
       "                                    item_description L1 Category L2 Category  \\\n",
       "0   TECHNICAL SELLER in-Ear Wired Earphone, 1.2m ...         NaN         NaN   \n",
       "1   Sobo Slim Filter WP 408H Hang On Filter Flow ...         NaN         NaN   \n",
       "2   Fabiano Appliances G-400El(Bfy) Designer Glas...         NaN         NaN   \n",
       "3   Faces: A chilling thriller of loyalty and bet...         NaN         NaN   \n",
       "4   FESTIVAL HOME FURNISHINGS Polycotton 400TC Di...         NaN         NaN   \n",
       "\n",
       "  L3 Category L4 Category  \n",
       "0         NaN         NaN  \n",
       "1         NaN         NaN  \n",
       "2         NaN         NaN  \n",
       "3         NaN         NaN  \n",
       "4         NaN         NaN  "
      ]
     },
     "execution_count": 11,
     "metadata": {},
     "output_type": "execute_result"
    }
   ],
   "source": [
    "# subset of successful exact match\n",
    "lookup_no = lookup[lookup[\"L4 Category\"].isnull()]\n",
    "lookup_no.head()"
   ]
  },
  {
   "cell_type": "code",
   "execution_count": 12,
   "metadata": {},
   "outputs": [],
   "source": [
    "# keeping the first match row only\n",
    "lookup_yes = lookup_yes.groupby(['item_description'])['L1 Category','L2 Category','L3 Category','L4 Category'].first().reset_index()"
   ]
  },
  {
   "cell_type": "code",
   "execution_count": 13,
   "metadata": {},
   "outputs": [],
   "source": [
    "# new dataframe with first stage completed\n",
    "lookup_yes.head()\n",
    "final_1 = pd.merge(id,lookup_yes,how=\"left\",left_on= \"item_description\",right_on=\"item_description\")"
   ]
  },
  {
   "cell_type": "code",
   "execution_count": 14,
   "metadata": {},
   "outputs": [
    {
     "data": {
      "text/plain": [
       "True     100\n",
       "False      1\n",
       "Name: L4 Category, dtype: int64"
      ]
     },
     "execution_count": 14,
     "metadata": {},
     "output_type": "execute_result"
    }
   ],
   "source": [
    "# count of unsuccessful matches in total volume\n",
    "final_1[\"L4 Category\"].isnull().value_counts()"
   ]
  },
  {
   "cell_type": "code",
   "execution_count": 15,
   "metadata": {},
   "outputs": [
    {
     "data": {
      "text/plain": [
       "0.009900990099009901"
      ]
     },
     "execution_count": 15,
     "metadata": {},
     "output_type": "execute_result"
    }
   ],
   "source": [
    "# coverage percentage of this stage\n",
    "final_1[\"L4 Category\"].isnull().value_counts()[0]/final_1.shape[0]"
   ]
  },
  {
   "cell_type": "code",
   "execution_count": 16,
   "metadata": {},
   "outputs": [],
   "source": [
    "# subset of non match id from the look upstage\n",
    "non_match = final_1[final_1[\"L4 Category\"].isnull()]"
   ]
  },
  {
   "cell_type": "code",
   "execution_count": 17,
   "metadata": {},
   "outputs": [],
   "source": [
    "# 1st step final data frame\n",
    "final_1 = final_1[final_1[\"L4 Category\"].notnull()]"
   ]
  },
  {
   "cell_type": "code",
   "execution_count": 18,
   "metadata": {},
   "outputs": [
    {
     "data": {
      "text/html": [
       "<div>\n",
       "<style scoped>\n",
       "    .dataframe tbody tr th:only-of-type {\n",
       "        vertical-align: middle;\n",
       "    }\n",
       "\n",
       "    .dataframe tbody tr th {\n",
       "        vertical-align: top;\n",
       "    }\n",
       "\n",
       "    .dataframe thead th {\n",
       "        text-align: right;\n",
       "    }\n",
       "</style>\n",
       "<table border=\"1\" class=\"dataframe\">\n",
       "  <thead>\n",
       "    <tr style=\"text-align: right;\">\n",
       "      <th></th>\n",
       "      <th>airwaybill_number</th>\n",
       "      <th>item_description</th>\n",
       "      <th>inscan_date</th>\n",
       "      <th>shipper_id</th>\n",
       "      <th>L1 Category</th>\n",
       "      <th>L2 Category</th>\n",
       "      <th>L3 Category</th>\n",
       "      <th>L4 Category</th>\n",
       "    </tr>\n",
       "  </thead>\n",
       "  <tbody>\n",
       "    <tr>\n",
       "      <th>0</th>\n",
       "      <td>2013989109</td>\n",
       "      <td>TECHNICAL SELLER in-Ear Wired Earphone, 1.2m ...</td>\n",
       "      <td>8/13/2020 0:00</td>\n",
       "      <td>2272</td>\n",
       "      <td>NaN</td>\n",
       "      <td>NaN</td>\n",
       "      <td>NaN</td>\n",
       "      <td>NaN</td>\n",
       "    </tr>\n",
       "    <tr>\n",
       "      <th>1</th>\n",
       "      <td>2013950227</td>\n",
       "      <td>Sobo Slim Filter WP 408H Hang On Filter Flow ...</td>\n",
       "      <td>8/13/2020 0:00</td>\n",
       "      <td>2272</td>\n",
       "      <td>NaN</td>\n",
       "      <td>NaN</td>\n",
       "      <td>NaN</td>\n",
       "      <td>NaN</td>\n",
       "    </tr>\n",
       "    <tr>\n",
       "      <th>2</th>\n",
       "      <td>2013899399</td>\n",
       "      <td>Fabiano Appliances G-400El(Bfy) Designer Glas...</td>\n",
       "      <td>8/13/2020 0:00</td>\n",
       "      <td>2272</td>\n",
       "      <td>NaN</td>\n",
       "      <td>NaN</td>\n",
       "      <td>NaN</td>\n",
       "      <td>NaN</td>\n",
       "    </tr>\n",
       "    <tr>\n",
       "      <th>3</th>\n",
       "      <td>2013987606</td>\n",
       "      <td>Faces: A chilling thriller of loyalty and bet...</td>\n",
       "      <td>8/13/2020 0:00</td>\n",
       "      <td>2272</td>\n",
       "      <td>NaN</td>\n",
       "      <td>NaN</td>\n",
       "      <td>NaN</td>\n",
       "      <td>NaN</td>\n",
       "    </tr>\n",
       "    <tr>\n",
       "      <th>4</th>\n",
       "      <td>2013977309</td>\n",
       "      <td>FESTIVAL HOME FURNISHINGS Polycotton 400TC Di...</td>\n",
       "      <td>8/13/2020 0:00</td>\n",
       "      <td>2272</td>\n",
       "      <td>NaN</td>\n",
       "      <td>NaN</td>\n",
       "      <td>NaN</td>\n",
       "      <td>NaN</td>\n",
       "    </tr>\n",
       "  </tbody>\n",
       "</table>\n",
       "</div>"
      ],
      "text/plain": [
       "   airwaybill_number                                   item_description  \\\n",
       "0         2013989109   TECHNICAL SELLER in-Ear Wired Earphone, 1.2m ...   \n",
       "1         2013950227   Sobo Slim Filter WP 408H Hang On Filter Flow ...   \n",
       "2         2013899399   Fabiano Appliances G-400El(Bfy) Designer Glas...   \n",
       "3         2013987606   Faces: A chilling thriller of loyalty and bet...   \n",
       "4         2013977309   FESTIVAL HOME FURNISHINGS Polycotton 400TC Di...   \n",
       "\n",
       "      inscan_date  shipper_id L1 Category L2 Category L3 Category L4 Category  \n",
       "0  8/13/2020 0:00        2272         NaN         NaN         NaN         NaN  \n",
       "1  8/13/2020 0:00        2272         NaN         NaN         NaN         NaN  \n",
       "2  8/13/2020 0:00        2272         NaN         NaN         NaN         NaN  \n",
       "3  8/13/2020 0:00        2272         NaN         NaN         NaN         NaN  \n",
       "4  8/13/2020 0:00        2272         NaN         NaN         NaN         NaN  "
      ]
     },
     "execution_count": 18,
     "metadata": {},
     "output_type": "execute_result"
    }
   ],
   "source": [
    "non_match.head()"
   ]
  },
  {
   "cell_type": "code",
   "execution_count": 19,
   "metadata": {},
   "outputs": [],
   "source": [
    "# non match unique id data frame\n",
    "id_unique = pd.DataFrame(non_match[\"item_description\"].unique(),columns=['item_description'])\n",
    "id_unique = id_unique.astype(str)"
   ]
  },
  {
   "cell_type": "code",
   "execution_count": 20,
   "metadata": {},
   "outputs": [],
   "source": [
    "# cleaning\n",
    "id[\"item_description_2\"] = id[\"item_description\"].apply(rmstop)\n",
    "id_unique[\"item_description_2\"] = id_unique[\"item_description\"].apply(rmstop)\n",
    "id_master_sub[\"L4_Category_2\"] = id_master_sub[\"L4 Category\"].apply(rmstop)\n",
    "id_master_short[\"L4_Category_2\"] = id_master_short[\"L4 Category\"].apply(rmstop)"
   ]
  },
  {
   "cell_type": "code",
   "execution_count": 21,
   "metadata": {},
   "outputs": [
    {
     "data": {
      "text/plain": [
       "(3977, 2)"
      ]
     },
     "execution_count": 21,
     "metadata": {},
     "output_type": "execute_result"
    }
   ],
   "source": [
    "# creating dataframe with all cominations \n",
    "from itertools import product\n",
    "#list(product(id['item_description'], id_master['Sub_Category']))\n",
    "df = pd.DataFrame(data=list(product(id_unique['item_description_2'], id_master_sub['L4_Category_2'])), columns=['Item_description','L4_Category']) \n",
    "df.shape "
   ]
  },
  {
   "cell_type": "code",
   "execution_count": 22,
   "metadata": {},
   "outputs": [
    {
     "name": "stdout",
     "output_type": "stream",
     "text": [
      "ID_Repo observations 1\n",
      "Vol to be categorised 101\n",
      "Unique ID count 98\n",
      "ID match from ID_Repo 1\n",
      "ID to be categorised 97\n",
      "ID to be categorised_check 97\n"
     ]
    }
   ],
   "source": [
    "# checkpoint  \n",
    "print(\"ID_Repo observations\",id_repo.shape[0])\n",
    "print(\"Vol to be categorised\",id.shape[0])\n",
    "print(\"Unique ID count\",lookup.shape[0]) # this is done because id_unique keeps changing\n",
    "print(\"ID match from ID_Repo\",lookup_yes.shape[0])\n",
    "print(\"ID to be categorised\",id_unique.shape[0])\n",
    "print(\"ID to be categorised_check\",lookup_no.shape[0])"
   ]
  },
  {
   "cell_type": "code",
   "execution_count": 23,
   "metadata": {},
   "outputs": [],
   "source": [
    "# string match\n",
    "df[\"token_set_ratio\"]  = df.apply(lambda x: fuzz.token_set_ratio(x['Item_description'], x['L4_Category']), axis=1)"
   ]
  },
  {
   "cell_type": "code",
   "execution_count": 24,
   "metadata": {},
   "outputs": [],
   "source": [
    "# sorting the dataframe in highest to lowest order\n",
    "df = df.sort_values(by=['token_set_ratio'], ascending=False)"
   ]
  },
  {
   "cell_type": "code",
   "execution_count": 25,
   "metadata": {},
   "outputs": [
    {
     "data": {
      "text/html": [
       "<div>\n",
       "<style scoped>\n",
       "    .dataframe tbody tr th:only-of-type {\n",
       "        vertical-align: middle;\n",
       "    }\n",
       "\n",
       "    .dataframe tbody tr th {\n",
       "        vertical-align: top;\n",
       "    }\n",
       "\n",
       "    .dataframe thead th {\n",
       "        text-align: right;\n",
       "    }\n",
       "</style>\n",
       "<table border=\"1\" class=\"dataframe\">\n",
       "  <thead>\n",
       "    <tr style=\"text-align: right;\">\n",
       "      <th></th>\n",
       "      <th>Item_description</th>\n",
       "      <th>L4_Category</th>\n",
       "      <th>token_set_ratio</th>\n",
       "    </tr>\n",
       "  </thead>\n",
       "  <tbody>\n",
       "    <tr>\n",
       "      <th>2419</th>\n",
       "      <td>printbharat men s   women s regular fit t shi...</td>\n",
       "      <td>t shirt</td>\n",
       "      <td>100</td>\n",
       "    </tr>\n",
       "    <tr>\n",
       "      <th>3380</th>\n",
       "      <td>blaxstoc magnetic bluetooth earphone wireless...</td>\n",
       "      <td>mobile phone</td>\n",
       "      <td>100</td>\n",
       "    </tr>\n",
       "    <tr>\n",
       "      <th>3364</th>\n",
       "      <td>blaxstoc magnetic bluetooth earphone wireless...</td>\n",
       "      <td>earphone</td>\n",
       "      <td>100</td>\n",
       "    </tr>\n",
       "    <tr>\n",
       "      <th>3214</th>\n",
       "      <td>xusive leather wallet flip book cover case fo...</td>\n",
       "      <td>wallet</td>\n",
       "      <td>100</td>\n",
       "    </tr>\n",
       "    <tr>\n",
       "      <th>2428</th>\n",
       "      <td>printbharat men s   women s regular fit t shi...</td>\n",
       "      <td>shirt</td>\n",
       "      <td>100</td>\n",
       "    </tr>\n",
       "  </tbody>\n",
       "</table>\n",
       "</div>"
      ],
      "text/plain": [
       "                                       Item_description   L4_Category  \\\n",
       "2419   printbharat men s   women s regular fit t shi...       t shirt   \n",
       "3380   blaxstoc magnetic bluetooth earphone wireless...  mobile phone   \n",
       "3364   blaxstoc magnetic bluetooth earphone wireless...      earphone   \n",
       "3214   xusive leather wallet flip book cover case fo...        wallet   \n",
       "2428   printbharat men s   women s regular fit t shi...         shirt   \n",
       "\n",
       "      token_set_ratio  \n",
       "2419              100  \n",
       "3380              100  \n",
       "3364              100  \n",
       "3214              100  \n",
       "2428              100  "
      ]
     },
     "execution_count": 25,
     "metadata": {},
     "output_type": "execute_result"
    }
   ],
   "source": [
    "# viewing the dataframe\n",
    "df.head()"
   ]
  },
  {
   "cell_type": "code",
   "execution_count": 26,
   "metadata": {},
   "outputs": [],
   "source": [
    "# subset of only greater than 90% match\n",
    "df2 = df[df[\"token_set_ratio\"]>=90].copy() "
   ]
  },
  {
   "cell_type": "code",
   "execution_count": 27,
   "metadata": {},
   "outputs": [],
   "source": [
    "# converting to string type\n",
    "df2[\"Item_description\"] = df2[\"Item_description\"].astype(str)\n",
    "df2[\"L4_Category\"] = df2[\"L4_Category\"].astype(str)\n",
    "\n",
    "# right.groupby(['age'])['salary'].first().reset_index()\n",
    "\n",
    "# lengths calculated to single out the longest match\n",
    "df2[\"len_id\"] = df2[\"Item_description\"].str.len()\n",
    "df2[\"len_sc\"] = df2[\"L4_Category\"].str.len()\n",
    "df2[\"len_check\"] = np.where(df2[\"len_id\"]>df2[\"len_sc\"],1,0)"
   ]
  },
  {
   "cell_type": "code",
   "execution_count": 28,
   "metadata": {},
   "outputs": [],
   "source": [
    "# sorting the data frame\n",
    "df2 = df2.sort_values(['len_id', 'len_sc','len_check'], ascending=[False, False, False])"
   ]
  },
  {
   "cell_type": "code",
   "execution_count": 29,
   "metadata": {},
   "outputs": [],
   "source": [
    "# selecting the first row only thereby keeping the longest match \n",
    "df2 = df2.groupby(['Item_description'])['L4_Category'].first().reset_index()"
   ]
  },
  {
   "cell_type": "code",
   "execution_count": 30,
   "metadata": {},
   "outputs": [
    {
     "data": {
      "text/html": [
       "<div>\n",
       "<style scoped>\n",
       "    .dataframe tbody tr th:only-of-type {\n",
       "        vertical-align: middle;\n",
       "    }\n",
       "\n",
       "    .dataframe tbody tr th {\n",
       "        vertical-align: top;\n",
       "    }\n",
       "\n",
       "    .dataframe thead th {\n",
       "        text-align: right;\n",
       "    }\n",
       "</style>\n",
       "<table border=\"1\" class=\"dataframe\">\n",
       "  <thead>\n",
       "    <tr style=\"text-align: right;\">\n",
       "      <th></th>\n",
       "      <th>Item_description</th>\n",
       "      <th>L4_Category</th>\n",
       "    </tr>\n",
       "  </thead>\n",
       "  <tbody>\n",
       "    <tr>\n",
       "      <th>0</th>\n",
       "      <td>blaxstoc magnetic bluetooth earphone wireless...</td>\n",
       "      <td>mobile phone</td>\n",
       "    </tr>\n",
       "    <tr>\n",
       "      <th>1</th>\n",
       "      <td>blaxstoc wireless bluetooth earphone headphon...</td>\n",
       "      <td>headphone</td>\n",
       "    </tr>\n",
       "    <tr>\n",
       "      <th>2</th>\n",
       "      <td>liberty coolers cool99 120 men s formal slipp...</td>\n",
       "      <td>slippers</td>\n",
       "    </tr>\n",
       "    <tr>\n",
       "      <th>3</th>\n",
       "      <td>micamount rajah ayurveda rootz herbal shampoo...</td>\n",
       "      <td>shampoo</td>\n",
       "    </tr>\n",
       "    <tr>\n",
       "      <th>4</th>\n",
       "      <td>nine9 sh12 wireless bluetooth headphone for a...</td>\n",
       "      <td>headphone</td>\n",
       "    </tr>\n",
       "  </tbody>\n",
       "</table>\n",
       "</div>"
      ],
      "text/plain": [
       "                                    Item_description   L4_Category\n",
       "0   blaxstoc magnetic bluetooth earphone wireless...  mobile phone\n",
       "1   blaxstoc wireless bluetooth earphone headphon...     headphone\n",
       "2   liberty coolers cool99 120 men s formal slipp...      slippers\n",
       "3   micamount rajah ayurveda rootz herbal shampoo...       shampoo\n",
       "4   nine9 sh12 wireless bluetooth headphone for a...     headphone"
      ]
     },
     "execution_count": 30,
     "metadata": {},
     "output_type": "execute_result"
    }
   ],
   "source": [
    "df2.head()"
   ]
  },
  {
   "cell_type": "code",
   "execution_count": 31,
   "metadata": {},
   "outputs": [],
   "source": [
    "# cleaning the id in the dataframe left after 1st step\n",
    "non_match[\"item_description_2\"] = non_match[\"item_description\"].apply(rmstop)"
   ]
  },
  {
   "cell_type": "code",
   "execution_count": 32,
   "metadata": {},
   "outputs": [],
   "source": [
    "# dropping the columns to replicate the query output data\n",
    "non_match.drop([\"L1 Category\",\"L2 Category\",\"L3 Category\",\"L4 Category\"],axis=1, inplace=True)"
   ]
  },
  {
   "cell_type": "code",
   "execution_count": 33,
   "metadata": {},
   "outputs": [
    {
     "data": {
      "text/html": [
       "<div>\n",
       "<style scoped>\n",
       "    .dataframe tbody tr th:only-of-type {\n",
       "        vertical-align: middle;\n",
       "    }\n",
       "\n",
       "    .dataframe tbody tr th {\n",
       "        vertical-align: top;\n",
       "    }\n",
       "\n",
       "    .dataframe thead th {\n",
       "        text-align: right;\n",
       "    }\n",
       "</style>\n",
       "<table border=\"1\" class=\"dataframe\">\n",
       "  <thead>\n",
       "    <tr style=\"text-align: right;\">\n",
       "      <th></th>\n",
       "      <th>airwaybill_number</th>\n",
       "      <th>item_description</th>\n",
       "      <th>inscan_date</th>\n",
       "      <th>shipper_id</th>\n",
       "      <th>item_description_2</th>\n",
       "    </tr>\n",
       "  </thead>\n",
       "  <tbody>\n",
       "    <tr>\n",
       "      <th>0</th>\n",
       "      <td>2013989109</td>\n",
       "      <td>TECHNICAL SELLER in-Ear Wired Earphone, 1.2m ...</td>\n",
       "      <td>8/13/2020 0:00</td>\n",
       "      <td>2272</td>\n",
       "      <td>technical seller in ear wired earphone  1 2m ...</td>\n",
       "    </tr>\n",
       "    <tr>\n",
       "      <th>1</th>\n",
       "      <td>2013950227</td>\n",
       "      <td>Sobo Slim Filter WP 408H Hang On Filter Flow ...</td>\n",
       "      <td>8/13/2020 0:00</td>\n",
       "      <td>2272</td>\n",
       "      <td>sobo slim filter wp 408h hang on filter flow ...</td>\n",
       "    </tr>\n",
       "    <tr>\n",
       "      <th>2</th>\n",
       "      <td>2013899399</td>\n",
       "      <td>Fabiano Appliances G-400El(Bfy) Designer Glas...</td>\n",
       "      <td>8/13/2020 0:00</td>\n",
       "      <td>2272</td>\n",
       "      <td>fabiano appliances g 400el bfy  designer glas...</td>\n",
       "    </tr>\n",
       "    <tr>\n",
       "      <th>3</th>\n",
       "      <td>2013987606</td>\n",
       "      <td>Faces: A chilling thriller of loyalty and bet...</td>\n",
       "      <td>8/13/2020 0:00</td>\n",
       "      <td>2272</td>\n",
       "      <td>faces  a chilling thriller of loyalty and bet...</td>\n",
       "    </tr>\n",
       "    <tr>\n",
       "      <th>4</th>\n",
       "      <td>2013977309</td>\n",
       "      <td>FESTIVAL HOME FURNISHINGS Polycotton 400TC Di...</td>\n",
       "      <td>8/13/2020 0:00</td>\n",
       "      <td>2272</td>\n",
       "      <td>festival home furnishings polycotton 400tc di...</td>\n",
       "    </tr>\n",
       "  </tbody>\n",
       "</table>\n",
       "</div>"
      ],
      "text/plain": [
       "   airwaybill_number                                   item_description  \\\n",
       "0         2013989109   TECHNICAL SELLER in-Ear Wired Earphone, 1.2m ...   \n",
       "1         2013950227   Sobo Slim Filter WP 408H Hang On Filter Flow ...   \n",
       "2         2013899399   Fabiano Appliances G-400El(Bfy) Designer Glas...   \n",
       "3         2013987606   Faces: A chilling thriller of loyalty and bet...   \n",
       "4         2013977309   FESTIVAL HOME FURNISHINGS Polycotton 400TC Di...   \n",
       "\n",
       "      inscan_date  shipper_id  \\\n",
       "0  8/13/2020 0:00        2272   \n",
       "1  8/13/2020 0:00        2272   \n",
       "2  8/13/2020 0:00        2272   \n",
       "3  8/13/2020 0:00        2272   \n",
       "4  8/13/2020 0:00        2272   \n",
       "\n",
       "                                  item_description_2  \n",
       "0   technical seller in ear wired earphone  1 2m ...  \n",
       "1   sobo slim filter wp 408h hang on filter flow ...  \n",
       "2   fabiano appliances g 400el bfy  designer glas...  \n",
       "3   faces  a chilling thriller of loyalty and bet...  \n",
       "4   festival home furnishings polycotton 400tc di...  "
      ]
     },
     "execution_count": 33,
     "metadata": {},
     "output_type": "execute_result"
    }
   ],
   "source": [
    "# viewing the data frame\n",
    "non_match.head()"
   ]
  },
  {
   "cell_type": "code",
   "execution_count": 34,
   "metadata": {},
   "outputs": [],
   "source": [
    "# look up the results/keywords of the step 2 string match \n",
    "final_2 = pd.merge(non_match,df2,how=\"left\",left_on=\"item_description_2\",right_on=\"Item_description\")"
   ]
  },
  {
   "cell_type": "code",
   "execution_count": 35,
   "metadata": {},
   "outputs": [
    {
     "data": {
      "text/html": [
       "<div>\n",
       "<style scoped>\n",
       "    .dataframe tbody tr th:only-of-type {\n",
       "        vertical-align: middle;\n",
       "    }\n",
       "\n",
       "    .dataframe tbody tr th {\n",
       "        vertical-align: top;\n",
       "    }\n",
       "\n",
       "    .dataframe thead th {\n",
       "        text-align: right;\n",
       "    }\n",
       "</style>\n",
       "<table border=\"1\" class=\"dataframe\">\n",
       "  <thead>\n",
       "    <tr style=\"text-align: right;\">\n",
       "      <th></th>\n",
       "      <th>airwaybill_number</th>\n",
       "      <th>item_description</th>\n",
       "      <th>inscan_date</th>\n",
       "      <th>shipper_id</th>\n",
       "      <th>item_description_2</th>\n",
       "      <th>Item_description</th>\n",
       "      <th>L4_Category</th>\n",
       "    </tr>\n",
       "  </thead>\n",
       "  <tbody>\n",
       "    <tr>\n",
       "      <th>0</th>\n",
       "      <td>2013989109</td>\n",
       "      <td>TECHNICAL SELLER in-Ear Wired Earphone, 1.2m ...</td>\n",
       "      <td>8/13/2020 0:00</td>\n",
       "      <td>2272</td>\n",
       "      <td>technical seller in ear wired earphone  1 2m ...</td>\n",
       "      <td>technical seller in ear wired earphone  1 2m ...</td>\n",
       "      <td>earphone</td>\n",
       "    </tr>\n",
       "    <tr>\n",
       "      <th>1</th>\n",
       "      <td>2013950227</td>\n",
       "      <td>Sobo Slim Filter WP 408H Hang On Filter Flow ...</td>\n",
       "      <td>8/13/2020 0:00</td>\n",
       "      <td>2272</td>\n",
       "      <td>sobo slim filter wp 408h hang on filter flow ...</td>\n",
       "      <td>NaN</td>\n",
       "      <td>NaN</td>\n",
       "    </tr>\n",
       "    <tr>\n",
       "      <th>2</th>\n",
       "      <td>2013899399</td>\n",
       "      <td>Fabiano Appliances G-400El(Bfy) Designer Glas...</td>\n",
       "      <td>8/13/2020 0:00</td>\n",
       "      <td>2272</td>\n",
       "      <td>fabiano appliances g 400el bfy  designer glas...</td>\n",
       "      <td>NaN</td>\n",
       "      <td>NaN</td>\n",
       "    </tr>\n",
       "    <tr>\n",
       "      <th>3</th>\n",
       "      <td>2013987606</td>\n",
       "      <td>Faces: A chilling thriller of loyalty and bet...</td>\n",
       "      <td>8/13/2020 0:00</td>\n",
       "      <td>2272</td>\n",
       "      <td>faces  a chilling thriller of loyalty and bet...</td>\n",
       "      <td>NaN</td>\n",
       "      <td>NaN</td>\n",
       "    </tr>\n",
       "    <tr>\n",
       "      <th>4</th>\n",
       "      <td>2013977309</td>\n",
       "      <td>FESTIVAL HOME FURNISHINGS Polycotton 400TC Di...</td>\n",
       "      <td>8/13/2020 0:00</td>\n",
       "      <td>2272</td>\n",
       "      <td>festival home furnishings polycotton 400tc di...</td>\n",
       "      <td>NaN</td>\n",
       "      <td>NaN</td>\n",
       "    </tr>\n",
       "  </tbody>\n",
       "</table>\n",
       "</div>"
      ],
      "text/plain": [
       "   airwaybill_number                                   item_description  \\\n",
       "0         2013989109   TECHNICAL SELLER in-Ear Wired Earphone, 1.2m ...   \n",
       "1         2013950227   Sobo Slim Filter WP 408H Hang On Filter Flow ...   \n",
       "2         2013899399   Fabiano Appliances G-400El(Bfy) Designer Glas...   \n",
       "3         2013987606   Faces: A chilling thriller of loyalty and bet...   \n",
       "4         2013977309   FESTIVAL HOME FURNISHINGS Polycotton 400TC Di...   \n",
       "\n",
       "      inscan_date  shipper_id  \\\n",
       "0  8/13/2020 0:00        2272   \n",
       "1  8/13/2020 0:00        2272   \n",
       "2  8/13/2020 0:00        2272   \n",
       "3  8/13/2020 0:00        2272   \n",
       "4  8/13/2020 0:00        2272   \n",
       "\n",
       "                                  item_description_2  \\\n",
       "0   technical seller in ear wired earphone  1 2m ...   \n",
       "1   sobo slim filter wp 408h hang on filter flow ...   \n",
       "2   fabiano appliances g 400el bfy  designer glas...   \n",
       "3   faces  a chilling thriller of loyalty and bet...   \n",
       "4   festival home furnishings polycotton 400tc di...   \n",
       "\n",
       "                                    Item_description L4_Category  \n",
       "0   technical seller in ear wired earphone  1 2m ...    earphone  \n",
       "1                                                NaN         NaN  \n",
       "2                                                NaN         NaN  \n",
       "3                                                NaN         NaN  \n",
       "4                                                NaN         NaN  "
      ]
     },
     "execution_count": 35,
     "metadata": {},
     "output_type": "execute_result"
    }
   ],
   "source": [
    "final_2.head()"
   ]
  },
  {
   "cell_type": "code",
   "execution_count": 36,
   "metadata": {},
   "outputs": [],
   "source": [
    "# look up from the short master(BOW)\n",
    "final_2 = pd.merge(final_2,id_master_short,how=\"left\", left_on= \"L4_Category\",right_on=\"L4_Category_2\")"
   ]
  },
  {
   "cell_type": "code",
   "execution_count": 37,
   "metadata": {},
   "outputs": [
    {
     "data": {
      "text/html": [
       "<div>\n",
       "<style scoped>\n",
       "    .dataframe tbody tr th:only-of-type {\n",
       "        vertical-align: middle;\n",
       "    }\n",
       "\n",
       "    .dataframe tbody tr th {\n",
       "        vertical-align: top;\n",
       "    }\n",
       "\n",
       "    .dataframe thead th {\n",
       "        text-align: right;\n",
       "    }\n",
       "</style>\n",
       "<table border=\"1\" class=\"dataframe\">\n",
       "  <thead>\n",
       "    <tr style=\"text-align: right;\">\n",
       "      <th></th>\n",
       "      <th>airwaybill_number</th>\n",
       "      <th>item_description</th>\n",
       "      <th>inscan_date</th>\n",
       "      <th>shipper_id</th>\n",
       "      <th>item_description_2</th>\n",
       "      <th>L1 Category</th>\n",
       "      <th>L2 Category</th>\n",
       "      <th>L3 Category</th>\n",
       "      <th>L4 Category</th>\n",
       "    </tr>\n",
       "  </thead>\n",
       "  <tbody>\n",
       "    <tr>\n",
       "      <th>0</th>\n",
       "      <td>2013989109</td>\n",
       "      <td>TECHNICAL SELLER in-Ear Wired Earphone, 1.2m ...</td>\n",
       "      <td>8/13/2020 0:00</td>\n",
       "      <td>2272</td>\n",
       "      <td>technical seller in ear wired earphone  1 2m ...</td>\n",
       "      <td>Laptops, Electronics and Accessories</td>\n",
       "      <td>Headphones</td>\n",
       "      <td>EarPhones</td>\n",
       "      <td>Earphone</td>\n",
       "    </tr>\n",
       "    <tr>\n",
       "      <th>1</th>\n",
       "      <td>2013950227</td>\n",
       "      <td>Sobo Slim Filter WP 408H Hang On Filter Flow ...</td>\n",
       "      <td>8/13/2020 0:00</td>\n",
       "      <td>2272</td>\n",
       "      <td>sobo slim filter wp 408h hang on filter flow ...</td>\n",
       "      <td>NaN</td>\n",
       "      <td>NaN</td>\n",
       "      <td>NaN</td>\n",
       "      <td>NaN</td>\n",
       "    </tr>\n",
       "    <tr>\n",
       "      <th>2</th>\n",
       "      <td>2013899399</td>\n",
       "      <td>Fabiano Appliances G-400El(Bfy) Designer Glas...</td>\n",
       "      <td>8/13/2020 0:00</td>\n",
       "      <td>2272</td>\n",
       "      <td>fabiano appliances g 400el bfy  designer glas...</td>\n",
       "      <td>NaN</td>\n",
       "      <td>NaN</td>\n",
       "      <td>NaN</td>\n",
       "      <td>NaN</td>\n",
       "    </tr>\n",
       "    <tr>\n",
       "      <th>3</th>\n",
       "      <td>2013987606</td>\n",
       "      <td>Faces: A chilling thriller of loyalty and bet...</td>\n",
       "      <td>8/13/2020 0:00</td>\n",
       "      <td>2272</td>\n",
       "      <td>faces  a chilling thriller of loyalty and bet...</td>\n",
       "      <td>NaN</td>\n",
       "      <td>NaN</td>\n",
       "      <td>NaN</td>\n",
       "      <td>NaN</td>\n",
       "    </tr>\n",
       "    <tr>\n",
       "      <th>4</th>\n",
       "      <td>2013977309</td>\n",
       "      <td>FESTIVAL HOME FURNISHINGS Polycotton 400TC Di...</td>\n",
       "      <td>8/13/2020 0:00</td>\n",
       "      <td>2272</td>\n",
       "      <td>festival home furnishings polycotton 400tc di...</td>\n",
       "      <td>NaN</td>\n",
       "      <td>NaN</td>\n",
       "      <td>NaN</td>\n",
       "      <td>NaN</td>\n",
       "    </tr>\n",
       "  </tbody>\n",
       "</table>\n",
       "</div>"
      ],
      "text/plain": [
       "   airwaybill_number                                   item_description  \\\n",
       "0         2013989109   TECHNICAL SELLER in-Ear Wired Earphone, 1.2m ...   \n",
       "1         2013950227   Sobo Slim Filter WP 408H Hang On Filter Flow ...   \n",
       "2         2013899399   Fabiano Appliances G-400El(Bfy) Designer Glas...   \n",
       "3         2013987606   Faces: A chilling thriller of loyalty and bet...   \n",
       "4         2013977309   FESTIVAL HOME FURNISHINGS Polycotton 400TC Di...   \n",
       "\n",
       "      inscan_date  shipper_id  \\\n",
       "0  8/13/2020 0:00        2272   \n",
       "1  8/13/2020 0:00        2272   \n",
       "2  8/13/2020 0:00        2272   \n",
       "3  8/13/2020 0:00        2272   \n",
       "4  8/13/2020 0:00        2272   \n",
       "\n",
       "                                  item_description_2  \\\n",
       "0   technical seller in ear wired earphone  1 2m ...   \n",
       "1   sobo slim filter wp 408h hang on filter flow ...   \n",
       "2   fabiano appliances g 400el bfy  designer glas...   \n",
       "3   faces  a chilling thriller of loyalty and bet...   \n",
       "4   festival home furnishings polycotton 400tc di...   \n",
       "\n",
       "                            L1 Category L2 Category L3 Category L4 Category  \n",
       "0  Laptops, Electronics and Accessories  Headphones   EarPhones    Earphone  \n",
       "1                                   NaN         NaN         NaN         NaN  \n",
       "2                                   NaN         NaN         NaN         NaN  \n",
       "3                                   NaN         NaN         NaN         NaN  \n",
       "4                                   NaN         NaN         NaN         NaN  "
      ]
     },
     "execution_count": 37,
     "metadata": {},
     "output_type": "execute_result"
    }
   ],
   "source": [
    "# dropping the columns that are not required\n",
    "final_2.drop([\"L4_Category\",\"L4_Category_2\",\"Item_description\"],axis=1,inplace=True)\n",
    "final_2.head()"
   ]
  },
  {
   "cell_type": "code",
   "execution_count": 38,
   "metadata": {},
   "outputs": [
    {
     "data": {
      "text/plain": [
       "True     86\n",
       "False    14\n",
       "Name: L4 Category, dtype: int64"
      ]
     },
     "execution_count": 38,
     "metadata": {},
     "output_type": "execute_result"
    }
   ],
   "source": [
    "# count of unsuccessful matches in remaining volume\n",
    "final_2[\"L4 Category\"].isnull().value_counts()"
   ]
  },
  {
   "cell_type": "code",
   "execution_count": 39,
   "metadata": {},
   "outputs": [
    {
     "data": {
      "text/html": [
       "<div>\n",
       "<style scoped>\n",
       "    .dataframe tbody tr th:only-of-type {\n",
       "        vertical-align: middle;\n",
       "    }\n",
       "\n",
       "    .dataframe tbody tr th {\n",
       "        vertical-align: top;\n",
       "    }\n",
       "\n",
       "    .dataframe thead th {\n",
       "        text-align: right;\n",
       "    }\n",
       "</style>\n",
       "<table border=\"1\" class=\"dataframe\">\n",
       "  <thead>\n",
       "    <tr style=\"text-align: right;\">\n",
       "      <th></th>\n",
       "      <th>airwaybill_number</th>\n",
       "      <th>item_description</th>\n",
       "      <th>inscan_date</th>\n",
       "      <th>shipper_id</th>\n",
       "      <th>item_description_2</th>\n",
       "    </tr>\n",
       "  </thead>\n",
       "  <tbody>\n",
       "    <tr>\n",
       "      <th>0</th>\n",
       "      <td>2013989109</td>\n",
       "      <td>TECHNICAL SELLER in-Ear Wired Earphone, 1.2m ...</td>\n",
       "      <td>8/13/2020 0:00</td>\n",
       "      <td>2272</td>\n",
       "      <td>technical seller in ear wired earphone  1 2m ...</td>\n",
       "    </tr>\n",
       "    <tr>\n",
       "      <th>1</th>\n",
       "      <td>2013950227</td>\n",
       "      <td>Sobo Slim Filter WP 408H Hang On Filter Flow ...</td>\n",
       "      <td>8/13/2020 0:00</td>\n",
       "      <td>2272</td>\n",
       "      <td>sobo slim filter wp 408h hang on filter flow ...</td>\n",
       "    </tr>\n",
       "    <tr>\n",
       "      <th>2</th>\n",
       "      <td>2013899399</td>\n",
       "      <td>Fabiano Appliances G-400El(Bfy) Designer Glas...</td>\n",
       "      <td>8/13/2020 0:00</td>\n",
       "      <td>2272</td>\n",
       "      <td>fabiano appliances g 400el bfy  designer glas...</td>\n",
       "    </tr>\n",
       "    <tr>\n",
       "      <th>3</th>\n",
       "      <td>2013987606</td>\n",
       "      <td>Faces: A chilling thriller of loyalty and bet...</td>\n",
       "      <td>8/13/2020 0:00</td>\n",
       "      <td>2272</td>\n",
       "      <td>faces  a chilling thriller of loyalty and bet...</td>\n",
       "    </tr>\n",
       "    <tr>\n",
       "      <th>4</th>\n",
       "      <td>2013977309</td>\n",
       "      <td>FESTIVAL HOME FURNISHINGS Polycotton 400TC Di...</td>\n",
       "      <td>8/13/2020 0:00</td>\n",
       "      <td>2272</td>\n",
       "      <td>festival home furnishings polycotton 400tc di...</td>\n",
       "    </tr>\n",
       "  </tbody>\n",
       "</table>\n",
       "</div>"
      ],
      "text/plain": [
       "   airwaybill_number                                   item_description  \\\n",
       "0         2013989109   TECHNICAL SELLER in-Ear Wired Earphone, 1.2m ...   \n",
       "1         2013950227   Sobo Slim Filter WP 408H Hang On Filter Flow ...   \n",
       "2         2013899399   Fabiano Appliances G-400El(Bfy) Designer Glas...   \n",
       "3         2013987606   Faces: A chilling thriller of loyalty and bet...   \n",
       "4         2013977309   FESTIVAL HOME FURNISHINGS Polycotton 400TC Di...   \n",
       "\n",
       "      inscan_date  shipper_id  \\\n",
       "0  8/13/2020 0:00        2272   \n",
       "1  8/13/2020 0:00        2272   \n",
       "2  8/13/2020 0:00        2272   \n",
       "3  8/13/2020 0:00        2272   \n",
       "4  8/13/2020 0:00        2272   \n",
       "\n",
       "                                  item_description_2  \n",
       "0   technical seller in ear wired earphone  1 2m ...  \n",
       "1   sobo slim filter wp 408h hang on filter flow ...  \n",
       "2   fabiano appliances g 400el bfy  designer glas...  \n",
       "3   faces  a chilling thriller of loyalty and bet...  \n",
       "4   festival home furnishings polycotton 400tc di...  "
      ]
     },
     "execution_count": 39,
     "metadata": {},
     "output_type": "execute_result"
    }
   ],
   "source": [
    "non_match.head()"
   ]
  },
  {
   "cell_type": "code",
   "execution_count": 40,
   "metadata": {},
   "outputs": [],
   "source": [
    "# subset of output with no match after step2\n",
    "non_match = final_2[final_2[\"L4 Category\"].isnull()]\n",
    "\n",
    "# subset of successfull match after step 2\n",
    "final_2 = final_2[final_2[\"L4 Category\"].notnull()]"
   ]
  },
  {
   "cell_type": "code",
   "execution_count": 41,
   "metadata": {},
   "outputs": [
    {
     "name": "stdout",
     "output_type": "stream",
     "text": [
      "Final_1 1\n",
      "Final_2 14\n",
      "Non_match 86\n",
      "Total Observations 101\n",
      "Total Observations at start 101\n"
     ]
    }
   ],
   "source": [
    "# checkpoint\n",
    "print(\"Final_1\",final_1.shape[0])\n",
    "print(\"Final_2\",final_2.shape[0])\n",
    "print(\"Non_match\",non_match.shape[0])\n",
    "print(\"Total Observations\",final_1.shape[0]+final_2.shape[0]+non_match.shape[0])\n",
    "print(\"Total Observations at start\",id.shape[0])"
   ]
  },
  {
   "cell_type": "code",
   "execution_count": 42,
   "metadata": {},
   "outputs": [],
   "source": [
    "# dropping the columns not required for now\n",
    "non_match.drop([\"L1 Category\",\"L2 Category\",\"L3 Category\",\"L4 Category\"],axis=1, inplace=True)"
   ]
  },
  {
   "cell_type": "code",
   "execution_count": 43,
   "metadata": {},
   "outputs": [
    {
     "data": {
      "text/html": [
       "<div>\n",
       "<style scoped>\n",
       "    .dataframe tbody tr th:only-of-type {\n",
       "        vertical-align: middle;\n",
       "    }\n",
       "\n",
       "    .dataframe tbody tr th {\n",
       "        vertical-align: top;\n",
       "    }\n",
       "\n",
       "    .dataframe thead th {\n",
       "        text-align: right;\n",
       "    }\n",
       "</style>\n",
       "<table border=\"1\" class=\"dataframe\">\n",
       "  <thead>\n",
       "    <tr style=\"text-align: right;\">\n",
       "      <th></th>\n",
       "      <th>airwaybill_number</th>\n",
       "      <th>item_description</th>\n",
       "      <th>inscan_date</th>\n",
       "      <th>shipper_id</th>\n",
       "      <th>item_description_2</th>\n",
       "    </tr>\n",
       "  </thead>\n",
       "  <tbody>\n",
       "    <tr>\n",
       "      <th>1</th>\n",
       "      <td>2013950227</td>\n",
       "      <td>Sobo Slim Filter WP 408H Hang On Filter Flow ...</td>\n",
       "      <td>8/13/2020 0:00</td>\n",
       "      <td>2272</td>\n",
       "      <td>sobo slim filter wp 408h hang on filter flow ...</td>\n",
       "    </tr>\n",
       "    <tr>\n",
       "      <th>2</th>\n",
       "      <td>2013899399</td>\n",
       "      <td>Fabiano Appliances G-400El(Bfy) Designer Glas...</td>\n",
       "      <td>8/13/2020 0:00</td>\n",
       "      <td>2272</td>\n",
       "      <td>fabiano appliances g 400el bfy  designer glas...</td>\n",
       "    </tr>\n",
       "    <tr>\n",
       "      <th>3</th>\n",
       "      <td>2013987606</td>\n",
       "      <td>Faces: A chilling thriller of loyalty and bet...</td>\n",
       "      <td>8/13/2020 0:00</td>\n",
       "      <td>2272</td>\n",
       "      <td>faces  a chilling thriller of loyalty and bet...</td>\n",
       "    </tr>\n",
       "    <tr>\n",
       "      <th>4</th>\n",
       "      <td>2013977309</td>\n",
       "      <td>FESTIVAL HOME FURNISHINGS Polycotton 400TC Di...</td>\n",
       "      <td>8/13/2020 0:00</td>\n",
       "      <td>2272</td>\n",
       "      <td>festival home furnishings polycotton 400tc di...</td>\n",
       "    </tr>\n",
       "    <tr>\n",
       "      <th>5</th>\n",
       "      <td>2013952969</td>\n",
       "      <td>PRIDHI 140 TC Cotton Single Bedsheet with 1 P...</td>\n",
       "      <td>8/13/2020 0:00</td>\n",
       "      <td>2272</td>\n",
       "      <td>pridhi 140 tc cotton single bedsheet with 1 p...</td>\n",
       "    </tr>\n",
       "  </tbody>\n",
       "</table>\n",
       "</div>"
      ],
      "text/plain": [
       "   airwaybill_number                                   item_description  \\\n",
       "1         2013950227   Sobo Slim Filter WP 408H Hang On Filter Flow ...   \n",
       "2         2013899399   Fabiano Appliances G-400El(Bfy) Designer Glas...   \n",
       "3         2013987606   Faces: A chilling thriller of loyalty and bet...   \n",
       "4         2013977309   FESTIVAL HOME FURNISHINGS Polycotton 400TC Di...   \n",
       "5         2013952969   PRIDHI 140 TC Cotton Single Bedsheet with 1 P...   \n",
       "\n",
       "      inscan_date  shipper_id  \\\n",
       "1  8/13/2020 0:00        2272   \n",
       "2  8/13/2020 0:00        2272   \n",
       "3  8/13/2020 0:00        2272   \n",
       "4  8/13/2020 0:00        2272   \n",
       "5  8/13/2020 0:00        2272   \n",
       "\n",
       "                                  item_description_2  \n",
       "1   sobo slim filter wp 408h hang on filter flow ...  \n",
       "2   fabiano appliances g 400el bfy  designer glas...  \n",
       "3   faces  a chilling thriller of loyalty and bet...  \n",
       "4   festival home furnishings polycotton 400tc di...  \n",
       "5   pridhi 140 tc cotton single bedsheet with 1 p...  "
      ]
     },
     "execution_count": 43,
     "metadata": {},
     "output_type": "execute_result"
    }
   ],
   "source": [
    "non_match.head()"
   ]
  },
  {
   "cell_type": "code",
   "execution_count": 44,
   "metadata": {},
   "outputs": [],
   "source": [
    "# creating a dataframe with unique ids left after the completion of stage 2  \n",
    "id_unique = pd.DataFrame(non_match[\"item_description\"].unique(),columns=['item_description'])\n",
    "id_unique = id_unique.astype(str)"
   ]
  },
  {
   "cell_type": "code",
   "execution_count": 45,
   "metadata": {},
   "outputs": [],
   "source": [
    "# reading the main master for categorisation\n",
    "# mind the working directory here\n",
    "id_master = pd.read_csv(r\"C:\\Users\\24352\\Desktop\\categorisation1\\Category_Master.csv\",encoding='latin-1')"
   ]
  },
  {
   "cell_type": "code",
   "execution_count": 46,
   "metadata": {},
   "outputs": [
    {
     "data": {
      "text/html": [
       "<div>\n",
       "<style scoped>\n",
       "    .dataframe tbody tr th:only-of-type {\n",
       "        vertical-align: middle;\n",
       "    }\n",
       "\n",
       "    .dataframe tbody tr th {\n",
       "        vertical-align: top;\n",
       "    }\n",
       "\n",
       "    .dataframe thead th {\n",
       "        text-align: right;\n",
       "    }\n",
       "</style>\n",
       "<table border=\"1\" class=\"dataframe\">\n",
       "  <thead>\n",
       "    <tr style=\"text-align: right;\">\n",
       "      <th></th>\n",
       "      <th>L1 Category</th>\n",
       "      <th>L2 Category</th>\n",
       "      <th>L3 Category</th>\n",
       "      <th>L4 Category</th>\n",
       "    </tr>\n",
       "  </thead>\n",
       "  <tbody>\n",
       "    <tr>\n",
       "      <th>0</th>\n",
       "      <td>Sports &amp; Fitness</td>\n",
       "      <td>Fitness Accessories</td>\n",
       "      <td>Exercise bands</td>\n",
       "      <td>Ab Exerciser</td>\n",
       "    </tr>\n",
       "    <tr>\n",
       "      <th>1</th>\n",
       "      <td>Sports &amp; Fitness</td>\n",
       "      <td>Fitness Accessories</td>\n",
       "      <td>Exercise bands</td>\n",
       "      <td>Abs Exerciser</td>\n",
       "    </tr>\n",
       "    <tr>\n",
       "      <th>2</th>\n",
       "      <td>Games &amp; Toys Store and Baby Products</td>\n",
       "      <td>Baby Toys</td>\n",
       "      <td>Toys</td>\n",
       "      <td>Activity Kit</td>\n",
       "    </tr>\n",
       "    <tr>\n",
       "      <th>3</th>\n",
       "      <td>Mobiles, Tablets, Mobile Accessories</td>\n",
       "      <td>Cables and Chargers</td>\n",
       "      <td>Chargers</td>\n",
       "      <td>adapter</td>\n",
       "    </tr>\n",
       "    <tr>\n",
       "      <th>4</th>\n",
       "      <td>Home and Decor</td>\n",
       "      <td>Door Locks and Hardware</td>\n",
       "      <td>Hooks</td>\n",
       "      <td>Adhesive Products</td>\n",
       "    </tr>\n",
       "  </tbody>\n",
       "</table>\n",
       "</div>"
      ],
      "text/plain": [
       "                            L1 Category              L2 Category  \\\n",
       "0                      Sports & Fitness      Fitness Accessories   \n",
       "1                      Sports & Fitness      Fitness Accessories   \n",
       "2  Games & Toys Store and Baby Products                Baby Toys   \n",
       "3  Mobiles, Tablets, Mobile Accessories      Cables and Chargers   \n",
       "4                        Home and Decor  Door Locks and Hardware   \n",
       "\n",
       "      L3 Category        L4 Category  \n",
       "0  Exercise bands       Ab Exerciser  \n",
       "1  Exercise bands      Abs Exerciser  \n",
       "2            Toys       Activity Kit  \n",
       "3        Chargers            adapter  \n",
       "4           Hooks  Adhesive Products  "
      ]
     },
     "execution_count": 46,
     "metadata": {},
     "output_type": "execute_result"
    }
   ],
   "source": [
    "id_master.head()"
   ]
  },
  {
   "cell_type": "code",
   "execution_count": 47,
   "metadata": {},
   "outputs": [
    {
     "data": {
      "text/plain": [
       "(980, 4)"
      ]
     },
     "execution_count": 47,
     "metadata": {},
     "output_type": "execute_result"
    }
   ],
   "source": [
    "# master dimensions\n",
    "id_master.shape"
   ]
  },
  {
   "cell_type": "code",
   "execution_count": 48,
   "metadata": {},
   "outputs": [],
   "source": [
    "# subsetting keywords from master\n",
    "id_master_sub = id_master[[\"L4 Category\"]]"
   ]
  },
  {
   "cell_type": "code",
   "execution_count": 49,
   "metadata": {},
   "outputs": [],
   "source": [
    "# removing the blanks\n",
    "id_master_sub = id_master_sub[id_master_sub[\"L4 Category\"].notnull()]"
   ]
  },
  {
   "cell_type": "code",
   "execution_count": 50,
   "metadata": {},
   "outputs": [],
   "source": [
    "id_master_sub = id_master_sub.astype(str)"
   ]
  },
  {
   "cell_type": "code",
   "execution_count": 51,
   "metadata": {},
   "outputs": [
    {
     "data": {
      "text/html": [
       "<div>\n",
       "<style scoped>\n",
       "    .dataframe tbody tr th:only-of-type {\n",
       "        vertical-align: middle;\n",
       "    }\n",
       "\n",
       "    .dataframe tbody tr th {\n",
       "        vertical-align: top;\n",
       "    }\n",
       "\n",
       "    .dataframe thead th {\n",
       "        text-align: right;\n",
       "    }\n",
       "</style>\n",
       "<table border=\"1\" class=\"dataframe\">\n",
       "  <thead>\n",
       "    <tr style=\"text-align: right;\">\n",
       "      <th></th>\n",
       "      <th>L1 Category</th>\n",
       "      <th>L2 Category</th>\n",
       "      <th>L3 Category</th>\n",
       "      <th>L4 Category</th>\n",
       "    </tr>\n",
       "  </thead>\n",
       "  <tbody>\n",
       "    <tr>\n",
       "      <th>0</th>\n",
       "      <td>Sports &amp; Fitness</td>\n",
       "      <td>Fitness Accessories</td>\n",
       "      <td>Exercise bands</td>\n",
       "      <td>Ab Exerciser</td>\n",
       "    </tr>\n",
       "    <tr>\n",
       "      <th>1</th>\n",
       "      <td>Sports &amp; Fitness</td>\n",
       "      <td>Fitness Accessories</td>\n",
       "      <td>Exercise bands</td>\n",
       "      <td>Abs Exerciser</td>\n",
       "    </tr>\n",
       "    <tr>\n",
       "      <th>2</th>\n",
       "      <td>Games &amp; Toys Store and Baby Products</td>\n",
       "      <td>Baby Toys</td>\n",
       "      <td>Toys</td>\n",
       "      <td>Activity Kit</td>\n",
       "    </tr>\n",
       "    <tr>\n",
       "      <th>3</th>\n",
       "      <td>Mobiles, Tablets, Mobile Accessories</td>\n",
       "      <td>Cables and Chargers</td>\n",
       "      <td>Chargers</td>\n",
       "      <td>adapter</td>\n",
       "    </tr>\n",
       "    <tr>\n",
       "      <th>4</th>\n",
       "      <td>Home and Decor</td>\n",
       "      <td>Door Locks and Hardware</td>\n",
       "      <td>Hooks</td>\n",
       "      <td>Adhesive Products</td>\n",
       "    </tr>\n",
       "  </tbody>\n",
       "</table>\n",
       "</div>"
      ],
      "text/plain": [
       "                            L1 Category              L2 Category  \\\n",
       "0                      Sports & Fitness      Fitness Accessories   \n",
       "1                      Sports & Fitness      Fitness Accessories   \n",
       "2  Games & Toys Store and Baby Products                Baby Toys   \n",
       "3  Mobiles, Tablets, Mobile Accessories      Cables and Chargers   \n",
       "4                        Home and Decor  Door Locks and Hardware   \n",
       "\n",
       "      L3 Category        L4 Category  \n",
       "0  Exercise bands       Ab Exerciser  \n",
       "1  Exercise bands      Abs Exerciser  \n",
       "2            Toys       Activity Kit  \n",
       "3        Chargers            adapter  \n",
       "4           Hooks  Adhesive Products  "
      ]
     },
     "execution_count": 51,
     "metadata": {},
     "output_type": "execute_result"
    }
   ],
   "source": [
    "id_master.head()"
   ]
  },
  {
   "cell_type": "code",
   "execution_count": 52,
   "metadata": {},
   "outputs": [],
   "source": [
    "# cleaning the columns to be used\n",
    "id_unique[\"item_description_2\"] = id_unique[\"item_description\"].apply(rmstop)\n",
    "id_master_sub[\"L4_Category_2\"] = id_master_sub[\"L4 Category\"].apply(rmstop)\n",
    "id_master[\"L4_Category_2\"] = id_master[\"L4 Category\"].apply(rmstop)"
   ]
  },
  {
   "cell_type": "code",
   "execution_count": 53,
   "metadata": {},
   "outputs": [
    {
     "data": {
      "text/plain": [
       "(43775, 2)"
      ]
     },
     "execution_count": 53,
     "metadata": {},
     "output_type": "execute_result"
    }
   ],
   "source": [
    "# creating dataframe with all cominations \n",
    "from itertools import product\n",
    "#list(product(id['item_description'], id_master['Sub_Category']))\n",
    "df = pd.DataFrame(data=list(product(id_unique['item_description_2'], id_master_sub['L4_Category_2'])), columns=['Item_description','L4_Category']) \n",
    "df.shape"
   ]
  },
  {
   "cell_type": "code",
   "execution_count": 54,
   "metadata": {},
   "outputs": [],
   "source": [
    "# string match function\n",
    "df[\"token_set_ratio\"]  = df.apply(lambda x: fuzz.token_set_ratio(x['Item_description'], x['L4_Category']), axis=1)"
   ]
  },
  {
   "cell_type": "code",
   "execution_count": 55,
   "metadata": {},
   "outputs": [],
   "source": [
    "# subsetting greater than eqaul to 90% match \n",
    "df2 = df[df[\"token_set_ratio\"]>=90].copy() "
   ]
  },
  {
   "cell_type": "code",
   "execution_count": 56,
   "metadata": {},
   "outputs": [],
   "source": [
    "# converting to string type\n",
    "df2[\"Item_description\"] = df2[\"Item_description\"].astype(str)\n",
    "df2[\"L4_Category\"] = df2[\"L4_Category\"].astype(str)\n",
    "\n",
    "# right.groupby(['age'])['salary'].first().reset_index()\n",
    "\n",
    "# length calculated to single out the longest match\n",
    "df2[\"len_id\"] = df2[\"Item_description\"].str.len()\n",
    "df2[\"len_sc\"] = df2[\"L4_Category\"].str.len()\n",
    "df2[\"len_check\"] = np.where(df2[\"len_id\"]>df2[\"len_sc\"],1,0)"
   ]
  },
  {
   "cell_type": "code",
   "execution_count": 57,
   "metadata": {},
   "outputs": [
    {
     "data": {
      "text/html": [
       "<div>\n",
       "<style scoped>\n",
       "    .dataframe tbody tr th:only-of-type {\n",
       "        vertical-align: middle;\n",
       "    }\n",
       "\n",
       "    .dataframe tbody tr th {\n",
       "        vertical-align: top;\n",
       "    }\n",
       "\n",
       "    .dataframe thead th {\n",
       "        text-align: right;\n",
       "    }\n",
       "</style>\n",
       "<table border=\"1\" class=\"dataframe\">\n",
       "  <thead>\n",
       "    <tr style=\"text-align: right;\">\n",
       "      <th></th>\n",
       "      <th>Item_description</th>\n",
       "      <th>L4_Category</th>\n",
       "    </tr>\n",
       "  </thead>\n",
       "  <tbody>\n",
       "    <tr>\n",
       "      <th>0</th>\n",
       "      <td>aadya life sciences llp chloasma care cream s...</td>\n",
       "      <td>skin care</td>\n",
       "    </tr>\n",
       "    <tr>\n",
       "      <th>1</th>\n",
       "      <td>aarnik version 3 0 heavy duty shockproof armo...</td>\n",
       "      <td>oppo</td>\n",
       "    </tr>\n",
       "    <tr>\n",
       "      <th>2</th>\n",
       "      <td>abony cotton hand towel  40x60 cm  white</td>\n",
       "      <td>towel</td>\n",
       "    </tr>\n",
       "    <tr>\n",
       "      <th>3</th>\n",
       "      <td>barry john 10 w 3 inch speaker for home theat...</td>\n",
       "      <td>speaker</td>\n",
       "    </tr>\n",
       "    <tr>\n",
       "      <th>4</th>\n",
       "      <td>bluedot present designer printed 6 piece cott...</td>\n",
       "      <td>pillow</td>\n",
       "    </tr>\n",
       "  </tbody>\n",
       "</table>\n",
       "</div>"
      ],
      "text/plain": [
       "                                    Item_description L4_Category\n",
       "0   aadya life sciences llp chloasma care cream s...   skin care\n",
       "1   aarnik version 3 0 heavy duty shockproof armo...        oppo\n",
       "2          abony cotton hand towel  40x60 cm  white        towel\n",
       "3   barry john 10 w 3 inch speaker for home theat...     speaker\n",
       "4   bluedot present designer printed 6 piece cott...      pillow"
      ]
     },
     "execution_count": 57,
     "metadata": {},
     "output_type": "execute_result"
    }
   ],
   "source": [
    "# sorting the data frame  and selecting the first row to keep the longest match\n",
    "df2 = df2.sort_values(['len_id', 'len_sc','len_check'], ascending=[False, False, False])\n",
    "df2 = df2.groupby(['Item_description'])['L4_Category'].first().reset_index()\n",
    "df2.head()"
   ]
  },
  {
   "cell_type": "code",
   "execution_count": 58,
   "metadata": {},
   "outputs": [
    {
     "data": {
      "text/html": [
       "<div>\n",
       "<style scoped>\n",
       "    .dataframe tbody tr th:only-of-type {\n",
       "        vertical-align: middle;\n",
       "    }\n",
       "\n",
       "    .dataframe tbody tr th {\n",
       "        vertical-align: top;\n",
       "    }\n",
       "\n",
       "    .dataframe thead th {\n",
       "        text-align: right;\n",
       "    }\n",
       "</style>\n",
       "<table border=\"1\" class=\"dataframe\">\n",
       "  <thead>\n",
       "    <tr style=\"text-align: right;\">\n",
       "      <th></th>\n",
       "      <th>airwaybill_number</th>\n",
       "      <th>item_description</th>\n",
       "      <th>inscan_date</th>\n",
       "      <th>shipper_id</th>\n",
       "      <th>item_description_2</th>\n",
       "    </tr>\n",
       "  </thead>\n",
       "  <tbody>\n",
       "    <tr>\n",
       "      <th>1</th>\n",
       "      <td>2013950227</td>\n",
       "      <td>Sobo Slim Filter WP 408H Hang On Filter Flow ...</td>\n",
       "      <td>8/13/2020 0:00</td>\n",
       "      <td>2272</td>\n",
       "      <td>sobo slim filter wp 408h hang on filter flow ...</td>\n",
       "    </tr>\n",
       "    <tr>\n",
       "      <th>2</th>\n",
       "      <td>2013899399</td>\n",
       "      <td>Fabiano Appliances G-400El(Bfy) Designer Glas...</td>\n",
       "      <td>8/13/2020 0:00</td>\n",
       "      <td>2272</td>\n",
       "      <td>fabiano appliances g 400el bfy  designer glas...</td>\n",
       "    </tr>\n",
       "    <tr>\n",
       "      <th>3</th>\n",
       "      <td>2013987606</td>\n",
       "      <td>Faces: A chilling thriller of loyalty and bet...</td>\n",
       "      <td>8/13/2020 0:00</td>\n",
       "      <td>2272</td>\n",
       "      <td>faces  a chilling thriller of loyalty and bet...</td>\n",
       "    </tr>\n",
       "    <tr>\n",
       "      <th>4</th>\n",
       "      <td>2013977309</td>\n",
       "      <td>FESTIVAL HOME FURNISHINGS Polycotton 400TC Di...</td>\n",
       "      <td>8/13/2020 0:00</td>\n",
       "      <td>2272</td>\n",
       "      <td>festival home furnishings polycotton 400tc di...</td>\n",
       "    </tr>\n",
       "    <tr>\n",
       "      <th>5</th>\n",
       "      <td>2013952969</td>\n",
       "      <td>PRIDHI 140 TC Cotton Single Bedsheet with 1 P...</td>\n",
       "      <td>8/13/2020 0:00</td>\n",
       "      <td>2272</td>\n",
       "      <td>pridhi 140 tc cotton single bedsheet with 1 p...</td>\n",
       "    </tr>\n",
       "  </tbody>\n",
       "</table>\n",
       "</div>"
      ],
      "text/plain": [
       "   airwaybill_number                                   item_description  \\\n",
       "1         2013950227   Sobo Slim Filter WP 408H Hang On Filter Flow ...   \n",
       "2         2013899399   Fabiano Appliances G-400El(Bfy) Designer Glas...   \n",
       "3         2013987606   Faces: A chilling thriller of loyalty and bet...   \n",
       "4         2013977309   FESTIVAL HOME FURNISHINGS Polycotton 400TC Di...   \n",
       "5         2013952969   PRIDHI 140 TC Cotton Single Bedsheet with 1 P...   \n",
       "\n",
       "      inscan_date  shipper_id  \\\n",
       "1  8/13/2020 0:00        2272   \n",
       "2  8/13/2020 0:00        2272   \n",
       "3  8/13/2020 0:00        2272   \n",
       "4  8/13/2020 0:00        2272   \n",
       "5  8/13/2020 0:00        2272   \n",
       "\n",
       "                                  item_description_2  \n",
       "1   sobo slim filter wp 408h hang on filter flow ...  \n",
       "2   fabiano appliances g 400el bfy  designer glas...  \n",
       "3   faces  a chilling thriller of loyalty and bet...  \n",
       "4   festival home furnishings polycotton 400tc di...  \n",
       "5   pridhi 140 tc cotton single bedsheet with 1 p...  "
      ]
     },
     "execution_count": 58,
     "metadata": {},
     "output_type": "execute_result"
    }
   ],
   "source": [
    "non_match.head()"
   ]
  },
  {
   "cell_type": "code",
   "execution_count": 59,
   "metadata": {},
   "outputs": [
    {
     "data": {
      "text/html": [
       "<div>\n",
       "<style scoped>\n",
       "    .dataframe tbody tr th:only-of-type {\n",
       "        vertical-align: middle;\n",
       "    }\n",
       "\n",
       "    .dataframe tbody tr th {\n",
       "        vertical-align: top;\n",
       "    }\n",
       "\n",
       "    .dataframe thead th {\n",
       "        text-align: right;\n",
       "    }\n",
       "</style>\n",
       "<table border=\"1\" class=\"dataframe\">\n",
       "  <thead>\n",
       "    <tr style=\"text-align: right;\">\n",
       "      <th></th>\n",
       "      <th>airwaybill_number</th>\n",
       "      <th>item_description</th>\n",
       "      <th>inscan_date</th>\n",
       "      <th>shipper_id</th>\n",
       "      <th>item_description_2</th>\n",
       "      <th>Item_description</th>\n",
       "      <th>L4_Category</th>\n",
       "    </tr>\n",
       "  </thead>\n",
       "  <tbody>\n",
       "    <tr>\n",
       "      <th>0</th>\n",
       "      <td>2013950227</td>\n",
       "      <td>Sobo Slim Filter WP 408H Hang On Filter Flow ...</td>\n",
       "      <td>8/13/2020 0:00</td>\n",
       "      <td>2272</td>\n",
       "      <td>sobo slim filter wp 408h hang on filter flow ...</td>\n",
       "      <td>NaN</td>\n",
       "      <td>NaN</td>\n",
       "    </tr>\n",
       "    <tr>\n",
       "      <th>1</th>\n",
       "      <td>2013899399</td>\n",
       "      <td>Fabiano Appliances G-400El(Bfy) Designer Glas...</td>\n",
       "      <td>8/13/2020 0:00</td>\n",
       "      <td>2272</td>\n",
       "      <td>fabiano appliances g 400el bfy  designer glas...</td>\n",
       "      <td>fabiano appliances g 400el bfy  designer glas...</td>\n",
       "      <td>gas stove</td>\n",
       "    </tr>\n",
       "    <tr>\n",
       "      <th>2</th>\n",
       "      <td>2013987606</td>\n",
       "      <td>Faces: A chilling thriller of loyalty and bet...</td>\n",
       "      <td>8/13/2020 0:00</td>\n",
       "      <td>2272</td>\n",
       "      <td>faces  a chilling thriller of loyalty and bet...</td>\n",
       "      <td>NaN</td>\n",
       "      <td>NaN</td>\n",
       "    </tr>\n",
       "    <tr>\n",
       "      <th>3</th>\n",
       "      <td>2013977309</td>\n",
       "      <td>FESTIVAL HOME FURNISHINGS Polycotton 400TC Di...</td>\n",
       "      <td>8/13/2020 0:00</td>\n",
       "      <td>2272</td>\n",
       "      <td>festival home furnishings polycotton 400tc di...</td>\n",
       "      <td>festival home furnishings polycotton 400tc di...</td>\n",
       "      <td>diwan set</td>\n",
       "    </tr>\n",
       "    <tr>\n",
       "      <th>4</th>\n",
       "      <td>2013952969</td>\n",
       "      <td>PRIDHI 140 TC Cotton Single Bedsheet with 1 P...</td>\n",
       "      <td>8/13/2020 0:00</td>\n",
       "      <td>2272</td>\n",
       "      <td>pridhi 140 tc cotton single bedsheet with 1 p...</td>\n",
       "      <td>pridhi 140 tc cotton single bedsheet with 1 p...</td>\n",
       "      <td>bedsheet</td>\n",
       "    </tr>\n",
       "  </tbody>\n",
       "</table>\n",
       "</div>"
      ],
      "text/plain": [
       "   airwaybill_number                                   item_description  \\\n",
       "0         2013950227   Sobo Slim Filter WP 408H Hang On Filter Flow ...   \n",
       "1         2013899399   Fabiano Appliances G-400El(Bfy) Designer Glas...   \n",
       "2         2013987606   Faces: A chilling thriller of loyalty and bet...   \n",
       "3         2013977309   FESTIVAL HOME FURNISHINGS Polycotton 400TC Di...   \n",
       "4         2013952969   PRIDHI 140 TC Cotton Single Bedsheet with 1 P...   \n",
       "\n",
       "      inscan_date  shipper_id  \\\n",
       "0  8/13/2020 0:00        2272   \n",
       "1  8/13/2020 0:00        2272   \n",
       "2  8/13/2020 0:00        2272   \n",
       "3  8/13/2020 0:00        2272   \n",
       "4  8/13/2020 0:00        2272   \n",
       "\n",
       "                                  item_description_2  \\\n",
       "0   sobo slim filter wp 408h hang on filter flow ...   \n",
       "1   fabiano appliances g 400el bfy  designer glas...   \n",
       "2   faces  a chilling thriller of loyalty and bet...   \n",
       "3   festival home furnishings polycotton 400tc di...   \n",
       "4   pridhi 140 tc cotton single bedsheet with 1 p...   \n",
       "\n",
       "                                    Item_description L4_Category  \n",
       "0                                                NaN         NaN  \n",
       "1   fabiano appliances g 400el bfy  designer glas...   gas stove  \n",
       "2                                                NaN         NaN  \n",
       "3   festival home furnishings polycotton 400tc di...   diwan set  \n",
       "4   pridhi 140 tc cotton single bedsheet with 1 p...    bedsheet  "
      ]
     },
     "execution_count": 59,
     "metadata": {},
     "output_type": "execute_result"
    }
   ],
   "source": [
    "# look up of the step 3 keywords/results to awb level data\n",
    "final_3 = pd.merge(non_match,df2,how=\"left\",left_on=\"item_description_2\",right_on=\"Item_description\")\n",
    "final_3.head()"
   ]
  },
  {
   "cell_type": "code",
   "execution_count": 60,
   "metadata": {},
   "outputs": [],
   "source": [
    "# look up to get the main master categories to the awb level data\n",
    "final_3 = pd.merge(final_3,id_master,how=\"left\", left_on= \"L4_Category\",right_on=\"L4_Category_2\")"
   ]
  },
  {
   "cell_type": "code",
   "execution_count": 61,
   "metadata": {},
   "outputs": [],
   "source": [
    "# dropping the columns not required\n",
    "final_3.drop([\"L4_Category\",\"L4_Category_2\",\"Item_description\"],axis=1,inplace=True)"
   ]
  },
  {
   "cell_type": "code",
   "execution_count": 62,
   "metadata": {},
   "outputs": [
    {
     "data": {
      "text/html": [
       "<div>\n",
       "<style scoped>\n",
       "    .dataframe tbody tr th:only-of-type {\n",
       "        vertical-align: middle;\n",
       "    }\n",
       "\n",
       "    .dataframe tbody tr th {\n",
       "        vertical-align: top;\n",
       "    }\n",
       "\n",
       "    .dataframe thead th {\n",
       "        text-align: right;\n",
       "    }\n",
       "</style>\n",
       "<table border=\"1\" class=\"dataframe\">\n",
       "  <thead>\n",
       "    <tr style=\"text-align: right;\">\n",
       "      <th></th>\n",
       "      <th>airwaybill_number</th>\n",
       "      <th>item_description</th>\n",
       "      <th>inscan_date</th>\n",
       "      <th>shipper_id</th>\n",
       "      <th>item_description_2</th>\n",
       "      <th>L1 Category</th>\n",
       "      <th>L2 Category</th>\n",
       "      <th>L3 Category</th>\n",
       "      <th>L4 Category</th>\n",
       "    </tr>\n",
       "  </thead>\n",
       "  <tbody>\n",
       "    <tr>\n",
       "      <th>0</th>\n",
       "      <td>2013950227</td>\n",
       "      <td>Sobo Slim Filter WP 408H Hang On Filter Flow ...</td>\n",
       "      <td>8/13/2020 0:00</td>\n",
       "      <td>2272</td>\n",
       "      <td>sobo slim filter wp 408h hang on filter flow ...</td>\n",
       "      <td>NaN</td>\n",
       "      <td>NaN</td>\n",
       "      <td>NaN</td>\n",
       "      <td>NaN</td>\n",
       "    </tr>\n",
       "    <tr>\n",
       "      <th>1</th>\n",
       "      <td>2013899399</td>\n",
       "      <td>Fabiano Appliances G-400El(Bfy) Designer Glas...</td>\n",
       "      <td>8/13/2020 0:00</td>\n",
       "      <td>2272</td>\n",
       "      <td>fabiano appliances g 400el bfy  designer glas...</td>\n",
       "      <td>Kitchen and Dining</td>\n",
       "      <td>Cookware</td>\n",
       "      <td>Cooking Stoves</td>\n",
       "      <td>Gas stove</td>\n",
       "    </tr>\n",
       "    <tr>\n",
       "      <th>2</th>\n",
       "      <td>2013987606</td>\n",
       "      <td>Faces: A chilling thriller of loyalty and bet...</td>\n",
       "      <td>8/13/2020 0:00</td>\n",
       "      <td>2272</td>\n",
       "      <td>faces  a chilling thriller of loyalty and bet...</td>\n",
       "      <td>NaN</td>\n",
       "      <td>NaN</td>\n",
       "      <td>NaN</td>\n",
       "      <td>NaN</td>\n",
       "    </tr>\n",
       "    <tr>\n",
       "      <th>3</th>\n",
       "      <td>2013977309</td>\n",
       "      <td>FESTIVAL HOME FURNISHINGS Polycotton 400TC Di...</td>\n",
       "      <td>8/13/2020 0:00</td>\n",
       "      <td>2272</td>\n",
       "      <td>festival home furnishings polycotton 400tc di...</td>\n",
       "      <td>Home and Decor</td>\n",
       "      <td>Bedroom Linen</td>\n",
       "      <td>Bedding Sets</td>\n",
       "      <td>Diwan set</td>\n",
       "    </tr>\n",
       "    <tr>\n",
       "      <th>4</th>\n",
       "      <td>2013952969</td>\n",
       "      <td>PRIDHI 140 TC Cotton Single Bedsheet with 1 P...</td>\n",
       "      <td>8/13/2020 0:00</td>\n",
       "      <td>2272</td>\n",
       "      <td>pridhi 140 tc cotton single bedsheet with 1 p...</td>\n",
       "      <td>Home and Decor</td>\n",
       "      <td>Bedroom Linen</td>\n",
       "      <td>Bedsheets</td>\n",
       "      <td>bedsheet</td>\n",
       "    </tr>\n",
       "  </tbody>\n",
       "</table>\n",
       "</div>"
      ],
      "text/plain": [
       "   airwaybill_number                                   item_description  \\\n",
       "0         2013950227   Sobo Slim Filter WP 408H Hang On Filter Flow ...   \n",
       "1         2013899399   Fabiano Appliances G-400El(Bfy) Designer Glas...   \n",
       "2         2013987606   Faces: A chilling thriller of loyalty and bet...   \n",
       "3         2013977309   FESTIVAL HOME FURNISHINGS Polycotton 400TC Di...   \n",
       "4         2013952969   PRIDHI 140 TC Cotton Single Bedsheet with 1 P...   \n",
       "\n",
       "      inscan_date  shipper_id  \\\n",
       "0  8/13/2020 0:00        2272   \n",
       "1  8/13/2020 0:00        2272   \n",
       "2  8/13/2020 0:00        2272   \n",
       "3  8/13/2020 0:00        2272   \n",
       "4  8/13/2020 0:00        2272   \n",
       "\n",
       "                                  item_description_2         L1 Category  \\\n",
       "0   sobo slim filter wp 408h hang on filter flow ...                 NaN   \n",
       "1   fabiano appliances g 400el bfy  designer glas...  Kitchen and Dining   \n",
       "2   faces  a chilling thriller of loyalty and bet...                 NaN   \n",
       "3   festival home furnishings polycotton 400tc di...      Home and Decor   \n",
       "4   pridhi 140 tc cotton single bedsheet with 1 p...      Home and Decor   \n",
       "\n",
       "     L2 Category     L3 Category L4 Category  \n",
       "0            NaN             NaN         NaN  \n",
       "1       Cookware  Cooking Stoves   Gas stove  \n",
       "2            NaN             NaN         NaN  \n",
       "3  Bedroom Linen    Bedding Sets   Diwan set  \n",
       "4  Bedroom Linen       Bedsheets    bedsheet  "
      ]
     },
     "execution_count": 62,
     "metadata": {},
     "output_type": "execute_result"
    }
   ],
   "source": [
    "final_3.head()"
   ]
  },
  {
   "cell_type": "code",
   "execution_count": 63,
   "metadata": {},
   "outputs": [
    {
     "data": {
      "text/plain": [
       "False    55\n",
       "True     33\n",
       "Name: L4 Category, dtype: int64"
      ]
     },
     "execution_count": 63,
     "metadata": {},
     "output_type": "execute_result"
    }
   ],
   "source": [
    "# count of unsuccessful matches in remaining volume\n",
    "final_3[\"L4 Category\"].isnull().value_counts()"
   ]
  },
  {
   "cell_type": "code",
   "execution_count": 64,
   "metadata": {},
   "outputs": [],
   "source": [
    "# dropping the columns not required\n",
    "final_3.drop([\"item_description_2\"],axis=1,inplace=True)\n",
    "final_2.drop([\"item_description_2\"],axis=1,inplace=True)"
   ]
  },
  {
   "cell_type": "code",
   "execution_count": 65,
   "metadata": {},
   "outputs": [],
   "source": [
    "# binding the the outputs of the 3 steps to create final output\n",
    "final = pd.concat([final_1,final_2,final_3],axis=0)"
   ]
  },
  {
   "cell_type": "code",
   "execution_count": 66,
   "metadata": {},
   "outputs": [],
   "source": [
    "# exporting the categorised volume to the working directory\n",
    "final.to_csv(\"result_pyhton_id_final.csv\",index=False)"
   ]
  },
  {
   "cell_type": "code",
   "execution_count": 67,
   "metadata": {},
   "outputs": [
    {
     "data": {
      "text/plain": [
       "False    70\n",
       "True     33\n",
       "Name: L4 Category, dtype: int64"
      ]
     },
     "execution_count": 67,
     "metadata": {},
     "output_type": "execute_result"
    }
   ],
   "source": [
    "# count of unsuccessful categorisation\n",
    "final[\"L4 Category\"].isnull().value_counts()"
   ]
  },
  {
   "cell_type": "code",
   "execution_count": 68,
   "metadata": {},
   "outputs": [
    {
     "data": {
      "text/plain": [
       "0"
      ]
     },
     "execution_count": 68,
     "metadata": {},
     "output_type": "execute_result"
    }
   ],
   "source": [
    "# checking for any null values. the sum here should always be zero\n",
    "sum(final[\"L4 Category\"]==\"nan\")"
   ]
  },
  {
   "cell_type": "code",
   "execution_count": 69,
   "metadata": {},
   "outputs": [
    {
     "data": {
      "text/plain": [
       "0.6796116504854369"
      ]
     },
     "execution_count": 69,
     "metadata": {},
     "output_type": "execute_result"
    }
   ],
   "source": [
    "# coverage achieved\n",
    "final[\"L4 Category\"].isnull().value_counts()[0]/final.shape[0]"
   ]
  },
  {
   "cell_type": "code",
   "execution_count": 70,
   "metadata": {},
   "outputs": [],
   "source": [
    "# creating a subset of successful string match ids \n",
    "repo = final[final[\"L4 Category\"].notnull()]"
   ]
  },
  {
   "cell_type": "code",
   "execution_count": 71,
   "metadata": {},
   "outputs": [
    {
     "data": {
      "text/plain": [
       "(70, 8)"
      ]
     },
     "execution_count": 71,
     "metadata": {},
     "output_type": "execute_result"
    }
   ],
   "source": [
    "repo.shape"
   ]
  },
  {
   "cell_type": "code",
   "execution_count": 72,
   "metadata": {},
   "outputs": [],
   "source": [
    "# removing duplicate ids in repo created in the previous step\n",
    "repo = repo.groupby(['item_description'])['L1 Category','L2 Category','L3 Category','L4 Category'].first().reset_index()"
   ]
  },
  {
   "cell_type": "code",
   "execution_count": 73,
   "metadata": {},
   "outputs": [
    {
     "data": {
      "text/plain": [
       "(65, 5)"
      ]
     },
     "execution_count": 73,
     "metadata": {},
     "output_type": "execute_result"
    }
   ],
   "source": [
    "repo.shape"
   ]
  },
  {
   "cell_type": "code",
   "execution_count": 74,
   "metadata": {},
   "outputs": [
    {
     "data": {
      "text/plain": [
       "array([ True,  True,  True,  True,  True])"
      ]
     },
     "execution_count": 74,
     "metadata": {},
     "output_type": "execute_result"
    }
   ],
   "source": [
    "# checkpoint, should be all true\n",
    "# id repo is the repository contaning past ids categorised\n",
    "repo.columns==id_repo.columns"
   ]
  },
  {
   "cell_type": "code",
   "execution_count": 75,
   "metadata": {},
   "outputs": [
    {
     "data": {
      "text/plain": [
       "False    65\n",
       "Name: L4 Category, dtype: int64"
      ]
     },
     "execution_count": 75,
     "metadata": {},
     "output_type": "execute_result"
    }
   ],
   "source": [
    "# checking for any null values to be sure\n",
    "repo[\"L4 Category\"].isnull().value_counts()"
   ]
  },
  {
   "cell_type": "code",
   "execution_count": 76,
   "metadata": {},
   "outputs": [],
   "source": [
    "# t-1 categorisation repo exported \n",
    "repo.to_csv(\"repo_current.csv\",index=False)"
   ]
  },
  {
   "cell_type": "code",
   "execution_count": 77,
   "metadata": {},
   "outputs": [],
   "source": [
    "# updating the id repo with t-1 successful categorisation\n",
    "id_repo = pd.concat([id_repo,repo],axis=0)"
   ]
  },
  {
   "cell_type": "code",
   "execution_count": 78,
   "metadata": {},
   "outputs": [
    {
     "data": {
      "text/plain": [
       "(66, 5)"
      ]
     },
     "execution_count": 78,
     "metadata": {},
     "output_type": "execute_result"
    }
   ],
   "source": [
    "id_repo.shape"
   ]
  },
  {
   "cell_type": "code",
   "execution_count": 79,
   "metadata": {},
   "outputs": [],
   "source": [
    "# removing duplicate ids if any \n",
    "id_repo = id_repo.groupby(['item_description'])['L1 Category','L2 Category','L3 Category','L4 Category'].first().reset_index()"
   ]
  },
  {
   "cell_type": "code",
   "execution_count": 80,
   "metadata": {},
   "outputs": [
    {
     "data": {
      "text/plain": [
       "(65, 5)"
      ]
     },
     "execution_count": 80,
     "metadata": {},
     "output_type": "execute_result"
    }
   ],
   "source": [
    "id_repo.shape"
   ]
  },
  {
   "cell_type": "code",
   "execution_count": 81,
   "metadata": {},
   "outputs": [],
   "source": [
    "# exporting the updated id_repo\n",
    "id_repo.to_csv(\"ID_Repo.csv\", index=False)"
   ]
  },
  {
   "cell_type": "code",
   "execution_count": null,
   "metadata": {},
   "outputs": [],
   "source": []
  }
 ],
 "metadata": {
  "kernelspec": {
   "display_name": "Python 3",
   "language": "python",
   "name": "python3"
  },
  "language_info": {
   "codemirror_mode": {
    "name": "ipython",
    "version": 3
   },
   "file_extension": ".py",
   "mimetype": "text/x-python",
   "name": "python",
   "nbconvert_exporter": "python",
   "pygments_lexer": "ipython3",
   "version": "3.7.3"
  }
 },
 "nbformat": 4,
 "nbformat_minor": 2
}
