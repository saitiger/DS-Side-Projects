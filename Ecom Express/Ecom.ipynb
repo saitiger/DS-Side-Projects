{
 "cells": [
  {
   "cell_type": "code",
   "execution_count": 1,
   "metadata": {},
   "outputs": [],
   "source": [
    "import pandas as pd\n",
    "data = pd.read_csv('dataset.csv')"
   ]
  },
  {
   "cell_type": "code",
   "execution_count": 2,
   "metadata": {},
   "outputs": [
    {
     "name": "stdout",
     "output_type": "stream",
     "text": [
      "<class 'pandas.core.frame.DataFrame'>\n",
      "RangeIndex: 84350 entries, 0 to 84349\n",
      "Data columns (total 7 columns):\n",
      " #   Column            Non-Null Count  Dtype \n",
      "---  ------            --------------  ----- \n",
      " 0   S.no              84350 non-null  int64 \n",
      " 1   item_description  84350 non-null  object\n",
      " 2   L1.Category       84350 non-null  object\n",
      " 3   L2.Category       84350 non-null  object\n",
      " 4   L3.Category       84350 non-null  object\n",
      " 5   split             84350 non-null  int64 \n",
      " 6   category_check    33 non-null     object\n",
      "dtypes: int64(2), object(5)\n",
      "memory usage: 4.5+ MB\n"
     ]
    }
   ],
   "source": [
    "data.info()\n",
    "data['item_description'] = data['item_description'].astype('str')"
   ]
  },
  {
   "cell_type": "code",
   "execution_count": 200,
   "metadata": {},
   "outputs": [
    {
     "data": {
      "text/html": [
       "<div>\n",
       "<style scoped>\n",
       "    .dataframe tbody tr th:only-of-type {\n",
       "        vertical-align: middle;\n",
       "    }\n",
       "\n",
       "    .dataframe tbody tr th {\n",
       "        vertical-align: top;\n",
       "    }\n",
       "\n",
       "    .dataframe thead th {\n",
       "        text-align: right;\n",
       "    }\n",
       "</style>\n",
       "<table border=\"1\" class=\"dataframe\">\n",
       "  <thead>\n",
       "    <tr style=\"text-align: right;\">\n",
       "      <th></th>\n",
       "      <th>0</th>\n",
       "      <th>1</th>\n",
       "      <th>2</th>\n",
       "      <th>3</th>\n",
       "      <th>4</th>\n",
       "      <th>5</th>\n",
       "      <th>6</th>\n",
       "      <th>7</th>\n",
       "      <th>8</th>\n",
       "      <th>9</th>\n",
       "      <th>...</th>\n",
       "      <th>72</th>\n",
       "      <th>73</th>\n",
       "      <th>74</th>\n",
       "      <th>75</th>\n",
       "      <th>76</th>\n",
       "      <th>77</th>\n",
       "      <th>78</th>\n",
       "      <th>79</th>\n",
       "      <th>80</th>\n",
       "      <th>81</th>\n",
       "    </tr>\n",
       "  </thead>\n",
       "  <tbody>\n",
       "    <tr>\n",
       "      <th>0</th>\n",
       "      <td>Philophobia</td>\n",
       "      <td>i9s</td>\n",
       "      <td>TWS</td>\n",
       "      <td>Wireless</td>\n",
       "      <td>Bluetooth</td>\n",
       "      <td>Earphones</td>\n",
       "      <td>&amp;</td>\n",
       "      <td>2</td>\n",
       "      <td>Way</td>\n",
       "      <td>Pairing</td>\n",
       "      <td>...</td>\n",
       "      <td>None</td>\n",
       "      <td>None</td>\n",
       "      <td>None</td>\n",
       "      <td>None</td>\n",
       "      <td>None</td>\n",
       "      <td>None</td>\n",
       "      <td>None</td>\n",
       "      <td>None</td>\n",
       "      <td>None</td>\n",
       "      <td>None</td>\n",
       "    </tr>\n",
       "    <tr>\n",
       "      <th>1</th>\n",
       "      <td>SBA999-BMB-Z004</td>\n",
       "      <td>Bluetooth</td>\n",
       "      <td>Neckband,</td>\n",
       "      <td>Lightweight</td>\n",
       "      <td>Wireless</td>\n",
       "      <td>and</td>\n",
       "      <td>Magnetic</td>\n",
       "      <td>Earbuds,</td>\n",
       "      <td>IPX4</td>\n",
       "      <td>Water</td>\n",
       "      <td>...</td>\n",
       "      <td>None</td>\n",
       "      <td>None</td>\n",
       "      <td>None</td>\n",
       "      <td>None</td>\n",
       "      <td>None</td>\n",
       "      <td>None</td>\n",
       "      <td>None</td>\n",
       "      <td>None</td>\n",
       "      <td>None</td>\n",
       "      <td>None</td>\n",
       "    </tr>\n",
       "    <tr>\n",
       "      <th>2</th>\n",
       "      <td>boAt</td>\n",
       "      <td>BassHeads</td>\n",
       "      <td>102</td>\n",
       "      <td>Wired</td>\n",
       "      <td>Earphones</td>\n",
       "      <td>with</td>\n",
       "      <td>Immersive</td>\n",
       "      <td>Audio,</td>\n",
       "      <td>Multi-Function</td>\n",
       "      <td>Button,</td>\n",
       "      <td>...</td>\n",
       "      <td>None</td>\n",
       "      <td>None</td>\n",
       "      <td>None</td>\n",
       "      <td>None</td>\n",
       "      <td>None</td>\n",
       "      <td>None</td>\n",
       "      <td>None</td>\n",
       "      <td>None</td>\n",
       "      <td>None</td>\n",
       "      <td>None</td>\n",
       "    </tr>\n",
       "    <tr>\n",
       "      <th>3</th>\n",
       "      <td>iBall</td>\n",
       "      <td>B9</td>\n",
       "      <td>Nano</td>\n",
       "      <td>Earwear</td>\n",
       "      <td>Ring-Dock</td>\n",
       "      <td>-</td>\n",
       "      <td>Wireless</td>\n",
       "      <td>Bluetooth</td>\n",
       "      <td>Earphones</td>\n",
       "      <td>with</td>\n",
       "      <td>...</td>\n",
       "      <td>None</td>\n",
       "      <td>None</td>\n",
       "      <td>None</td>\n",
       "      <td>None</td>\n",
       "      <td>None</td>\n",
       "      <td>None</td>\n",
       "      <td>None</td>\n",
       "      <td>None</td>\n",
       "      <td>None</td>\n",
       "      <td>None</td>\n",
       "    </tr>\n",
       "    <tr>\n",
       "      <th>4</th>\n",
       "      <td>Plextone</td>\n",
       "      <td>G20</td>\n",
       "      <td>Headset</td>\n",
       "      <td>Noise</td>\n",
       "      <td>Reduction</td>\n",
       "      <td>Sports</td>\n",
       "      <td>In-ear</td>\n",
       "      <td>Earbuds</td>\n",
       "      <td>Electronic</td>\n",
       "      <td>Portable</td>\n",
       "      <td>...</td>\n",
       "      <td>None</td>\n",
       "      <td>None</td>\n",
       "      <td>None</td>\n",
       "      <td>None</td>\n",
       "      <td>None</td>\n",
       "      <td>None</td>\n",
       "      <td>None</td>\n",
       "      <td>None</td>\n",
       "      <td>None</td>\n",
       "      <td>None</td>\n",
       "    </tr>\n",
       "  </tbody>\n",
       "</table>\n",
       "<p>5 rows × 82 columns</p>\n",
       "</div>"
      ],
      "text/plain": [
       "                0          1          2            3          4          5   \\\n",
       "0      Philophobia        i9s        TWS     Wireless  Bluetooth  Earphones   \n",
       "1  SBA999-BMB-Z004  Bluetooth  Neckband,  Lightweight   Wireless        and   \n",
       "2             boAt  BassHeads        102        Wired  Earphones       with   \n",
       "3            iBall         B9       Nano      Earwear  Ring-Dock          -   \n",
       "4         Plextone        G20    Headset        Noise  Reduction     Sports   \n",
       "\n",
       "          6          7               8         9   ...    72    73    74  \\\n",
       "0          &          2             Way   Pairing  ...  None  None  None   \n",
       "1   Magnetic   Earbuds,            IPX4     Water  ...  None  None  None   \n",
       "2  Immersive     Audio,  Multi-Function   Button,  ...  None  None  None   \n",
       "3   Wireless  Bluetooth       Earphones      with  ...  None  None  None   \n",
       "4     In-ear    Earbuds      Electronic  Portable  ...  None  None  None   \n",
       "\n",
       "     75    76    77    78    79    80    81  \n",
       "0  None  None  None  None  None  None  None  \n",
       "1  None  None  None  None  None  None  None  \n",
       "2  None  None  None  None  None  None  None  \n",
       "3  None  None  None  None  None  None  None  \n",
       "4  None  None  None  None  None  None  None  \n",
       "\n",
       "[5 rows x 82 columns]"
      ]
     },
     "execution_count": 200,
     "metadata": {},
     "output_type": "execute_result"
    }
   ],
   "source": [
    "# df = pd.DataFrame([x.split() for x in data.item_description])\n",
    "# df.head()"
   ]
  },
  {
   "cell_type": "code",
   "execution_count": 67,
   "metadata": {},
   "outputs": [
    {
     "name": "stdout",
     "output_type": "stream",
     "text": [
      "['Philophobia', 'i9s', 'TWS', 'Wireless', 'Bluetooth', 'Earphones', '&', '2', 'Way', 'Pairing', 'with', 'Handsfree', 'Calling,', 'Noise', 'Cancellation', 'for', 'iOS', '&', 'Android', 'Device', '(White)']\n"
     ]
    }
   ],
   "source": [
    "# Splitting the description\n",
    "d = [x.split() for x in data.item_description]\n",
    "print(d[0])"
   ]
  },
  {
   "cell_type": "code",
   "execution_count": 68,
   "metadata": {},
   "outputs": [
    {
     "name": "stdout",
     "output_type": "stream",
     "text": [
      "['philophobia', 'i9s', 'tws', 'wireless', 'bluetooth', 'earphones', '&', '2', 'way', 'pairing', 'with', 'handsfree', 'calling,', 'noise', 'cancellation', 'for', 'ios', '&', 'android', 'device', '(white)']\n"
     ]
    }
   ],
   "source": [
    "# Converting all descriptions to lowercase.\n",
    "l = []\n",
    "for i in range(0,1477):\n",
    "    condition = [x.lower() for x in d[i]]\n",
    "    l.append(condition)\n",
    "print(l[0])"
   ]
  },
  {
   "cell_type": "code",
   "execution_count": 15,
   "metadata": {},
   "outputs": [],
   "source": [
    "# Entering the value to category_check\n",
    "for i in range(0,1477):\n",
    "    if ('earphones' in l[i]):\n",
    "        data.iloc[i,-1] = \"Yes\"\n",
    "    else:\n",
    "        data.iloc[i,-1] = \"No\"\n"
   ]
  },
  {
   "cell_type": "code",
   "execution_count": 214,
   "metadata": {},
   "outputs": [
    {
     "data": {
      "text/plain": [
       "S.no                                                         1341\n",
       "item_description    Skyia Bluetooth Earphones For all smartphones\n",
       "L1.Category                  Laptops, Electronics and Accessories\n",
       "L2.Category                                            Headphones\n",
       "L3.Category                                             EarPhones\n",
       "split                                                           3\n",
       "category_check                                                Yes\n",
       "Name: 1340, dtype: object"
      ]
     },
     "execution_count": 214,
     "metadata": {},
     "output_type": "execute_result"
    }
   ],
   "source": [
    "data.iloc[1340] # Checking output"
   ]
  },
  {
   "cell_type": "code",
   "execution_count": 216,
   "metadata": {},
   "outputs": [],
   "source": [
    "data.to_csv(\"Check_output.csv\") # Saving the output to a new file."
   ]
  },
  {
   "cell_type": "code",
   "execution_count": 62,
   "metadata": {},
   "outputs": [
    {
     "data": {
      "text/html": [
       "<div>\n",
       "<style scoped>\n",
       "    .dataframe tbody tr th:only-of-type {\n",
       "        vertical-align: middle;\n",
       "    }\n",
       "\n",
       "    .dataframe tbody tr th {\n",
       "        vertical-align: top;\n",
       "    }\n",
       "\n",
       "    .dataframe thead th {\n",
       "        text-align: right;\n",
       "    }\n",
       "</style>\n",
       "<table border=\"1\" class=\"dataframe\">\n",
       "  <thead>\n",
       "    <tr style=\"text-align: right;\">\n",
       "      <th></th>\n",
       "      <th>S.no</th>\n",
       "      <th>item_description</th>\n",
       "      <th>L1.Category</th>\n",
       "      <th>L2.Category</th>\n",
       "      <th>L3.Category</th>\n",
       "      <th>split</th>\n",
       "      <th>category_check</th>\n",
       "    </tr>\n",
       "  </thead>\n",
       "  <tbody>\n",
       "    <tr>\n",
       "      <th>0</th>\n",
       "      <td>1</td>\n",
       "      <td>TARBIYA KRAFT Drop Earrings Silver Oxidised P...</td>\n",
       "      <td>Apparel &amp; Accessories</td>\n",
       "      <td>Artifical Jewellery</td>\n",
       "      <td>Earrings</td>\n",
       "      <td>3</td>\n",
       "      <td>Yes</td>\n",
       "    </tr>\n",
       "    <tr>\n",
       "      <th>1</th>\n",
       "      <td>2</td>\n",
       "      <td>2-pack strapless bras + 2-pack strapless bras ...</td>\n",
       "      <td>Apparel &amp; Accessories</td>\n",
       "      <td>Artifical Jewellery</td>\n",
       "      <td>Earrings</td>\n",
       "      <td>3</td>\n",
       "      <td>No</td>\n",
       "    </tr>\n",
       "    <tr>\n",
       "      <th>2</th>\n",
       "      <td>3</td>\n",
       "      <td>Nityakshi Women's  Girl's Silver Oxidized Ghun...</td>\n",
       "      <td>Apparel &amp; Accessories</td>\n",
       "      <td>Artifical Jewellery</td>\n",
       "      <td>Earrings</td>\n",
       "      <td>3</td>\n",
       "      <td>Yes</td>\n",
       "    </tr>\n",
       "    <tr>\n",
       "      <th>3</th>\n",
       "      <td>4</td>\n",
       "      <td>YouBella Women Rose Gold-Toned Stone-Studded A...</td>\n",
       "      <td>Apparel &amp; Accessories</td>\n",
       "      <td>Artifical Jewellery</td>\n",
       "      <td>Earrings</td>\n",
       "      <td>3</td>\n",
       "      <td>NaN</td>\n",
       "    </tr>\n",
       "    <tr>\n",
       "      <th>4</th>\n",
       "      <td>5</td>\n",
       "      <td>Zaveri Pearls Oxidised Silver-Plated Textured ...</td>\n",
       "      <td>Apparel &amp; Accessories</td>\n",
       "      <td>Artifical Jewellery</td>\n",
       "      <td>Earrings</td>\n",
       "      <td>3</td>\n",
       "      <td>NaN</td>\n",
       "    </tr>\n",
       "  </tbody>\n",
       "</table>\n",
       "</div>"
      ],
      "text/plain": [
       "   S.no                                   item_description  \\\n",
       "0     1   TARBIYA KRAFT Drop Earrings Silver Oxidised P...   \n",
       "1     2  2-pack strapless bras + 2-pack strapless bras ...   \n",
       "2     3  Nityakshi Women's  Girl's Silver Oxidized Ghun...   \n",
       "3     4  YouBella Women Rose Gold-Toned Stone-Studded A...   \n",
       "4     5  Zaveri Pearls Oxidised Silver-Plated Textured ...   \n",
       "\n",
       "             L1.Category          L2.Category L3.Category  split  \\\n",
       "0  Apparel & Accessories  Artifical Jewellery    Earrings      3   \n",
       "1  Apparel & Accessories  Artifical Jewellery    Earrings      3   \n",
       "2  Apparel & Accessories  Artifical Jewellery    Earrings      3   \n",
       "3  Apparel & Accessories  Artifical Jewellery    Earrings      3   \n",
       "4  Apparel & Accessories  Artifical Jewellery    Earrings      3   \n",
       "\n",
       "  category_check  \n",
       "0            Yes  \n",
       "1             No  \n",
       "2            Yes  \n",
       "3            NaN  \n",
       "4            NaN  "
      ]
     },
     "execution_count": 62,
     "metadata": {},
     "output_type": "execute_result"
    }
   ],
   "source": [
    "data1 = pd.read_csv(\"second.csv\") # Created from the original dataset\n",
    "data1.head()"
   ]
  },
  {
   "cell_type": "code",
   "execution_count": 63,
   "metadata": {},
   "outputs": [],
   "source": [
    "d = [x.split() for x in data1.item_description]\n",
    "\n",
    "# Converting all descriptions to lowercase.\n",
    "\n",
    "l = []\n",
    "for i in range(0,3022):\n",
    "    condition = [x.lower() for x in d[i]]\n",
    "    l.append(condition)"
   ]
  },
  {
   "cell_type": "code",
   "execution_count": 64,
   "metadata": {},
   "outputs": [],
   "source": [
    "# Entering the value to category_check\n",
    "for i in range(0,len(l)-1):\n",
    "    if('earrings' in l[i]) or ('earring' in l[i]):\n",
    "        data1['category_check'] = \"Yes\"\n",
    "    else:\n",
    "        data1['category_check'] = \"No\""
   ]
  },
  {
   "cell_type": "code",
   "execution_count": 65,
   "metadata": {},
   "outputs": [],
   "source": [
    "data1.to_csv(\"Check_output_2.csv\")"
   ]
  },
  {
   "cell_type": "code",
   "execution_count": 32,
   "metadata": {},
   "outputs": [
    {
     "data": {
      "text/plain": [
       "S.no                                                            12138\n",
       "item_description     Godrej aer matic, Automatic Air Freshener Kit...\n",
       "L1.Category                            Beauty, Cosmetics & Toiletries\n",
       "L2.Category                                          Skin & Face care\n",
       "L3.Category                                                 Face Pack\n",
       "split                                                               3\n",
       "category_check                                                    NaN\n",
       "Name: 2740, dtype: object"
      ]
     },
     "execution_count": 32,
     "metadata": {},
     "output_type": "execute_result"
    }
   ],
   "source": [
    "df = pd.read_csv(\"Check_output_3.csv\")\n",
    "df.tail()\n",
    "df.iloc[2740]"
   ]
  },
  {
   "cell_type": "code",
   "execution_count": 35,
   "metadata": {},
   "outputs": [
    {
     "data": {
      "text/plain": [
       "[\"Betty's\",\n",
       " 'Skin',\n",
       " 'Care',\n",
       " 'Face',\n",
       " '&',\n",
       " 'Neck',\n",
       " 'Silk',\n",
       " 'Splash',\n",
       " 'Lemon',\n",
       " '&',\n",
       " 'Mint',\n",
       " 'Anti-Tan',\n",
       " 'Mask.Complexion',\n",
       " 'Boosting,',\n",
       " 'DeTan',\n",
       " 'Mask.',\n",
       " 'Fortified',\n",
       " 'with',\n",
       " 'the',\n",
       " 'goodness',\n",
       " 'of',\n",
       " 'Lemon',\n",
       " 'and',\n",
       " 'Mint,',\n",
       " 'this',\n",
       " 'cleansing',\n",
       " 'mask',\n",
       " 'helps',\n",
       " 'to',\n",
       " 'brighten',\n",
       " 'and',\n",
       " 'lighten',\n",
       " 'the',\n",
       " 'skin.',\n",
       " 'This',\n",
       " 'soothing',\n",
       " 'mask',\n",
       " 'helps',\n",
       " 'to',\n",
       " 'reduce',\n",
       " 'black',\n",
       " 'spots,',\n",
       " 'pigmentation,',\n",
       " 'heals',\n",
       " 'dry',\n",
       " 'skin,',\n",
       " 'refreshes',\n",
       " 'and',\n",
       " 'nourishes',\n",
       " 'skin',\n",
       " 'giving',\n",
       " 'clear,',\n",
       " 'clean',\n",
       " 'and',\n",
       " 'smooth',\n",
       " 'skin.This',\n",
       " 'mask',\n",
       " 'fights',\n",
       " 'signs',\n",
       " 'of',\n",
       " 'ageing,',\n",
       " 'Regular',\n",
       " 'use',\n",
       " 'o']"
      ]
     },
     "execution_count": 35,
     "metadata": {},
     "output_type": "execute_result"
    }
   ],
   "source": [
    "d = [x.split() for x in df.item_description]\n",
    "\n",
    "# Converting all descriptions to lowercase.\n",
    "\n",
    "l = []\n",
    "for i in range(0,2740):\n",
    "    condition = [x.lower() for x in d[i]]\n",
    "    l.append(condition)\n"
   ]
  }
 ],
 "metadata": {
  "kernelspec": {
   "display_name": "Python 3",
   "language": "python",
   "name": "python3"
  },
  "language_info": {
   "codemirror_mode": {
    "name": "ipython",
    "version": 3
   },
   "file_extension": ".py",
   "mimetype": "text/x-python",
   "name": "python",
   "nbconvert_exporter": "python",
   "pygments_lexer": "ipython3",
   "version": "3.7.1"
  }
 },
 "nbformat": 4,
 "nbformat_minor": 2
}
